{
 "cells": [
  {
   "cell_type": "markdown",
   "id": "46358dd6",
   "metadata": {
    "slideshow": {
     "slide_type": "slide"
    }
   },
   "source": [
    "# Proteogenomics database generation using py-pgatk\n",
    "\n",
    "\n",
    "This notebook presents commands in `py-pgatk` to:\n",
    "- download data from various sources including ENSEMBL for reference files, COSMIC & cBioPortal for cancer mutations, and gnomAD & ENSEMBL for population variants.\n",
    "- generate protein databases using the downloaded files or from custom files (mutations in VCF and transcripts in GTF)\n",
    "- explore the database content (number of proteins and overlaps in tryptic peptides between various protein categories)\n",
    "\n",
    "`py-pgatk` is implemented in `Python` and is available here: https://github.com/bigbio/py-pgatk. \n",
    "The commands are documented here: https://pgatk.readthedocs.io/en/latest/pypgatk.html.\n",
    "The tools are also builtin to a nextflow workflow: https://nf-co.re/pgdb.\n",
    "\n",
    "The easiset way to run this notebook is by installing conda and creating an environment for installing the required packages. \n",
    "\n",
    "\n",
    "# Part 1: Setup the environment\n",
    "\n",
    "### Get notebook and data\n",
    "Download this this notebook and associated (any) data in this directory to your computer"
   ]
  },
  {
   "cell_type": "markdown",
   "id": "e51c2227",
   "metadata": {},
   "source": [
    "### Browse to your working directory and start Jupyter from there using\n",
    "`jupyter-notebook`\n",
    "\n",
    "\n",
    "### Install and Download configuration files and \n",
    "\n",
    "#### Import / install required libraries"
   ]
  },
  {
   "cell_type": "code",
   "execution_count": 1,
   "id": "fcbe9e60",
   "metadata": {},
   "outputs": [],
   "source": [
    "import os\n",
    "import shutil\n",
    "import sys\n",
    "from collections import Counter\n",
    "\n",
    "try:\n",
    "    from Bio import SeqIO\n",
    "except ModuleNotFoundError:\n",
    "    !pip install biopython\n",
    "\n",
    "try:\n",
    "    import matplotlib.pyplot as plt\n",
    "except ModuleNotFoundError:\n",
    "    !pip install matplotlib\n",
    "\n",
    "try:\n",
    "    import pypgatk\n",
    "except ModuleNotFoundError:\n",
    "    !pip install pypgatk"
   ]
  },
  {
   "cell_type": "markdown",
   "id": "40634fdd",
   "metadata": {
    "slideshow": {
     "slide_type": "slide"
    }
   },
   "source": [
    "#### Get Configuaration Files"
   ]
  },
  {
   "cell_type": "code",
   "execution_count": 2,
   "id": "04b15661",
   "metadata": {
    "slideshow": {
     "slide_type": "subslide"
    }
   },
   "outputs": [
    {
     "name": "stdout",
     "output_type": "stream",
     "text": [
      "the files are available in config/ in the current directory:\n",
      "  /Users/husen/Documents/Karolinska Institutet/GRP_LehtioLab_bioinformatics_brains - General/ProteoWorks/workshop_pgdb\n"
     ]
    }
   ],
   "source": [
    "if not os.path.isdir('config'):\n",
    "    os.system('wget https://github.com/bigbio/py-pgatk/archive/refs/tags/v0.0.20.zip')\n",
    "    os.system('unzip v0.0.20.zip')\n",
    "    shutil.copytree('py-pgatk-0.0.20/pypgatk/config', 'config')\n",
    "if os.path.isdir('config'):\n",
    "    print('the files are available in config/ in the current directory:\\n ', os.getcwd())\n",
    "try:\n",
    "    shutil.rmtree('py-pgatk-0.0.20')\n",
    "except FileNotFoundError:\n",
    "    pass\n",
    "try:\n",
    "    os.remove('v0.0.20.zip')\n",
    "except FileNotFoundError:\n",
    "    pass"
   ]
  },
  {
   "cell_type": "markdown",
   "id": "6246aea8",
   "metadata": {
    "slideshow": {
     "slide_type": "slide"
    }
   },
   "source": [
    "### Install gffread v.0.12.7 \n",
    "This tool is needed to convert GTF (gene-transript annotation file) to FASTA (DNA sequence)"
   ]
  },
  {
   "cell_type": "code",
   "execution_count": 3,
   "id": "d8610ecc",
   "metadata": {
    "slideshow": {
     "slide_type": "subslide"
    }
   },
   "outputs": [
    {
     "name": "stdout",
     "output_type": "stream",
     "text": [
      "Downloading gffread\n",
      "gffread is ready to be used\n"
     ]
    }
   ],
   "source": [
    "if not os.path.isfile('gffread'):\n",
    "    print('Downloading gffread')\n",
    "    if 'linux' in sys.platform:\n",
    "        os.system('wget https://github.com/gpertea/gffread/releases/download/v0.12.7/gffread-0.12.7.Linux_x86_64.tar.gz')\n",
    "        os.system('tar -xvzf gffread-0.12.7.Linux_x86_64.tar.gz')\n",
    "        shutil.move('gffread-0.12.7.Linux_x86_64/gffread', 'gffread')\n",
    "    elif 'darwin' in sys.platform:\n",
    "        os.system('wget https://github.com/gpertea/gffread/releases/download/v0.12.7/gffread-0.12.7.OSX_x86_64.tar.gz')\n",
    "        os.system('tar -xvzf gffread-0.12.7.OSX_x86_64.tar.gz')\n",
    "        shutil.move('gffread-0.12.7.OSX_x86_64/gffread', 'gffread')\n",
    "    else:\n",
    "        print('SORRY: only Linux and MAC are supported, maybe you need to try manually installing gffread')\n",
    "try:\n",
    "    shutil.rmtree('gffread-0.12.7.Linux_x86_64')\n",
    "    os.remove('gffread-0.12.7.Linux_x86_64.tar.gz')\n",
    "except FileNotFoundError:\n",
    "    pass\n",
    "try:\n",
    "    shutil.rmtree('gffread-0.12.7.OSX_x86_64')\n",
    "    os.remove('gffread-0.12.7.OSX_x86_64.tar.gz')\n",
    "except FileNotFoundError:\n",
    "    pass\n",
    "if os.path.isfile('gffread'):\n",
    "    print('gffread is ready to be used')"
   ]
  },
  {
   "cell_type": "markdown",
   "id": "da109a48",
   "metadata": {
    "slideshow": {
     "slide_type": "slide"
    }
   },
   "source": [
    "#### Before begining, let's test if pypgatk is working, you should see a help message that lists the existing commands"
   ]
  },
  {
   "cell_type": "code",
   "execution_count": 4,
   "id": "2fff0b92",
   "metadata": {
    "scrolled": false,
    "slideshow": {
     "slide_type": "subslide"
    }
   },
   "outputs": [
    {
     "name": "stdout",
     "output_type": "stream",
     "text": [
      "Determination of memory status is not supported on this \n",
      " platform, measuring for memoryleaks will never fail\n",
      "Usage: pypgatk_cli.py [OPTIONS] COMMAND [ARGS]...\n",
      "\n",
      "  This is the main tool that give access to all commands and options\n",
      "  provided by the pypgatk\n",
      "\n",
      "Options:\n",
      "  -h, --help  Show this message and exit.\n",
      "\n",
      "Commands:\n",
      "  cbioportal-downloader    Command to download the the cbioportal studies\n",
      "  cbioportal-to-proteindb  Command to translate cbioportal mutation data into\n",
      "                           proteindb\n",
      "  cosmic-downloader        Command to download the cosmic mutation database\n",
      "  cosmic-to-proteindb      Command to translate Cosmic mutation data into\n",
      "                           proteindb\n",
      "  dnaseq-to-proteindb      Generate peptides based on DNA sequences\n",
      "  ensembl-check            Command to check ensembl database for stop codons,\n",
      "                           gaps\n",
      "  ensembl-downloader       Command to download the ensembl information\n",
      "  generate-decoy           Create decoy protein sequences using multiple\n",
      "                           methods DecoyPYrat, Reverse/Shuffled Proteins.\n",
      "  peptide-class-fdr        Command to compute the Peptide class FDR\n",
      "  threeframe-translation   Command to perform 3'frame translation\n",
      "  vcf-to-proteindb         Generate peptides based on DNA variants VCF files\n"
     ]
    }
   ],
   "source": [
    "!pypgatk_cli.py -h"
   ]
  },
  {
   "cell_type": "markdown",
   "id": "7064d93c",
   "metadata": {
    "slideshow": {
     "slide_type": "slide"
    }
   },
   "source": [
    "# Part 2: DNA to Protein\n",
    "\n",
    "In this part we will use the `dnaseq-to-proteindb` command to translate DNA sequences in fasta format to protein. We will also show how to convert a GTF obtained from a reference assembly or from a RNA-seq to DNA sequences and then protein sequence.\n",
    "\n",
    "## Download relevant files\n",
    "\n",
    "First we need to specify what files to download from the reference assembly. By default, `ensembl-downloader` downloads all files. The flags below can be used to ignore some files, e.g --skip_dna will skip downloading the reference DNA sequence, etc.\n",
    "\n",
    "* Note: versions prior to v0.0.20 don't have the feature to download the DNA reference assembly. IF you are using an older version you need to download the DNA fasta manually, uncomment the commands given below to perform this step."
   ]
  },
  {
   "cell_type": "markdown",
   "id": "1fcb9191",
   "metadata": {
    "slideshow": {
     "slide_type": "slide"
    }
   },
   "source": [
    "### Check the flags below to know what flags to use."
   ]
  },
  {
   "cell_type": "code",
   "execution_count": 5,
   "id": "15232464",
   "metadata": {
    "slideshow": {
     "slide_type": "subslide"
    }
   },
   "outputs": [
    {
     "name": "stdout",
     "output_type": "stream",
     "text": [
      "Determination of memory status is not supported on this \n",
      " platform, measuring for memoryleaks will never fail\n",
      "Usage: pypgatk_cli.py ensembl-downloader [OPTIONS]\n",
      "\n",
      "  This tool enables to download from enseml ftp the FASTA and GTF files\n",
      "\n",
      "Options:\n",
      "  -c, --config_file TEXT          Configuration file for the ensembl data\n",
      "                                  downloader pipeline\n",
      "  -o, --output_directory TEXT     Output directory for the peptide databases\n",
      "  -fp, --folder_prefix_release TEXT\n",
      "                                  Output folder prefix to download the data\n",
      "  -t, --taxonomy TEXT             Taxonomy identifiers (comma separated list\n",
      "                                  can be given) that will be use to download\n",
      "                                  the data from Ensembl\n",
      "  -l, --list_taxonomies           Print the list of all the taxonomies in\n",
      "                                  ENSEMBL (https://www.ensembl.org)\n",
      "  -sg, --skip_gtf                 Skip the GTF file during the download\n",
      "  -sp, --skip_protein             Skip the protein fasta file during download\n",
      "  -sc, --skip_cds                 Skip the CDS file download\n",
      "  -sdn, --skip_cdna               Skip the cDNA file download\n",
      "  -sn, --skip_ncrna               Skip the ncRNA file download\n",
      "  -sd, --skip_dna                 Skip the DNA (reference genome assembly)\n",
      "                                  file download\n",
      "  -sv, --skip_vcf                 Skip the VCF variant file\n",
      "  -en, --ensembl_name TEXT        Ensembl name code to download, it can be use\n",
      "                                  instead of taxonomy (e.g. homo_sapiens)\n",
      "  --grch37                        Download a previous version GRCh37 of\n",
      "                                  ensembl genomes\n",
      "  -h, --help                      Show this message and exit.\n"
     ]
    }
   ],
   "source": [
    "!pypgatk_cli.py ensembl-downloader -h"
   ]
  },
  {
   "cell_type": "markdown",
   "id": "cfe4e0d8",
   "metadata": {
    "slideshow": {
     "slide_type": "slide"
    }
   },
   "source": [
    "\n",
    "#### Get taxonomy ID for the species of interest\n",
    "However, as shown above we need to specify a taxonomy number in order to get files from a reference assembly for our species of interest. \n",
    "\n",
    "Can you find the taxonomy ID for homo sapiens using the following command?"
   ]
  },
  {
   "cell_type": "code",
   "execution_count": null,
   "id": "57c9a0ea",
   "metadata": {
    "slideshow": {
     "slide_type": "subslide"
    }
   },
   "outputs": [],
   "source": [
    "!pypgatk_cli.py ensembl-downloader -c config/ensembl_downloader_config.yaml -l -sv -sg -sp -sc -sd -sn "
   ]
  },
  {
   "cell_type": "markdown",
   "id": "9f6f0d19",
   "metadata": {
    "slideshow": {
     "slide_type": "slide"
    }
   },
   "source": [
    "Let's download reference files except VCF (variants) for `Meleagris_gallopavo.Turkey` (taxonomy id: 9103) into a folder named ensembl_files"
   ]
  },
  {
   "cell_type": "code",
   "execution_count": 7,
   "id": "a3e52896",
   "metadata": {
    "slideshow": {
     "slide_type": "subslide"
    }
   },
   "outputs": [
    {
     "name": "stdout",
     "output_type": "stream",
     "text": [
      "Determination of memory status is not supported on this \n",
      " platform, measuring for memoryleaks will never fail\n",
      "Downloading --  ftp://ftp.ensembl.org/pub/release-106/fasta/meleagris_gallopavo/pep/Meleagris_gallopavo.Turkey_5.1.pep.all.fa.gz\n",
      "DEBUG:pypgatk.toolbox.general:Files downloaded -- ensembl_files/Meleagris_gallopavo.Turkey_5.1.pep.all.fa,ensembl_files/Meleagris_gallopavo.Turkey_5.1.106.gtf,ensembl_files/Meleagris_gallopavo.Turkey_5.1.cds.all.fa,ensembl_files/Meleagris_gallopavo.Turkey_5.1.cdna.all.fa,ensembl_files/Meleagris_gallopavo.Turkey_5.1.ncrna.fa,ensembl_files/Meleagris_gallopavo.Turkey_5.1.dna_sm.toplevel.fa\n",
      "INFO:Main Pipeline Ensembl Downloader:Pipeline Finish !!!\n"
     ]
    }
   ],
   "source": [
    "!pypgatk_cli.py ensembl-downloader -c config/ensembl_downloader_config.yaml -t 9103 -o ensembl_files --skip_vcf"
   ]
  },
  {
   "cell_type": "markdown",
   "id": "3ae49c10",
   "metadata": {
    "slideshow": {
     "slide_type": "subslide"
    }
   },
   "source": [
    "Check the contents of the ensembl_files on your computer system, you should see the following files downloaded:"
   ]
  },
  {
   "cell_type": "code",
   "execution_count": 8,
   "id": "bd4bf472",
   "metadata": {
    "slideshow": {
     "slide_type": "subslide"
    }
   },
   "outputs": [
    {
     "data": {
      "text/plain": [
       "['Meleagris_gallopavo.Turkey_5.1.106.gtf',\n",
       " 'Meleagris_gallopavo.Turkey_5.1.dna_sm.toplevel.fa',\n",
       " 'Meleagris_gallopavo.Turkey_5.1.pep.all.fa',\n",
       " 'Meleagris_gallopavo.Turkey_5.1.ncrna.fa',\n",
       " 'Meleagris_gallopavo.Turkey_5.1.cds.all.fa',\n",
       " 'Meleagris_gallopavo.Turkey_5.1.cdna.all.fa']"
      ]
     },
     "execution_count": 8,
     "metadata": {},
     "output_type": "execute_result"
    }
   ],
   "source": [
    "os.listdir('ensembl_files')"
   ]
  },
  {
   "cell_type": "markdown",
   "id": "4aa27dc7",
   "metadata": {
    "slideshow": {
     "slide_type": "slide"
    }
   },
   "source": [
    "#### Convert GTF (can be reference or custom from RNA-seq) to DNA sequences\n",
    "Although the cdna.fa and ncrna.fa files can be used as reference DNA, but we wull use  GTF since it provides more flexibility to select desired transcript types. Also, when running your own RNA-seq experiments you usually get a GTF file as a final output therefore it is better to learn how to translate transcripts starting from a GTF file.\n",
    "\n",
    "However, since the `dnaseq-to-proteindb` tool only accepts FASTA files as input, we first need to convert the GTF into FASTA using gffread that is a separate tool.\n"
   ]
  },
  {
   "cell_type": "code",
   "execution_count": 9,
   "id": "2254ac9b",
   "metadata": {
    "slideshow": {
     "slide_type": "subslide"
    }
   },
   "outputs": [
    {
     "name": "stdout",
     "output_type": "stream",
     "text": [
      "FASTA index file ensembl_files/Meleagris_gallopavo.Turkey_5.1.dna_sm.toplevel.fa.fai created.\n",
      "\n",
      "Generated: 30708 transcript sequences from the GTF file\n"
     ]
    }
   ],
   "source": [
    "if not os.path.isfile('ensembl_files/Meleagris_gallopavo.Turkey_5.1.106.fa'):\n",
    "    !./gffread -F -w ensembl_files/Meleagris_gallopavo.Turkey_5.1.106.fa -g ensembl_files/Meleagris_gallopavo.Turkey_5.1.dna_sm.toplevel.fa ensembl_files/Meleagris_gallopavo.Turkey_5.1.106.gtf\n",
    "if os.path.isfile('ensembl_files/Meleagris_gallopavo.Turkey_5.1.106.fa'):\n",
    "    print(\"\\nGenerated: {} transcript sequences from the GTF file\".format(\n",
    "        len(list(SeqIO.index('ensembl_files/Meleagris_gallopavo.Turkey_5.1.106.fa', \"fasta\").keys()))))"
   ]
  },
  {
   "cell_type": "markdown",
   "id": "5f6ceddc",
   "metadata": {
    "slideshow": {
     "slide_type": "slide"
    }
   },
   "source": [
    "Now that we have the DNA fasta file ready to be used, let's take a look at the parameters that can be applied:"
   ]
  },
  {
   "cell_type": "code",
   "execution_count": 10,
   "id": "0e23d677",
   "metadata": {
    "scrolled": true,
    "slideshow": {
     "slide_type": "subslide"
    }
   },
   "outputs": [
    {
     "name": "stdout",
     "output_type": "stream",
     "text": [
      "Determination of memory status is not supported on this \n",
      " platform, measuring for memoryleaks will never fail\n",
      "Usage: pypgatk_cli.py dnaseq-to-proteindb [OPTIONS]\n",
      "\n",
      "Options:\n",
      "  -c, --config_file TEXT          Configuration to perform conversion between\n",
      "                                  ENSEMBL Files\n",
      "  --input_fasta TEXT              Path to sequences fasta\n",
      "  --translation_table INTEGER     Translation Table (default 1)\n",
      "  --num_orfs INTEGER              Number of ORFs (default 3)\n",
      "  --num_orfs_complement INTEGER   Number of ORFs from the reverse side\n",
      "                                  (default 0)\n",
      "  --output_proteindb TEXT         Output file name, exits if already exists\n",
      "  -p, --var_prefix TEXT           String to add before the variant peptides\n",
      "  --skip_including_all_cds        By default any transcript that has a defined\n",
      "                                  CDS will be translated, this option disables\n",
      "                                  this features instead it only depends on the\n",
      "                                  biotypes\n",
      "  --include_biotypes TEXT         Include Biotypes\n",
      "  --exclude_biotypes TEXT         Exclude Biotypes\n",
      "  --biotype_str TEXT              String used to identify gene/transcript\n",
      "                                  biotype in the gtf file.\n",
      "  --transcript_description_sep TEXT\n",
      "                                  Separator used to separate features in the\n",
      "                                  fasta headers, usually either (space, / or\n",
      "                                  semicolon).\n",
      "  --expression_str TEXT           String to be used for extracting expression\n",
      "                                  value (TPM, FPKM, etc).\n",
      "  --expression_thresh FLOAT       Threshold used to filter transcripts based\n",
      "                                  on their expression values\n",
      "  -h, --help                      Show this message and exit.\n"
     ]
    }
   ],
   "source": [
    "!pypgatk_cli.py dnaseq-to-proteindb  -h"
   ]
  },
  {
   "cell_type": "markdown",
   "id": "3854d360",
   "metadata": {
    "slideshow": {
     "slide_type": "slide"
    }
   },
   "source": [
    "#### Generate a protein database from lncRNAs only\n",
    "*Use the include_biotypes flag to specify what kind of transcripts should be translated. See ensembl biotypes: http://www.ensembl.org/info/genome/genebuild/biotypes.html"
   ]
  },
  {
   "cell_type": "code",
   "execution_count": 11,
   "id": "71a84c4c",
   "metadata": {
    "slideshow": {
     "slide_type": "subslide"
    }
   },
   "outputs": [
    {
     "name": "stdout",
     "output_type": "stream",
     "text": [
      "Determination of memory status is not supported on this \n",
      " platform, measuring for memoryleaks will never fail\n",
      "/Users/husen/opt/anaconda3/envs/pygatk/lib/python3.8/site-packages/Bio/Seq.py:2606: BiopythonWarning: Partial codon, len(sequence) not a multiple of three. Explicitly trim the sequence or add trailing N before translation. This may become an error in future.\n",
      "  warnings.warn(\"Partial codon, len(sequence) not a multiple of three. \"\n",
      "\n",
      "Generated: dict_items([('lncRNA', 5109)])\n"
     ]
    }
   ],
   "source": [
    "!pypgatk_cli.py dnaseq-to-proteindb --config_file config/ensembl_config.yaml --input_fasta ensembl_files/Meleagris_gallopavo.Turkey_5.1.106.fa --output_proteindb lncRNAs.fa --skip_including_all_cds --var_prefix lncRNA_ --include_biotypes lncRNA --output_proteindb lncRNAs.fa\n",
    "\n",
    "print(\"\\nGenerated:\", Counter([x.split('_')[0] for x in list(SeqIO.index('lncRNAs.fa', \"fasta\").keys())]).items())\n"
   ]
  },
  {
   "cell_type": "markdown",
   "id": "a6ce9b58",
   "metadata": {
    "slideshow": {
     "slide_type": "slide"
    }
   },
   "source": [
    "#### Generate protein database from other non-coding RNAs"
   ]
  },
  {
   "cell_type": "code",
   "execution_count": 12,
   "id": "e63a90af",
   "metadata": {
    "slideshow": {
     "slide_type": "subslide"
    }
   },
   "outputs": [
    {
     "name": "stdout",
     "output_type": "stream",
     "text": [
      "Determination of memory status is not supported on this \n",
      " platform, measuring for memoryleaks will never fail\n",
      "/Users/husen/opt/anaconda3/envs/pygatk/lib/python3.8/site-packages/Bio/Seq.py:2606: BiopythonWarning: Partial codon, len(sequence) not a multiple of three. Explicitly trim the sequence or add trailing N before translation. This may become an error in future.\n",
      "  warnings.warn(\"Partial codon, len(sequence) not a multiple of three. \"\n",
      "\n",
      "Generated: dict_items([('ncRNA', 1500)])\n"
     ]
    }
   ],
   "source": [
    "!pypgatk_cli.py dnaseq-to-proteindb --config_file config/ensembl_config.yaml --input_fasta ensembl_files/Meleagris_gallopavo.Turkey_5.1.106.fa --output_proteindb ncRNAs.fa --skip_including_all_cds --var_prefix ncRNA_ --include_biotypes miRNA,miscRNA,piRNA,rRNA,siRNA,snRNA,snoRNA,tRNA,vaultRNA\n",
    "\n",
    "print(\"\\nGenerated:\", Counter([x.split('_')[0] for x in list(SeqIO.index('ncRNAs.fa', \"fasta\").keys())]).items())\n"
   ]
  },
  {
   "cell_type": "markdown",
   "id": "56d4bf8c",
   "metadata": {
    "slideshow": {
     "slide_type": "slide"
    }
   },
   "source": [
    "#### Generate protein database from alternative reading frames of coding sequences"
   ]
  },
  {
   "cell_type": "code",
   "execution_count": 13,
   "id": "228362a6",
   "metadata": {
    "slideshow": {
     "slide_type": "subslide"
    }
   },
   "outputs": [
    {
     "name": "stdout",
     "output_type": "stream",
     "text": [
      "Determination of memory status is not supported on this \n",
      " platform, measuring for memoryleaks will never fail\n",
      "/Users/husen/opt/anaconda3/envs/pygatk/lib/python3.8/site-packages/Bio/Seq.py:2606: BiopythonWarning: Partial codon, len(sequence) not a multiple of three. Explicitly trim the sequence or add trailing N before translation. This may become an error in future.\n",
      "  warnings.warn(\"Partial codon, len(sequence) not a multiple of three. \"\n",
      "\n",
      "Generated: dict_items([('altORF', 84885)])\n"
     ]
    }
   ],
   "source": [
    "!pypgatk_cli.py dnaseq-to-proteindb --config_file config/ensembl_config.yaml --input_fasta ensembl_files/Meleagris_gallopavo.Turkey_5.1.106.fa --output_proteindb altORFs.fa --skip_including_all_cds --var_prefix altORF_ --include_biotypes altORFs\n",
    "\n",
    "print(\"\\nGenerated:\", Counter([x.split('_')[0] for x in list(SeqIO.index('altORFs.fa', \"fasta\").keys())]).items())\n"
   ]
  },
  {
   "cell_type": "markdown",
   "id": "88a8f5f6",
   "metadata": {
    "slideshow": {
     "slide_type": "slide"
    }
   },
   "source": [
    "#### Generate a protein database from pseudogenes? "
   ]
  },
  {
   "cell_type": "code",
   "execution_count": 14,
   "id": "069f0fd3",
   "metadata": {
    "slideshow": {
     "slide_type": "subslide"
    }
   },
   "outputs": [
    {
     "name": "stdout",
     "output_type": "stream",
     "text": [
      "Determination of memory status is not supported on this \n",
      " platform, measuring for memoryleaks will never fail\n",
      "/Users/husen/opt/anaconda3/envs/pygatk/lib/python3.8/site-packages/Bio/Seq.py:2606: BiopythonWarning: Partial codon, len(sequence) not a multiple of three. Explicitly trim the sequence or add trailing N before translation. This may become an error in future.\n",
      "  warnings.warn(\"Partial codon, len(sequence) not a multiple of three. \"\n",
      "\n",
      "Generated: dict_items([('pesuedogene', 477)])\n"
     ]
    }
   ],
   "source": [
    "!pypgatk_cli.py dnaseq-to-proteindb --config_file config/ensembl_config.yaml --input_fasta ensembl_files/Meleagris_gallopavo.Turkey_5.1.106.fa --output_proteindb pesuedogenes.fa --skip_including_all_cds --var_prefix pesuedogene_ --include_biotypes pseudogene,processed_pseudogene\n",
    "\n",
    "print(\"\\nGenerated:\", Counter([x.split('_')[0] for x in list(SeqIO.index('pesuedogenes.fa', \"fasta\").keys())]).items())\n"
   ]
  },
  {
   "cell_type": "markdown",
   "id": "abe14dba",
   "metadata": {
    "slideshow": {
     "slide_type": "slide"
    }
   },
   "source": [
    "### Concatenate the generated protein databases with reference proteome"
   ]
  },
  {
   "cell_type": "code",
   "execution_count": 15,
   "id": "590ff8aa",
   "metadata": {
    "slideshow": {
     "slide_type": "subslide"
    }
   },
   "outputs": [
    {
     "data": {
      "text/plain": [
       "dict_items([('lncRNA', 5109), ('pesuedogene', 477), ('ncRNA', 1500), ('altORF', 84885), ('Can', 28295)])"
      ]
     },
     "execution_count": 15,
     "metadata": {},
     "output_type": "execute_result"
    }
   ],
   "source": [
    "!cat lncRNAs.fa pesuedogenes.fa ncRNAs.fa altORFs.fa ensembl_files/Meleagris_gallopavo.Turkey_5.1.pep.all.fa > proteins.fa\n",
    "\n",
    "Counter([x.replace('ENS','Can_ENS').split('_')[0] for x in list(SeqIO.index('proteins.fa', \"fasta\").keys())]).items()\n"
   ]
  },
  {
   "cell_type": "markdown",
   "id": "8e5c08d5",
   "metadata": {},
   "source": [
    "### Generate decoy protein sequences"
   ]
  },
  {
   "cell_type": "code",
   "execution_count": 16,
   "id": "9f2c55ef",
   "metadata": {},
   "outputs": [
    {
     "name": "stdout",
     "output_type": "stream",
     "text": [
      "Determination of memory status is not supported on this \n",
      " platform, measuring for memoryleaks will never fail\n",
      "Number of target peptides: 1942273 and Decoy Peptides: 1960607\n",
      "% Target peptides 49.8\n",
      "% Decoy peptides 50.2\n",
      "Number of peptides in Target and Decoy 12250, Percentage 0.3\n",
      "Aminoacid composition rate for A (Target/Decoy) = 1.0 \n",
      "Aminoacid composition rate for C (Target/Decoy) = 1.0 \n",
      "Aminoacid composition rate for D (Target/Decoy) = 1.0 \n",
      "Aminoacid composition rate for E (Target/Decoy) = 1.0 \n",
      "Aminoacid composition rate for F (Target/Decoy) = 1.0 \n",
      "Aminoacid composition rate for G (Target/Decoy) = 1.0 \n",
      "Aminoacid composition rate for H (Target/Decoy) = 1.0 \n",
      "Aminoacid composition rate for I (Target/Decoy) = 1.0 \n",
      "Aminoacid composition rate for K (Target/Decoy) = 1.0 \n",
      "Aminoacid composition rate for L (Target/Decoy) = 1.0 \n",
      "Aminoacid composition rate for M (Target/Decoy) = 1.0 \n",
      "Aminoacid composition rate for N (Target/Decoy) = 1.0 \n",
      "Aminoacid composition rate for P (Target/Decoy) = 1.0 \n",
      "Aminoacid composition rate for Q (Target/Decoy) = 1.0 \n",
      "Aminoacid composition rate for R (Target/Decoy) = 1.0 \n",
      "Aminoacid composition rate for S (Target/Decoy) = 1.0 \n",
      "Aminoacid composition rate for T (Target/Decoy) = 1.0 \n",
      "Aminoacid composition rate for V (Target/Decoy) = 1.0 \n",
      "Aminoacid composition rate for W (Target/Decoy) = 1.0 \n",
      "Aminoacid composition rate for Y (Target/Decoy) = 1.0 \n",
      "Aminoacid composition rate for U (Target/Decoy) = 1.0 \n",
      "Aminoacid composition rate for X (Target/Decoy) = 1.0 \n"
     ]
    },
    {
     "data": {
      "text/plain": [
       "dict_items([('lncRNA', 5109), ('DECOY', 120266), ('pesuedogene', 477), ('ncRNA', 1500), ('altORF', 84885), ('Can', 28295)])"
      ]
     },
     "execution_count": 16,
     "metadata": {},
     "output_type": "execute_result"
    }
   ],
   "source": [
    "!pypgatk_cli.py generate-decoy -c config/protein_decoy.yaml -in proteins.fa -out decoys.fa\n",
    "\n",
    "Counter([x.replace('ENS','Can_ENS').split('_')[0] for x in list(SeqIO.index('decoys.fa', \"fasta\").keys())]).items()\n"
   ]
  },
  {
   "cell_type": "markdown",
   "id": "7aa09bc8",
   "metadata": {
    "slideshow": {
     "slide_type": "slide"
    }
   },
   "source": [
    "#### Perform six-frame translation on DNA seqyence"
   ]
  },
  {
   "cell_type": "code",
   "execution_count": 17,
   "id": "b204e3b4",
   "metadata": {
    "slideshow": {
     "slide_type": "subslide"
    }
   },
   "outputs": [
    {
     "name": "stdout",
     "output_type": "stream",
     "text": [
      "Determination of memory status is not supported on this \n",
      " platform, measuring for memoryleaks will never fail\n",
      "/Users/husen/opt/anaconda3/envs/pygatk/lib/python3.8/site-packages/Bio/Seq.py:2606: BiopythonWarning: Partial codon, len(sequence) not a multiple of three. Explicitly trim the sequence or add trailing N before translation. This may become an error in future.\n",
      "  warnings.warn(\"Partial codon, len(sequence) not a multiple of three. \"\n"
     ]
    },
    {
     "data": {
      "text/plain": [
       "dict_items([('sixframe', 184248)])"
      ]
     },
     "execution_count": 17,
     "metadata": {},
     "output_type": "execute_result"
    }
   ],
   "source": [
    "!pypgatk_cli.py dnaseq-to-proteindb --config_file config/ensembl_config.yaml --skip_including_all_cds --input_fasta ensembl_files/Meleagris_gallopavo.Turkey_5.1.106.fa --output_proteindb sixframes.fa --var_prefix sixframe_  --num_orfs 3 --num_orfs_complement 3 --include_biotypes all\n",
    "\n",
    "Counter([x.split('_')[0] for x in list(SeqIO.index('sixframes.fa', \"fasta\").keys())]).items()\n"
   ]
  },
  {
   "cell_type": "code",
   "execution_count": 18,
   "id": "8c5a1f32",
   "metadata": {
    "slideshow": {
     "slide_type": "slide"
    }
   },
   "outputs": [],
   "source": [
    "#function to digest proteins\n",
    "\n",
    "def trypsin_digestion(proseq_incl_stop, miss_cleavage=0):\n",
    "    \"digest peptides using the tryptic rule, allowing for miss cleavages\"\n",
    "    all_peptides = []\n",
    "    for protseq in proseq_incl_stop.split('*'):\n",
    "        if len(protseq)<=0:\n",
    "            continue\n",
    "        peptides = []\n",
    "        peptide = ''\n",
    "        \"remove the first K/R if in the begining of a reading frame\"\n",
    "        protseq_updated = protseq[0::]\n",
    "        if protseq[0]=='K' or protseq[0]=='R' and len(protseq)>1:\n",
    "            protseq_updated = protseq[1::]\n",
    "\n",
    "        for c, aa in enumerate(protseq_updated):\n",
    "            peptide += aa\n",
    "            next_aa = ''\n",
    "            try:\n",
    "                next_aa = protseq_updated[c + 1]\n",
    "            except IndexError:\n",
    "                pass\n",
    "\n",
    "            if aa in ['K', 'R'] and next_aa != 'P':  # for trypsin peptides\n",
    "                if len(peptide) > 0:\n",
    "                    peptides.append(peptide)\n",
    "                peptide = ''\n",
    "                continue\n",
    "\n",
    "        if len(peptide) > 0:\n",
    "            peptides.append(peptide)\n",
    "\n",
    "        peptides_with_miss_cleavage = []\n",
    "        for i in range(1, miss_cleavage + 1):\n",
    "            for j, pep in enumerate(peptides):\n",
    "                if j + i < len(peptides):\n",
    "                    peptide = ''.join([x for x in (peptides[j:j + i + 1])])\n",
    "                    peptides_with_miss_cleavage.append(peptide)\n",
    "\n",
    "        peptides.extend(peptides_with_miss_cleavage)\n",
    "        all_peptides.extend(peptides)\n",
    "\n",
    "    return all_peptides"
   ]
  },
  {
   "cell_type": "markdown",
   "id": "300c2798",
   "metadata": {},
   "source": [
    "#### Investigate the overlap between tryptic peptides from various categories!"
   ]
  },
  {
   "cell_type": "code",
   "execution_count": 19,
   "id": "d702f439",
   "metadata": {
    "slideshow": {
     "slide_type": "subslide"
    }
   },
   "outputs": [
    {
     "name": "stdout",
     "output_type": "stream",
     "text": [
      "Number of tryptic peptides per type:\n",
      " lncRNA = 170307\n",
      "pesuedogene = 32431\n",
      "ncRNA = 4565\n",
      "altORF = 2075045\n",
      "Can = 525753\n"
     ]
    }
   ],
   "source": [
    "#Specify protein files to use\n",
    "prot_files = ['proteins.fa']#, 'sixframes.fa']\n",
    "\n",
    "proteins = {}\n",
    "for prot_file in prot_files:\n",
    "    for record in SeqIO.parse(prot_file, 'fasta'):\n",
    "        prot_type = str(record.id).replace('ENS', 'Can_ENS').split('_')[0]\n",
    "        try:\n",
    "            proteins[prot_type].extend(trypsin_digestion(str(record.seq)))\n",
    "        except KeyError:\n",
    "            proteins[prot_type] = trypsin_digestion(str(record.seq))\n",
    "\n",
    "#unify\n",
    "for prot_type in proteins.keys():\n",
    "    proteins[prot_type] = set(proteins[prot_type])\n",
    "\n",
    "print('Number of tryptic peptides per type:\\n', '\\n'.join([k+' = '+str(len(items)) for k,items in proteins.items()]))"
   ]
  },
  {
   "cell_type": "code",
   "execution_count": 20,
   "id": "1d9241bd",
   "metadata": {
    "scrolled": true,
    "slideshow": {
     "slide_type": "slide"
    }
   },
   "outputs": [
    {
     "data": {
      "image/png": "[encoded data removed]",
      "text/plain": [
       "<Figure size 1440x720 with 3 Axes>"
      ]
     },
     "metadata": {
      "needs_background": "light"
     },
     "output_type": "display_data"
    }
   ],
   "source": [
    "###Optional\n",
    "#make a supervenn to plot the overlaps (takes some time)\n",
    "try:\n",
    "    from supervenn import supervenn\n",
    "except ModuleNotFoundError:\n",
    "    !pip install supervenn #does not work for some reason it looks at the base env for this package (print(sys.executable) )\n",
    "\n",
    "\n",
    "labels = list(proteins.keys())\n",
    "sets = [proteins[x] for x in proteins.keys()]\n",
    "\n",
    "plt.figure(figsize=(20, 10))\n",
    "supervenn(sets, labels, min_width_for_annotation=10000, rotate_col_annotations=True, \n",
    "          side_plots='right', chunks_ordering='occurrence', alternating_background= False)\n",
    "plt.grid(False)\n",
    "plt.savefig('baroverlap.svg')"
   ]
  },
  {
   "cell_type": "markdown",
   "id": "52842789",
   "metadata": {
    "slideshow": {
     "slide_type": "subslide"
    }
   },
   "source": [
    "#### Try to also show peptides from the six-frame translation? any speculations how they would look like?"
   ]
  },
  {
   "cell_type": "code",
   "execution_count": null,
   "id": "2cc680fb",
   "metadata": {},
   "outputs": [],
   "source": [
    "#write your code here to make a supervenn to show six-frame peptides and the other proteins"
   ]
  },
  {
   "cell_type": "markdown",
   "id": "61404e7e",
   "metadata": {
    "slideshow": {
     "slide_type": "slide"
    }
   },
   "source": [
    "# Part 3: Mutations to Proteins (cBioPortal) -- To be Completed\n",
    "\n",
    "\n",
    "In this part we will use the `cbioportal-downloader` and `cbioportal-to-proteindb` command to translate mutations from cancer studies in cBioPortal (https://www.cbioportal.org/).\n",
    "\n",
    "\n",
    "First we need to specify what study to download from cBioPortal (see -l flag): \n",
    "\n",
    "\n",
    "\n",
    "Check the flags below to know what flags to use."
   ]
  },
  {
   "cell_type": "code",
   "execution_count": null,
   "id": "3c3eddfc",
   "metadata": {
    "slideshow": {
     "slide_type": "subslide"
    }
   },
   "outputs": [],
   "source": [
    "!pypgatk_cli.py cbioportal-downloader -h"
   ]
  },
  {
   "cell_type": "markdown",
   "id": "572f26ec",
   "metadata": {
    "slideshow": {
     "slide_type": "subslide"
    }
   },
   "source": [
    "#### Download data for study ID blca_mskcc_solit_2014"
   ]
  },
  {
   "cell_type": "code",
   "execution_count": null,
   "id": "c700b496",
   "metadata": {
    "slideshow": {
     "slide_type": "subslide"
    }
   },
   "outputs": [],
   "source": [
    "!pypgatk_cli.py cbioportal-downloader -c config/cbioportal_config.yaml -d blca_mskcc_solit_2014 -o ./\n",
    "!tar -xzvf blca_mskcc_solit_2014.tar\n",
    "#Download linking CDSs (the mutations are aligned to hg37)\n",
    "!wget ftp://ftp.ensembl.org/pub/release-75/fasta/homo_sapiens/cds/Homo_sapiens.GRCh37.75.cds.all.fa.gz\n",
    "!gunzip *.gz"
   ]
  },
  {
   "cell_type": "markdown",
   "id": "b1a42ac4",
   "metadata": {},
   "source": [
    "The files are downloaded into a directory with the same name as the study ID. It contains several files but we only need the following two files:\n",
    "- `data_clinical_sample.txt`: \n",
    "\n",
    "    This file contains metada or clinical information about each of the samples in the study\n",
    "    \n",
    "    \n",
    "- `data_mutations.txt` (it might have slightly different names depending on the cBioPortal version): \n",
    "\n",
    "    This file contains the list of mutations identified in this study\n"
   ]
  },
  {
   "cell_type": "markdown",
   "id": "b31ddfcb",
   "metadata": {
    "slideshow": {
     "slide_type": "subslide"
    }
   },
   "source": [
    "#### Translate the downloaded set of mutations\n",
    "\n",
    "First check what options you have!"
   ]
  },
  {
   "cell_type": "code",
   "execution_count": null,
   "id": "fd4d03f8",
   "metadata": {
    "slideshow": {
     "slide_type": "subslide"
    }
   },
   "outputs": [],
   "source": [
    "!pypgatk_cli.py cbioportal-to-proteindb -h"
   ]
  },
  {
   "cell_type": "code",
   "execution_count": null,
   "id": "3581314b",
   "metadata": {
    "slideshow": {
     "slide_type": "subslide"
    }
   },
   "outputs": [],
   "source": [
    "\n",
    "!pypgatk_cli.py cbioportal-to-proteindb --config_file config/cbioportal_config.yaml --input_cds Homo_sapiens.GRCh37.75.cds.all.fa --input_mutation blca_mskcc_solit_2014/data_mutations.txt --clinical_sample_file blca_mskcc_solit_2014/data_clinical_sample.txt --output_db bladder_proteindb.fa\n",
    "\n",
    "Counter([x.split(':')[0] for x in list(SeqIO.index('bladder_proteindb.fa', \"fasta\").keys())]).items()\n"
   ]
  },
  {
   "cell_type": "markdown",
   "id": "612fca86",
   "metadata": {},
   "source": [
    "Optionally, you can filter the samples based on any of the columns in the data_clinical_sample.txt. First, let's see what fields (clinical information) is available for the samples in this study:"
   ]
  },
  {
   "cell_type": "code",
   "execution_count": null,
   "id": "1c575e13",
   "metadata": {},
   "outputs": [],
   "source": [
    "[x.strip() for x in open('blca_mskcc_solit_2014/data_clinical_sample.txt').readline().split('\\t')]"
   ]
  },
  {
   "cell_type": "markdown",
   "id": "9284606f",
   "metadata": {},
   "source": [
    "Let's only use mutations from samples have their `Lymph Node Status` as `Positive`"
   ]
  },
  {
   "cell_type": "code",
   "execution_count": null,
   "id": "5a9a7c87",
   "metadata": {},
   "outputs": [],
   "source": [
    "\n",
    "!pypgatk_cli.py cbioportal-to-proteindb --config_file config/cbioportal_config.yaml --input_cds Homo_sapiens.GRCh37.75.cds.all.fa --input_mutation blca_mskcc_solit_2014/data_mutations.txt --clinical_sample_file blca_mskcc_solit_2014/data_clinical_sample.txt --output_db bladder_proteindb_filtered.fa --filter_column 'LYMPH_NODE_STATUS' --accepted_values 'Positive'\n",
    "\n",
    "Counter([x.split(':')[0] for x in list(SeqIO.index('bladder_proteindb_filtered.fa', \"fasta\").keys())]).items()\n"
   ]
  },
  {
   "cell_type": "markdown",
   "id": "9f2815bf",
   "metadata": {
    "slideshow": {
     "slide_type": "slide"
    }
   },
   "source": [
    "# Part 4: Mutations to Proteins (COSMIC)\n",
    "\n",
    "\n",
    "In this part we will use the `cosmic-downloader` and `cosmic-to-proteindb` command to translate cancer mutations from COSMIC.\n",
    "\n",
    "\n",
    "However, sicne downloading data from COSMIC requries registeration therefore I have pre-downloaded\n",
    "- `CosmicMutantExport.tsv.gz` \n",
    "- `All_COSMIC_Genes.fasta.gz` \n",
    "\n",
    "The command to repeat it is sitll given below.\n",
    "\n",
    "*takes long\n",
    "Generate a protein database for each cancer type in COSMIC (--split_by_filter_column flag)\n"
   ]
  },
  {
   "cell_type": "code",
   "execution_count": null,
   "id": "a6a41a60",
   "metadata": {
    "slideshow": {
     "slide_type": "subslide"
    }
   },
   "outputs": [],
   "source": [
    "#python pypgatk_cli.py cosmic-downloader -u userName -p passWord -c config/cosmic_config.yaml -o cosmic_files\n",
    "\n",
    "!pypgatk_cli.py cosmic-to-proteindb -c config/cosmic_config.yaml -in CosmicMutantExport.tsv -fa All_COSMIC_Genes.fasta -out cosmic_proteinDB.fa --split_by_filter_column\n"
   ]
  },
  {
   "cell_type": "markdown",
   "id": "2be6514f",
   "metadata": {
    "slideshow": {
     "slide_type": "slide"
    }
   },
   "source": [
    "# Part 4: Mutations/variants to Proteins\n",
    "\n",
    "\n",
    "In this part we will use the `vcf-to-proteindb` command to translate mutations in VCF format to proteins. The output of genome/exome sequencing is usually a VCF file that includes the list of identified mutations.\n",
    "\n",
    "\n",
    "## Download relevant files\n",
    "\n",
    "First we need to specify genome fasta and a GTF file to download from the reference assembly. By default, `ensembl-downloader` downloads all files. The flags below can be used to ignore some files, e.g --skip_dna will skip downloading the reference DNA sequence, etc.\n",
    "\n"
   ]
  },
  {
   "cell_type": "code",
   "execution_count": null,
   "id": "b1aed8f6",
   "metadata": {
    "slideshow": {
     "slide_type": "subslide"
    }
   },
   "outputs": [],
   "source": [
    "!pypgatk_cli.py ensembl-downloader -c config/ensembl_downloader_config.yaml -t 9606 -o ensembl_files --skip_vcf"
   ]
  },
  {
   "cell_type": "markdown",
   "id": "08d760e8",
   "metadata": {
    "slideshow": {
     "slide_type": "subslide"
    }
   },
   "source": [
    "#### Check the flags that can be used for a VCF file\n"
   ]
  },
  {
   "cell_type": "code",
   "execution_count": null,
   "id": "52930dce",
   "metadata": {
    "slideshow": {
     "slide_type": "subslide"
    }
   },
   "outputs": [],
   "source": [
    "!pypgatk_cli.py vcf-to-proteindb -h"
   ]
  },
  {
   "cell_type": "markdown",
   "id": "556f6b2f",
   "metadata": {
    "slideshow": {
     "slide_type": "subslide"
    }
   },
   "source": [
    "#### Similar to above we need to generate a FASTA from the GTF -- replace the file names and uncomment the line below"
   ]
  },
  {
   "cell_type": "code",
   "execution_count": null,
   "id": "7d422d01",
   "metadata": {
    "slideshow": {
     "slide_type": "subslide"
    }
   },
   "outputs": [],
   "source": [
    "#gffread -F -w transcripts.fa -g genome.fa gene_annotations.gtf"
   ]
  },
  {
   "cell_type": "markdown",
   "id": "f0736f13",
   "metadata": {
    "slideshow": {
     "slide_type": "subslide"
    }
   },
   "source": [
    "#### replace the file names and uncomment the line below"
   ]
  },
  {
   "cell_type": "code",
   "execution_count": null,
   "id": "647cd520",
   "metadata": {
    "slideshow": {
     "slide_type": "subslide"
    }
   },
   "outputs": [],
   "source": [
    "#!pypgatk_cli.py vcf-to-proteindb --vcf sample.vcf --input_fasta transcripts.fa --gene_annotations_gtf genes.gtf --annotation_field_name '' --output_proteindb var_peptides.fa\n"
   ]
  }
 ],
 "metadata": {
  "kernelspec": {
   "display_name": "Python 3",
   "language": "python",
   "name": "python3"
  },
  "language_info": {
   "codemirror_mode": {
    "name": "ipython",
    "version": 3
   },
   "file_extension": ".py",
   "mimetype": "text/x-python",
   "name": "python",
   "nbconvert_exporter": "python",
   "pygments_lexer": "ipython3",
   "version": "3.8.5"
  }
 },
 "nbformat": 4,
 "nbformat_minor": 5
}
