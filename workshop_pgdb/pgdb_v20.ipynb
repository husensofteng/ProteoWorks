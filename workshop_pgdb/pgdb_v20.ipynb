{
 "cells": [
  {
   "cell_type": "markdown",
   "id": "46358dd6",
   "metadata": {
    "slideshow": {
     "slide_type": "slide"
    }
   },
   "source": [
    "# Proteogenomics database generation using py-pgatk\n",
    "\n",
    "\n",
    "This notebook presents commands in `py-pgatk` to:\n",
    "- download data from various sources including ENSEMBL for reference files, COSMIC & cBioPortal for cancer mutations, and gnomAD & ENSEMBL for population variants.\n",
    "- generate protein databases using the downloaded files or from custom files (mutations in VCF and transcripts in GTF)\n",
    "- explore the database content (number of proteins and overlaps in tryptic peptides between various protein categories)\n",
    "\n",
    "`py-pgatk` is implemented in `Python` and is available here: https://github.com/bigbio/py-pgatk. \n",
    "The commands are documented here: https://pgatk.readthedocs.io/en/latest/pypgatk.html.\n",
    "The tools are also builtin to a nextflow workflow: https://nf-co.re/pgdb.\n",
    "\n",
    "The easiset way to run this notebook is by installing conda and creating an environment for installing the required packages. \n",
    "\n",
    "\n",
    "# Part 1: Setup the environment\n",
    "\n",
    "### Get notebook and data\n",
    "Download this this notebook and associated (any) data in this directory to your computer"
   ]
  },
  {
   "cell_type": "markdown",
   "id": "e51c2227",
   "metadata": {},
   "source": [
    "### Browse to your working directory and start Jupyter from there using\n",
    "`jupyter-notebook`\n",
    "\n",
    "\n",
    "### Install and Download configuration files and \n",
    "\n",
    "#### Import / install required libraries"
   ]
  },
  {
   "cell_type": "code",
   "execution_count": 1,
   "id": "fcbe9e60",
   "metadata": {},
   "outputs": [],
   "source": [
    "import os\n",
    "import shutil\n",
    "import sys\n",
    "from collections import Counter\n",
    "\n",
    "try:\n",
    "    from Bio import SeqIO\n",
    "except ModuleNotFoundError:\n",
    "    !pip install biopython\n",
    "\n",
    "try:\n",
    "    import matplotlib.pyplot as plt\n",
    "except ModuleNotFoundError:\n",
    "    !pip install matplotlib\n",
    "\n",
    "try:\n",
    "    import pypgatk\n",
    "except ModuleNotFoundError:\n",
    "    !pip install pypgatk"
   ]
  },
  {
   "cell_type": "markdown",
   "id": "40634fdd",
   "metadata": {
    "slideshow": {
     "slide_type": "slide"
    }
   },
   "source": [
    "#### Get Configuaration Files"
   ]
  },
  {
   "cell_type": "code",
   "execution_count": 2,
   "id": "04b15661",
   "metadata": {
    "slideshow": {
     "slide_type": "subslide"
    }
   },
   "outputs": [
    {
     "name": "stdout",
     "output_type": "stream",
     "text": [
      "the files are available in config/ in the current directory:\n",
      "  /Users/husen/Documents/Karolinska Institutet/GRP_LehtioLab_bioinformatics_brains - General/ProteoWorks/workshop_pgdb\n"
     ]
    }
   ],
   "source": [
    "if not os.path.isdir('config'):\n",
    "    os.system('wget https://github.com/bigbio/py-pgatk/archive/refs/tags/v0.0.20.zip')\n",
    "    os.system('unzip v0.0.20.zip')\n",
    "    shutil.copytree('py-pgatk-0.0.20/pypgatk/config', 'config')\n",
    "if os.path.isdir('config'):\n",
    "    print('the files are available in config/ in the current directory:\\n ', os.getcwd())\n",
    "try:\n",
    "    shutil.rmtree('py-pgatk-0.0.20')\n",
    "except FileNotFoundError:\n",
    "    pass\n",
    "try:\n",
    "    os.remove('v0.0.20.zip')\n",
    "except FileNotFoundError:\n",
    "    pass"
   ]
  },
  {
   "cell_type": "markdown",
   "id": "6246aea8",
   "metadata": {
    "slideshow": {
     "slide_type": "slide"
    }
   },
   "source": [
    "### Install gffread v.0.12.7 \n",
    "This tool is needed to convert GTF (gene-transript annotation file) to FASTA (DNA sequence)"
   ]
  },
  {
   "cell_type": "code",
   "execution_count": 3,
   "id": "d8610ecc",
   "metadata": {
    "slideshow": {
     "slide_type": "subslide"
    }
   },
   "outputs": [
    {
     "name": "stdout",
     "output_type": "stream",
     "text": [
      "Downloading gffread\n",
      "gffread is ready to be used\n"
     ]
    }
   ],
   "source": [
    "if not os.path.isfile('gffread'):\n",
    "    print('Downloading gffread')\n",
    "    if 'linux' in sys.platform:\n",
    "        os.system('wget https://github.com/gpertea/gffread/releases/download/v0.12.7/gffread-0.12.7.Linux_x86_64.tar.gz')\n",
    "        os.system('tar -xvzf gffread-0.12.7.Linux_x86_64.tar.gz')\n",
    "        shutil.move('gffread-0.12.7.Linux_x86_64/gffread', 'gffread')\n",
    "    elif 'darwin' in sys.platform:\n",
    "        os.system('wget https://github.com/gpertea/gffread/releases/download/v0.12.7/gffread-0.12.7.OSX_x86_64.tar.gz')\n",
    "        os.system('tar -xvzf gffread-0.12.7.OSX_x86_64.tar.gz')\n",
    "        shutil.move('gffread-0.12.7.OSX_x86_64/gffread', 'gffread')\n",
    "    else:\n",
    "        print('SORRY: only Linux and MAC are supported, maybe you need to try manually installing gffread')\n",
    "try:\n",
    "    shutil.rmtree('gffread-0.12.7.Linux_x86_64')\n",
    "    os.remove('gffread-0.12.7.Linux_x86_64.tar.gz')\n",
    "except FileNotFoundError:\n",
    "    pass\n",
    "try:\n",
    "    shutil.rmtree('gffread-0.12.7.OSX_x86_64')\n",
    "    os.remove('gffread-0.12.7.OSX_x86_64.tar.gz')\n",
    "except FileNotFoundError:\n",
    "    pass\n",
    "if os.path.isfile('gffread'):\n",
    "    print('gffread is ready to be used')"
   ]
  },
  {
   "cell_type": "markdown",
   "id": "da109a48",
   "metadata": {
    "slideshow": {
     "slide_type": "slide"
    }
   },
   "source": [
    "#### Before begining, let's test if pypgatk is working, you should see a help message that lists the existing commands"
   ]
  },
  {
   "cell_type": "code",
   "execution_count": 4,
   "id": "2fff0b92",
   "metadata": {
    "scrolled": false,
    "slideshow": {
     "slide_type": "subslide"
    }
   },
   "outputs": [
    {
     "name": "stdout",
     "output_type": "stream",
     "text": [
      "Determination of memory status is not supported on this \n",
      " platform, measuring for memoryleaks will never fail\n",
      "Usage: pypgatk_cli.py [OPTIONS] COMMAND [ARGS]...\n",
      "\n",
      "  This is the main tool that give access to all commands and options\n",
      "  provided by the pypgatk\n",
      "\n",
      "Options:\n",
      "  -h, --help  Show this message and exit.\n",
      "\n",
      "Commands:\n",
      "  cbioportal-downloader    Command to download the the cbioportal studies\n",
      "  cbioportal-to-proteindb  Command to translate cbioportal mutation data into\n",
      "                           proteindb\n",
      "  cosmic-downloader        Command to download the cosmic mutation database\n",
      "  cosmic-to-proteindb      Command to translate Cosmic mutation data into\n",
      "                           proteindb\n",
      "  dnaseq-to-proteindb      Generate peptides based on DNA sequences\n",
      "  ensembl-check            Command to check ensembl database for stop codons,\n",
      "                           gaps\n",
      "  ensembl-downloader       Command to download the ensembl information\n",
      "  generate-decoy           Create decoy protein sequences using multiple\n",
      "                           methods DecoyPYrat, Reverse/Shuffled Proteins.\n",
      "  peptide-class-fdr        Command to compute the Peptide class FDR\n",
      "  threeframe-translation   Command to perform 3'frame translation\n",
      "  vcf-to-proteindb         Generate peptides based on DNA variants VCF files\n"
     ]
    }
   ],
   "source": [
    "!pypgatk_cli.py -h"
   ]
  },
  {
   "cell_type": "markdown",
   "id": "7064d93c",
   "metadata": {
    "slideshow": {
     "slide_type": "slide"
    }
   },
   "source": [
    "# Part 2: DNA to Protein\n",
    "\n",
    "In this part we will use the `dnaseq-to-proteindb` command to translate DNA sequences in fasta format to protein. We will also show how to convert a GTF obtained from a reference assembly or from a RNA-seq to DNA sequences and then protein sequence.\n",
    "\n",
    "## Download relevant files\n",
    "\n",
    "First we need to specify what files to download from the reference assembly. By default, `ensembl-downloader` downloads all files. The flags below can be used to ignore some files, e.g --skip_dna will skip downloading the reference DNA sequence, etc.\n",
    "\n",
    "* Note: versions prior to v0.0.20 don't have the feature to download the DNA reference assembly. IF you are using an older version you need to download the DNA fasta manually, uncomment the commands given below to perform this step."
   ]
  },
  {
   "cell_type": "markdown",
   "id": "1fcb9191",
   "metadata": {
    "slideshow": {
     "slide_type": "slide"
    }
   },
   "source": [
    "### Check the flags below to know what flags to use."
   ]
  },
  {
   "cell_type": "code",
   "execution_count": 5,
   "id": "15232464",
   "metadata": {
    "slideshow": {
     "slide_type": "subslide"
    }
   },
   "outputs": [
    {
     "name": "stdout",
     "output_type": "stream",
     "text": [
      "Determination of memory status is not supported on this \n",
      " platform, measuring for memoryleaks will never fail\n",
      "Usage: pypgatk_cli.py ensembl-downloader [OPTIONS]\n",
      "\n",
      "  This tool enables to download from enseml ftp the FASTA and GTF files\n",
      "\n",
      "Options:\n",
      "  -c, --config_file TEXT          Configuration file for the ensembl data\n",
      "                                  downloader pipeline\n",
      "  -o, --output_directory TEXT     Output directory for the peptide databases\n",
      "  -fp, --folder_prefix_release TEXT\n",
      "                                  Output folder prefix to download the data\n",
      "  -t, --taxonomy TEXT             Taxonomy identifiers (comma separated list\n",
      "                                  can be given) that will be use to download\n",
      "                                  the data from Ensembl\n",
      "  -l, --list_taxonomies           Print the list of all the taxonomies in\n",
      "                                  ENSEMBL (https://www.ensembl.org)\n",
      "  -sg, --skip_gtf                 Skip the GTF file during the download\n",
      "  -sp, --skip_protein             Skip the protein fasta file during download\n",
      "  -sc, --skip_cds                 Skip the CDS file download\n",
      "  -sdn, --skip_cdna               Skip the cDNA file download\n",
      "  -sn, --skip_ncrna               Skip the ncRNA file download\n",
      "  -sd, --skip_dna                 Skip the DNA (reference genome assembly)\n",
      "                                  file download\n",
      "  -sv, --skip_vcf                 Skip the VCF variant file\n",
      "  -en, --ensembl_name TEXT        Ensembl name code to download, it can be use\n",
      "                                  instead of taxonomy (e.g. homo_sapiens)\n",
      "  --grch37                        Download a previous version GRCh37 of\n",
      "                                  ensembl genomes\n",
      "  -h, --help                      Show this message and exit.\n"
     ]
    }
   ],
   "source": [
    "!pypgatk_cli.py ensembl-downloader -h"
   ]
  },
  {
   "cell_type": "markdown",
   "id": "cfe4e0d8",
   "metadata": {
    "slideshow": {
     "slide_type": "slide"
    }
   },
   "source": [
    "\n",
    "#### Get taxonomy ID for the species of interest\n",
    "However, as shown above we need to specify a taxonomy number in order to get files from a reference assembly for our species of interest. \n",
    "\n",
    "Can you find the taxonomy ID for homo sapiens using the following command?"
   ]
  },
  {
   "cell_type": "code",
   "execution_count": 6,
   "id": "57c9a0ea",
   "metadata": {
    "slideshow": {
     "slide_type": "subslide"
    }
   },
   "outputs": [
    {
     "name": "stdout",
     "output_type": "stream",
     "text": [
      "Determination of memory status is not supported on this \n",
      " platform, measuring for memoryleaks will never fail\n",
      "{'aliases': [], 'groups': ['rnaseq', 'core'], 'assembly': 'fCycLum1.pri', 'accession': 'GCA_009769545.1', 'division': 'EnsemblVertebrates', 'name': 'cyclopterus_lumpus', 'common_name': 'lumpfish', 'display_name': 'Lumpfish', 'taxon_id': '8103', 'strain_collection': None, 'strain': None, 'release': 106}\n",
      "{'assembly': 'Meishan_pig_v1', 'accession': 'GCA_001700195.1', 'groups': ['otherfeatures', 'rnaseq', 'core'], 'aliases': [], 'display_name': 'Pig - Meishan', 'strain': 'meishan', 'strain_collection': None, 'release': 106, 'taxon_id': '9823', 'division': 'EnsemblVertebrates', 'name': 'sus_scrofa_meishan', 'common_name': 'pig'}\n",
      "{'strain': None, 'strain_collection': None, 'release': 106, 'taxon_id': '303518', 'display_name': 'Makobe Island cichlid', 'common_name': 'Makobe Island cichlid', 'name': 'pundamilia_nyererei', 'division': 'EnsemblVertebrates', 'assembly': 'PunNye1.0', 'accession': 'GCA_000239375.1', 'aliases': [], 'groups': ['rnaseq', 'core', 'otherfeatures']}\n",
      "{'aliases': [], 'groups': ['otherfeatures', 'core', 'rnaseq'], 'accession': 'GCA_900963305.1', 'assembly': 'fEcheNa1.1', 'common_name': 'live sharksucker', 'division': 'EnsemblVertebrates', 'name': 'echeneis_naucrates', 'strain_collection': None, 'strain': None, 'release': 106, 'taxon_id': '173247', 'display_name': 'Live sharksucker'}\n",
      "{'aliases': [], 'groups': ['core', 'rnaseq', 'otherfeatures'], 'accession': 'GCA_000277835.1', 'assembly': 'GeoFor_1.0', 'name': 'geospiza_fortis', 'division': 'EnsemblVertebrates', 'common_name': 'medium ground-finch', 'display_name': 'Medium ground-finch', 'strain': None, 'strain_collection': None, 'release': 106, 'taxon_id': '48883'}\n",
      "{'accession': 'GCA_001891065.1', 'assembly': 'H_comes_QL1_v1', 'aliases': [], 'groups': ['otherfeatures', 'rnaseq', 'core'], 'strain_collection': None, 'release': 106, 'strain': None, 'taxon_id': '109280', 'display_name': 'Tiger tail seahorse', 'common_name': 'tiger tail seahorse', 'division': 'EnsemblVertebrates', 'name': 'hippocampus_comes'}\n",
      "{'assembly': 'NZO_HlLtJ_v1', 'accession': 'GCA_001624745.1', 'aliases': [], 'groups': ['funcgen', 'core'], 'display_name': 'Mouse NZO/HlLtJ', 'strain_collection': None, 'taxon_id': '10090', 'strain': 'NZO/HlLtJ', 'release': 106, 'division': 'EnsemblVertebrates', 'name': 'mus_musculus_nzohlltj', 'common_name': 'mouse'}\n",
      "{'strain': None, 'strain_collection': None, 'taxon_id': '161767', 'release': 106, 'display_name': 'Orange clownfish', 'common_name': 'orange clownfish', 'name': 'amphiprion_percula', 'division': 'EnsemblVertebrates', 'accession': 'GCA_003047355.1', 'assembly': 'Nemo_v1', 'aliases': [], 'groups': ['rnaseq', 'core']}\n",
      "{'display_name': 'Mouse NOD/ShiLtJ', 'strain_collection': None, 'strain': 'NOD/ShiLtJ', 'release': 106, 'taxon_id': '10090', 'name': 'mus_musculus_nodshiltj', 'division': 'EnsemblVertebrates', 'common_name': 'mouse', 'assembly': 'NOD_ShiLtJ_v1', 'accession': 'GCA_001624675.1', 'groups': ['funcgen', 'core'], 'aliases': []}\n",
      "{'division': 'EnsemblVertebrates', 'name': 'coturnix_japonica', 'common_name': 'Japanese quail', 'display_name': 'Japanese quail', 'strain_collection': None, 'release': 106, 'strain': None, 'taxon_id': '93934', 'aliases': [], 'groups': ['core', 'rnaseq', 'otherfeatures'], 'assembly': 'Coturnix_japonica_2.0', 'accession': 'GCA_001577835.1'}\n",
      "{'assembly': 'choHof1', 'accession': None, 'groups': ['core'], 'aliases': ['choffmanni', 'chohof', 'choloepushoffmanni', 'sloth', 'two-toed sloth', 'choloepus', 'chof', '9358', 'choloepus hoffmanni', \"hoffmann's two-fingered sloth\"], 'strain_collection': None, 'strain': None, 'taxon_id': '9358', 'release': 106, 'display_name': 'Sloth', 'common_name': \"Hoffmann's two-fingered sloth\", 'name': 'choloepus_hoffmanni', 'division': 'EnsemblVertebrates'}\n",
      "{'assembly': 'WBcel235', 'accession': 'GCA_000002985.3', 'groups': ['funcgen', 'core'], 'aliases': ['celegans', 'caenorhabditis_elegans_prjna13758', 'cele', '6239', 'caenorhabditis elegans', 'worm', 'elegans', 'caeele', 'c.elegans'], 'display_name': 'Caenorhabditis elegans (PRJNA13758)', 'strain_collection': None, 'taxon_id': '6239', 'strain': 'N2', 'release': 106, 'name': 'caenorhabditis_elegans', 'division': 'EnsemblVertebrates', 'common_name': 'C.elegans'}\n",
      "{'common_name': 'superb fairywren', 'division': 'EnsemblVertebrates', 'name': 'malurus_cyaneus_samueli', 'strain_collection': None, 'strain': None, 'taxon_id': '2593467', 'release': 106, 'display_name': 'Superb fairywren', 'aliases': [], 'groups': ['core', 'rnaseq'], 'assembly': 'mCya_1.0', 'accession': 'GCA_009741485.1'}\n",
      "{'assembly': 'Rrox_v1', 'accession': 'GCA_000769185.1', 'groups': ['core', 'funcgen', 'rnaseq', 'otherfeatures'], 'aliases': [], 'display_name': 'Golden snub-nosed monkey', 'taxon_id': '61622', 'strain_collection': None, 'strain': None, 'release': 106, 'division': 'EnsemblVertebrates', 'name': 'rhinopithecus_roxellana', 'common_name': 'Golden snub-nosed monkey'}\n",
      "{'groups': ['rnaseq', 'core'], 'aliases': [], 'assembly': 'MosMos_v2_BIUU_UCD', 'accession': 'GCA_004024705.2', 'division': 'EnsemblVertebrates', 'name': 'moschus_moschiferus', 'common_name': 'Siberian musk deer', 'display_name': 'Siberian musk deer', 'taxon_id': '68415', 'strain_collection': None, 'strain': None, 'release': 106}\n",
      "{'name': 'cyprinodon_variegatus', 'division': 'EnsemblVertebrates', 'common_name': 'sheepshead minnow', 'display_name': 'Sheepshead minnow', 'strain_collection': None, 'strain': None, 'release': 106, 'taxon_id': '28743', 'aliases': [], 'groups': ['rnaseq', 'core', 'funcgen', 'otherfeatures'], 'assembly': 'C_variegatus-1.0', 'accession': 'GCA_000732505.1'}\n",
      "{'common_name': 'rainbow trout', 'division': 'EnsemblVertebrates', 'name': 'oncorhynchus_mykiss', 'release': 106, 'strain_collection': None, 'strain': None, 'taxon_id': '8022', 'display_name': 'Rainbow trout', 'aliases': [], 'groups': ['core', 'rnaseq'], 'assembly': 'USDA_OmykA_1.1', 'accession': 'GCA_013265735.3'}\n",
      "{'accession': 'GCA_000743615.1', 'assembly': 'DMR_v1.0', 'aliases': ['fdamarensi', '885580', 'fukdam', 'damara mole rat', 'fdam', 'fukomys_damarensi', 'fukomys damarensi'], 'groups': ['rnaseq', 'core', 'otherfeatures'], 'strain_collection': None, 'release': 106, 'strain': None, 'taxon_id': '885580', 'display_name': 'Damara mole rat', 'common_name': 'Damara mole rat', 'name': 'fukomys_damarensis', 'division': 'EnsemblVertebrates'}\n",
      "{'accession': 'GCA_003597395.1', 'assembly': 'ASM359739v1', 'groups': ['core', 'rnaseq'], 'aliases': [], 'strain_collection': None, 'release': 106, 'strain': None, 'taxon_id': '106734', 'display_name': 'Abingdon island giant tortoise', 'common_name': 'Abingdon island giant tortoise', 'name': 'chelonoidis_abingdonii', 'division': 'EnsemblVertebrates'}\n",
      "{'release': 106, 'strain_collection': None, 'strain': 'CAROLI_EIJ', 'taxon_id': '10089', 'display_name': 'Ryukyu mouse', 'common_name': 'Ryukyu mouse', 'division': 'EnsemblVertebrates', 'name': 'mus_caroli', 'assembly': 'CAROLI_EIJ_v1.1', 'accession': 'GCA_900094665.2', 'aliases': ['mcar', 'mcaroli', 'muscar', 'mus caroli', 'ryukyu mouse', '10089'], 'groups': ['core']}\n",
      "{'common_name': 'Monterrey platyfish', 'division': 'EnsemblVertebrates', 'name': 'xiphophorus_couchianus', 'strain_collection': None, 'strain': None, 'release': 106, 'taxon_id': '32473', 'display_name': 'Monterrey platyfish', 'groups': ['core'], 'aliases': [], 'accession': 'GCA_001444195.1', 'assembly': 'Xiphophorus_couchianus-4.0.1'}\n",
      "{'aliases': ['hglaber_male', '10181', 'hetgla', 'naked mole-rat male', 'naked mole-rat', 'hgla', 'heterocephalus glaber male'], 'groups': ['otherfeatures', 'core', 'rnaseq'], 'assembly': 'HetGla_1.0', 'accession': 'GCA_000230445.1', 'common_name': 'naked mole-rat', 'division': 'EnsemblVertebrates', 'name': 'heterocephalus_glaber_male', 'release': 106, 'strain_collection': None, 'strain': None, 'taxon_id': '10181', 'display_name': 'Naked mole-rat male'}\n",
      "{'display_name': 'California sea lion', 'strain_collection': None, 'strain': None, 'taxon_id': '9704', 'release': 106, 'name': 'zalophus_californianus', 'division': 'EnsemblVertebrates', 'common_name': 'california sea lion', 'accession': 'GCA_009762305.1', 'assembly': 'mZalCal1.pri', 'aliases': [], 'groups': ['core', 'rnaseq']}\n",
      "{'aliases': [], 'groups': ['rnaseq', 'funcgen', 'core', 'otherfeatures'], 'accession': 'GCA_000952055.2', 'assembly': 'Anan_2.0', 'name': 'aotus_nancymaae', 'division': 'EnsemblVertebrates', 'common_name': \"Ma's night monkey\", 'display_name': \"Ma's night monkey\", 'strain_collection': None, 'release': 106, 'strain': None, 'taxon_id': '37293'}\n",
      "{'accession': 'GCA_900324485.2', 'assembly': 'fMasArm1.2', 'aliases': [], 'groups': ['otherfeatures', 'core', 'rnaseq'], 'display_name': 'Zig-zag eel', 'strain_collection': None, 'strain': None, 'release': 106, 'taxon_id': '205130', 'name': 'mastacembelus_armatus', 'division': 'EnsemblVertebrates', 'common_name': 'zig-zag eel'}\n",
      "{'groups': ['core', 'funcgen'], 'aliases': [], 'accession': 'GCA_003258685.1', 'assembly': 'Prosim_1.0', 'name': 'prolemur_simus', 'division': 'EnsemblVertebrates', 'common_name': 'greater bamboo lemur', 'display_name': 'Greater bamboo lemur', 'release': 106, 'strain_collection': None, 'strain': None, 'taxon_id': '1328070'}\n",
      "{'name': 'pelusios_castaneus', 'division': 'EnsemblVertebrates', 'common_name': 'West African mud turtle', 'display_name': 'West African mud turtle', 'release': 106, 'strain_collection': None, 'strain': None, 'taxon_id': '367368', 'groups': ['core', 'rnaseq'], 'aliases': [], 'assembly': 'Pelusios_castaneus-1.0', 'accession': 'GCA_007922175.1'}\n",
      "{'strain_collection': None, 'strain': None, 'release': 106, 'taxon_id': '9315', 'display_name': 'Wallaby', 'common_name': 'tammar wallaby', 'division': 'EnsemblVertebrates', 'name': 'notamacropus_eugenii', 'accession': 'GCA_000004035.1', 'assembly': 'Meug_1.0', 'groups': ['core'], 'aliases': ['wallaby', 'meug', 'neugenii', '9315', 'macropuseugenii', 'notamacropus', 'neug', 'maceug', 'macropus eugenii', 'macropus_eugenii', 'notamacropuseugenii', 'noteug', 'notamacropus eugenii', 'meugenii', 'tammar wallaby', 'macropus']}\n",
      "{'display_name': 'Steppe mouse', 'strain_collection': None, 'strain': None, 'release': 106, 'taxon_id': '10103', 'name': 'mus_spicilegus', 'division': 'EnsemblVertebrates', 'common_name': 'steppe mouse', 'accession': 'GCA_003336285.1', 'assembly': 'MUSP714', 'groups': ['rnaseq', 'core'], 'aliases': []}\n",
      "{'groups': ['variation', 'otherfeatures', 'core'], 'aliases': ['tetraodon', '99883', 'spotted green pufferfish', 'tetnig', 'tnig', 'tnigroviridis', 'fresh water pufferfish', 'tetraodon nigroviridis'], 'assembly': 'TETRAODON8', 'accession': None, 'name': 'tetraodon_nigroviridis', 'division': 'EnsemblVertebrates', 'common_name': 'spotted green pufferfish', 'display_name': 'Tetraodon', 'strain': None, 'strain_collection': None, 'taxon_id': '99883', 'release': 106}\n",
      "{'accession': 'GCA_013347765.1', 'assembly': 'ASM1334776v1', 'aliases': [], 'groups': ['otherfeatures', 'rnaseq', 'core', 'funcgen'], 'strain': None, 'strain_collection': None, 'release': 106, 'taxon_id': '52904', 'display_name': 'Turbot', 'common_name': 'turbot', 'division': 'EnsemblVertebrates', 'name': 'scophthalmus_maximus'}\n",
      "{'display_name': 'Silver-eye', 'taxon_id': '1220523', 'strain_collection': None, 'strain': None, 'release': 106, 'division': 'EnsemblVertebrates', 'name': 'zosterops_lateralis_melanops', 'common_name': 'silver-eye', 'accession': 'GCA_001281735.1', 'assembly': 'ASM128173v1', 'groups': ['rnaseq', 'core'], 'aliases': []}\n",
      "{'accession': 'GCA_000001405.28', 'assembly': 'GRCh38', 'groups': ['otherfeatures', 'variation', 'funcgen', 'core', 'cdna', 'rnaseq'], 'aliases': ['homo sapiens', 'enshs', '9606', 'homsap', 'human', 'hsap', 'homo', 'h_sapiens', 'hsapiens'], 'display_name': 'Human', 'strain': None, 'strain_collection': None, 'release': 106, 'taxon_id': '9606', 'division': 'EnsemblVertebrates', 'name': 'homo_sapiens', 'common_name': 'human'}\n",
      "{'accession': 'GCA_007210695.1', 'assembly': 'RGoby_Basel_V2', 'groups': ['core', 'rnaseq'], 'aliases': [], 'display_name': 'Round goby', 'release': 106, 'strain_collection': None, 'strain': None, 'taxon_id': '47308', 'name': 'neogobius_melanostomus', 'division': 'EnsemblVertebrates', 'common_name': 'round goby'}\n",
      "{'accession': 'GCA_002406435.1', 'assembly': 'ASM240643v1', 'groups': ['core'], 'aliases': [], 'display_name': 'Daurian ground squirrel', 'strain': None, 'strain_collection': None, 'release': 106, 'taxon_id': '99837', 'name': 'spermophilus_dauricus', 'division': 'EnsemblVertebrates', 'common_name': 'Daurian ground squirrel'}\n",
      "{'common_name': 'western European hedgehog', 'name': 'erinaceus_europaeus', 'division': 'EnsemblVertebrates', 'strain': None, 'strain_collection': None, 'release': 106, 'taxon_id': '9365', 'display_name': 'Hedgehog', 'groups': ['core'], 'aliases': ['eeur', 'hedgehog', 'erinaceus europaeus', 'western european hedgehog', '9365', 'eeuropaeus', 'erieur', 'western_european_hedgehog'], 'assembly': 'HEDGEHOG', 'accession': None}\n",
      "{'assembly': 'ASM69896v1', 'accession': 'GCA_000698965.1', 'aliases': [], 'groups': ['core', 'rnaseq', 'otherfeatures'], 'display_name': 'African ostrich', 'strain_collection': None, 'strain': None, 'taxon_id': '441894', 'release': 106, 'name': 'struthio_camelus_australis', 'division': 'EnsemblVertebrates', 'common_name': 'African ostrich'}\n",
      "{'accession': 'GCA_000280705.1', 'assembly': 'JacJac1.0', 'groups': ['otherfeatures', 'core'], 'aliases': ['51337', 'jaculus jaculus', 'jjac', 'lesser egyptian jerboa', 'jacjac', 'jjaculus'], 'display_name': 'Lesser Egyptian jerboa', 'strain_collection': None, 'strain': None, 'taxon_id': '51337', 'release': 106, 'division': 'EnsemblVertebrates', 'name': 'jaculus_jaculus', 'common_name': 'Lesser Egyptian jerboa'}\n",
      "{'assembly': 'WSB_EiJ_v1', 'accession': 'GCA_001624835.1', 'groups': ['core', 'funcgen'], 'aliases': ['western european house mouse', '10092', 'mus musculus domesticus wsbeij', 'mmusculus_domesticus_wsbeij', 'mus_musculus_domesticus_wsbeij', 'mouse wsbeij'], 'display_name': 'Mouse WSB/EiJ', 'strain_collection': None, 'release': 106, 'strain': 'WSB/EiJ', 'taxon_id': '10092', 'division': 'EnsemblVertebrates', 'name': 'mus_musculus_wsbeij', 'common_name': 'mouse'}\n",
      "{'strain_collection': None, 'taxon_id': '10090', 'strain': 'C57BL/6NJ', 'release': 106, 'display_name': 'Mouse C57BL/6NJ', 'common_name': 'mouse', 'division': 'EnsemblVertebrates', 'name': 'mus_musculus_c57bl6nj', 'accession': 'GCA_001632555.1', 'assembly': 'C57BL_6NJ_v1', 'aliases': [], 'groups': ['core', 'funcgen']}\n",
      "{'groups': ['otherfeatures', 'core', 'rnaseq'], 'aliases': [], 'accession': 'GCA_900634415.1', 'assembly': 'fCotGob3.1', 'division': 'EnsemblVertebrates', 'name': 'cottoperca_gobio', 'common_name': 'channel bull blenny', 'display_name': 'Channel bull blenny', 'strain_collection': None, 'strain': None, 'release': 106, 'taxon_id': '56716'}\n",
      "{'common_name': 'eastern brown snake', 'division': 'EnsemblVertebrates', 'name': 'pseudonaja_textilis', 'release': 106, 'strain_collection': None, 'strain': None, 'taxon_id': '8673', 'display_name': 'Eastern brown snake', 'groups': ['rnaseq', 'core', 'otherfeatures'], 'aliases': [], 'assembly': 'EBS10Xv2-PRI', 'accession': 'GCA_900518735.1'}\n",
      "{'strain_collection': None, 'release': 106, 'strain': None, 'taxon_id': '9483', 'display_name': 'White-tufted-ear marmoset', 'common_name': 'white-tufted-ear marmoset', 'division': 'EnsemblVertebrates', 'name': 'callithrix_jacchus', 'assembly': 'mCalJac1.pat.X', 'accession': 'GCA_011100555.1', 'groups': ['core', 'funcgen', 'rnaseq'], 'aliases': ['callithrix jacchus', 'white-tufted-ear marmoset', 'marmoset']}\n",
      "{'assembly': 'CSAV2.0', 'accession': None, 'groups': ['otherfeatures', 'core'], 'aliases': ['sea squirt ciona savignyi', 'ciona savignyi', '51511', 'c.savignyi', 'ciosav', 'csav', 'csavignyi'], 'strain_collection': None, 'strain': None, 'release': 106, 'taxon_id': '51511', 'display_name': 'C.savignyi', 'common_name': 'Sea squirt Ciona savignyi', 'name': 'ciona_savignyi', 'division': 'EnsemblVertebrates'}\n",
      "{'aliases': [], 'groups': ['core', 'rnaseq', 'otherfeatures'], 'assembly': 'Eluc_v4', 'accession': 'GCA_004634155.1', 'name': 'esox_lucius', 'division': 'EnsemblVertebrates', 'common_name': 'northern pike', 'display_name': 'Northern pike', 'strain_collection': None, 'strain': None, 'release': 106, 'taxon_id': '8010'}\n",
      "{'accession': 'GCA_000146045.2', 'assembly': 'R64-1-1', 'groups': ['core', 'funcgen', 'otherfeatures', 'variation'], 'aliases': ['4932', 'scerevisiae', 'saccharomyces cerevisiae s288c', \"baker's yeast\", 'saccharomyces cerevisiae', 'scer', 's_cerevisiae', \"saccharomyces cerevisiae (baker's yeast)\"], 'strain': 'S288C', 'strain_collection': None, 'release': 106, 'taxon_id': '559292', 'display_name': 'Saccharomyces cerevisiae', 'common_name': \"baker's yeast\", 'name': 'saccharomyces_cerevisiae', 'division': 'EnsemblVertebrates'}\n",
      "{'display_name': 'Gilthead seabream', 'release': 106, 'strain_collection': None, 'strain': None, 'taxon_id': '8175', 'name': 'sparus_aurata', 'division': 'EnsemblVertebrates', 'common_name': 'gilthead seabream', 'assembly': 'fSpaAur1.1', 'accession': 'GCA_900880675.1', 'groups': ['otherfeatures', 'core', 'rnaseq'], 'aliases': []}\n",
      "{'display_name': 'Mouse C3H/HeJ', 'strain_collection': None, 'release': 106, 'strain': 'C3H/HeJ', 'taxon_id': '10090', 'division': 'EnsemblVertebrates', 'name': 'mus_musculus_c3hhej', 'common_name': 'mouse', 'accession': 'GCA_001632575.1', 'assembly': 'C3H_HeJ_v1', 'aliases': [], 'groups': ['core', 'funcgen']}\n",
      "{'common_name': 'Philippine tarsier', 'name': 'carlito_syrichta', 'division': 'EnsemblVertebrates', 'strain_collection': None, 'strain': None, 'taxon_id': '1868482', 'release': 106, 'display_name': 'Tarsier', 'groups': ['core', 'funcgen', 'otherfeatures'], 'aliases': ['carlito', 'carsyr', 'carlitosyrichta', 'tarsius_syrichta', 'csyr', 'philippine tarsier', 'csyrichta', 'tarsius syrichta', 'tarsiussyrichta', 'tarsyr', '9478', 'carlito syrichta', 'tsyr', 'tsyrichta', 'tarsier'], 'assembly': 'Tarsius_syrichta-2.0.1', 'accession': 'GCA_000164805.2'}\n",
      "{'display_name': 'Upper Galilee mountains blind mole rat', 'strain': None, 'strain_collection': None, 'release': 106, 'taxon_id': '1026970', 'division': 'EnsemblVertebrates', 'name': 'nannospalax_galili', 'common_name': 'Upper Galilee mountains blind mole rat', 'assembly': 'S.galili_v1.0', 'accession': 'GCA_000622305.1', 'aliases': ['nangal', 'ngal', 'nannospalax galili', 'ngalili', 'upper galilee mountains blind mole rat', '1026970'], 'groups': ['otherfeatures', 'core', 'funcgen', 'rnaseq']}\n",
      "{'strain': None, 'strain_collection': None, 'release': 106, 'taxon_id': '37003', 'display_name': 'Mangrove rivulus', 'common_name': 'mangrove rivulus', 'division': 'EnsemblVertebrates', 'name': 'kryptolebias_marmoratus', 'accession': 'GCA_001649575.1', 'assembly': 'ASM164957v1', 'aliases': [], 'groups': ['otherfeatures', 'core', 'rnaseq']}\n",
      "{'accession': 'GCA_001632615.1', 'assembly': 'LP_J_v1', 'groups': ['funcgen', 'core'], 'aliases': [], 'strain_collection': None, 'release': 106, 'strain': 'LP/J', 'taxon_id': '10090', 'display_name': 'Mouse LP/J', 'common_name': 'mouse', 'name': 'mus_musculus_lpj', 'division': 'EnsemblVertebrates'}\n",
      "{'common_name': 'Alpine marmot', 'division': 'EnsemblVertebrates', 'name': 'marmota_marmota_marmota', 'strain_collection': None, 'strain': None, 'release': 106, 'taxon_id': '9994', 'display_name': 'Alpine marmot', 'groups': ['rnaseq', 'core', 'otherfeatures'], 'aliases': [], 'assembly': 'marMar2.1', 'accession': 'GCA_001458135.1'}\n",
      "{'accession': 'GCA_000165045.2', 'assembly': 'Callorhinchus_milii-6.1.3', 'aliases': [], 'groups': ['otherfeatures', 'core', 'rnaseq'], 'strain_collection': None, 'strain': None, 'release': 106, 'taxon_id': '7868', 'display_name': 'Elephant shark', 'common_name': 'elephant shark', 'name': 'callorhinchus_milii', 'division': 'EnsemblVertebrates'}\n",
      "{'aliases': [], 'groups': ['rnaseq', 'core', 'otherfeatures'], 'accession': 'GCA_007474595.1', 'assembly': 'mLynCan4_v1.p', 'name': 'lynx_canadensis', 'division': 'EnsemblVertebrates', 'common_name': 'Canada lynx', 'display_name': 'Canada lynx', 'strain_collection': None, 'taxon_id': '61383', 'strain': None, 'release': 106}\n",
      "{'strain_collection': None, 'strain': None, 'release': 106, 'taxon_id': '106582', 'display_name': 'Zebra mbuna', 'common_name': 'zebra mbuna', 'division': 'EnsemblVertebrates', 'name': 'maylandia_zebra', 'assembly': 'M_zebra_UMD2a', 'accession': 'GCA_000238955.5', 'groups': ['rnaseq', 'core', 'otherfeatures'], 'aliases': []}\n",
      "{'common_name': 'Asian bonytongue', 'division': 'EnsemblVertebrates', 'name': 'scleropages_formosus', 'strain_collection': None, 'strain': None, 'release': 106, 'taxon_id': '113540', 'display_name': 'Asian bonytongue', 'groups': ['core', 'rnaseq', 'otherfeatures'], 'aliases': [], 'accession': 'GCA_900964775.1', 'assembly': 'fSclFor1.1'}\n",
      "{'display_name': 'Chilean tinamou', 'release': 106, 'strain_collection': None, 'strain': None, 'taxon_id': '30464', 'name': 'nothoprocta_perdicaria', 'division': 'EnsemblVertebrates', 'common_name': 'Chilean tinamou', 'assembly': 'notPer1', 'accession': 'GCA_003342845.1', 'groups': ['core', 'otherfeatures'], 'aliases': []}\n",
      "{'display_name': 'Cat', 'strain_collection': None, 'strain': None, 'release': 106, 'taxon_id': '9685', 'name': 'felis_catus', 'division': 'EnsemblVertebrates', 'common_name': 'domestic cat', 'accession': 'GCA_000181335.4', 'assembly': 'Felis_catus_9.0', 'aliases': ['fcat', 'felis catus', 'fcatus', '9685', 'felcat', 'cat', 'domestic cat'], 'groups': ['otherfeatures', 'variation', 'core', 'funcgen', 'rnaseq']}\n",
      "{'groups': ['rnaseq', 'core'], 'aliases': [], 'accession': 'GCA_905221575.1', 'assembly': 'Cypcar_WagV4.0', 'common_name': 'common carp', 'name': 'cyprinus_carpio_carpio', 'division': 'EnsemblVertebrates', 'release': 106, 'strain_collection': None, 'strain': None, 'taxon_id': '630221', 'display_name': 'Common carp'}\n",
      "{'aliases': [], 'groups': ['core', 'rnaseq'], 'accession': 'GCA_004329235.1', 'assembly': 'PodMur_1.0', 'name': 'podarcis_muralis', 'division': 'EnsemblVertebrates', 'common_name': 'common wall lizard', 'display_name': 'Common wall lizard', 'taxon_id': '64176', 'strain_collection': None, 'strain': None, 'release': 106}\n",
      "{'display_name': 'Indian peafowl', 'strain_collection': None, 'strain': None, 'taxon_id': '9049', 'release': 106, 'division': 'EnsemblVertebrates', 'name': 'pavo_cristatus', 'common_name': 'Indian peafowl', 'accession': 'GCA_005519975.1', 'assembly': 'AIIM_Pcri_1.0', 'groups': ['rnaseq', 'core'], 'aliases': []}\n",
      "{'display_name': 'Shortfin molly', 'strain_collection': None, 'strain': None, 'taxon_id': '48701', 'release': 106, 'division': 'EnsemblVertebrates', 'name': 'poecilia_mexicana', 'common_name': 'shortfin molly', 'assembly': 'P_mexicana-1.0', 'accession': 'GCA_001443325.1', 'aliases': [], 'groups': ['otherfeatures', 'rnaseq', 'core']}\n",
      "{'assembly': 'dlabrax2021', 'accession': 'GCA_905237075.1', 'groups': ['core', 'rnaseq'], 'aliases': [], 'display_name': 'European seabass', 'taxon_id': '13489', 'strain_collection': None, 'strain': None, 'release': 106, 'name': 'dicentrarchus_labrax', 'division': 'EnsemblVertebrates', 'common_name': 'European seabass'}\n",
      "{'groups': ['core', 'funcgen'], 'aliases': ['mmusculus_castaneus_casteij', 'mus musculus castaneus casteij', '10091', 'mouse casteij', 'mus_musculus_castaneus_casteij', 'south eastern house mouse'], 'accession': 'GCA_001624445.1', 'assembly': 'CAST_EiJ_v1', 'common_name': 'mouse', 'name': 'mus_musculus_casteij', 'division': 'EnsemblVertebrates', 'strain_collection': None, 'taxon_id': '10091', 'strain': 'CAST/EiJ', 'release': 106, 'display_name': 'Mouse CAST/EiJ'}\n",
      "{'division': 'EnsemblVertebrates', 'name': 'macaca_fascicularis', 'common_name': 'Crab-eating macaque', 'display_name': 'Crab-eating macaque', 'strain': None, 'strain_collection': None, 'release': 106, 'taxon_id': '9541', 'aliases': [], 'groups': ['rnaseq', 'core'], 'assembly': 'Macaca_fascicularis_6.0', 'accession': 'GCA_011100615.1'}\n",
      "{'accession': 'GCA_900747795.2', 'assembly': 'fErpCal1.1', 'aliases': [], 'groups': ['rnaseq', 'core', 'otherfeatures'], 'release': 106, 'strain_collection': None, 'strain': None, 'taxon_id': '27687', 'display_name': 'Reedfish', 'common_name': 'reedfish', 'division': 'EnsemblVertebrates', 'name': 'erpetoichthys_calabaricus'}\n",
      "{'assembly': 'Ee_SOAP_WITH_SSPACE', 'accession': 'GCA_003665695.2', 'aliases': [], 'groups': ['rnaseq', 'core', 'otherfeatures'], 'display_name': 'Electric eel', 'strain_collection': None, 'release': 106, 'strain': None, 'taxon_id': '8005', 'division': 'EnsemblVertebrates', 'name': 'electrophorus_electricus', 'common_name': 'electric eel'}\n",
      "{'assembly': 'pvi1.1', 'accession': 'GCA_900067755.1', 'groups': ['rnaseq', 'core', 'otherfeatures'], 'aliases': [], 'strain': None, 'strain_collection': None, 'release': 106, 'taxon_id': '103695', 'display_name': 'Central bearded dragon', 'common_name': 'central bearded dragon', 'name': 'pogona_vitticeps', 'division': 'EnsemblVertebrates'}\n",
      "{'aliases': [], 'groups': ['otherfeatures', 'rnaseq', 'core'], 'accession': 'GCA_900634625.1', 'assembly': 'fParRan2.1', 'division': 'EnsemblVertebrates', 'name': 'parambassis_ranga', 'common_name': 'Indian glassy fish', 'display_name': 'Indian glassy fish', 'taxon_id': '210632', 'strain_collection': None, 'strain': None, 'release': 106}\n",
      "{'groups': ['rnaseq', 'core'], 'aliases': [], 'accession': 'GCA_009660055.1', 'assembly': 'ASM966005v1', 'name': 'ursus_thibetanus_thibetanus', 'division': 'EnsemblVertebrates', 'common_name': 'Asiatic black bear', 'display_name': 'Asiatic black bear', 'strain': None, 'strain_collection': None, 'taxon_id': '441215', 'release': 106}\n",
      "{'assembly': 'mRatBN7.2', 'accession': 'GCA_015227675.2', 'groups': ['otherfeatures', 'variation', 'funcgen', 'core', 'rnaseq'], 'aliases': ['rat', 'rattus norvegicus'], 'strain': 'BN/NHsdMcwi', 'strain_collection': None, 'taxon_id': '10116', 'release': 106, 'display_name': 'Rat', 'common_name': 'Norway rat', 'division': 'EnsemblVertebrates', 'name': 'rattus_norvegicus'}\n",
      "{'division': 'EnsemblVertebrates', 'name': 'gouania_willdenowi', 'common_name': 'blunt-snouted clingfish', 'display_name': 'Blunt-snouted clingfish', 'release': 106, 'strain_collection': None, 'strain': None, 'taxon_id': '441366', 'aliases': [], 'groups': ['otherfeatures', 'core', 'rnaseq'], 'accession': 'GCA_900634775.1', 'assembly': 'fGouWil2.1'}\n",
      "{'groups': ['rnaseq', 'core', 'otherfeatures'], 'aliases': [], 'assembly': 'CroPor_comp1', 'accession': 'GCA_001723895.1', 'common_name': 'Australian saltwater crocodile', 'division': 'EnsemblVertebrates', 'name': 'crocodylus_porosus', 'strain': None, 'strain_collection': None, 'release': 106, 'taxon_id': '8502', 'display_name': 'Australian saltwater crocodile'}\n",
      "{'accession': 'GCA_000239415.1', 'assembly': 'AstBur1.0', 'groups': ['otherfeatures', 'core', 'rnaseq'], 'aliases': [], 'display_name': \"Burton's mouthbrooder\", 'strain_collection': None, 'strain': None, 'taxon_id': '8153', 'release': 106, 'division': 'EnsemblVertebrates', 'name': 'haplochromis_burtoni', 'common_name': \"Burton's mouthbrooder\"}\n",
      "{'aliases': [], 'groups': ['core', 'rnaseq'], 'accession': 'GCA_900246225.3', 'assembly': 'fAstCal1.2', 'common_name': 'eastern happy', 'division': 'EnsemblVertebrates', 'name': 'astatotilapia_calliptera', 'strain_collection': None, 'strain': None, 'release': 106, 'taxon_id': '8154', 'display_name': 'Eastern happy'}\n",
      "{'groups': ['otherfeatures', 'rnaseq', 'core'], 'aliases': [], 'accession': 'GCA_009873245.2', 'assembly': 'mBalMus1.v2', 'common_name': 'Blue whale', 'division': 'EnsemblVertebrates', 'name': 'balaenoptera_musculus', 'strain_collection': None, 'strain': None, 'taxon_id': '9771', 'release': 106, 'display_name': 'Blue whale'}\n",
      "{'common_name': 'nine-banded armadillo', 'division': 'EnsemblVertebrates', 'name': 'dasypus_novemcinctus', 'strain_collection': None, 'strain': None, 'release': 106, 'taxon_id': '9361', 'display_name': 'Armadillo', 'groups': ['otherfeatures', 'rnaseq', 'core'], 'aliases': ['dasypus novemcinctu', 'dasypus novemcinctus', 'dnovemcinctus', 'dnov', 'nine-banded armadillo', '9361', 'armadillo', 'dasnov', 'arma'], 'assembly': 'Dasnov3.0', 'accession': 'GCA_000208655.2'}\n",
      "{'assembly': 'Landrace_pig_v1', 'accession': 'GCA_001700215.1', 'groups': ['otherfeatures', 'core', 'rnaseq'], 'aliases': [], 'display_name': 'Pig - Landrace', 'strain_collection': None, 'release': 106, 'strain': 'landrace', 'taxon_id': '9823', 'division': 'EnsemblVertebrates', 'name': 'sus_scrofa_landrace', 'common_name': 'pig'}\n",
      "{'display_name': 'Atlantic cod', 'taxon_id': '8049', 'strain_collection': None, 'strain': None, 'release': 106, 'name': 'gadus_morhua', 'division': 'EnsemblVertebrates', 'common_name': 'Atlantic cod', 'assembly': 'gadMor3.0', 'accession': 'GCA_902167405.1', 'aliases': [], 'groups': ['core', 'rnaseq']}\n",
      "{'assembly': 'AKR_J_v1', 'accession': 'GCA_001624295.1', 'aliases': [], 'groups': ['core', 'funcgen'], 'taxon_id': '10090', 'strain_collection': None, 'strain': 'AKR/J', 'release': 106, 'display_name': 'Mouse AKR/J', 'common_name': 'mouse', 'division': 'EnsemblVertebrates', 'name': 'mus_musculus_akrj'}\n",
      "{'assembly': 'PKINGS_0.1', 'accession': 'GCA_002872115.1', 'aliases': [], 'groups': ['core', 'rnaseq'], 'strain_collection': None, 'taxon_id': '1676925', 'strain': None, 'release': 106, 'display_name': 'Paramormyrops kingsleyae', 'common_name': 'Paramormyrops kingsleyae', 'name': 'paramormyrops_kingsleyae', 'division': 'EnsemblVertebrates'}\n",
      "{'common_name': 'Spotted gar', 'division': 'EnsemblVertebrates', 'name': 'lepisosteus_oculatus', 'taxon_id': '7918', 'strain_collection': None, 'strain': None, 'release': 106, 'display_name': 'Spotted gar', 'aliases': ['7918', 'lepocu', 'locu', 'loculatus', 'spotted gar', 'lepisosteus oculatus'], 'groups': ['otherfeatures', 'core', 'rnaseq'], 'assembly': 'LepOcu1', 'accession': 'GCA_000242695.1'}\n",
      "{'groups': ['rnaseq', 'core', 'otherfeatures'], 'aliases': [], 'accession': 'GCA_900496995.2', 'assembly': 'bAquChr1.2', 'common_name': 'golden eagle', 'name': 'aquila_chrysaetos_chrysaetos', 'division': 'EnsemblVertebrates', 'strain_collection': None, 'release': 106, 'strain': None, 'taxon_id': '223781', 'display_name': 'Golden eagle'}\n",
      "{'accession': 'GCA_002099425.1', 'assembly': 'phaCin_unsw_v4.1', 'aliases': [], 'groups': ['core'], 'display_name': 'Koala', 'strain': None, 'strain_collection': None, 'release': 106, 'taxon_id': '38626', 'division': 'EnsemblVertebrates', 'name': 'phascolarctos_cinereus', 'common_name': 'koala'}\n",
      "{'common_name': 'rufous-capped babbler', 'name': 'stachyris_ruficeps', 'division': 'EnsemblVertebrates', 'strain_collection': None, 'strain': None, 'taxon_id': '181631', 'release': 106, 'display_name': 'Rufous-capped babbler', 'aliases': [], 'groups': ['rnaseq', 'core'], 'assembly': 'ASM869450v1', 'accession': 'GCA_008694505.1'}\n",
      "{'common_name': 'Spoon-billed sandpiper', 'name': 'calidris_pygmaea', 'division': 'EnsemblVertebrates', 'taxon_id': '425635', 'strain_collection': None, 'strain': None, 'release': 106, 'display_name': 'Spoon-billed sandpiper', 'aliases': [], 'groups': ['core', 'rnaseq'], 'accession': 'GCA_003697955.1', 'assembly': 'ASM369795v1'}\n",
      "{'common_name': 'common wombat', 'name': 'vombatus_ursinus', 'division': 'EnsemblVertebrates', 'strain': None, 'strain_collection': None, 'release': 106, 'taxon_id': '29139', 'display_name': 'Common wombat', 'groups': ['rnaseq', 'core', 'otherfeatures'], 'aliases': [], 'accession': 'GCA_900497805.2', 'assembly': 'bare-nosed_wombat_genome_assembly'}\n",
      "{'groups': ['rnaseq', 'core'], 'aliases': [], 'accession': 'GCA_004320145.1', 'assembly': 'Accipiter_nisus_ver1.0', 'division': 'EnsemblVertebrates', 'name': 'accipiter_nisus', 'common_name': 'Eurasian sparrowhawk', 'display_name': 'Eurasian sparrowhawk', 'strain_collection': None, 'strain': None, 'taxon_id': '211598', 'release': 106}\n",
      "{'accession': 'GCA_004011555.1', 'assembly': 'German_Mirror_carp_1.0', 'groups': ['core', 'rnaseq'], 'aliases': [], 'taxon_id': '7962', 'strain_collection': None, 'strain': None, 'release': 106, 'display_name': 'Common carp german mirror', 'common_name': 'common carp german mirror', 'name': 'cyprinus_carpio_germanmirror', 'division': 'EnsemblVertebrates'}\n",
      "{'groups': ['core', 'rnaseq'], 'aliases': [], 'accession': 'GCA_000803125.2', 'assembly': 'CamDro2', 'common_name': 'Arabian camel', 'division': 'EnsemblVertebrates', 'name': 'camelus_dromedarius', 'strain_collection': None, 'release': 106, 'strain': None, 'taxon_id': '9838', 'display_name': 'Arabian camel'}\n",
      "{'strain': 'DBA/2J', 'strain_collection': None, 'release': 106, 'taxon_id': '10090', 'display_name': 'Mouse DBA/2J', 'common_name': 'mouse', 'name': 'mus_musculus_dba2j', 'division': 'EnsemblVertebrates', 'accession': 'GCA_001624505.1', 'assembly': 'DBA_2J_v1', 'groups': ['core', 'funcgen'], 'aliases': []}\n",
      "{'accession': 'GCA_000002315.5', 'assembly': 'GRCg6a', 'aliases': ['gallus gallus', 'ggallus', 'galgal', 'ggal', 'g_gallus', 'chicken', '9031'], 'groups': ['variation', 'otherfeatures', 'rnaseq', 'core', 'funcgen'], 'display_name': 'Chicken', 'taxon_id': '9031', 'strain_collection': None, 'strain': None, 'release': 106, 'name': 'gallus_gallus', 'division': 'EnsemblVertebrates', 'common_name': 'chicken'}\n",
      "{'common_name': 'Polar bear', 'name': 'ursus_maritimus', 'division': 'EnsemblVertebrates', 'strain': None, 'strain_collection': None, 'taxon_id': '29073', 'release': 106, 'display_name': 'Polar bear', 'aliases': [], 'groups': ['otherfeatures', 'rnaseq', 'core'], 'accession': 'GCA_000687225.1', 'assembly': 'UrsMar_1.0'}\n",
      "{'division': 'EnsemblVertebrates', 'name': 'zonotrichia_albicollis', 'common_name': 'white-throated sparrow', 'display_name': 'White-throated sparrow', 'release': 106, 'strain_collection': None, 'strain': None, 'taxon_id': '44394', 'aliases': [], 'groups': ['core', 'rnaseq', 'otherfeatures'], 'accession': 'GCA_000385455.1', 'assembly': 'Zonotrichia_albicollis-1.0.1'}\n",
      "{'division': 'EnsemblVertebrates', 'name': 'calidris_pugnax', 'common_name': 'ruff', 'display_name': 'Ruff', 'taxon_id': '198806', 'strain_collection': None, 'strain': None, 'release': 106, 'aliases': [], 'groups': ['rnaseq', 'core', 'otherfeatures'], 'assembly': 'ASM143184v1', 'accession': 'GCA_001431845.1'}\n",
      "{'division': 'EnsemblVertebrates', 'name': 'leptobrachium_leishanense', 'common_name': 'Leishan spiny toad', 'display_name': 'Leishan spiny toad', 'strain_collection': None, 'strain': None, 'release': 106, 'taxon_id': '445787', 'aliases': [], 'groups': ['rnaseq', 'core'], 'accession': 'GCA_009667805.1', 'assembly': 'ASM966780v1'}\n",
      "{'groups': ['rnaseq', 'funcgen', 'core'], 'aliases': [], 'assembly': 'Tgel_1.0', 'accession': 'GCA_003255815.1', 'common_name': 'gelada', 'division': 'EnsemblVertebrates', 'name': 'theropithecus_gelada', 'strain_collection': None, 'strain': None, 'release': 106, 'taxon_id': '9565', 'display_name': 'Gelada'}\n",
      "{'division': 'EnsemblVertebrates', 'name': 'naja_naja', 'common_name': 'Indian cobra', 'display_name': 'Indian cobra', 'strain': None, 'strain_collection': None, 'taxon_id': '35670', 'release': 106, 'groups': ['core', 'rnaseq'], 'aliases': [], 'assembly': 'Nana_v5', 'accession': 'GCA_009733165.1'}\n",
      "{'accession': 'GCA_007399415.1', 'assembly': 'rGopEvg1_v1.p', 'groups': ['core', 'rnaseq', 'otherfeatures'], 'aliases': [], 'display_name': 'Goodes thornscrub tortoise', 'strain_collection': None, 'strain': None, 'release': 106, 'taxon_id': '1825980', 'division': 'EnsemblVertebrates', 'name': 'gopherus_evgoodei', 'common_name': 'Goodes thornscrub tortoise'}\n",
      "{'display_name': 'Siamese fighting fish', 'strain_collection': None, 'release': 106, 'strain': None, 'taxon_id': '158456', 'name': 'betta_splendens', 'division': 'EnsemblVertebrates', 'common_name': 'Siamese fighting fish', 'assembly': 'fBetSpl5.2', 'accession': 'GCA_900634795.2', 'groups': ['otherfeatures', 'core', 'rnaseq'], 'aliases': []}\n",
      "{'display_name': 'Midas cichlid', 'strain_collection': None, 'strain': None, 'taxon_id': '61819', 'release': 106, 'division': 'EnsemblVertebrates', 'name': 'amphilophus_citrinellus', 'common_name': 'Midas cichlid', 'assembly': 'Midas_v5', 'accession': 'GCA_000751415.1', 'groups': ['core'], 'aliases': []}\n",
      "{'common_name': 'emu', 'division': 'EnsemblVertebrates', 'name': 'dromaius_novaehollandiae', 'strain_collection': None, 'taxon_id': '8790', 'strain': None, 'release': 106, 'display_name': 'Emu', 'groups': ['otherfeatures', 'core', 'rnaseq'], 'aliases': [], 'accession': 'GCA_003342905.1', 'assembly': 'droNov1'}\n",
      "{'groups': ['otherfeatures', 'rnaseq', 'core'], 'aliases': [], 'assembly': 'ASM200744v2', 'accession': 'GCA_002007445.2', 'division': 'EnsemblVertebrates', 'name': 'ailuropoda_melanoleuca', 'common_name': 'giant panda', 'display_name': 'Giant panda', 'strain_collection': None, 'strain': 'reference', 'release': 106, 'taxon_id': '9646'}\n",
      "{'strain': None, 'strain_collection': None, 'release': 106, 'taxon_id': '9544', 'display_name': 'Macaque', 'common_name': 'Macaque', 'division': 'EnsemblVertebrates', 'name': 'macaca_mulatta', 'assembly': 'Mmul_10', 'accession': 'GCA_003339765.3', 'groups': ['variation', 'otherfeatures', 'core', 'funcgen', 'rnaseq'], 'aliases': []}\n",
      "{'display_name': 'Pig - Jinhua', 'taxon_id': '9823', 'strain_collection': None, 'strain': 'jinhua', 'release': 106, 'name': 'sus_scrofa_jinhua', 'division': 'EnsemblVertebrates', 'common_name': 'pig', 'accession': 'GCA_001700295.1', 'assembly': 'Jinhua_pig_v1', 'groups': ['otherfeatures', 'core', 'rnaseq'], 'aliases': []}\n",
      "{'assembly': 'CriGri-PICR', 'accession': 'GCA_003668045.1', 'groups': ['rnaseq', 'funcgen', 'core'], 'aliases': [], 'strain_collection': None, 'strain': None, 'taxon_id': '10029', 'release': 106, 'display_name': 'Chinese hamster PICR', 'common_name': 'Chinese hamster', 'name': 'cricetulus_griseus_picr', 'division': 'EnsemblVertebrates'}\n",
      "{'assembly': 'ASM169857v1', 'accession': 'GCA_001698575.1', 'groups': ['core'], 'aliases': [], 'strain': None, 'strain_collection': None, 'taxon_id': '94237', 'release': 106, 'display_name': 'Ocean sunfish', 'common_name': 'ocean sunfish', 'division': 'EnsemblVertebrates', 'name': 'mola_mola'}\n",
      "{'assembly': 'cyaCae2', 'accession': 'GCA_002901205.1', 'groups': ['core', 'rnaseq', 'otherfeatures'], 'aliases': [], 'strain_collection': None, 'release': 106, 'strain': None, 'taxon_id': '156563', 'display_name': 'Blue tit', 'common_name': 'blue tit', 'name': 'cyanistes_caeruleus', 'division': 'EnsemblVertebrates'}\n",
      "{'assembly': 'Chrysolophus_pictus_GenomeV1.0', 'accession': 'GCA_003413605.1', 'aliases': [], 'groups': ['rnaseq', 'core'], 'taxon_id': '9089', 'strain_collection': None, 'strain': None, 'release': 106, 'display_name': 'Golden pheasant', 'common_name': 'golden pheasant', 'division': 'EnsemblVertebrates', 'name': 'chrysolophus_pictus'}\n",
      "{'accession': 'GCA_002372975.1', 'assembly': 'Soccid_v01', 'aliases': [], 'groups': ['core', 'rnaseq'], 'strain_collection': None, 'strain': None, 'release': 106, 'taxon_id': '311401', 'display_name': 'Northern spotted owl', 'common_name': 'northern spotted owl', 'name': 'strix_occidentalis_caurina', 'division': 'EnsemblVertebrates'}\n",
      "{'accession': 'GCA_000146795.3', 'assembly': 'Nleu_3.0', 'aliases': ['gibbon', 'northern white-cheeked gibbon', 'nomleu', '61853', 'nleucogenys', 'nomascus leucogenys', 'nleu'], 'groups': ['funcgen', 'core', 'otherfeatures', 'variation'], 'display_name': 'Gibbon', 'strain_collection': None, 'release': 106, 'strain': None, 'taxon_id': '61853', 'name': 'nomascus_leucogenys', 'division': 'EnsemblVertebrates', 'common_name': 'Northern white-cheeked gibbon'}\n",
      "{'display_name': 'American bison', 'strain_collection': None, 'taxon_id': '43346', 'strain': None, 'release': 106, 'name': 'bison_bison_bison', 'division': 'EnsemblVertebrates', 'common_name': 'American bison', 'accession': 'GCA_000754665.1', 'assembly': 'Bison_UMD1.0', 'groups': ['otherfeatures', 'core'], 'aliases': []}\n",
      "{'groups': ['funcgen', 'core'], 'aliases': ['mouse pwkphj', '39442', 'eastern european house mouse', 'mus musculus musculus pwkphj', 'mmusculus_musculus_pwkphj', 'mus_musculus_musculus_pwkphj'], 'accession': 'GCA_001624775.1', 'assembly': 'PWK_PhJ_v1', 'division': 'EnsemblVertebrates', 'name': 'mus_musculus_pwkphj', 'common_name': 'mouse', 'display_name': 'Mouse PWK/PhJ', 'strain': 'PWK/PhJ', 'strain_collection': None, 'taxon_id': '39442', 'release': 106}\n",
      "{'groups': ['core', 'rnaseq', 'otherfeatures'], 'aliases': [], 'accession': 'GCA_001700165.1', 'assembly': 'Hampshire_pig_v1', 'common_name': 'pig', 'name': 'sus_scrofa_hampshire', 'division': 'EnsemblVertebrates', 'strain_collection': None, 'taxon_id': '9823', 'strain': 'hampshire', 'release': 106, 'display_name': 'Pig - Hampshire'}\n",
      "{'groups': ['rnaseq', 'core'], 'aliases': [], 'assembly': 'Hebao_red_carp_1.0', 'accession': 'GCA_004011595.1', 'common_name': 'common carp hebao red', 'name': 'cyprinus_carpio_hebaored', 'division': 'EnsemblVertebrates', 'strain_collection': None, 'strain': None, 'release': 106, 'taxon_id': '7962', 'display_name': 'Common carp hebao red'}\n",
      "{'strain': None, 'strain_collection': None, 'taxon_id': '586833', 'release': 106, 'display_name': 'Pinecone soldierfish', 'common_name': 'pinecone soldierfish', 'division': 'EnsemblVertebrates', 'name': 'myripristis_murdjan', 'assembly': 'fMyrMur1.1', 'accession': 'GCA_902150065.1', 'aliases': [], 'groups': ['otherfeatures', 'rnaseq', 'core']}\n",
      "{'name': 'rhinolophus_ferrumequinum', 'division': 'EnsemblVertebrates', 'common_name': 'greater horseshoe bat', 'display_name': 'Greater horseshoe bat', 'strain_collection': None, 'strain': None, 'release': 106, 'taxon_id': '59479', 'aliases': [], 'groups': ['rnaseq', 'core'], 'accession': 'GCA_004115265.2', 'assembly': 'mRhiFer1_v1.p'}\n",
      "{'accession': 'GCA_002234675.1', 'assembly': 'ASM223467v1', 'groups': ['otherfeatures', 'rnaseq', 'core'], 'aliases': ['orylat', 'olat', 'japanese medaka', 'oryzias latipes', 'medaka', '8090', 'olatipes'], 'release': 106, 'strain_collection': None, 'strain': None, 'taxon_id': '8090', 'display_name': 'Japanese medaka HdrR', 'common_name': 'Japanese medaka HdrR', 'name': 'oryzias_latipes', 'division': 'EnsemblVertebrates'}\n",
      "{'display_name': 'Goldfish', 'strain': None, 'strain_collection': None, 'taxon_id': '7957', 'release': 106, 'name': 'carassius_auratus', 'division': 'EnsemblVertebrates', 'common_name': 'goldfish', 'accession': 'GCA_003368295.1', 'assembly': 'ASM336829v1', 'aliases': [], 'groups': ['core', 'rnaseq', 'otherfeatures']}\n",
      "{'division': 'EnsemblVertebrates', 'name': 'latimeria_chalumnae', 'common_name': 'coelacanth', 'display_name': 'Coelacanth', 'strain_collection': None, 'strain': None, 'release': 106, 'taxon_id': '7897', 'aliases': ['latcha', 'lcha', '7897', 'latimeria chalumnae', 'lchalumnae', 'coelacanth', 'living fossil', 'lamineria'], 'groups': ['core', 'otherfeatures'], 'assembly': 'LatCha1', 'accession': 'GCA_000225785.1'}\n",
      "{'display_name': 'Coho salmon', 'release': 106, 'strain_collection': None, 'strain': None, 'taxon_id': '8019', 'division': 'EnsemblVertebrates', 'name': 'oncorhynchus_kisutch', 'common_name': 'coho salmon', 'assembly': 'Okis_V2', 'accession': 'GCA_002021735.2', 'groups': ['otherfeatures', 'rnaseq', 'core'], 'aliases': []}\n",
      "{'strain': None, 'strain_collection': None, 'taxon_id': '13146', 'release': 106, 'display_name': 'Budgerigar', 'common_name': 'Budgie', 'division': 'EnsemblVertebrates', 'name': 'melopsittacus_undulatus', 'accession': 'GCA_000238935.1', 'assembly': 'Melopsittacus_undulatus_6.3', 'aliases': [], 'groups': ['core', 'rnaseq', 'otherfeatures']}\n",
      "{'common_name': 'swamp eel', 'division': 'EnsemblVertebrates', 'name': 'monopterus_albus', 'strain_collection': None, 'taxon_id': '43700', 'strain': None, 'release': 106, 'display_name': 'Swamp eel', 'groups': ['core', 'rnaseq', 'otherfeatures'], 'aliases': [], 'accession': 'GCA_001952655.1', 'assembly': 'M_albus_1.0'}\n",
      "{'accession': 'GCA_900324465.2', 'assembly': 'fAnaTes1.2', 'groups': ['rnaseq', 'core'], 'aliases': [], 'display_name': 'Climbing perch', 'strain': None, 'strain_collection': None, 'taxon_id': '64144', 'release': 106, 'name': 'anabas_testudineus', 'division': 'EnsemblVertebrates', 'common_name': 'climbing perch'}\n",
      "{'groups': ['core', 'rnaseq'], 'aliases': [], 'assembly': 'ASM309773v1', 'accession': 'GCA_003097735.1', 'division': 'EnsemblVertebrates', 'name': 'gambusia_affinis', 'common_name': 'western mosquitofish', 'display_name': 'Western mosquitofish', 'strain_collection': None, 'release': 106, 'strain': None, 'taxon_id': '33528'}\n",
      "{'assembly': 'PanPar1.0', 'accession': 'GCA_001857705.1', 'groups': ['otherfeatures', 'core'], 'aliases': ['leopard'], 'strain_collection': None, 'strain': None, 'taxon_id': '9691', 'release': 106, 'display_name': 'Leopard', 'common_name': 'leopard', 'name': 'panthera_pardus', 'division': 'EnsemblVertebrates'}\n",
      "{'aliases': ['mdomestica', 'gray short-tailed opossum', 'mdom', 'mondom', 'monodelphis domestica', 'opossum', '13616', 'broado5'], 'groups': ['rnaseq', 'core', 'variation'], 'assembly': 'ASM229v1', 'accession': 'GCA_000002295.1', 'name': 'monodelphis_domestica', 'division': 'EnsemblVertebrates', 'common_name': 'gray short-tailed opossum', 'display_name': 'Opossum', 'strain': None, 'strain_collection': None, 'release': 106, 'taxon_id': '13616'}\n",
      "{'common_name': 'common canary', 'division': 'EnsemblVertebrates', 'name': 'serinus_canaria', 'release': 106, 'strain_collection': None, 'strain': None, 'taxon_id': '9135', 'display_name': 'Common canary', 'aliases': [], 'groups': ['rnaseq', 'core', 'otherfeatures'], 'accession': 'GCA_000534875.1', 'assembly': 'SCA1'}\n",
      "{'common_name': 'three-spined stickleback', 'division': 'EnsemblVertebrates', 'name': 'gasterosteus_aculeatus', 'taxon_id': '69293', 'strain_collection': None, 'strain': None, 'release': 106, 'display_name': 'Stickleback', 'aliases': ['three-spined stickleback', 'gacu', 'gaculeatus', 'gasacu', 'stickleback', '69293', 'three spined stickleback', 'gasterosteus aculeatus'], 'groups': ['core', 'otherfeatures'], 'assembly': 'BROADS1', 'accession': None}\n",
      "{'common_name': 'Sumatran orangutan', 'division': 'EnsemblVertebrates', 'name': 'pongo_abelii', 'strain_collection': None, 'release': 106, 'strain': None, 'taxon_id': '9601', 'display_name': 'Sumatran orangutan', 'aliases': ['sumatran orangutan', 'orangutan', 'bornean orangutan', 'pongo abelii'], 'groups': ['core', 'rnaseq', 'variation', 'otherfeatures'], 'accession': 'GCA_002880775.3', 'assembly': 'Susie_PABv2'}\n",
      "{'aliases': [], 'groups': ['core', 'funcgen', 'rnaseq', 'otherfeatures', 'variation'], 'accession': 'GCA_001704415.1', 'assembly': 'ARS1', 'common_name': 'Goat', 'name': 'capra_hircus', 'division': 'EnsemblVertebrates', 'strain_collection': None, 'release': 106, 'strain': 'reference', 'taxon_id': '9925', 'display_name': 'Goat'}\n",
      "{'accession': 'GCA_000002285.4', 'assembly': 'Dog10K_Boxer_Tasha', 'groups': ['otherfeatures', 'variation', 'core', 'funcgen', 'rnaseq'], 'aliases': [], 'display_name': 'Dog - Boxer', 'taxon_id': '9615', 'strain_collection': None, 'strain': 'boxer', 'release': 106, 'division': 'EnsemblVertebrates', 'name': 'canis_lupus_familiarisboxer', 'common_name': 'dog'}\n",
      "{'display_name': 'Pig - Berkshire', 'strain_collection': None, 'strain': 'berkshire', 'release': 106, 'taxon_id': '9823', 'division': 'EnsemblVertebrates', 'name': 'sus_scrofa_berkshire', 'common_name': 'pig', 'assembly': 'Berkshire_pig_v1', 'accession': 'GCA_001700575.1', 'groups': ['rnaseq', 'core', 'otherfeatures'], 'aliases': []}\n",
      "{'accession': 'GCA_001624535.1', 'assembly': 'FVB_NJ_v1', 'groups': ['core', 'funcgen'], 'aliases': [], 'release': 106, 'strain_collection': None, 'strain': 'FVB/NJ', 'taxon_id': '10090', 'display_name': 'Mouse FVB/NJ', 'common_name': 'mouse', 'division': 'EnsemblVertebrates', 'name': 'mus_musculus_fvbnj'}\n",
      "{'aliases': [], 'groups': ['rnaseq', 'core'], 'accession': 'GCA_002896415.1', 'assembly': 'ASM289641v1', 'common_name': \"Agassiz's desert tortoise\", 'name': 'gopherus_agassizii', 'division': 'EnsemblVertebrates', 'release': 106, 'strain_collection': None, 'strain': None, 'taxon_id': '38772', 'display_name': \"Agassiz's desert tortoise\"}\n",
      "{'groups': ['rnaseq', 'core'], 'aliases': [], 'accession': 'GCA_003317085.1', 'assembly': 'ASM331708v1', 'common_name': 'huchen', 'division': 'EnsemblVertebrates', 'name': 'hucho_hucho', 'strain': None, 'strain_collection': None, 'taxon_id': '62062', 'release': 106, 'display_name': 'Huchen'}\n",
      "{'aliases': [], 'groups': ['rnaseq', 'core'], 'accession': 'GCA_003342985.1', 'assembly': 'aptHaa1', 'division': 'EnsemblVertebrates', 'name': 'apteryx_haastii', 'common_name': 'Great spotted kiwi', 'display_name': 'Great spotted kiwi', 'strain_collection': None, 'strain': None, 'release': 106, 'taxon_id': '8823'}\n",
      "{'accession': 'GCA_008746955.1', 'assembly': 'ASM874695v1', 'aliases': [], 'groups': ['core', 'rnaseq'], 'strain_collection': None, 'strain': None, 'taxon_id': '8839', 'release': 106, 'display_name': 'Mallard', 'common_name': 'mallard', 'name': 'anas_platyrhynchos', 'division': 'EnsemblVertebrates'}\n",
      "{'aliases': ['procap', 'pcap', 'procaviacapensis', 'rock_hyrax', '9813', 'hyrax', 'pcapensis', 'procavia capensis', 'cape rock hyrax'], 'groups': ['core'], 'accession': None, 'assembly': 'proCap1', 'common_name': 'cape rock hyrax', 'name': 'procavia_capensis', 'division': 'EnsemblVertebrates', 'strain_collection': None, 'taxon_id': '9813', 'strain': None, 'release': 106, 'display_name': 'Hyrax'}\n",
      "{'release': 106, 'strain_collection': None, 'strain': None, 'taxon_id': '61221', 'display_name': 'Komodo dragon', 'common_name': 'Komodo dragon', 'division': 'EnsemblVertebrates', 'name': 'varanus_komodoensis', 'assembly': 'ASM479886v1', 'accession': 'GCA_004798865.1', 'aliases': [], 'groups': ['rnaseq', 'core']}\n",
      "{'aliases': [], 'groups': ['otherfeatures', 'core', 'rnaseq'], 'accession': 'GCA_000472085.2', 'assembly': 'Tibetan_Pig_v2', 'common_name': 'pig', 'division': 'EnsemblVertebrates', 'name': 'sus_scrofa_tibetan', 'strain': 'tibetan', 'strain_collection': None, 'taxon_id': '9823', 'release': 106, 'display_name': 'Pig - Tibetan'}\n",
      "{'display_name': 'Mouse', 'release': 106, 'strain_collection': 'mouse', 'strain': 'reference (CL57BL6)', 'taxon_id': '10090', 'division': 'EnsemblVertebrates', 'name': 'mus_musculus', 'common_name': 'mouse', 'accession': 'GCA_000001635.9', 'assembly': 'GRCm39', 'aliases': ['mmus', 'mouse', 'm_musculus', 'house mouse', '10090', 'mus musculus', 'mus', 'ensmm', 'mmusculus', 'musmus'], 'groups': ['variation', 'otherfeatures', 'core', 'funcgen', 'rnaseq']}\n",
      "{'groups': ['otherfeatures', 'core', 'rnaseq'], 'aliases': ['southern platyfish', 'xiphophorus maculatus', 'xmac', '8083', 'platyfish', 'xipmac', 'xmaculatus'], 'accession': 'GCA_002775205.2', 'assembly': 'X_maculatus-5.0-male', 'division': 'EnsemblVertebrates', 'name': 'xiphophorus_maculatus', 'common_name': 'southern platyfish', 'display_name': 'Platyfish', 'strain_collection': None, 'release': 106, 'strain': None, 'taxon_id': '8083'}\n",
      "{'common_name': 'Chinese medaka', 'division': 'EnsemblVertebrates', 'name': 'oryzias_sinensis', 'taxon_id': '183150', 'strain_collection': None, 'strain': None, 'release': 106, 'display_name': 'Chinese medaka', 'aliases': [], 'groups': ['core', 'rnaseq'], 'assembly': 'ASM858656v1', 'accession': 'GCA_008586565.1'}\n",
      "{'assembly': 'ASM259213v1', 'accession': 'GCA_002592135.1', 'aliases': [], 'groups': ['core'], 'display_name': 'Pink-footed goose', 'release': 106, 'strain_collection': None, 'strain': None, 'taxon_id': '132585', 'division': 'EnsemblVertebrates', 'name': 'anser_brachyrhynchus', 'common_name': 'pink-footed goose'}\n",
      "{'taxon_id': '286419', 'strain_collection': None, 'strain': None, 'release': 106, 'display_name': 'Dingo', 'common_name': 'dingo', 'division': 'EnsemblVertebrates', 'name': 'canis_lupus_dingo', 'assembly': 'ASM325472v1', 'accession': 'GCA_003254725.1', 'groups': ['core', 'rnaseq', 'otherfeatures'], 'aliases': []}\n",
      "{'common_name': 'chimpanzee', 'name': 'pan_troglodytes', 'division': 'EnsemblVertebrates', 'strain': None, 'strain_collection': None, 'taxon_id': '9598', 'release': 106, 'display_name': 'Chimpanzee', 'groups': ['otherfeatures', 'variation', 'core', 'funcgen', 'rnaseq'], 'aliases': ['common chimpanzee', 'chimpanzee', 'chimp', 'ptro', 'ptroglodytes', 'pantro', 'pan troglodytes', '9598'], 'accession': 'GCA_000001515.5', 'assembly': 'Pan_tro_3.0'}\n",
      "{'display_name': 'Zebrafish', 'strain_collection': None, 'strain': None, 'release': 106, 'taxon_id': '7955', 'name': 'danio_rerio', 'division': 'EnsemblVertebrates', 'common_name': 'zebrafish', 'accession': 'GCA_000002035.4', 'assembly': 'GRCz11', 'aliases': ['danio', 'd_rerio', 'zfish', 'danio rerio', '7955', 'danrer', 'drer', 'drerio', 'zebrafish'], 'groups': ['rnaseq', 'core', 'funcgen', 'otherfeatures', 'variation']}\n",
      "{'groups': ['otherfeatures', 'core', 'funcgen', 'rnaseq'], 'aliases': ['microcebus murinus', 'micmur', 'grey mouse lemur', 'mouse_lemur', 'mmur', 'gray mouse lemur', 'mmurinus', '30608', 'mouse lemur'], 'accession': 'GCA_000165445.3', 'assembly': 'Mmur_3.0', 'common_name': 'gray mouse lemur', 'division': 'EnsemblVertebrates', 'name': 'microcebus_murinus', 'strain_collection': None, 'release': 106, 'strain': None, 'taxon_id': '30608', 'display_name': 'Mouse Lemur'}\n",
      "{'strain_collection': None, 'strain': None, 'release': 106, 'taxon_id': '61621', 'display_name': 'Black snub-nosed monkey', 'common_name': 'Black snub-nosed monkey', 'division': 'EnsemblVertebrates', 'name': 'rhinopithecus_bieti', 'accession': 'GCA_001698545.1', 'assembly': 'ASM169854v1', 'aliases': [], 'groups': ['otherfeatures', 'funcgen', 'core', 'rnaseq']}\n",
      "{'division': 'EnsemblVertebrates', 'name': 'laticauda_laticaudata', 'common_name': 'blue-ringed sea krait', 'display_name': 'Blue-ringed sea krait', 'taxon_id': '8630', 'strain_collection': None, 'strain': None, 'release': 106, 'aliases': [], 'groups': ['rnaseq', 'core'], 'accession': 'GCA_004320025.1', 'assembly': 'latLat_1.0'}\n",
      "{'division': 'EnsemblVertebrates', 'name': 'vulpes_vulpes', 'common_name': 'red fox', 'display_name': 'Red fox', 'strain_collection': None, 'taxon_id': '9627', 'strain': None, 'release': 106, 'groups': ['otherfeatures', 'rnaseq', 'core'], 'aliases': ['fox', 'silver fox'], 'assembly': 'VulVul2.2', 'accession': 'GCA_003160815.1'}\n",
      "{'display_name': 'Turquoise killifish', 'strain_collection': None, 'strain': None, 'release': 106, 'taxon_id': '105023', 'division': 'EnsemblVertebrates', 'name': 'nothobranchius_furzeri', 'common_name': 'turquoise killifish', 'assembly': 'Nfu_20140520', 'accession': 'GCA_001465895.2', 'aliases': [], 'groups': ['core', 'rnaseq', 'otherfeatures']}\n",
      "{'common_name': 'donkey', 'name': 'equus_asinus_asinus', 'division': 'EnsemblVertebrates', 'release': 106, 'strain_collection': None, 'strain': None, 'taxon_id': '83772', 'display_name': 'Donkey', 'aliases': [], 'groups': ['rnaseq', 'core'], 'assembly': 'ASM303372v1', 'accession': 'GCA_003033725.1'}\n",
      "{'name': 'oryzias_javanicus', 'division': 'EnsemblVertebrates', 'common_name': 'javanese ricefish', 'display_name': 'Javanese ricefish', 'strain_collection': None, 'release': 106, 'strain': None, 'taxon_id': '123683', 'groups': ['rnaseq', 'core'], 'aliases': [], 'assembly': 'OJAV_1.1', 'accession': 'GCA_003999625.1'}\n",
      "{'aliases': [], 'groups': ['core', 'rnaseq'], 'assembly': 'CEY_v1', 'accession': 'GCA_010411085.1', 'common_name': 'Yarkand deer', 'division': 'EnsemblVertebrates', 'name': 'cervus_hanglu_yarkandensis', 'strain_collection': None, 'taxon_id': '84702', 'strain': None, 'release': 106, 'display_name': 'Yarkand deer'}\n",
      "{'common_name': 'Arctic ground squirrel', 'name': 'urocitellus_parryii', 'division': 'EnsemblVertebrates', 'strain_collection': None, 'strain': None, 'release': 106, 'taxon_id': '9999', 'display_name': 'Arctic ground squirrel', 'groups': ['core', 'rnaseq'], 'aliases': [], 'accession': 'GCA_003426925.1', 'assembly': 'ASM342692v1'}\n",
      "{'accession': None, 'assembly': 'TENREC', 'aliases': ['etelfairi', 'lesser_hedgehog', 'echtel', 'echinops telfairi', 'small madagascar hedgehog', 'madagascar_hedgehog', 'tenrec', 'etel', '9371', 'lesser hedgehog tenrec'], 'groups': ['core'], 'release': 106, 'strain_collection': None, 'strain': None, 'taxon_id': '9371', 'display_name': 'Lesser hedgehog tenrec', 'common_name': 'small Madagascar hedgehog', 'division': 'EnsemblVertebrates', 'name': 'echinops_telfairi'}\n",
      "{'aliases': [], 'groups': ['rnaseq', 'core', 'otherfeatures'], 'accession': 'GCA_001700255.1', 'assembly': 'Pietrain_pig_v1', 'name': 'sus_scrofa_pietrain', 'division': 'EnsemblVertebrates', 'common_name': 'pig', 'display_name': 'Pig - Pietrain', 'strain_collection': None, 'release': 106, 'strain': 'pietrain', 'taxon_id': '9823'}\n",
      "{'aliases': [], 'groups': ['rnaseq', 'core'], 'accession': 'GCA_002166845.1', 'assembly': 'GooseV1.0', 'common_name': 'swan goose', 'name': 'anser_cygnoides', 'division': 'EnsemblVertebrates', 'strain_collection': None, 'release': 106, 'strain': None, 'taxon_id': '8845', 'display_name': 'Swan goose'}\n",
      "{'common_name': 'African savanna elephant', 'name': 'loxodonta_africana', 'division': 'EnsemblVertebrates', 'strain': None, 'strain_collection': None, 'taxon_id': '9785', 'release': 106, 'display_name': 'Elephant', 'aliases': ['loxodonta africana', 'african_elephant', 'loxafr', '9785', 'lafricana', 'elephant', 'lafr', 'african savanna elephant'], 'groups': ['core'], 'assembly': 'loxAfr3', 'accession': 'GCA_000001905.1'}\n",
      "{'strain_collection': None, 'taxon_id': '80966', 'strain': None, 'release': 106, 'display_name': 'Spiny chromis', 'common_name': 'spiny chromis', 'division': 'EnsemblVertebrates', 'name': 'acanthochromis_polyacanthus', 'assembly': 'ASM210954v1', 'accession': 'GCA_002109545.1', 'groups': ['rnaseq', 'core', 'otherfeatures'], 'aliases': []}\n",
      "{'name': 'eptatretus_burgeri', 'division': 'EnsemblVertebrates', 'common_name': 'Inshore hagfish', 'display_name': 'Hagfish', 'strain_collection': None, 'taxon_id': '7764', 'strain': None, 'release': 106, 'aliases': ['hagfish'], 'groups': ['core', 'rnaseq'], 'accession': 'GCA_900186335.2', 'assembly': 'Eburgeri_3.2'}\n",
      "{'assembly': 'LonStrDom1', 'accession': 'GCA_002197715.1', 'aliases': [], 'groups': ['otherfeatures', 'core', 'rnaseq'], 'strain': None, 'strain_collection': None, 'taxon_id': '299123', 'release': 106, 'display_name': 'Bengalese finch', 'common_name': 'Bengalese finch', 'name': 'lonchura_striata_domestica', 'division': 'EnsemblVertebrates'}\n",
      "{'division': 'EnsemblVertebrates', 'name': 'bos_mutus', 'common_name': 'wild yak', 'display_name': 'Wild yak', 'strain_collection': None, 'strain': None, 'release': 106, 'taxon_id': '72004', 'groups': ['otherfeatures', 'core', 'rnaseq'], 'aliases': [], 'assembly': 'BosGru_v2.0', 'accession': 'GCA_000298355.1'}\n",
      "{'accession': 'GCA_002234715.1', 'assembly': 'ASM223471v1', 'aliases': [], 'groups': ['rnaseq', 'core'], 'strain': None, 'strain_collection': None, 'release': 106, 'taxon_id': '8090', 'display_name': 'Japanese medaka HNI', 'common_name': 'Japanese medaka HNI', 'name': 'oryzias_latipes_hni', 'division': 'EnsemblVertebrates'}\n",
      "{'groups': ['core'], 'aliases': ['perman', 'pman', 'northern american deer mouse', 'peromyscus maniculatus bairdii', '230844', 'pmaniculatus_bairdii'], 'accession': 'GCA_003704035.1', 'assembly': 'HU_Pman_2.1', 'division': 'EnsemblVertebrates', 'name': 'peromyscus_maniculatus_bairdii', 'common_name': 'Northern American deer mouse', 'display_name': 'Northern American deer mouse', 'strain': None, 'strain_collection': None, 'taxon_id': '230844', 'release': 106}\n",
      "{'common_name': 'pike-perch', 'division': 'EnsemblVertebrates', 'name': 'sander_lucioperca', 'strain_collection': None, 'strain': None, 'taxon_id': '283035', 'release': 106, 'display_name': 'Pike-perch', 'groups': ['rnaseq', 'core', 'otherfeatures'], 'aliases': [], 'assembly': 'SLUC_FBN_1', 'accession': 'GCA_008315115.1'}\n",
      "{'common_name': 'Tiger', 'division': 'EnsemblVertebrates', 'name': 'panthera_tigris_altaica', 'strain_collection': None, 'strain': None, 'taxon_id': '74533', 'release': 106, 'display_name': 'Tiger', 'groups': ['core', 'rnaseq', 'otherfeatures'], 'aliases': ['tiger'], 'accession': 'GCA_000464555.1', 'assembly': 'PanTig1.0'}\n",
      "{'display_name': 'Channel catfish', 'strain_collection': None, 'strain': None, 'release': 106, 'taxon_id': '7998', 'name': 'ictalurus_punctatus', 'division': 'EnsemblVertebrates', 'common_name': 'channel catfish', 'accession': 'GCA_001660625.1', 'assembly': 'IpCoco_1.2', 'groups': ['core', 'funcgen', 'rnaseq', 'otherfeatures'], 'aliases': []}\n",
      "{'name': 'takifugu_rubripes', 'division': 'EnsemblVertebrates', 'common_name': 'fugu', 'display_name': 'Fugu', 'taxon_id': '31033', 'strain_collection': None, 'strain': None, 'release': 106, 'aliases': [], 'groups': ['core', 'rnaseq', 'otherfeatures'], 'accession': 'GCA_901000725.2', 'assembly': 'fTakRub1.2'}\n",
      "{'accession': 'GCA_001515645.1', 'assembly': 'SAMN03320097.WGS_v1.1', 'groups': ['rnaseq', 'core', 'otherfeatures'], 'aliases': [], 'taxon_id': '75366', 'strain_collection': None, 'strain': None, 'release': 106, 'display_name': 'Golden-line barbel', 'common_name': 'golden-line barbel', 'division': 'EnsemblVertebrates', 'name': 'sinocyclocheilus_grahami'}\n",
      "{'common_name': 'Western Lowland Gorilla', 'name': 'gorilla_gorilla', 'division': 'EnsemblVertebrates', 'strain_collection': None, 'strain': None, 'taxon_id': '9595', 'release': 106, 'display_name': 'Gorilla', 'aliases': ['ggorilla', 'gorilla gorilla gorilla', 'gorgor', 'western gorilla', '9595', '9593', 'gorilla_gorilla_gorilla', 'gorilla gorilla', 'ggor', 'gorilla'], 'groups': ['otherfeatures', 'core', 'funcgen', 'rnaseq'], 'accession': 'GCA_000151905.3', 'assembly': 'gorGor4'}\n",
      "{'aliases': [], 'groups': ['otherfeatures', 'funcgen', 'core'], 'assembly': 'Cang.pa_1.0', 'accession': 'GCA_000951035.1', 'common_name': 'Angola colobus', 'division': 'EnsemblVertebrates', 'name': 'colobus_angolensis_palliatus', 'strain': None, 'strain_collection': None, 'taxon_id': '336983', 'release': 106, 'display_name': 'Angola colobus'}\n",
      "{'assembly': 'ASM587006v1', 'accession': 'GCA_005870065.1', 'groups': ['core', 'rnaseq'], 'aliases': [], 'taxon_id': '47969', 'strain_collection': None, 'strain': None, 'release': 106, 'display_name': 'Blue tilapia', 'common_name': 'blue tilapia', 'name': 'oreochromis_aureus', 'division': 'EnsemblVertebrates'}\n",
      "{'groups': ['core'], 'aliases': ['sara', 'sorex araneus', '42254', 'saraneus', 'shrew', 'european shrew', 'european_shrew', 'ground_shrew', 'sorara'], 'assembly': 'COMMON_SHREW1', 'accession': None, 'division': 'EnsemblVertebrates', 'name': 'sorex_araneus', 'common_name': 'European shrew', 'display_name': 'Shrew', 'strain_collection': None, 'strain': None, 'release': 106, 'taxon_id': '42254'}\n",
      "{'groups': ['rnaseq', 'core'], 'aliases': [], 'assembly': 'CVASU_BBG_1.0', 'accession': 'GCA_004361675.1', 'division': 'EnsemblVertebrates', 'name': 'capra_hircus_blackbengal', 'common_name': 'Goat', 'display_name': 'Goat (black bengal)', 'strain_collection': None, 'strain': 'black_bengal', 'release': 106, 'taxon_id': '9925'}\n",
      "{'assembly': 'ASM311381v1', 'accession': 'GCA_003113815.1', 'aliases': [], 'groups': ['core', 'rnaseq', 'otherfeatures'], 'strain_collection': None, 'strain': None, 'taxon_id': '8508', 'release': 106, 'display_name': 'Tuatara', 'common_name': 'tuatara', 'name': 'sphenodon_punctatus', 'division': 'EnsemblVertebrates'}\n",
      "{'accession': 'GCA_002776525.2', 'assembly': 'ASM277652v2', 'groups': ['rnaseq', 'core', 'funcgen'], 'aliases': [], 'display_name': 'Ugandan red Colobus', 'taxon_id': '591936', 'strain_collection': None, 'strain': None, 'release': 106, 'division': 'EnsemblVertebrates', 'name': 'piliocolobus_tephrosceles', 'common_name': 'Ugandan red Colobus'}\n",
      "{'aliases': [], 'groups': ['rnaseq', 'core', 'otherfeatures'], 'assembly': 'bStrHab1_v1.p', 'accession': 'GCA_004027225.1', 'common_name': 'Kakapo', 'division': 'EnsemblVertebrates', 'name': 'strigops_habroptila', 'strain': None, 'strain_collection': None, 'release': 106, 'taxon_id': '2489341', 'display_name': 'Kakapo'}\n",
      "{'accession': 'GCA_006229205.1', 'assembly': 'meerkat_22Aug2017_6uvM2_HiC', 'aliases': [], 'groups': ['otherfeatures', 'rnaseq', 'core'], 'strain_collection': None, 'strain': None, 'taxon_id': '37032', 'release': 106, 'display_name': 'Meerkat', 'common_name': 'meerkat', 'name': 'suricata_suricatta', 'division': 'EnsemblVertebrates'}\n",
      "{'display_name': 'Chinese hamster CriGri', 'taxon_id': '10029', 'strain_collection': None, 'strain': None, 'release': 106, 'division': 'EnsemblVertebrates', 'name': 'cricetulus_griseus_crigri', 'common_name': 'Chinese hamster', 'assembly': 'CriGri_1.0', 'accession': 'GCA_000223135.1', 'aliases': ['cricetulus griseus crigri', 'cgriseus_crigri', 'chinese hamster crigri'], 'groups': ['otherfeatures', 'core', 'funcgen', 'rnaseq']}\n",
      "{'strain_collection': None, 'taxon_id': '321398', 'strain': None, 'release': 106, 'display_name': 'Blue-crowned manakin', 'common_name': 'blue-crowned manakin', 'division': 'EnsemblVertebrates', 'name': 'lepidothrix_coronata', 'assembly': 'Lepidothrix_coronata-1.0', 'accession': 'GCA_001604755.1', 'groups': ['otherfeatures', 'rnaseq', 'core'], 'aliases': []}\n",
      "{'common_name': 'Oriental scops-owl', 'name': 'otus_sunia', 'division': 'EnsemblVertebrates', 'strain': None, 'strain_collection': None, 'taxon_id': '257818', 'release': 106, 'display_name': 'Oriental scops-owl', 'groups': ['core', 'rnaseq'], 'aliases': [], 'accession': 'GCA_010365825.1', 'assembly': 'OtuSun1.0'}\n",
      "{'strain_collection': None, 'release': 106, 'strain': 'BALB/cJ', 'taxon_id': '10090', 'display_name': 'Mouse BALB/cJ', 'common_name': 'mouse', 'name': 'mus_musculus_balbcj', 'division': 'EnsemblVertebrates', 'accession': 'GCA_001632525.1', 'assembly': 'BALB_cJ_v1', 'groups': ['core', 'funcgen'], 'aliases': []}\n",
      "{'aliases': [], 'groups': ['otherfeatures', 'rnaseq', 'core'], 'assembly': 'Cse_v1.0', 'accession': 'GCA_000523025.1', 'name': 'cynoglossus_semilaevis', 'division': 'EnsemblVertebrates', 'common_name': 'tongue sole', 'display_name': 'Tongue sole', 'strain': None, 'strain_collection': None, 'taxon_id': '244447', 'release': 106}\n",
      "{'groups': ['core', 'rnaseq', 'variation', 'otherfeatures'], 'aliases': [], 'accession': 'GCA_001858045.3', 'assembly': 'O_niloticus_UMD_NMBU', 'division': 'EnsemblVertebrates', 'name': 'oreochromis_niloticus', 'common_name': 'Nile tilapia', 'display_name': 'Nile tilapia', 'strain_collection': None, 'taxon_id': '8128', 'strain': None, 'release': 106}\n",
      "{'aliases': [], 'groups': ['otherfeatures', 'core', 'rnaseq'], 'accession': 'GCA_002844635.1', 'assembly': 'USMARCv1.0', 'division': 'EnsemblVertebrates', 'name': 'sus_scrofa_usmarc', 'common_name': 'pig', 'display_name': 'Pig USMARC', 'release': 106, 'strain_collection': None, 'strain': 'usmarc', 'taxon_id': '9823'}\n",
      "{'assembly': 'UOA_Brahman_1', 'accession': 'GCA_003369695.2', 'groups': ['otherfeatures', 'rnaseq', 'core'], 'aliases': [], 'display_name': 'Hybrid - Bos Indicus', 'taxon_id': '30522', 'strain_collection': None, 'strain': None, 'release': 106, 'name': 'bos_indicus_hybrid', 'division': 'EnsemblVertebrates', 'common_name': 'hybrid cattle'}\n",
      "{'common_name': 'Chinese softshell turtle', 'name': 'pelodiscus_sinensis', 'division': 'EnsemblVertebrates', 'release': 106, 'strain_collection': None, 'strain': None, 'taxon_id': '13735', 'display_name': 'Chinese softshell turtle', 'aliases': ['13735', 'p_sinensis', 'chinese soft shell turtle', 'chinese softshell turtle', 'pelodiscus sinensis', 'psinensis', 'softshell turtle'], 'groups': ['rnaseq', 'core', 'otherfeatures'], 'accession': 'GCA_000230535.1', 'assembly': 'PelSin_1.0'}\n",
      "{'common_name': 'small-eared galago', 'name': 'otolemur_garnettii', 'division': 'EnsemblVertebrates', 'strain_collection': None, 'taxon_id': '30611', 'strain': None, 'release': 106, 'display_name': 'Bushbaby', 'groups': ['core', 'otherfeatures'], 'aliases': ['otolemur garnettii', 'small-eared galago', 'galago', 'bushbaby', 'ogarnettii', 'ogar', 'otogar', '30611'], 'assembly': 'OtoGar3', 'accession': 'GCA_000181295.3'}\n",
      "{'name': 'mesocricetus_auratus', 'division': 'EnsemblVertebrates', 'common_name': 'Golden Hamster', 'display_name': 'Golden Hamster', 'release': 106, 'strain_collection': None, 'strain': None, 'taxon_id': '10036', 'groups': ['core', 'funcgen', 'otherfeatures'], 'aliases': ['mauratus', '10036', 'golden hamster', 'mesaur', 'mesocricetus auratus', 'maur'], 'assembly': 'MesAur1.0', 'accession': 'GCA_000349665.1'}\n",
      "{'accession': 'GCA_001984765.1', 'assembly': 'C.can_genome_v1.0', 'aliases': [], 'groups': ['rnaseq', 'core', 'otherfeatures'], 'display_name': 'American beaver', 'strain_collection': None, 'release': 106, 'strain': None, 'taxon_id': '51338', 'name': 'castor_canadensis', 'division': 'EnsemblVertebrates', 'common_name': 'American beaver'}\n",
      "{'aliases': [], 'groups': ['rnaseq', 'core', 'otherfeatures'], 'assembly': 'ASM228892v3', 'accession': 'GCA_002288925.3', 'common_name': 'beluga whale', 'name': 'delphinapterus_leucas', 'division': 'EnsemblVertebrates', 'taxon_id': '9749', 'strain_collection': None, 'strain': None, 'release': 106, 'display_name': 'Beluga whale'}\n",
      "{'name': 'tursiops_truncatus', 'division': 'EnsemblVertebrates', 'common_name': 'bottlenosed dolphin', 'display_name': 'Dolphin', 'strain': None, 'strain_collection': None, 'release': 106, 'taxon_id': '9739', 'aliases': ['ttru', 'tursiopstruncatus', 'ttruncatus', '9739', 'tursiops truncatus', 'dolphin', 'turtru', 'bottlenose dolphin', 'bottlenosed dolphin'], 'groups': ['core'], 'assembly': 'turTru1', 'accession': None}\n",
      "{'assembly': 'UO_Cmon_1.0', 'accession': 'GCA_009650515.1', 'aliases': [], 'groups': ['rnaseq', 'core'], 'strain_collection': None, 'release': 106, 'strain': None, 'taxon_id': '1196302', 'display_name': 'New Caledonian crow', 'common_name': 'New Caledonian crow', 'division': 'EnsemblVertebrates', 'name': 'corvus_moneduloides'}\n",
      "{'common_name': 'sea lamprey', 'name': 'petromyzon_marinus', 'division': 'EnsemblVertebrates', 'strain': None, 'strain_collection': None, 'release': 106, 'taxon_id': '7757', 'display_name': 'Lamprey', 'groups': ['core', 'otherfeatures'], 'aliases': ['petmar', 'pmarinus', 'petromyzon marinus', 'sea lamprey', '7757', 'lamprey', 'pmar'], 'assembly': 'Pmarinus_7.0', 'accession': None}\n",
      "{'aliases': ['btau', 'bovine', 'bostau', '9913', 'btaurus', 'domestic cow', 'cow', 'cattle', 'domestic cattle', 'bos taurus'], 'groups': ['variation', 'otherfeatures', 'rnaseq', 'funcgen', 'core'], 'accession': 'GCA_002263795.2', 'assembly': 'ARS-UCD1.2', 'name': 'bos_taurus', 'division': 'EnsemblVertebrates', 'common_name': 'cattle', 'display_name': 'Cow', 'strain': None, 'strain_collection': None, 'taxon_id': '9913', 'release': 106}\n",
      "{'accession': 'GCA_000260255.1', 'assembly': 'OctDeg1.0', 'groups': ['core', 'otherfeatures'], 'aliases': ['octodon degus', 'odegus', 'octdeg', 'odeg', '10160', 'degu'], 'release': 106, 'strain_collection': None, 'strain': None, 'taxon_id': '10160', 'display_name': 'Degu', 'common_name': 'Degu', 'name': 'octodon_degus', 'division': 'EnsemblVertebrates'}\n",
      "{'division': 'EnsemblVertebrates', 'name': 'sus_scrofa_bamei', 'common_name': 'pig', 'display_name': 'Pig - Bamei', 'strain_collection': None, 'taxon_id': '9823', 'strain': 'bamei', 'release': 106, 'groups': ['otherfeatures', 'rnaseq', 'core'], 'aliases': [], 'assembly': 'Bamei_pig_v1', 'accession': 'GCA_001700235.1'}\n",
      "{'common_name': 'rabbit', 'name': 'oryctolagus_cuniculus', 'division': 'EnsemblVertebrates', 'strain_collection': None, 'taxon_id': '9986', 'strain': None, 'release': 106, 'display_name': 'Rabbit', 'aliases': ['orycun', 'ocun', '9986', 'rabbit', 'ocuniculus', 'oryctolagus cuniculus'], 'groups': ['rnaseq', 'funcgen', 'core', 'variation', 'otherfeatures'], 'accession': 'GCA_000003625.1', 'assembly': 'OryCun2.0'}\n",
      "{'groups': ['otherfeatures', 'core', 'rnaseq'], 'aliases': [], 'assembly': 'Otsh_v1.0', 'accession': 'GCA_002872995.1', 'common_name': 'Chinook salmon', 'division': 'EnsemblVertebrates', 'name': 'oncorhynchus_tshawytscha', 'strain': None, 'strain_collection': None, 'taxon_id': '74940', 'release': 106, 'display_name': 'Chinook salmon'}\n",
      "{'aliases': [], 'groups': ['core', 'rnaseq'], 'accession': 'GCA_007922165.1', 'assembly': 'Chelydra_serpentina-1.0', 'division': 'EnsemblVertebrates', 'name': 'chelydra_serpentina', 'common_name': 'Common snapping turtle', 'display_name': 'Common snapping turtle', 'strain_collection': None, 'strain': None, 'release': 106, 'taxon_id': '8475'}\n",
      "{'common_name': 'vole', 'division': 'EnsemblVertebrates', 'name': 'microtus_ochrogaster', 'strain_collection': None, 'release': 106, 'strain': None, 'taxon_id': '79684', 'display_name': 'Prairie vole', 'groups': ['otherfeatures', 'core'], 'aliases': ['micoch', '79684', 'm_ochrogaster', 'mochrogaster', 'microtus ochrogaster', 'pvole', 'vole', 'moch', 'prairie vole'], 'accession': 'GCA_000317375.1', 'assembly': 'MicOch1.0'}\n",
      "{'accession': None, 'assembly': 'pteVam1', 'aliases': ['pteropus vampyrus', 'pvam', '132908', 'pteropusvampyrus', 'large flying fox', 'megabat', 'pvampyrus', 'ptevam'], 'groups': ['core'], 'display_name': 'Megabat', 'strain_collection': None, 'strain': None, 'taxon_id': '132908', 'release': 106, 'name': 'pteropus_vampyrus', 'division': 'EnsemblVertebrates', 'common_name': 'large flying fox'}\n",
      "{'common_name': 'Atlantic salmon', 'name': 'salmo_salar', 'division': 'EnsemblVertebrates', 'strain_collection': None, 'release': 106, 'strain': None, 'taxon_id': '8030', 'display_name': 'Atlantic salmon', 'groups': ['core', 'rnaseq'], 'aliases': [], 'assembly': 'Ssal_v3.1', 'accession': 'GCA_905237065.2'}\n",
      "{'display_name': 'Sheep (texel)', 'release': 106, 'strain_collection': None, 'strain': 'texel', 'taxon_id': '9940', 'division': 'EnsemblVertebrates', 'name': 'ovis_aries', 'common_name': 'sheep', 'accession': 'GCA_000298735.1', 'assembly': 'Oar_v3.1', 'groups': ['rnaseq', 'core', 'otherfeatures', 'variation'], 'aliases': ['sheep', 'ovisaries', 'oar', 'oaries', 'oari', '9940', 'oviari', 'ovis aries', 'domestic sheep']}\n",
      "{'assembly': 'Oar_rambouillet_v1.0', 'accession': 'GCA_002742125.1', 'aliases': [], 'groups': ['core', 'rnaseq', 'variation', 'otherfeatures'], 'strain': 'reference', 'strain_collection': None, 'release': 106, 'taxon_id': '9940', 'display_name': 'Sheep', 'common_name': 'sheep', 'name': 'ovis_aries_rambouillet', 'division': 'EnsemblVertebrates'}\n",
      "{'groups': ['core', 'rnaseq', 'otherfeatures'], 'aliases': [], 'assembly': 'T_m_triunguis-2.0', 'accession': 'GCA_002925995.2', 'division': 'EnsemblVertebrates', 'name': 'terrapene_carolina_triunguis', 'common_name': 'Three-toed box turtle', 'display_name': 'Three-toed box turtle', 'strain_collection': None, 'strain': None, 'taxon_id': '2587831', 'release': 106}\n",
      "{'common_name': 'common carp huanghe', 'division': 'EnsemblVertebrates', 'name': 'cyprinus_carpio_huanghe', 'strain_collection': None, 'taxon_id': '7962', 'strain': None, 'release': 106, 'display_name': 'Common carp huanghe', 'aliases': [], 'groups': ['rnaseq', 'core'], 'assembly': 'Hunaghe_carp_2.0', 'accession': 'GCA_004011575.1'}\n",
      "{'accession': 'GCA_000224145.1', 'assembly': 'KH', 'groups': ['otherfeatures', 'core', 'funcgen'], 'aliases': ['ciona', 'cint', 'c.intestinalis', 'cioint', 'sea squirt ciona intestinalis', 'ciona intestinalis', 'cintestinalis', '7719'], 'strain_collection': None, 'taxon_id': '7719', 'strain': None, 'release': 106, 'display_name': 'C.intestinalis', 'common_name': 'Sea squirt Ciona intestinalis', 'division': 'EnsemblVertebrates', 'name': 'ciona_intestinalis'}\n",
      "{'assembly': 'ASM414374v1', 'accession': 'GCA_004143745.1', 'aliases': [], 'groups': ['rnaseq', 'core'], 'strain': None, 'strain_collection': None, 'release': 106, 'taxon_id': '9054', 'display_name': 'Ring-necked pheasant', 'common_name': 'Ring-necked pheasant', 'division': 'EnsemblVertebrates', 'name': 'phasianus_colchicus'}\n",
      "{'assembly': 'Pcoq_1.0', 'accession': 'GCA_000956105.1', 'groups': ['otherfeatures', 'funcgen', 'core'], 'aliases': [], 'strain_collection': None, 'taxon_id': '379532', 'strain': None, 'release': 106, 'display_name': \"Coquerel's sifaka\", 'common_name': \"Coquerel's sifaka\", 'name': 'propithecus_coquereli', 'division': 'EnsemblVertebrates'}\n",
      "{'aliases': [], 'groups': ['otherfeatures', 'core', 'rnaseq'], 'assembly': 'Guppy_female_1.0_MT', 'accession': 'GCA_000633615.2', 'name': 'poecilia_reticulata', 'division': 'EnsemblVertebrates', 'common_name': 'guppy', 'display_name': 'Guppy', 'strain': None, 'strain_collection': None, 'release': 106, 'taxon_id': '8081'}\n",
      "{'accession': 'GCA_001682695.1', 'assembly': 'Pygocentrus_nattereri-1.0.2', 'groups': ['otherfeatures', 'core', 'rnaseq'], 'aliases': [], 'taxon_id': '42514', 'strain_collection': None, 'strain': None, 'release': 106, 'display_name': 'Red-bellied piranha', 'common_name': 'red-bellied piranha', 'name': 'pygocentrus_nattereri', 'division': 'EnsemblVertebrates'}\n",
      "{'common_name': 'platypus', 'name': 'ornithorhynchus_anatinus', 'division': 'EnsemblVertebrates', 'strain_collection': None, 'strain': None, 'release': 106, 'taxon_id': '9258', 'display_name': 'Platypus', 'aliases': [], 'groups': ['otherfeatures', 'variation', 'core', 'funcgen', 'rnaseq'], 'accession': 'GCA_004115215.2', 'assembly': 'mOrnAna1.p.v1'}\n",
      "{'assembly': 'bTaeGut1_v1.p', 'accession': 'GCA_003957565.2', 'aliases': [], 'groups': ['otherfeatures', 'variation', 'core', 'rnaseq'], 'display_name': 'Zebra finch', 'taxon_id': '59729', 'strain_collection': None, 'strain': None, 'release': 106, 'division': 'EnsemblVertebrates', 'name': 'taeniopygia_guttata', 'common_name': 'zebra finch'}\n",
      "{'common_name': 'green anole', 'division': 'EnsemblVertebrates', 'name': 'anolis_carolinensis', 'strain_collection': None, 'release': 106, 'strain': 'reference', 'taxon_id': '28377', 'display_name': 'Green anole', 'groups': ['otherfeatures', 'core', 'rnaseq'], 'aliases': [], 'accession': 'GCA_000090745.2', 'assembly': 'AnoCar2.0v2'}\n",
      "{'accession': 'GCA_005887515.1', 'assembly': 'LU_Bosgru_v3.0', 'groups': ['rnaseq', 'core'], 'aliases': [], 'strain_collection': None, 'taxon_id': '30521', 'strain': None, 'release': 106, 'display_name': 'Domestic yak', 'common_name': 'domestic yak', 'name': 'bos_grunniens', 'division': 'EnsemblVertebrates'}\n",
      "{'name': 'meriones_unguiculatus', 'division': 'EnsemblVertebrates', 'common_name': 'Mongolian gerbil', 'display_name': 'Mongolian gerbil', 'strain': None, 'strain_collection': None, 'taxon_id': '10047', 'release': 106, 'groups': ['core', 'rnaseq', 'otherfeatures'], 'aliases': [], 'accession': 'GCA_002204375.1', 'assembly': 'MunDraft-v1.0'}\n",
      "{'common_name': 'vaquita', 'name': 'phocoena_sinus', 'division': 'EnsemblVertebrates', 'strain_collection': None, 'release': 106, 'strain': None, 'taxon_id': '42100', 'display_name': 'Vaquita', 'aliases': [], 'groups': ['rnaseq', 'core', 'otherfeatures'], 'assembly': 'mPhoSin1.pri', 'accession': 'GCA_008692025.1'}\n",
      "{'aliases': ['crigri', 'chinese hamster chok1gs', 'cgriseus_chok1gshd', 'cgri', 'cricetulus griseus chok1gshd'], 'groups': ['otherfeatures', 'core', 'funcgen', 'rnaseq'], 'assembly': 'CHOK1GS_HDv1', 'accession': 'GCA_900186095.1', 'name': 'cricetulus_griseus_chok1gshd', 'division': 'EnsemblVertebrates', 'common_name': 'Chinese hamster', 'display_name': 'Chinese hamster CHOK1GS', 'strain': None, 'strain_collection': None, 'release': 106, 'taxon_id': '10029'}\n",
      "{'division': 'EnsemblVertebrates', 'name': 'buteo_japonicus', 'common_name': 'eastern buzzard', 'display_name': 'Eastern buzzard', 'strain_collection': None, 'strain': None, 'taxon_id': '224669', 'release': 106, 'aliases': [], 'groups': ['rnaseq', 'core'], 'accession': 'GCA_010312235.1', 'assembly': 'ButJap1.0'}\n",
      "{'division': 'EnsemblVertebrates', 'name': 'ochotona_princeps', 'common_name': 'American pika', 'display_name': 'Pika', 'strain_collection': None, 'release': 106, 'strain': None, 'taxon_id': '9978', 'groups': ['core'], 'aliases': ['ochotona princeps', 'american pika', 'pika', 'opri', 'ochpri', '9978', 'oprinceps'], 'accession': None, 'assembly': 'OchPri2.0-Ens'}\n",
      "{'accession': 'GCA_900518725.1', 'assembly': 'TS10Xv2-PRI', 'aliases': [], 'groups': ['core', 'rnaseq', 'otherfeatures'], 'display_name': 'Mainland tiger snake', 'release': 106, 'strain_collection': None, 'strain': None, 'taxon_id': '8663', 'name': 'notechis_scutatus', 'division': 'EnsemblVertebrates', 'common_name': 'mainland tiger snake'}\n",
      "{'common_name': 'olive baboon', 'division': 'EnsemblVertebrates', 'name': 'papio_anubis', 'release': 106, 'strain_collection': None, 'strain': None, 'taxon_id': '9555', 'display_name': 'Olive baboon', 'aliases': ['olive baboon', 'kenya baboon', 'papio anubis', 'doguera baboon'], 'groups': ['otherfeatures', 'core', 'funcgen', 'rnaseq'], 'assembly': 'Panubis1.0', 'accession': 'GCA_008728515.1'}\n",
      "{'aliases': [], 'groups': ['otherfeatures', 'core', 'rnaseq'], 'assembly': 'bCatUst1.pri', 'accession': 'GCA_009819885.1', 'division': 'EnsemblVertebrates', 'name': 'catharus_ustulatus', 'common_name': \"Swainson's thrush\", 'display_name': \"Swainson's thrush\", 'strain_collection': None, 'strain': None, 'taxon_id': '91951', 'release': 106}\n",
      "{'groups': ['core', 'rnaseq'], 'aliases': [], 'assembly': 'BubBub1.0', 'accession': 'GCA_010303855.1', 'name': 'bubo_bubo', 'division': 'EnsemblVertebrates', 'common_name': 'Eurasian eagle-owl', 'display_name': 'Eurasian eagle-owl', 'strain': None, 'strain_collection': None, 'taxon_id': '30461', 'release': 106}\n",
      "{'assembly': 'Astyanax_mexicanus-2.0', 'accession': 'GCA_000372685.2', 'aliases': ['cave fish', 'astyanax mexicanus', 'amexicanus', '7994', 'astmex', 'amex'], 'groups': ['core', 'rnaseq'], 'strain_collection': None, 'strain': None, 'release': 106, 'taxon_id': '7994', 'display_name': 'Mexican tetra', 'common_name': 'Mexican tetra', 'name': 'astyanax_mexicanus', 'division': 'EnsemblVertebrates'}\n",
      "{'aliases': [], 'groups': ['rnaseq', 'core'], 'assembly': 'CaiMos1.0', 'accession': 'GCA_009194515.1', 'common_name': 'muscovy Duck (domestic type)', 'name': 'cairina_moschata_domestica', 'division': 'EnsemblVertebrates', 'taxon_id': '1240228', 'strain_collection': None, 'strain': None, 'release': 106, 'display_name': 'Muscovy Duck (domestic type)'}\n",
      "{'assembly': 'Dord_2.0', 'accession': 'GCA_000151885.2', 'aliases': ['10020', 'dord', 'kangaroo_rat', 'dipodomys ordii', 'dordii', 'dipodomysordii', 'dipord', 'ords kangaroo rat', 'kangaroo rat', \"ord's kangaroo rat\"], 'groups': ['otherfeatures', 'core'], 'display_name': 'Kangaroo rat', 'strain': None, 'strain_collection': None, 'taxon_id': '10020', 'release': 106, 'name': 'dipodomys_ordii', 'division': 'EnsemblVertebrates', 'common_name': \"Ord's kangaroo rat\"}\n",
      "{'display_name': 'Pig - Wuzhishan', 'taxon_id': '9823', 'strain_collection': None, 'strain': 'wuzhishan', 'release': 106, 'name': 'sus_scrofa_wuzhishan', 'division': 'EnsemblVertebrates', 'common_name': 'pig', 'assembly': 'minipig_v1.0', 'accession': 'GCA_000325925.2', 'aliases': [], 'groups': ['otherfeatures', 'core', 'rnaseq']}\n",
      "{'strain_collection': None, 'strain': None, 'release': 106, 'taxon_id': '37548', 'display_name': 'Brazilian guinea pig', 'common_name': 'Brazilian guinea pig', 'division': 'EnsemblVertebrates', 'name': 'cavia_aperea', 'accession': 'GCA_000688575.1', 'assembly': 'CavAp1.0', 'aliases': ['brazilian guinea pig', 'cape', 'caperea', 'cavia aperea', 'cavape', '37548'], 'groups': ['core']}\n",
      "{'accession': 'GCA_000151735.1', 'assembly': 'Cavpor3.0', 'aliases': ['domestic guinea pig', 'guinea_pig', 'guinea pig', 'cporcellus', 'cavpor', 'cavia porcellus', 'cpor', '10141'], 'groups': ['otherfeatures', 'funcgen', 'core', 'rnaseq'], 'display_name': 'Guinea Pig', 'strain': None, 'strain_collection': None, 'taxon_id': '10141', 'release': 106, 'division': 'EnsemblVertebrates', 'name': 'cavia_porcellus', 'common_name': 'domestic guinea pig'}\n",
      "{'accession': 'GCA_001624215.1', 'assembly': 'A_J_v1', 'aliases': [], 'groups': ['funcgen', 'core'], 'strain_collection': None, 'strain': 'A/J', 'taxon_id': '10090', 'release': 106, 'display_name': 'Mouse A/J', 'common_name': 'mouse', 'name': 'mus_musculus_aj', 'division': 'EnsemblVertebrates'}\n",
      "{'name': 'catagonus_wagneri', 'division': 'EnsemblVertebrates', 'common_name': 'Chacoan peccary', 'display_name': 'Chacoan peccary', 'strain_collection': None, 'taxon_id': '51154', 'strain': None, 'release': 106, 'aliases': [], 'groups': ['rnaseq', 'core'], 'accession': 'GCA_004024745.2', 'assembly': 'CatWag_v2_BIUU_UCD'}\n",
      "{'strain_collection': None, 'release': 106, 'strain': None, 'taxon_id': '9597', 'display_name': 'Bonobo', 'common_name': 'bonobo', 'name': 'pan_paniscus', 'division': 'EnsemblVertebrates', 'assembly': 'panpan1.1', 'accession': 'GCA_000258655.2', 'aliases': [], 'groups': ['rnaseq', 'core', 'funcgen', 'otherfeatures']}\n",
      "{'groups': ['rnaseq', 'core'], 'aliases': [], 'accession': 'GCA_003829775.1', 'assembly': 'ASM382977v1', 'name': 'junco_hyemalis', 'division': 'EnsemblVertebrates', 'common_name': 'dark-eyed junco', 'display_name': 'Dark-eyed junco', 'strain_collection': None, 'strain': None, 'release': 106, 'taxon_id': '40217'}\n",
      "{'division': 'EnsemblVertebrates', 'name': 'camarhynchus_parvulus', 'common_name': 'small tree finch', 'display_name': 'Small tree finch', 'release': 106, 'strain_collection': None, 'strain': None, 'taxon_id': '87175', 'groups': ['rnaseq', 'core'], 'aliases': [], 'assembly': 'STF_HiC', 'accession': 'GCA_901933205.1'}\n",
      "{'display_name': 'Dog - Great Dane', 'strain_collection': None, 'strain': 'great_dane', 'release': 106, 'taxon_id': '9615', 'division': 'EnsemblVertebrates', 'name': 'canis_lupus_familiarisgreatdane', 'common_name': 'dog', 'assembly': 'UMICH_Zoey_3.1', 'accession': 'GCA_005444595.1', 'groups': ['rnaseq', 'core', 'funcgen'], 'aliases': []}\n",
      "{'taxon_id': '43179', 'strain_collection': None, 'strain': None, 'release': 106, 'display_name': 'Squirrel', 'common_name': 'thirteen-lined ground squirrel', 'name': 'ictidomys_tridecemlineatus', 'division': 'EnsemblVertebrates', 'assembly': 'SpeTri2.0', 'accession': 'GCA_000236235.1', 'aliases': ['stri', 'stridecemlineatus', 'thirteen-lined ground squirrel', 'ictidomys tridecemlineatus', '43179', 'spermophilus_tridecemlineatus', 'spetri', 'squirrel'], 'groups': ['otherfeatures', 'core', 'rnaseq']}\n",
      "{'display_name': 'Denticle herring', 'strain_collection': None, 'strain': None, 'taxon_id': '299321', 'release': 106, 'division': 'EnsemblVertebrates', 'name': 'denticeps_clupeoides', 'common_name': 'denticle herring', 'accession': 'GCA_900700375.1', 'assembly': 'fDenClu1.1', 'groups': ['otherfeatures', 'rnaseq', 'core'], 'aliases': []}\n",
      "{'strain': None, 'strain_collection': None, 'taxon_id': '34839', 'release': 106, 'display_name': 'Long-tailed chinchilla', 'common_name': 'Long-tailed chinchilla', 'name': 'chinchilla_lanigera', 'division': 'EnsemblVertebrates', 'assembly': 'ChiLan1.0', 'accession': 'GCA_000276665.1', 'aliases': ['34839', 'chinchilla lanigera', 'clanigera', 'clan', 'long-tailed chinchilla', 'chilan'], 'groups': ['core', 'rnaseq', 'otherfeatures']}\n",
      "{'assembly': 'mSarHar1.11', 'accession': 'GCA_902635505.1', 'aliases': [], 'groups': ['core', 'rnaseq', 'otherfeatures'], 'display_name': 'Tasmanian devil', 'strain_collection': None, 'taxon_id': '9305', 'strain': None, 'release': 106, 'division': 'EnsemblVertebrates', 'name': 'sarcophilus_harrisii', 'common_name': 'Tasmanian devil'}\n",
      "{'common_name': 'northern tree shrew', 'name': 'tupaia_belangeri', 'division': 'EnsemblVertebrates', 'strain_collection': None, 'strain': None, 'release': 106, 'taxon_id': '37347', 'display_name': 'Tree Shrew', 'groups': ['core'], 'aliases': ['37347', 'tupaia belangeri', 'tupbel', 'tree_shrew', 'tbel', 'tbelangeri', 'tree shrew', 'northern tree shrew'], 'assembly': 'TREESHREW', 'accession': None}\n",
      "{'display_name': 'Ballan wrasse', 'taxon_id': '56723', 'strain_collection': None, 'strain': None, 'release': 106, 'name': 'labrus_bergylta', 'division': 'EnsemblVertebrates', 'common_name': 'ballan wrasse', 'assembly': 'BallGen_V1', 'accession': 'GCA_900080235.1', 'groups': ['otherfeatures', 'rnaseq', 'core'], 'aliases': []}\n",
      "{'groups': ['rnaseq', 'core', 'otherfeatures'], 'aliases': [], 'assembly': 'aptRow1', 'accession': 'GCA_003343035.1', 'division': 'EnsemblVertebrates', 'name': 'apteryx_rowi', 'common_name': 'Okarito brown kiwi', 'display_name': 'Okarito brown kiwi', 'strain': None, 'strain_collection': None, 'release': 106, 'taxon_id': '308060'}\n",
      "{'groups': ['core', 'rnaseq'], 'aliases': [], 'accession': 'GCA_002234695.1', 'assembly': 'ASM223469v1', 'common_name': 'Japanese medaka HSOK', 'division': 'EnsemblVertebrates', 'name': 'oryzias_latipes_hsok', 'strain': None, 'strain_collection': None, 'release': 106, 'taxon_id': '8090', 'display_name': 'Japanese medaka HSOK'}\n",
      "{'strain_collection': None, 'strain': 'largewhite', 'release': 106, 'taxon_id': '9823', 'display_name': 'Pig - Largewhite', 'common_name': 'pig', 'division': 'EnsemblVertebrates', 'name': 'sus_scrofa_largewhite', 'assembly': 'Large_White_v1', 'accession': 'GCA_001700135.1', 'groups': ['rnaseq', 'core', 'otherfeatures'], 'aliases': []}\n",
      "{'assembly': 'Cebus_imitator-1.0', 'accession': 'GCA_001604975.1', 'groups': ['core', 'funcgen', 'rnaseq', 'otherfeatures'], 'aliases': [], 'release': 106, 'strain_collection': None, 'strain': None, 'taxon_id': '2715852', 'display_name': 'Capuchin', 'common_name': 'White-headed capuchin', 'division': 'EnsemblVertebrates', 'name': 'cebus_capucinus'}\n",
      "{'groups': ['rnaseq', 'core', 'funcgen'], 'aliases': [], 'accession': 'GCA_004886185.1', 'assembly': 'Basenji_breed-1.1', 'common_name': 'dog', 'name': 'canis_lupus_familiarisbasenji', 'division': 'EnsemblVertebrates', 'strain': 'basenji', 'strain_collection': None, 'taxon_id': '9615', 'release': 106, 'display_name': 'Dog - Basenji'}\n",
      "{'division': 'EnsemblVertebrates', 'name': 'vicugna_pacos', 'common_name': 'alpaca', 'display_name': 'Alpaca', 'taxon_id': '30538', 'strain_collection': None, 'strain': None, 'release': 106, 'aliases': ['alpaca', 'vicpac', 'vicugna pacos', 'vpacos', '30538', 'vicugnapacos', 'vpac'], 'groups': ['core'], 'assembly': 'vicPac1', 'accession': None}\n",
      "{'strain_collection': None, 'release': 106, 'strain': None, 'taxon_id': '8364', 'display_name': 'Tropical clawed frog', 'common_name': 'tropical clawed frog', 'division': 'EnsemblVertebrates', 'name': 'xenopus_tropicalis', 'assembly': 'Xenopus_tropicalis_v9.1', 'accession': 'GCA_000004195.3', 'aliases': [], 'groups': ['rnaseq', 'core', 'funcgen', 'otherfeatures']}\n",
      "{'accession': 'GCA_000235385.1', 'assembly': 'SaiBol1.0', 'aliases': [], 'groups': ['otherfeatures', 'core', 'funcgen', 'rnaseq'], 'strain_collection': None, 'strain': None, 'taxon_id': '39432', 'release': 106, 'display_name': 'Bolivian squirrel monkey', 'common_name': 'Bolivian squirrel monkey', 'name': 'saimiri_boliviensis_boliviensis', 'division': 'EnsemblVertebrates'}\n",
      "{'assembly': 'NumMel1.0', 'accession': 'GCA_002078875.2', 'aliases': [], 'groups': ['core', 'rnaseq', 'otherfeatures'], 'display_name': 'Helmeted guineafowl', 'taxon_id': '8996', 'strain_collection': None, 'strain': None, 'release': 106, 'name': 'numida_meleagris', 'division': 'EnsemblVertebrates', 'common_name': 'helmeted guineafowl'}\n",
      "{'common_name': 'lion', 'division': 'EnsemblVertebrates', 'name': 'panthera_leo', 'strain': None, 'strain_collection': None, 'taxon_id': '9689', 'release': 106, 'display_name': 'Lion', 'groups': ['core'], 'aliases': [], 'assembly': 'PanLeo1.0', 'accession': 'GCA_008795835.1'}\n",
      "{'name': 'anas_platyrhynchos_platyrhynchos', 'division': 'EnsemblVertebrates', 'common_name': 'common mallard', 'display_name': 'Duck', 'strain_collection': None, 'release': 106, 'strain': None, 'taxon_id': '8840', 'aliases': [], 'groups': ['funcgen', 'core', 'rnaseq'], 'accession': 'GCA_002743455.1', 'assembly': 'CAU_duck1.0'}\n",
      "{'division': 'EnsemblVertebrates', 'name': 'amazona_collaria', 'common_name': 'yellow-billed parrot', 'display_name': 'Yellow-billed parrot', 'strain_collection': None, 'strain': None, 'taxon_id': '241587', 'release': 106, 'groups': ['rnaseq', 'core'], 'aliases': [], 'accession': 'GCA_003947215.1', 'assembly': 'ASM394721v1'}\n",
      "{'accession': 'GCA_005190385.2', 'assembly': 'NGI_Narwhal_1', 'groups': ['core', 'rnaseq', 'otherfeatures'], 'aliases': [], 'release': 106, 'strain_collection': None, 'strain': None, 'taxon_id': '40151', 'display_name': 'Narwhal', 'common_name': 'narwhal', 'division': 'EnsemblVertebrates', 'name': 'monodon_monoceros'}\n",
      "{'name': 'seriola_dumerili', 'division': 'EnsemblVertebrates', 'common_name': 'greater amberjack', 'display_name': 'Greater amberjack', 'release': 106, 'strain_collection': None, 'strain': None, 'taxon_id': '41447', 'aliases': [], 'groups': ['otherfeatures', 'rnaseq', 'core'], 'assembly': 'Sdu_1.0', 'accession': 'GCA_002260705.1'}\n",
      "{'aliases': ['mlucifugus', 'little brown bat', 'mluc', 'myoluc', 'little_brown_bat', 'myotis lucifugus', 'microbat', '59463'], 'groups': ['core', 'otherfeatures'], 'accession': 'GCA_000147115.1', 'assembly': 'Myoluc2.0', 'common_name': 'little brown bat', 'name': 'myotis_lucifugus', 'division': 'EnsemblVertebrates', 'taxon_id': '59463', 'strain_collection': None, 'strain': None, 'release': 106, 'display_name': 'Microbat'}\n",
      "{'strain_collection': None, 'taxon_id': '96440', 'strain': None, 'release': 106, 'display_name': 'Argentine black and white tegu', 'common_name': 'Argentine black and white tegu', 'name': 'salvator_merianae', 'division': 'EnsemblVertebrates', 'assembly': 'HLtupMer3', 'accession': 'GCA_003586115.1', 'aliases': [], 'groups': ['core', 'rnaseq']}\n",
      "{'display_name': 'Sailfin molly', 'strain': None, 'strain_collection': None, 'release': 106, 'taxon_id': '48699', 'division': 'EnsemblVertebrates', 'name': 'poecilia_latipinna', 'common_name': 'sailfin molly', 'assembly': 'P_latipinna-1.0', 'accession': 'GCA_001443285.1', 'aliases': [], 'groups': ['otherfeatures', 'core', 'rnaseq']}\n",
      "{'groups': ['core', 'rnaseq'], 'aliases': [], 'assembly': 'FalTin1.0', 'accession': 'GCA_010332995.1', 'common_name': 'common kestrel', 'name': 'falco_tinnunculus', 'division': 'EnsemblVertebrates', 'strain': None, 'strain_collection': None, 'release': 106, 'taxon_id': '100819', 'display_name': 'Common kestrel'}\n",
      "{'release': 106, 'strain_collection': None, 'strain': 'SPRET/EiJ', 'taxon_id': '10096', 'display_name': 'Algerian mouse', 'common_name': 'algerian mouse', 'division': 'EnsemblVertebrates', 'name': 'mus_spretus', 'accession': 'GCA_001624865.1', 'assembly': 'SPRET_EiJ_v1', 'aliases': ['mspretus', 'spreteij', 'mus_spretus_spret_eij', 'western mediterranean mouse'], 'groups': ['core', 'funcgen']}\n",
      "{'assembly': 'PM.fa', 'accession': 'GCA_000787105.1', 'aliases': [], 'groups': ['core'], 'strain_collection': None, 'strain': None, 'release': 106, 'taxon_id': '409849', 'display_name': 'Periophthalmus magnuspinnatus', 'common_name': 'Periophthalmus magnuspinnatus', 'name': 'periophthalmus_magnuspinnatus', 'division': 'EnsemblVertebrates'}\n",
      "{'taxon_id': '9103', 'strain_collection': None, 'strain': 'reference', 'release': 106, 'display_name': 'Turkey', 'common_name': 'turkey', 'name': 'meleagris_gallopavo', 'division': 'EnsemblVertebrates', 'accession': 'GCA_000146605.4', 'assembly': 'Turkey_5.1', 'groups': ['otherfeatures', 'variation', 'rnaseq', 'core'], 'aliases': []}\n",
      "{'name': 'lates_calcarifer', 'division': 'EnsemblVertebrates', 'common_name': 'barramundi perch', 'display_name': 'Barramundi perch', 'strain_collection': None, 'strain': None, 'release': 106, 'taxon_id': '8187', 'groups': ['core', 'rnaseq'], 'aliases': [], 'assembly': 'ASB_HGAPassembly_v1', 'accession': 'GCA_900066035.1'}\n",
      "{'name': 'sus_scrofa_rongchang', 'division': 'EnsemblVertebrates', 'common_name': 'pig', 'display_name': 'Pig - Rongchang', 'strain_collection': None, 'release': 106, 'strain': 'rongchang', 'taxon_id': '9823', 'groups': ['otherfeatures', 'core', 'rnaseq'], 'aliases': [], 'assembly': 'Rongchang_pig_v1', 'accession': 'GCA_001700155.1'}\n",
      "{'groups': ['rnaseq', 'core', 'variation'], 'aliases': [], 'accession': 'GCA_900108605.1', 'assembly': 'NNQGG.v01', 'name': 'neovison_vison', 'division': 'EnsemblVertebrates', 'common_name': 'American mink', 'display_name': 'American mink', 'taxon_id': '452646', 'strain_collection': None, 'strain': None, 'release': 106}\n",
      "{'display_name': 'Drosophila melanogaster', 'release': 106, 'strain_collection': None, 'strain': None, 'taxon_id': '7227', 'name': 'drosophila_melanogaster', 'division': 'EnsemblVertebrates', 'common_name': 'fruit fly', 'accession': 'GCA_000001215.4', 'assembly': 'BDGP6.32', 'groups': ['core', 'funcgen'], 'aliases': ['d.mel', 'd. melanogaster', 'dmel']}\n",
      "{'division': 'EnsemblVertebrates', 'name': 'bos_taurus_hybrid', 'common_name': 'hybrid cattle', 'display_name': 'Hybrid - Bos Taurus', 'strain': None, 'strain_collection': None, 'taxon_id': '30522', 'release': 106, 'aliases': [], 'groups': ['core', 'rnaseq', 'otherfeatures'], 'assembly': 'UOA_Angus_1', 'accession': 'GCA_003369685.2'}\n",
      "{'groups': ['funcgen', 'core', 'otherfeatures'], 'aliases': [], 'assembly': 'Mleu.le_1.0', 'accession': 'GCA_000951045.1', 'division': 'EnsemblVertebrates', 'name': 'mandrillus_leucophaeus', 'common_name': 'Drill', 'display_name': 'Drill', 'taxon_id': '9568', 'strain_collection': None, 'strain': None, 'release': 106}\n",
      "{'assembly': 'Parus_major1.1', 'accession': 'GCA_001522545.2', 'groups': ['core', 'rnaseq', 'variation', 'otherfeatures'], 'aliases': [], 'display_name': 'Great Tit', 'strain_collection': None, 'strain': None, 'release': 106, 'taxon_id': '9157', 'division': 'EnsemblVertebrates', 'name': 'parus_major', 'common_name': 'Great Tit'}\n",
      "{'display_name': 'Burrowing owl', 'strain': None, 'strain_collection': None, 'taxon_id': '194338', 'release': 106, 'name': 'athene_cunicularia', 'division': 'EnsemblVertebrates', 'common_name': 'burrowing owl', 'accession': 'GCA_003259725.1', 'assembly': 'athCun1', 'aliases': [], 'groups': ['core', 'rnaseq', 'otherfeatures']}\n",
      "{'division': 'EnsemblVertebrates', 'name': 'ursus_americanus', 'common_name': 'American black bear', 'display_name': 'American black bear', 'strain_collection': None, 'strain': None, 'taxon_id': '9643', 'release': 106, 'aliases': [], 'groups': ['core', 'rnaseq'], 'accession': 'GCA_003344425.1', 'assembly': 'ASM334442v1'}\n",
      "{'name': 'anas_zonorhyncha', 'division': 'EnsemblVertebrates', 'common_name': 'Eastern spot-billed duck', 'display_name': 'Eastern spot-billed duck', 'strain': None, 'strain_collection': None, 'release': 106, 'taxon_id': '75864', 'aliases': [], 'groups': ['core', 'rnaseq'], 'assembly': 'ASM222487v1', 'accession': 'GCA_002224875.1'}\n",
      "{'display_name': 'Naked mole-rat female', 'strain_collection': None, 'release': 106, 'strain': None, 'taxon_id': '10181', 'division': 'EnsemblVertebrates', 'name': 'heterocephalus_glaber_female', 'common_name': 'naked mole-rat', 'accession': 'GCA_000247695.1', 'assembly': 'HetGla_female_1.0', 'aliases': ['heterocephalus glaber female', 'hglaber_female', 'naked mole-rat female'], 'groups': ['core', 'rnaseq', 'otherfeatures']}\n",
      "{'common_name': 'sperm whale', 'division': 'EnsemblVertebrates', 'name': 'physeter_catodon', 'strain_collection': None, 'release': 106, 'strain': None, 'taxon_id': '9755', 'display_name': 'Sperm whale', 'aliases': [], 'groups': ['core', 'rnaseq', 'otherfeatures'], 'assembly': 'ASM283717v2', 'accession': 'GCA_002837175.2'}\n",
      "{'aliases': [], 'groups': ['rnaseq', 'core'], 'assembly': 'GouldianFinch', 'accession': 'GCA_003676055.1', 'name': 'erythrura_gouldiae', 'division': 'EnsemblVertebrates', 'common_name': 'Gouldian finch', 'display_name': 'Gouldian finch', 'strain_collection': None, 'strain': None, 'release': 106, 'taxon_id': '44316'}\n",
      "{'aliases': [], 'groups': ['core', 'funcgen'], 'accession': 'GCA_001624475.1', 'assembly': 'CBA_J_v1', 'division': 'EnsemblVertebrates', 'name': 'mus_musculus_cbaj', 'common_name': 'mouse', 'display_name': 'Mouse CBA/J', 'taxon_id': '10090', 'strain_collection': None, 'strain': 'CBA/J', 'release': 106}\n",
      "{'strain_collection': None, 'release': 106, 'strain': None, 'taxon_id': '8078', 'display_name': 'Mummichog', 'common_name': 'mummichog', 'name': 'fundulus_heteroclitus', 'division': 'EnsemblVertebrates', 'assembly': 'Fundulus_heteroclitus-3.0.2', 'accession': 'GCA_000826765.1', 'aliases': [], 'groups': ['funcgen', 'core', 'rnaseq', 'otherfeatures']}\n",
      "{'accession': 'GCA_000409795.2', 'assembly': 'ChlSab1.1', 'aliases': ['60711', 'chlsab', 'csab', 'csabaeus', 'vervet monkey', 'vervet-agm', 'chlorocebus sabaeus', 'chlorocebus_sabeus', 'african green monkey', 'agm', 'chlorocebus sabeus'], 'groups': ['core', 'rnaseq', 'otherfeatures', 'variation'], 'display_name': 'Vervet-AGM', 'strain_collection': None, 'strain': None, 'taxon_id': '60711', 'release': 106, 'division': 'EnsemblVertebrates', 'name': 'chlorocebus_sabaeus', 'common_name': 'African green monkey'}\n",
      "{'common_name': 'large yellow croaker', 'name': 'larimichthys_crocea', 'division': 'EnsemblVertebrates', 'strain_collection': None, 'strain': None, 'release': 106, 'taxon_id': '215358', 'display_name': 'Large yellow croaker', 'aliases': [], 'groups': ['otherfeatures', 'core', 'rnaseq'], 'assembly': 'L_crocea_2.0', 'accession': 'GCA_000972845.2'}\n",
      "{'display_name': 'Golden-collared manakin', 'strain_collection': None, 'release': 106, 'strain': None, 'taxon_id': '328815', 'division': 'EnsemblVertebrates', 'name': 'manacus_vitellinus', 'common_name': 'golden-collared manakin', 'accession': 'GCA_001715985.2', 'assembly': 'ASM171598v2', 'groups': ['rnaseq', 'core', 'otherfeatures'], 'aliases': []}\n",
      "{'common_name': 'little spotted kiwi', 'name': 'apteryx_owenii', 'division': 'EnsemblVertebrates', 'release': 106, 'strain_collection': None, 'strain': None, 'taxon_id': '8824', 'display_name': 'Little spotted kiwi', 'groups': ['rnaseq', 'core'], 'aliases': [], 'accession': 'GCA_003342965.1', 'assembly': 'aptOwe1'}\n",
      "{'assembly': 'Chrysemys_picta_bellii-3.0.3', 'accession': 'GCA_000241765.2', 'groups': ['otherfeatures', 'core', 'rnaseq'], 'aliases': [], 'strain': None, 'strain_collection': None, 'taxon_id': '8478', 'release': 106, 'display_name': 'Painted turtle', 'common_name': 'Western painted turtle', 'name': 'chrysemys_picta_bellii', 'division': 'EnsemblVertebrates'}\n",
      "{'accession': 'GCA_000690725.1', 'assembly': 'Stegastes_partitus-1.0.2', 'aliases': [], 'groups': ['core', 'rnaseq', 'otherfeatures'], 'display_name': 'Bicolor damselfish', 'taxon_id': '144197', 'strain_collection': None, 'strain': None, 'release': 106, 'name': 'stegastes_partitus', 'division': 'EnsemblVertebrates', 'common_name': 'bicolor damselfish'}\n",
      "{'groups': ['core', 'rnaseq'], 'aliases': [], 'accession': 'GCA_900700415.1', 'assembly': 'Ch_v2.0.2', 'name': 'clupea_harengus', 'division': 'EnsemblVertebrates', 'common_name': 'Atlantic herring', 'display_name': 'Atlantic herring', 'strain': None, 'strain_collection': None, 'release': 106, 'taxon_id': '7950'}\n",
      "{'display_name': 'Jewelled blenny', 'strain_collection': None, 'taxon_id': '181472', 'strain': None, 'release': 106, 'name': 'salarias_fasciatus', 'division': 'EnsemblVertebrates', 'common_name': 'jewelled blenny', 'assembly': 'fSalaFa1.1', 'accession': 'GCA_902148845.1', 'aliases': [], 'groups': ['core', 'rnaseq', 'otherfeatures']}\n",
      "{'groups': ['otherfeatures', 'variation', 'core', 'funcgen', 'rnaseq'], 'aliases': ['sscrofa', 'swine', '9823', 'sus scrofa', 'pig', 'wild boar', 'pigs', 'sscr'], 'assembly': 'Sscrofa11.1', 'accession': 'GCA_000003025.6', 'name': 'sus_scrofa', 'division': 'EnsemblVertebrates', 'common_name': 'pig', 'display_name': 'Pig', 'strain_collection': None, 'strain': 'reference', 'release': 106, 'taxon_id': '9823'}\n",
      "{'accession': 'GCA_004802775.1', 'assembly': 'Astyanax_mexicanus-1.0.2', 'aliases': [], 'groups': ['rnaseq', 'core'], 'display_name': 'Pachon cavefish', 'strain_collection': None, 'strain': None, 'release': 106, 'taxon_id': '7994', 'division': 'EnsemblVertebrates', 'name': 'astyanax_mexicanus_pachon', 'common_name': 'Pachon cavefish'}\n",
      "{'aliases': [], 'groups': ['otherfeatures', 'rnaseq', 'core'], 'assembly': 'AmpOce1.0', 'accession': 'GCA_002776465.1', 'common_name': 'clown anemonefish', 'name': 'amphiprion_ocellaris', 'division': 'EnsemblVertebrates', 'strain_collection': None, 'strain': None, 'release': 106, 'taxon_id': '80972', 'display_name': 'Clown anemonefish'}\n",
      "{'common_name': 'Domestic ferret', 'division': 'EnsemblVertebrates', 'name': 'mustela_putorius_furo', 'strain_collection': None, 'strain': None, 'taxon_id': '9669', 'release': 106, 'display_name': 'Ferret', 'groups': ['otherfeatures', 'core', 'rnaseq'], 'aliases': ['mustela putorius furo', 'ferret', 'mputorius_furo', 'musput', 'mput', 'domestic ferret', '9669'], 'accession': 'GCA_000215625.1', 'assembly': 'MusPutFur1.0'}\n",
      "{'accession': 'GCA_900095145.2', 'assembly': 'PAHARI_EIJ_v1.1', 'aliases': ['mpahari', 'shrew mouse', 'mpah', '10093', 'mus pahari', 'muspah'], 'groups': ['core'], 'strain_collection': None, 'taxon_id': '10093', 'strain': 'PAHARI_EIJ', 'release': 106, 'display_name': 'Shrew mouse', 'common_name': 'Shrew mouse', 'division': 'EnsemblVertebrates', 'name': 'mus_pahari'}\n",
      "{'display_name': 'Brown trout', 'release': 106, 'strain_collection': None, 'strain': None, 'taxon_id': '8032', 'division': 'EnsemblVertebrates', 'name': 'salmo_trutta', 'common_name': 'brown trout', 'assembly': 'fSalTru1.1', 'accession': 'GCA_901001165.1', 'groups': ['otherfeatures', 'core', 'rnaseq'], 'aliases': []}\n",
      "{'assembly': 'Sedor1', 'accession': 'GCA_002814215.1', 'aliases': [], 'groups': ['otherfeatures', 'core', 'rnaseq'], 'display_name': 'Yellowtail amberjack', 'strain': None, 'strain_collection': None, 'release': 106, 'taxon_id': '1841481', 'division': 'EnsemblVertebrates', 'name': 'seriola_lalandi_dorsalis', 'common_name': 'yellowtail amberjack'}\n",
      "{'common_name': 'dog', 'name': 'canis_lupus_familiaris', 'division': 'EnsemblVertebrates', 'strain_collection': None, 'strain': 'Labrador retriever', 'taxon_id': '9615', 'release': 106, 'display_name': 'Dog', 'groups': ['variation', 'otherfeatures', 'rnaseq', 'core', 'funcgen'], 'aliases': ['canis lupus familiaris', 'canis familiaris', 'dog'], 'assembly': 'ROS_Cfam_1.0', 'accession': 'GCA_014441545.1'}\n",
      "{'groups': ['rnaseq', 'core', 'otherfeatures'], 'aliases': [], 'accession': 'GCA_001515625.1', 'assembly': 'SAMN03320098_v1.1', 'common_name': 'horned golden-line barbel', 'division': 'EnsemblVertebrates', 'name': 'sinocyclocheilus_rhinocerous', 'strain_collection': None, 'strain': None, 'taxon_id': '307959', 'release': 106, 'display_name': 'Horned golden-line barbel'}\n",
      "{'division': 'EnsemblVertebrates', 'name': 'cercocebus_atys', 'common_name': 'Sooty mangabey', 'display_name': 'Sooty mangabey', 'strain': None, 'strain_collection': None, 'release': 106, 'taxon_id': '9531', 'aliases': [], 'groups': ['core', 'funcgen', 'rnaseq', 'otherfeatures'], 'accession': 'GCA_000955945.1', 'assembly': 'Caty_1.0'}\n",
      "{'groups': ['rnaseq', 'core', 'otherfeatures'], 'aliases': [], 'accession': 'GCA_902148855.1', 'assembly': 'fSphaOr1.1', 'common_name': 'orbiculate cardinalfish', 'division': 'EnsemblVertebrates', 'name': 'sphaeramia_orbicularis', 'strain_collection': None, 'release': 106, 'strain': None, 'taxon_id': '375764', 'display_name': 'Orbiculate cardinalfish'}\n",
      "{'common_name': 'lyretail cichlid', 'name': 'neolamprologus_brichardi', 'division': 'EnsemblVertebrates', 'strain_collection': None, 'strain': None, 'release': 106, 'taxon_id': '32507', 'display_name': 'Lyretail cichlid', 'aliases': [], 'groups': ['rnaseq', 'core', 'otherfeatures'], 'assembly': 'NeoBri1.0', 'accession': 'GCA_000239395.1'}\n",
      "{'accession': 'GCA_001515605.1', 'assembly': 'SAMN03320099.WGS_v1.1', 'aliases': [], 'groups': ['otherfeatures', 'rnaseq', 'core'], 'taxon_id': '1608454', 'strain_collection': None, 'strain': None, 'release': 106, 'display_name': 'Blind barbel', 'common_name': 'blind barbel', 'division': 'EnsemblVertebrates', 'name': 'sinocyclocheilus_anshuiensis'}\n",
      "{'aliases': ['ecaballus', 'horse', 'ecab', '9796', 'equuscaballus', 'equus caballus', 'equcab'], 'groups': ['otherfeatures', 'variation', 'rnaseq', 'funcgen', 'core'], 'accession': 'GCA_002863925.1', 'assembly': 'EquCab3.0', 'common_name': 'horse', 'name': 'equus_caballus', 'division': 'EnsemblVertebrates', 'strain_collection': None, 'taxon_id': '9796', 'strain': None, 'release': 106, 'display_name': 'Horse'}\n",
      "{'assembly': '129S1_SvImJ_v1', 'accession': 'GCA_001624185.1', 'groups': ['core', 'funcgen'], 'aliases': [], 'display_name': 'Mouse 129S1/SvImJ', 'strain_collection': None, 'strain': '129S1/SvImJ', 'release': 106, 'taxon_id': '10090', 'division': 'EnsemblVertebrates', 'name': 'mus_musculus_129s1svimj', 'common_name': 'mouse'}\n",
      "{'display_name': 'Pig-tailed macaque', 'strain_collection': None, 'strain': None, 'taxon_id': '9545', 'release': 106, 'name': 'macaca_nemestrina', 'division': 'EnsemblVertebrates', 'common_name': 'Pig-tailed macaque', 'accession': 'GCA_000956065.1', 'assembly': 'Mnem_1.0', 'groups': ['otherfeatures', 'funcgen', 'core', 'rnaseq'], 'aliases': []}\n",
      "{'release': 106, 'strain_collection': None, 'strain': None, 'taxon_id': '48698', 'display_name': 'Amazon molly', 'common_name': 'Amazon molly', 'division': 'EnsemblVertebrates', 'name': 'poecilia_formosa', 'assembly': 'PoeFor_5.1.2', 'accession': 'GCA_000485575.1', 'groups': ['core', 'rnaseq', 'otherfeatures'], 'aliases': ['pfor', '48698', 'pformosa', 'poecilia formosa', 'poefor', 'amazon molly']}\n",
      "{'groups': ['rnaseq', 'core'], 'aliases': [], 'accession': 'GCA_902686455.1', 'assembly': 'mSciVul1.1', 'common_name': 'Eurasian red squirrel', 'division': 'EnsemblVertebrates', 'name': 'sciurus_vulgaris', 'strain_collection': None, 'release': 106, 'strain': None, 'taxon_id': '55149', 'display_name': 'Eurasian red squirrel'}\n",
      "{'groups': ['rnaseq', 'core'], 'aliases': [], 'accession': 'GCA_002922805.1', 'assembly': 'Om_v0.7.RACA', 'name': 'oryzias_melastigma', 'division': 'EnsemblVertebrates', 'common_name': 'Indian medaka', 'display_name': 'Indian medaka', 'taxon_id': '30732', 'strain_collection': None, 'strain': None, 'release': 106}\n",
      "{'common_name': 'Collared flycatcher', 'name': 'ficedula_albicollis', 'division': 'EnsemblVertebrates', 'strain_collection': None, 'strain': None, 'taxon_id': '59894', 'release': 106, 'display_name': 'Collared flycatcher', 'groups': ['core', 'rnaseq', 'otherfeatures'], 'aliases': [], 'accession': 'GCA_000247815.2', 'assembly': 'FicAlb1.5'}\n"
     ]
    }
   ],
   "source": [
    "!pypgatk_cli.py ensembl-downloader -c config/ensembl_downloader_config.yaml -l -sv -sg -sp -sc -sd -sn "
   ]
  },
  {
   "cell_type": "markdown",
   "id": "9f6f0d19",
   "metadata": {
    "slideshow": {
     "slide_type": "slide"
    }
   },
   "source": [
    "Let's download reference files except VCF (variants) for `Meleagris_gallopavo.Turkey` (taxonomy id: 9103) into a folder named ensembl_files"
   ]
  },
  {
   "cell_type": "code",
   "execution_count": 7,
   "id": "a3e52896",
   "metadata": {
    "slideshow": {
     "slide_type": "subslide"
    }
   },
   "outputs": [
    {
     "name": "stdout",
     "output_type": "stream",
     "text": [
      "Determination of memory status is not supported on this \n",
      " platform, measuring for memoryleaks will never fail\n",
      "Downloading --  ftp://ftp.ensembl.org/pub/release-106/fasta/meleagris_gallopavo/pep/Meleagris_gallopavo.Turkey_5.1.pep.all.fa.gz\n",
      "DEBUG:pypgatk.toolbox.general:Files downloaded -- ensembl_files/Meleagris_gallopavo.Turkey_5.1.pep.all.fa,ensembl_files/Meleagris_gallopavo.Turkey_5.1.106.gtf,ensembl_files/Meleagris_gallopavo.Turkey_5.1.cds.all.fa,ensembl_files/Meleagris_gallopavo.Turkey_5.1.cdna.all.fa,ensembl_files/Meleagris_gallopavo.Turkey_5.1.ncrna.fa,ensembl_files/Meleagris_gallopavo.Turkey_5.1.dna_sm.toplevel.fa\n",
      "INFO:Main Pipeline Ensembl Downloader:Pipeline Finish !!!\n"
     ]
    }
   ],
   "source": [
    "!pypgatk_cli.py ensembl-downloader -c config/ensembl_downloader_config.yaml -t 9103 -o ensembl_files --skip_vcf"
   ]
  },
  {
   "cell_type": "markdown",
   "id": "3ae49c10",
   "metadata": {
    "slideshow": {
     "slide_type": "subslide"
    }
   },
   "source": [
    "Check the contents of the ensembl_files on your computer system, you should see the following files downloaded:"
   ]
  },
  {
   "cell_type": "code",
   "execution_count": 8,
   "id": "bd4bf472",
   "metadata": {
    "slideshow": {
     "slide_type": "subslide"
    }
   },
   "outputs": [
    {
     "data": {
      "text/plain": [
       "['Meleagris_gallopavo.Turkey_5.1.106.gtf',\n",
       " 'Meleagris_gallopavo.Turkey_5.1.dna_sm.toplevel.fa',\n",
       " 'Meleagris_gallopavo.Turkey_5.1.pep.all.fa',\n",
       " 'Meleagris_gallopavo.Turkey_5.1.ncrna.fa',\n",
       " 'Meleagris_gallopavo.Turkey_5.1.cds.all.fa',\n",
       " 'Meleagris_gallopavo.Turkey_5.1.cdna.all.fa']"
      ]
     },
     "execution_count": 8,
     "metadata": {},
     "output_type": "execute_result"
    }
   ],
   "source": [
    "os.listdir('ensembl_files')"
   ]
  },
  {
   "cell_type": "markdown",
   "id": "4aa27dc7",
   "metadata": {
    "slideshow": {
     "slide_type": "slide"
    }
   },
   "source": [
    "#### Convert GTF (can be reference or custom from RNA-seq) to DNA sequences\n",
    "Although the cdna.fa and ncrna.fa files can be used as reference DNA, but we wull use  GTF since it provides more flexibility to select desired transcript types. Also, when running your own RNA-seq experiments you usually get a GTF file as a final output therefore it is better to learn how to translate transcripts starting from a GTF file.\n",
    "\n",
    "However, since the `dnaseq-to-proteindb` tool only accepts FASTA files as input, we first need to convert the GTF into FASTA using gffread that is a separate tool.\n"
   ]
  },
  {
   "cell_type": "code",
   "execution_count": 9,
   "id": "2254ac9b",
   "metadata": {
    "slideshow": {
     "slide_type": "subslide"
    }
   },
   "outputs": [
    {
     "name": "stdout",
     "output_type": "stream",
     "text": [
      "FASTA index file ensembl_files/Meleagris_gallopavo.Turkey_5.1.dna_sm.toplevel.fa.fai created.\n",
      "\n",
      "Generated: 30708 transcript sequences from the GTF file\n"
     ]
    }
   ],
   "source": [
    "if not os.path.isfile('ensembl_files/Meleagris_gallopavo.Turkey_5.1.106.fa'):\n",
    "    !./gffread -F -w ensembl_files/Meleagris_gallopavo.Turkey_5.1.106.fa -g ensembl_files/Meleagris_gallopavo.Turkey_5.1.dna_sm.toplevel.fa ensembl_files/Meleagris_gallopavo.Turkey_5.1.106.gtf\n",
    "if os.path.isfile('ensembl_files/Meleagris_gallopavo.Turkey_5.1.106.fa'):\n",
    "    print(\"\\nGenerated: {} transcript sequences from the GTF file\".format(\n",
    "        len(list(SeqIO.index('ensembl_files/Meleagris_gallopavo.Turkey_5.1.106.fa', \"fasta\").keys()))))"
   ]
  },
  {
   "cell_type": "markdown",
   "id": "5f6ceddc",
   "metadata": {
    "slideshow": {
     "slide_type": "slide"
    }
   },
   "source": [
    "Now that we have the DNA fasta file ready to be used, let's take a look at the parameters that can be applied:"
   ]
  },
  {
   "cell_type": "code",
   "execution_count": 10,
   "id": "0e23d677",
   "metadata": {
    "scrolled": true,
    "slideshow": {
     "slide_type": "subslide"
    }
   },
   "outputs": [
    {
     "name": "stdout",
     "output_type": "stream",
     "text": [
      "Determination of memory status is not supported on this \n",
      " platform, measuring for memoryleaks will never fail\n",
      "Usage: pypgatk_cli.py dnaseq-to-proteindb [OPTIONS]\n",
      "\n",
      "Options:\n",
      "  -c, --config_file TEXT          Configuration to perform conversion between\n",
      "                                  ENSEMBL Files\n",
      "  --input_fasta TEXT              Path to sequences fasta\n",
      "  --translation_table INTEGER     Translation Table (default 1)\n",
      "  --num_orfs INTEGER              Number of ORFs (default 3)\n",
      "  --num_orfs_complement INTEGER   Number of ORFs from the reverse side\n",
      "                                  (default 0)\n",
      "  --output_proteindb TEXT         Output file name, exits if already exists\n",
      "  -p, --var_prefix TEXT           String to add before the variant peptides\n",
      "  --skip_including_all_cds        By default any transcript that has a defined\n",
      "                                  CDS will be translated, this option disables\n",
      "                                  this features instead it only depends on the\n",
      "                                  biotypes\n",
      "  --include_biotypes TEXT         Include Biotypes\n",
      "  --exclude_biotypes TEXT         Exclude Biotypes\n",
      "  --biotype_str TEXT              String used to identify gene/transcript\n",
      "                                  biotype in the gtf file.\n",
      "  --transcript_description_sep TEXT\n",
      "                                  Separator used to separate features in the\n",
      "                                  fasta headers, usually either (space, / or\n",
      "                                  semicolon).\n",
      "  --expression_str TEXT           String to be used for extracting expression\n",
      "                                  value (TPM, FPKM, etc).\n",
      "  --expression_thresh FLOAT       Threshold used to filter transcripts based\n",
      "                                  on their expression values\n",
      "  -h, --help                      Show this message and exit.\n"
     ]
    }
   ],
   "source": [
    "!pypgatk_cli.py dnaseq-to-proteindb  -h"
   ]
  },
  {
   "cell_type": "markdown",
   "id": "3854d360",
   "metadata": {
    "slideshow": {
     "slide_type": "slide"
    }
   },
   "source": [
    "#### Generate a protein database from lncRNAs only\n",
    "*Use the include_biotypes flag to specify what kind of transcripts should be translated. See ensembl biotypes: http://www.ensembl.org/info/genome/genebuild/biotypes.html"
   ]
  },
  {
   "cell_type": "code",
   "execution_count": 11,
   "id": "71a84c4c",
   "metadata": {
    "slideshow": {
     "slide_type": "subslide"
    }
   },
   "outputs": [
    {
     "name": "stdout",
     "output_type": "stream",
     "text": [
      "Determination of memory status is not supported on this \n",
      " platform, measuring for memoryleaks will never fail\n",
      "/Users/husen/opt/anaconda3/envs/pygatk/lib/python3.8/site-packages/Bio/Seq.py:2606: BiopythonWarning: Partial codon, len(sequence) not a multiple of three. Explicitly trim the sequence or add trailing N before translation. This may become an error in future.\n",
      "  warnings.warn(\"Partial codon, len(sequence) not a multiple of three. \"\n",
      "\n",
      "Generated: dict_items([('lncRNA', 5109)])\n"
     ]
    }
   ],
   "source": [
    "!pypgatk_cli.py dnaseq-to-proteindb --config_file config/ensembl_config.yaml --input_fasta ensembl_files/Meleagris_gallopavo.Turkey_5.1.106.fa --output_proteindb lncRNAs.fa --skip_including_all_cds --var_prefix lncRNA_ --include_biotypes lncRNA --output_proteindb lncRNAs.fa\n",
    "\n",
    "print(\"\\nGenerated:\", Counter([x.split('_')[0] for x in list(SeqIO.index('lncRNAs.fa', \"fasta\").keys())]).items())\n"
   ]
  },
  {
   "cell_type": "markdown",
   "id": "a6ce9b58",
   "metadata": {
    "slideshow": {
     "slide_type": "slide"
    }
   },
   "source": [
    "#### Generate protein database from other non-coding RNAs"
   ]
  },
  {
   "cell_type": "code",
   "execution_count": 12,
   "id": "e63a90af",
   "metadata": {
    "slideshow": {
     "slide_type": "subslide"
    }
   },
   "outputs": [
    {
     "name": "stdout",
     "output_type": "stream",
     "text": [
      "Determination of memory status is not supported on this \n",
      " platform, measuring for memoryleaks will never fail\n",
      "/Users/husen/opt/anaconda3/envs/pygatk/lib/python3.8/site-packages/Bio/Seq.py:2606: BiopythonWarning: Partial codon, len(sequence) not a multiple of three. Explicitly trim the sequence or add trailing N before translation. This may become an error in future.\n",
      "  warnings.warn(\"Partial codon, len(sequence) not a multiple of three. \"\n",
      "\n",
      "Generated: dict_items([('ncRNA', 1500)])\n"
     ]
    }
   ],
   "source": [
    "!pypgatk_cli.py dnaseq-to-proteindb --config_file config/ensembl_config.yaml --input_fasta ensembl_files/Meleagris_gallopavo.Turkey_5.1.106.fa --output_proteindb ncRNAs.fa --skip_including_all_cds --var_prefix ncRNA_ --include_biotypes miRNA,miscRNA,piRNA,rRNA,siRNA,snRNA,snoRNA,tRNA,vaultRNA\n",
    "\n",
    "print(\"\\nGenerated:\", Counter([x.split('_')[0] for x in list(SeqIO.index('ncRNAs.fa', \"fasta\").keys())]).items())\n"
   ]
  },
  {
   "cell_type": "markdown",
   "id": "56d4bf8c",
   "metadata": {
    "slideshow": {
     "slide_type": "slide"
    }
   },
   "source": [
    "#### Generate protein database from alternative reading frames of coding sequences"
   ]
  },
  {
   "cell_type": "code",
   "execution_count": 13,
   "id": "228362a6",
   "metadata": {
    "slideshow": {
     "slide_type": "subslide"
    }
   },
   "outputs": [
    {
     "name": "stdout",
     "output_type": "stream",
     "text": [
      "Determination of memory status is not supported on this \n",
      " platform, measuring for memoryleaks will never fail\n",
      "/Users/husen/opt/anaconda3/envs/pygatk/lib/python3.8/site-packages/Bio/Seq.py:2606: BiopythonWarning: Partial codon, len(sequence) not a multiple of three. Explicitly trim the sequence or add trailing N before translation. This may become an error in future.\n",
      "  warnings.warn(\"Partial codon, len(sequence) not a multiple of three. \"\n",
      "\n",
      "Generated: dict_items([('altORF', 84885)])\n"
     ]
    }
   ],
   "source": [
    "!pypgatk_cli.py dnaseq-to-proteindb --config_file config/ensembl_config.yaml --input_fasta ensembl_files/Meleagris_gallopavo.Turkey_5.1.106.fa --output_proteindb altORFs.fa --skip_including_all_cds --var_prefix altORF_ --include_biotypes altORFs\n",
    "\n",
    "print(\"\\nGenerated:\", Counter([x.split('_')[0] for x in list(SeqIO.index('altORFs.fa', \"fasta\").keys())]).items())\n"
   ]
  },
  {
   "cell_type": "markdown",
   "id": "88a8f5f6",
   "metadata": {
    "slideshow": {
     "slide_type": "slide"
    }
   },
   "source": [
    "#### Generate a protein database from pseudogenes? "
   ]
  },
  {
   "cell_type": "code",
   "execution_count": 14,
   "id": "069f0fd3",
   "metadata": {
    "slideshow": {
     "slide_type": "subslide"
    }
   },
   "outputs": [
    {
     "name": "stdout",
     "output_type": "stream",
     "text": [
      "Determination of memory status is not supported on this \n",
      " platform, measuring for memoryleaks will never fail\n",
      "/Users/husen/opt/anaconda3/envs/pygatk/lib/python3.8/site-packages/Bio/Seq.py:2606: BiopythonWarning: Partial codon, len(sequence) not a multiple of three. Explicitly trim the sequence or add trailing N before translation. This may become an error in future.\n",
      "  warnings.warn(\"Partial codon, len(sequence) not a multiple of three. \"\n",
      "\n",
      "Generated: dict_items([('pesuedogene', 477)])\n"
     ]
    }
   ],
   "source": [
    "!pypgatk_cli.py dnaseq-to-proteindb --config_file config/ensembl_config.yaml --input_fasta ensembl_files/Meleagris_gallopavo.Turkey_5.1.106.fa --output_proteindb pesuedogenes.fa --skip_including_all_cds --var_prefix pesuedogene_ --include_biotypes pseudogene,processed_pseudogene\n",
    "\n",
    "print(\"\\nGenerated:\", Counter([x.split('_')[0] for x in list(SeqIO.index('pesuedogenes.fa', \"fasta\").keys())]).items())\n"
   ]
  },
  {
   "cell_type": "markdown",
   "id": "abe14dba",
   "metadata": {
    "slideshow": {
     "slide_type": "slide"
    }
   },
   "source": [
    "### Concatenate the generated protein databases with reference proteome"
   ]
  },
  {
   "cell_type": "code",
   "execution_count": 15,
   "id": "590ff8aa",
   "metadata": {
    "slideshow": {
     "slide_type": "subslide"
    }
   },
   "outputs": [
    {
     "data": {
      "text/plain": [
       "dict_items([('lncRNA', 5109), ('pesuedogene', 477), ('ncRNA', 1500), ('altORF', 84885), ('Can', 28295)])"
      ]
     },
     "execution_count": 15,
     "metadata": {},
     "output_type": "execute_result"
    }
   ],
   "source": [
    "!cat lncRNAs.fa pesuedogenes.fa ncRNAs.fa altORFs.fa ensembl_files/Meleagris_gallopavo.Turkey_5.1.pep.all.fa > proteins.fa\n",
    "\n",
    "Counter([x.replace('ENS','Can_ENS').split('_')[0] for x in list(SeqIO.index('proteins.fa', \"fasta\").keys())]).items()\n"
   ]
  },
  {
   "cell_type": "markdown",
   "id": "8e5c08d5",
   "metadata": {},
   "source": [
    "### Generate decoy protein sequences"
   ]
  },
  {
   "cell_type": "code",
   "execution_count": 16,
   "id": "9f2c55ef",
   "metadata": {},
   "outputs": [
    {
     "name": "stdout",
     "output_type": "stream",
     "text": [
      "Determination of memory status is not supported on this \n",
      " platform, measuring for memoryleaks will never fail\n",
      "Number of target peptides: 1942273 and Decoy Peptides: 1960607\n",
      "% Target peptides 49.8\n",
      "% Decoy peptides 50.2\n",
      "Number of peptides in Target and Decoy 12250, Percentage 0.3\n",
      "Aminoacid composition rate for A (Target/Decoy) = 1.0 \n",
      "Aminoacid composition rate for C (Target/Decoy) = 1.0 \n",
      "Aminoacid composition rate for D (Target/Decoy) = 1.0 \n",
      "Aminoacid composition rate for E (Target/Decoy) = 1.0 \n",
      "Aminoacid composition rate for F (Target/Decoy) = 1.0 \n",
      "Aminoacid composition rate for G (Target/Decoy) = 1.0 \n",
      "Aminoacid composition rate for H (Target/Decoy) = 1.0 \n",
      "Aminoacid composition rate for I (Target/Decoy) = 1.0 \n",
      "Aminoacid composition rate for K (Target/Decoy) = 1.0 \n",
      "Aminoacid composition rate for L (Target/Decoy) = 1.0 \n",
      "Aminoacid composition rate for M (Target/Decoy) = 1.0 \n",
      "Aminoacid composition rate for N (Target/Decoy) = 1.0 \n",
      "Aminoacid composition rate for P (Target/Decoy) = 1.0 \n",
      "Aminoacid composition rate for Q (Target/Decoy) = 1.0 \n",
      "Aminoacid composition rate for R (Target/Decoy) = 1.0 \n",
      "Aminoacid composition rate for S (Target/Decoy) = 1.0 \n",
      "Aminoacid composition rate for T (Target/Decoy) = 1.0 \n",
      "Aminoacid composition rate for V (Target/Decoy) = 1.0 \n",
      "Aminoacid composition rate for W (Target/Decoy) = 1.0 \n",
      "Aminoacid composition rate for Y (Target/Decoy) = 1.0 \n",
      "Aminoacid composition rate for U (Target/Decoy) = 1.0 \n",
      "Aminoacid composition rate for X (Target/Decoy) = 1.0 \n"
     ]
    },
    {
     "data": {
      "text/plain": [
       "dict_items([('lncRNA', 5109), ('DECOY', 120266), ('pesuedogene', 477), ('ncRNA', 1500), ('altORF', 84885), ('Can', 28295)])"
      ]
     },
     "execution_count": 16,
     "metadata": {},
     "output_type": "execute_result"
    }
   ],
   "source": [
    "!pypgatk_cli.py generate-decoy -c config/protein_decoy.yaml -in proteins.fa -out decoys.fa\n",
    "\n",
    "Counter([x.replace('ENS','Can_ENS').split('_')[0] for x in list(SeqIO.index('decoys.fa', \"fasta\").keys())]).items()\n"
   ]
  },
  {
   "cell_type": "markdown",
   "id": "7aa09bc8",
   "metadata": {
    "slideshow": {
     "slide_type": "slide"
    }
   },
   "source": [
    "#### Perform six-frame translation on DNA seqyence"
   ]
  },
  {
   "cell_type": "code",
   "execution_count": 17,
   "id": "b204e3b4",
   "metadata": {
    "slideshow": {
     "slide_type": "subslide"
    }
   },
   "outputs": [
    {
     "name": "stdout",
     "output_type": "stream",
     "text": [
      "Determination of memory status is not supported on this \n",
      " platform, measuring for memoryleaks will never fail\n",
      "/Users/husen/opt/anaconda3/envs/pygatk/lib/python3.8/site-packages/Bio/Seq.py:2606: BiopythonWarning: Partial codon, len(sequence) not a multiple of three. Explicitly trim the sequence or add trailing N before translation. This may become an error in future.\n",
      "  warnings.warn(\"Partial codon, len(sequence) not a multiple of three. \"\n"
     ]
    },
    {
     "data": {
      "text/plain": [
       "dict_items([('sixframe', 184248)])"
      ]
     },
     "execution_count": 17,
     "metadata": {},
     "output_type": "execute_result"
    }
   ],
   "source": [
    "!pypgatk_cli.py dnaseq-to-proteindb --config_file config/ensembl_config.yaml --skip_including_all_cds --input_fasta ensembl_files/Meleagris_gallopavo.Turkey_5.1.106.fa --output_proteindb sixframes.fa --var_prefix sixframe_  --num_orfs 3 --num_orfs_complement 3 --include_biotypes all\n",
    "\n",
    "Counter([x.split('_')[0] for x in list(SeqIO.index('sixframes.fa', \"fasta\").keys())]).items()\n"
   ]
  },
  {
   "cell_type": "code",
   "execution_count": 18,
   "id": "8c5a1f32",
   "metadata": {
    "slideshow": {
     "slide_type": "slide"
    }
   },
   "outputs": [],
   "source": [
    "#function to digest proteins\n",
    "\n",
    "def trypsin_digestion(proseq_incl_stop, miss_cleavage=0):\n",
    "    \"digest peptides using the tryptic rule, allowing for miss cleavages\"\n",
    "    all_peptides = []\n",
    "    for protseq in proseq_incl_stop.split('*'):\n",
    "        if len(protseq)<=0:\n",
    "            continue\n",
    "        peptides = []\n",
    "        peptide = ''\n",
    "        \"remove the first K/R if in the begining of a reading frame\"\n",
    "        protseq_updated = protseq[0::]\n",
    "        if protseq[0]=='K' or protseq[0]=='R' and len(protseq)>1:\n",
    "            protseq_updated = protseq[1::]\n",
    "\n",
    "        for c, aa in enumerate(protseq_updated):\n",
    "            peptide += aa\n",
    "            next_aa = ''\n",
    "            try:\n",
    "                next_aa = protseq_updated[c + 1]\n",
    "            except IndexError:\n",
    "                pass\n",
    "\n",
    "            if aa in ['K', 'R'] and next_aa != 'P':  # for trypsin peptides\n",
    "                if len(peptide) > 0:\n",
    "                    peptides.append(peptide)\n",
    "                peptide = ''\n",
    "                continue\n",
    "\n",
    "        if len(peptide) > 0:\n",
    "            peptides.append(peptide)\n",
    "\n",
    "        peptides_with_miss_cleavage = []\n",
    "        for i in range(1, miss_cleavage + 1):\n",
    "            for j, pep in enumerate(peptides):\n",
    "                if j + i < len(peptides):\n",
    "                    peptide = ''.join([x for x in (peptides[j:j + i + 1])])\n",
    "                    peptides_with_miss_cleavage.append(peptide)\n",
    "\n",
    "        peptides.extend(peptides_with_miss_cleavage)\n",
    "        all_peptides.extend(peptides)\n",
    "\n",
    "    return all_peptides"
   ]
  },
  {
   "cell_type": "markdown",
   "id": "300c2798",
   "metadata": {},
   "source": [
    "#### Investigate the overlap between tryptic peptides from various categories!"
   ]
  },
  {
   "cell_type": "code",
   "execution_count": 19,
   "id": "d702f439",
   "metadata": {
    "slideshow": {
     "slide_type": "subslide"
    }
   },
   "outputs": [
    {
     "name": "stdout",
     "output_type": "stream",
     "text": [
      "Number of tryptic peptides per type:\n",
      " lncRNA = 170307\n",
      "pesuedogene = 32431\n",
      "ncRNA = 4565\n",
      "altORF = 2075045\n",
      "Can = 525753\n"
     ]
    }
   ],
   "source": [
    "#Specify protein files to use\n",
    "prot_files = ['proteins.fa']#, 'sixframes.fa']\n",
    "\n",
    "proteins = {}\n",
    "for prot_file in prot_files:\n",
    "    for record in SeqIO.parse(prot_file, 'fasta'):\n",
    "        prot_type = str(record.id).replace('ENS', 'Can_ENS').split('_')[0]\n",
    "        try:\n",
    "            proteins[prot_type].extend(trypsin_digestion(str(record.seq)))\n",
    "        except KeyError:\n",
    "            proteins[prot_type] = trypsin_digestion(str(record.seq))\n",
    "\n",
    "#unify\n",
    "for prot_type in proteins.keys():\n",
    "    proteins[prot_type] = set(proteins[prot_type])\n",
    "\n",
    "print('Number of tryptic peptides per type:\\n', '\\n'.join([k+' = '+str(len(items)) for k,items in proteins.items()]))"
   ]
  },
  {
   "cell_type": "code",
   "execution_count": 20,
   "id": "1d9241bd",
   "metadata": {
    "scrolled": true,
    "slideshow": {
     "slide_type": "slide"
    }
   },
   "outputs": [
    {
     "data": {
      "image/png": "[encoded data removed]",
      "text/plain": [
       "<Figure size 1440x720 with 3 Axes>"
      ]
     },
     "metadata": {
      "needs_background": "light"
     },
     "output_type": "display_data"
    }
   ],
   "source": [
    "###Optional\n",
    "#make a supervenn to plot the overlaps (takes some time)\n",
    "try:\n",
    "    from supervenn import supervenn\n",
    "except ModuleNotFoundError:\n",
    "    !pip install supervenn #does not work for some reason it looks at the base env for this package (print(sys.executable) )\n",
    "\n",
    "\n",
    "labels = list(proteins.keys())\n",
    "sets = [proteins[x] for x in proteins.keys()]\n",
    "\n",
    "plt.figure(figsize=(20, 10))\n",
    "supervenn(sets, labels, min_width_for_annotation=10000, rotate_col_annotations=True, \n",
    "          side_plots='right', chunks_ordering='occurrence', alternating_background= False)\n",
    "plt.grid(False)\n",
    "plt.savefig('baroverlap.svg')"
   ]
  },
  {
   "cell_type": "markdown",
   "id": "52842789",
   "metadata": {
    "slideshow": {
     "slide_type": "subslide"
    }
   },
   "source": [
    "#### Try to also show peptides from the six-frame translation? any speculations how they would look like?"
   ]
  },
  {
   "cell_type": "code",
   "execution_count": null,
   "id": "2cc680fb",
   "metadata": {},
   "outputs": [],
   "source": [
    "#write your code here to make a supervenn to show six-frame peptides and the other proteins"
   ]
  },
  {
   "cell_type": "markdown",
   "id": "61404e7e",
   "metadata": {
    "slideshow": {
     "slide_type": "slide"
    }
   },
   "source": [
    "# Part 3: Mutations to Proteins (cBioPortal) -- To be Completed\n",
    "\n",
    "\n",
    "In this part we will use the `cbioportal-downloader` and `cbioportal-to-proteindb` command to translate mutations from cancer studies in cBioPortal (https://www.cbioportal.org/).\n",
    "\n",
    "\n",
    "First we need to specify what study to download from cBioPortal (see -l flag): \n",
    "\n",
    "\n",
    "\n",
    "Check the flags below to know what flags to use."
   ]
  },
  {
   "cell_type": "code",
   "execution_count": null,
   "id": "3c3eddfc",
   "metadata": {
    "slideshow": {
     "slide_type": "subslide"
    }
   },
   "outputs": [],
   "source": [
    "!pypgatk_cli.py cbioportal-downloader -h"
   ]
  },
  {
   "cell_type": "markdown",
   "id": "572f26ec",
   "metadata": {
    "slideshow": {
     "slide_type": "subslide"
    }
   },
   "source": [
    "#### Download data for study ID blca_mskcc_solit_2014"
   ]
  },
  {
   "cell_type": "code",
   "execution_count": null,
   "id": "c700b496",
   "metadata": {
    "slideshow": {
     "slide_type": "subslide"
    }
   },
   "outputs": [],
   "source": [
    "!pypgatk_cli.py cbioportal-downloader -c config/cbioportal_config.yaml -d blca_mskcc_solit_2014 -o ./\n",
    "!tar -xzvf blca_mskcc_solit_2014.tar\n",
    "#Download linking CDSs (the mutations are aligned to hg37)\n",
    "!wget ftp://ftp.ensembl.org/pub/release-75/fasta/homo_sapiens/cds/Homo_sapiens.GRCh37.75.cds.all.fa.gz\n",
    "!gunzip *.gz"
   ]
  },
  {
   "cell_type": "markdown",
   "id": "b1a42ac4",
   "metadata": {},
   "source": [
    "The files are downloaded into a directory with the same name as the study ID. It contains several files but we only need the following two files:\n",
    "- `data_clinical_sample.txt`: \n",
    "\n",
    "    This file contains metada or clinical information about each of the samples in the study\n",
    "    \n",
    "    \n",
    "- `data_mutations.txt` (it might have slightly different names depending on the cBioPortal version): \n",
    "\n",
    "    This file contains the list of mutations identified in this study\n"
   ]
  },
  {
   "cell_type": "markdown",
   "id": "b31ddfcb",
   "metadata": {
    "slideshow": {
     "slide_type": "subslide"
    }
   },
   "source": [
    "#### Translate the downloaded set of mutations\n",
    "\n",
    "First check what options you have!"
   ]
  },
  {
   "cell_type": "code",
   "execution_count": null,
   "id": "fd4d03f8",
   "metadata": {
    "slideshow": {
     "slide_type": "subslide"
    }
   },
   "outputs": [],
   "source": [
    "!pypgatk_cli.py cbioportal-to-proteindb -h"
   ]
  },
  {
   "cell_type": "code",
   "execution_count": null,
   "id": "3581314b",
   "metadata": {
    "slideshow": {
     "slide_type": "subslide"
    }
   },
   "outputs": [],
   "source": [
    "\n",
    "!pypgatk_cli.py cbioportal-to-proteindb --config_file config/cbioportal_config.yaml --input_cds Homo_sapiens.GRCh37.75.cds.all.fa --input_mutation blca_mskcc_solit_2014/data_mutations.txt --clinical_sample_file blca_mskcc_solit_2014/data_clinical_sample.txt --output_db bladder_proteindb.fa\n",
    "\n",
    "Counter([x.split(':')[0] for x in list(SeqIO.index('bladder_proteindb.fa', \"fasta\").keys())]).items()\n"
   ]
  },
  {
   "cell_type": "markdown",
   "id": "612fca86",
   "metadata": {},
   "source": [
    "Optionally, you can filter the samples based on any of the columns in the data_clinical_sample.txt. First, let's see what fields (clinical information) is available for the samples in this study:"
   ]
  },
  {
   "cell_type": "code",
   "execution_count": null,
   "id": "1c575e13",
   "metadata": {},
   "outputs": [],
   "source": [
    "[x.strip() for x in open('blca_mskcc_solit_2014/data_clinical_sample.txt').readline().split('\\t')]"
   ]
  },
  {
   "cell_type": "markdown",
   "id": "9284606f",
   "metadata": {},
   "source": [
    "Let's only use mutations from samples have their `Lymph Node Status` as `Positive`"
   ]
  },
  {
   "cell_type": "code",
   "execution_count": null,
   "id": "5a9a7c87",
   "metadata": {},
   "outputs": [],
   "source": [
    "\n",
    "!pypgatk_cli.py cbioportal-to-proteindb --config_file config/cbioportal_config.yaml --input_cds Homo_sapiens.GRCh37.75.cds.all.fa --input_mutation blca_mskcc_solit_2014/data_mutations.txt --clinical_sample_file blca_mskcc_solit_2014/data_clinical_sample.txt --output_db bladder_proteindb_filtered.fa --filter_column 'LYMPH_NODE_STATUS' --accepted_values 'Positive'\n",
    "\n",
    "Counter([x.split(':')[0] for x in list(SeqIO.index('bladder_proteindb_filtered.fa', \"fasta\").keys())]).items()\n"
   ]
  },
  {
   "cell_type": "markdown",
   "id": "9f2815bf",
   "metadata": {
    "slideshow": {
     "slide_type": "slide"
    }
   },
   "source": [
    "# Part 4: Mutations to Proteins (COSMIC)\n",
    "\n",
    "\n",
    "In this part we will use the `cosmic-downloader` and `cosmic-to-proteindb` command to translate cancer mutations from COSMIC.\n",
    "\n",
    "\n",
    "However, sicne downloading data from COSMIC requries registeration therefore I have pre-downloaded\n",
    "- `CosmicMutantExport.tsv.gz` \n",
    "- `All_COSMIC_Genes.fasta.gz` \n",
    "\n",
    "The command to repeat it is sitll given below.\n",
    "\n",
    "*takes long\n",
    "Generate a protein database for each cancer type in COSMIC (--split_by_filter_column flag)\n"
   ]
  },
  {
   "cell_type": "code",
   "execution_count": null,
   "id": "a6a41a60",
   "metadata": {
    "slideshow": {
     "slide_type": "subslide"
    }
   },
   "outputs": [],
   "source": [
    "#python pypgatk_cli.py cosmic-downloader -u userName -p passWord -c config/cosmic_config.yaml -o cosmic_files\n",
    "\n",
    "!pypgatk_cli.py cosmic-to-proteindb -c config/cosmic_config.yaml -in CosmicMutantExport.tsv -fa All_COSMIC_Genes.fasta -out cosmic_proteinDB.fa --split_by_filter_column\n"
   ]
  },
  {
   "cell_type": "markdown",
   "id": "2be6514f",
   "metadata": {
    "slideshow": {
     "slide_type": "slide"
    }
   },
   "source": [
    "# Part 4: Mutations/variants to Proteins\n",
    "\n",
    "\n",
    "In this part we will use the `vcf-to-proteindb` command to translate mutations in VCF format to proteins. The output of genome/exome sequencing is usually a VCF file that includes the list of identified mutations.\n",
    "\n",
    "\n",
    "## Download relevant files\n",
    "\n",
    "First we need to specify genome fasta and a GTF file to download from the reference assembly. By default, `ensembl-downloader` downloads all files. The flags below can be used to ignore some files, e.g --skip_dna will skip downloading the reference DNA sequence, etc.\n",
    "\n"
   ]
  },
  {
   "cell_type": "code",
   "execution_count": null,
   "id": "b1aed8f6",
   "metadata": {
    "slideshow": {
     "slide_type": "subslide"
    }
   },
   "outputs": [],
   "source": [
    "!pypgatk_cli.py ensembl-downloader -c config/ensembl_downloader_config.yaml -t 9606 -o ensembl_files --skip_vcf"
   ]
  },
  {
   "cell_type": "markdown",
   "id": "08d760e8",
   "metadata": {
    "slideshow": {
     "slide_type": "subslide"
    }
   },
   "source": [
    "#### Check the flags that can be used for a VCF file\n"
   ]
  },
  {
   "cell_type": "code",
   "execution_count": null,
   "id": "52930dce",
   "metadata": {
    "slideshow": {
     "slide_type": "subslide"
    }
   },
   "outputs": [],
   "source": [
    "!pypgatk_cli.py vcf-to-proteindb -h"
   ]
  },
  {
   "cell_type": "markdown",
   "id": "556f6b2f",
   "metadata": {
    "slideshow": {
     "slide_type": "subslide"
    }
   },
   "source": [
    "#### Similar to above we need to generate a FASTA from the GTF -- replace the file names and uncomment the line below"
   ]
  },
  {
   "cell_type": "code",
   "execution_count": null,
   "id": "7d422d01",
   "metadata": {
    "slideshow": {
     "slide_type": "subslide"
    }
   },
   "outputs": [],
   "source": [
    "#gffread -F -w transcripts.fa -g genome.fa gene_annotations.gtf"
   ]
  },
  {
   "cell_type": "markdown",
   "id": "f0736f13",
   "metadata": {
    "slideshow": {
     "slide_type": "subslide"
    }
   },
   "source": [
    "#### replace the file names and uncomment the line below"
   ]
  },
  {
   "cell_type": "code",
   "execution_count": null,
   "id": "647cd520",
   "metadata": {
    "slideshow": {
     "slide_type": "subslide"
    }
   },
   "outputs": [],
   "source": [
    "#!pypgatk_cli.py vcf-to-proteindb --vcf sample.vcf --input_fasta transcripts.fa --gene_annotations_gtf genes.gtf --annotation_field_name '' --output_proteindb var_peptides.fa\n"
   ]
  }
 ],
 "metadata": {
  "kernelspec": {
   "display_name": "Python 3",
   "language": "python",
   "name": "python3"
  },
  "language_info": {
   "codemirror_mode": {
    "name": "ipython",
    "version": 3
   },
   "file_extension": ".py",
   "mimetype": "text/x-python",
   "name": "python",
   "nbconvert_exporter": "python",
   "pygments_lexer": "ipython3",
   "version": "3.8.5"
  }
 },
 "nbformat": 4,
 "nbformat_minor": 5
}
