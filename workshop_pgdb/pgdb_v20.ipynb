{
 "cells": [
  {
   "cell_type": "markdown",
   "id": "46358dd6",
   "metadata": {
    "slideshow": {
     "slide_type": "slide"
    }
   },
   "source": [
    "# Proteogenomics database generation using py-pgatk\n",
    "\n",
    "\n",
    "This notebook presents commands in `py-pgatk` to:\n",
    "- download data from various sources including ENSEMBL for reference files, COSMIC & cBioPortal for cancer mutations, and gnomAD & ENSEMBL for population variants.\n",
    "- generate protein databases using the downloaded files or from custom files (mutations in VCF and transcripts in GTF)\n",
    "- explore the database content (number of proteins and overlaps in tryptic peptides between various protein categories)\n",
    "\n",
    "`py-pgatk` is implemented in `Python` and is available here: https://github.com/bigbio/py-pgatk. \n",
    "The commands are documented here: https://pgatk.readthedocs.io/en/latest/pypgatk.html.\n",
    "The tools are also builtin to a nextflow workflow: https://nf-co.re/pgdb.\n",
    "\n",
    "The easiset way to run this notebook is by installing conda and creating an environment for installing the required packages. \n",
    "\n",
    "\n",
    "# Part 1: Setup the environment\n",
    "\n",
    "### Get notebook and data\n",
    "Download this this notebook and associated (any) data in this directory to your computer"
   ]
  },
  {
   "cell_type": "markdown",
   "id": "e51c2227",
   "metadata": {},
   "source": [
    "### Browse to your working directory and start Jupyter from there using\n",
    "`jupyter-notebook`\n",
    "\n",
    "\n",
    "### Install and Download configuration files and \n",
    "\n",
    "#### Import / install required libraries"
   ]
  },
  {
   "cell_type": "code",
   "execution_count": 1,
   "id": "fcbe9e60",
   "metadata": {},
   "outputs": [],
   "source": [
    "import os\n",
    "import shutil\n",
    "import sys\n",
    "from collections import Counter\n",
    "\n",
    "try:\n",
    "    from Bio import SeqIO\n",
    "except ModuleNotFoundError:\n",
    "    !pip install biopython\n",
    "\n",
    "try:\n",
    "    import matplotlib.pyplot as plt\n",
    "except ModuleNotFoundError:\n",
    "    !pip install matplotlib\n",
    "\n",
    "try:\n",
    "    import pypgatk\n",
    "except ModuleNotFoundError:\n",
    "    !pip install pypgatk"
   ]
  },
  {
   "cell_type": "markdown",
   "id": "40634fdd",
   "metadata": {
    "slideshow": {
     "slide_type": "slide"
    }
   },
   "source": [
    "#### Get Configuaration Files"
   ]
  },
  {
   "cell_type": "code",
   "execution_count": 2,
   "id": "04b15661",
   "metadata": {
    "slideshow": {
     "slide_type": "subslide"
    }
   },
   "outputs": [
    {
     "name": "stdout",
     "output_type": "stream",
     "text": [
      "the files are available in config/ in the current directory:\n",
      "  /Users/husen/Documents/Karolinska Institutet/GRP_LehtioLab_bioinformatics_brains - General/ProteoWorks/workshop_pgdb\n"
     ]
    }
   ],
   "source": [
    "if not os.path.isdir('config'):\n",
    "    os.system('wget https://github.com/bigbio/py-pgatk/archive/refs/tags/v0.0.20.zip')\n",
    "    os.system('unzip v0.0.20.zip')\n",
    "    shutil.copytree('py-pgatk-0.0.20/pypgatk/config', 'config')\n",
    "if os.path.isdir('config'):\n",
    "    print('the files are available in config/ in the current directory:\\n ', os.getcwd())\n",
    "try:\n",
    "    os.rmdir('py-pgatk-*')\n",
    "except FileNotFoundError:\n",
    "    pass"
   ]
  },
  {
   "cell_type": "markdown",
   "id": "6246aea8",
   "metadata": {
    "slideshow": {
     "slide_type": "slide"
    }
   },
   "source": [
    "### Install gffread v.0.12.7 \n",
    "This tool is needed to convert GTF (gene-transript annotation file) to FASTA (DNA sequence)"
   ]
  },
  {
   "cell_type": "code",
   "execution_count": 3,
   "id": "d8610ecc",
   "metadata": {
    "slideshow": {
     "slide_type": "subslide"
    }
   },
   "outputs": [
    {
     "name": "stdout",
     "output_type": "stream",
     "text": [
      "Downloading gffread\n",
      "gffread is ready to be used\n"
     ]
    }
   ],
   "source": [
    "if not os.path.isfile('gffread'):\n",
    "    print('Downloading gffread')\n",
    "    if 'linux' in sys.platform:\n",
    "        os.system('wget https://github.com/gpertea/gffread/releases/download/v0.12.7/gffread-0.12.7.Linux_x86_64.tar.gz')\n",
    "        os.system('tar -xvzf gffread-0.12.7.Linux_x86_64.tar.gz')\n",
    "        shutil.move('gffread-0.12.7.Linux_x86_64/gffread', 'gffread')\n",
    "    elif 'darwin' in sys.platform:\n",
    "        os.system('wget https://github.com/gpertea/gffread/releases/download/v0.12.7/gffread-0.12.7.OSX_x86_64.tar.gz')\n",
    "        os.system('tar -xvzf gffread-0.12.7.OSX_x86_64.tar.gz')\n",
    "        shutil.move('gffread-0.12.7.OSX_x86_64/gffread', 'gffread')\n",
    "    else:\n",
    "        print('SORRY: only Linux and MAC are supported, maybe you need to try manually installing gffread')\n",
    "try:\n",
    "    os.rmdir('gffread-*')\n",
    "except FileNotFoundError:\n",
    "    pass\n",
    "if os.path.isfile('gffread'):\n",
    "    print('gffread is ready to be used')"
   ]
  },
  {
   "cell_type": "markdown",
   "id": "da109a48",
   "metadata": {
    "slideshow": {
     "slide_type": "slide"
    }
   },
   "source": [
    "#### Before begining, let's test if pypgatk is working, you should see a help message that lists the existing commands"
   ]
  },
  {
   "cell_type": "code",
   "execution_count": 4,
   "id": "2fff0b92",
   "metadata": {
    "scrolled": false,
    "slideshow": {
     "slide_type": "subslide"
    }
   },
   "outputs": [
    {
     "name": "stdout",
     "output_type": "stream",
     "text": [
      "Determination of memory status is not supported on this \n",
      " platform, measuring for memoryleaks will never fail\n",
      "Usage: pypgatk_cli.py [OPTIONS] COMMAND [ARGS]...\n",
      "\n",
      "  This is the main tool that give access to all commands and options\n",
      "  provided by the pypgatk\n",
      "\n",
      "Options:\n",
      "  -h, --help  Show this message and exit.\n",
      "\n",
      "Commands:\n",
      "  cbioportal-downloader    Command to download the the cbioportal studies\n",
      "  cbioportal-to-proteindb  Command to translate cbioportal mutation data into\n",
      "                           proteindb\n",
      "  cosmic-downloader        Command to download the cosmic mutation database\n",
      "  cosmic-to-proteindb      Command to translate Cosmic mutation data into\n",
      "                           proteindb\n",
      "  dnaseq-to-proteindb      Generate peptides based on DNA sequences\n",
      "  ensembl-check            Command to check ensembl database for stop codons,\n",
      "                           gaps\n",
      "  ensembl-downloader       Command to download the ensembl information\n",
      "  generate-decoy           Create decoy protein sequences using multiple\n",
      "                           methods DecoyPYrat, Reverse/Shuffled Proteins.\n",
      "  peptide-class-fdr        Command to compute the Peptide class FDR\n",
      "  threeframe-translation   Command to perform 3'frame translation\n",
      "  vcf-to-proteindb         Generate peptides based on DNA variants VCF files\n"
     ]
    }
   ],
   "source": [
    "!pypgatk_cli.py -h"
   ]
  },
  {
   "cell_type": "markdown",
   "id": "7064d93c",
   "metadata": {
    "slideshow": {
     "slide_type": "slide"
    }
   },
   "source": [
    "# Part 2: DNA to Protein\n",
    "\n",
    "In this part we will use the `dnaseq-to-proteindb` command to translate DNA sequences in fasta format to protein. We will also show how to convert a GTF obtained from a reference assembly or from a RNA-seq to DNA sequences and then protein sequence.\n",
    "\n",
    "## Download relevant files\n",
    "\n",
    "First we need to specify what files to download from the reference assembly. By default, `ensembl-downloader` downloads all files. The flags below can be used to ignore some files, e.g --skip_dna will skip downloading the reference DNA sequence, etc.\n",
    "\n",
    "* Note: versions prior to v0.0.20 don't have the feature to download the DNA reference assembly. IF you are using an older version you need to download the DNA fasta manually, uncomment the commands given below to perform this step."
   ]
  },
  {
   "cell_type": "markdown",
   "id": "1fcb9191",
   "metadata": {
    "slideshow": {
     "slide_type": "slide"
    }
   },
   "source": [
    "### Check the flags below to know what flags to use."
   ]
  },
  {
   "cell_type": "code",
   "execution_count": 5,
   "id": "15232464",
   "metadata": {
    "slideshow": {
     "slide_type": "subslide"
    }
   },
   "outputs": [
    {
     "name": "stdout",
     "output_type": "stream",
     "text": [
      "Determination of memory status is not supported on this \n",
      " platform, measuring for memoryleaks will never fail\n",
      "Usage: pypgatk_cli.py ensembl-downloader [OPTIONS]\n",
      "\n",
      "  This tool enables to download from enseml ftp the FASTA and GTF files\n",
      "\n",
      "Options:\n",
      "  -c, --config_file TEXT          Configuration file for the ensembl data\n",
      "                                  downloader pipeline\n",
      "  -o, --output_directory TEXT     Output directory for the peptide databases\n",
      "  -fp, --folder_prefix_release TEXT\n",
      "                                  Output folder prefix to download the data\n",
      "  -t, --taxonomy TEXT             Taxonomy identifiers (comma separated list\n",
      "                                  can be given) that will be use to download\n",
      "                                  the data from Ensembl\n",
      "  -l, --list_taxonomies           Print the list of all the taxonomies in\n",
      "                                  ENSEMBL (https://www.ensembl.org)\n",
      "  -sg, --skip_gtf                 Skip the GTF file during the download\n",
      "  -sp, --skip_protein             Skip the protein fasta file during download\n",
      "  -sc, --skip_cds                 Skip the CDS file download\n",
      "  -sdn, --skip_cdna               Skip the cDNA file download\n",
      "  -sn, --skip_ncrna               Skip the ncRNA file download\n",
      "  -sd, --skip_dna                 Skip the DNA (reference genome assembly)\n",
      "                                  file download\n",
      "  -sv, --skip_vcf                 Skip the VCF variant file\n",
      "  -en, --ensembl_name TEXT        Ensembl name code to download, it can be use\n",
      "                                  instead of taxonomy (e.g. homo_sapiens)\n",
      "  --grch37                        Download a previous version GRCh37 of\n",
      "                                  ensembl genomes\n",
      "  -h, --help                      Show this message and exit.\n"
     ]
    }
   ],
   "source": [
    "!pypgatk_cli.py ensembl-downloader -h"
   ]
  },
  {
   "cell_type": "markdown",
   "id": "cfe4e0d8",
   "metadata": {
    "slideshow": {
     "slide_type": "slide"
    }
   },
   "source": [
    "\n",
    "#### Get taxonomy ID for the species of interest\n",
    "However, as shown above we need to specify a taxonomy number in order to get files from a reference assembly for our species of interest. \n",
    "\n",
    "Can you find the taxonomy ID for homo sapiens using the following command?"
   ]
  },
  {
   "cell_type": "code",
   "execution_count": 6,
   "id": "57c9a0ea",
   "metadata": {
    "slideshow": {
     "slide_type": "subslide"
    }
   },
   "outputs": [
    {
     "name": "stdout",
     "output_type": "stream",
     "text": [
      "Determination of memory status is not supported on this \n",
      " platform, measuring for memoryleaks will never fail\n",
      "{'release': 106, 'name': 'otolemur_garnettii', 'accession': 'GCA_000181295.3', 'division': 'EnsemblVertebrates', 'display_name': 'Bushbaby', 'strain_collection': None, 'common_name': 'small-eared galago', 'assembly': 'OtoGar3', 'taxon_id': '30611', 'aliases': ['ogar', 'bushbaby', 'galago', '30611', 'small-eared galago', 'otolemur garnettii', 'ogarnettii', 'otogar'], 'strain': None, 'groups': ['core', 'otherfeatures']}\n",
      "{'name': 'sus_scrofa_bamei', 'release': 106, 'division': 'EnsemblVertebrates', 'accession': 'GCA_001700235.1', 'display_name': 'Pig - Bamei', 'assembly': 'Bamei_pig_v1', 'common_name': 'pig', 'strain_collection': None, 'aliases': [], 'taxon_id': '9823', 'groups': ['rnaseq', 'core', 'otherfeatures'], 'strain': 'bamei'}\n",
      "{'accession': 'GCA_902686455.1', 'division': 'EnsemblVertebrates', 'release': 106, 'name': 'sciurus_vulgaris', 'display_name': 'Eurasian red squirrel', 'aliases': [], 'taxon_id': '55149', 'strain_collection': None, 'common_name': 'Eurasian red squirrel', 'assembly': 'mSciVul1.1', 'strain': None, 'groups': ['core', 'rnaseq']}\n",
      "{'display_name': 'Elephant', 'accession': 'GCA_000001905.1', 'division': 'EnsemblVertebrates', 'release': 106, 'name': 'loxodonta_africana', 'groups': ['core'], 'strain': None, 'aliases': ['lafr', 'african_elephant', '9785', 'elephant', 'loxodonta africana', 'african savanna elephant', 'loxafr', 'lafricana'], 'taxon_id': '9785', 'strain_collection': None, 'assembly': 'loxAfr3', 'common_name': 'African savanna elephant'}\n",
      "{'taxon_id': '30732', 'aliases': [], 'common_name': 'Indian medaka', 'assembly': 'Om_v0.7.RACA', 'strain_collection': None, 'groups': ['rnaseq', 'core'], 'strain': None, 'division': 'EnsemblVertebrates', 'accession': 'GCA_002922805.1', 'name': 'oryzias_melastigma', 'release': 106, 'display_name': 'Indian medaka'}\n",
      "{'accession': 'GCA_000277835.1', 'division': 'EnsemblVertebrates', 'release': 106, 'name': 'geospiza_fortis', 'display_name': 'Medium ground-finch', 'taxon_id': '48883', 'aliases': [], 'strain_collection': None, 'assembly': 'GeoFor_1.0', 'common_name': 'medium ground-finch', 'groups': ['core', 'otherfeatures', 'rnaseq'], 'strain': None}\n",
      "{'division': 'EnsemblVertebrates', 'accession': 'GCA_001700155.1', 'name': 'sus_scrofa_rongchang', 'release': 106, 'display_name': 'Pig - Rongchang', 'taxon_id': '9823', 'aliases': [], 'common_name': 'pig', 'assembly': 'Rongchang_pig_v1', 'strain_collection': None, 'groups': ['core', 'otherfeatures', 'rnaseq'], 'strain': 'rongchang'}\n",
      "{'display_name': 'Common canary', 'division': 'EnsemblVertebrates', 'accession': 'GCA_000534875.1', 'name': 'serinus_canaria', 'release': 106, 'strain': None, 'groups': ['rnaseq', 'core', 'otherfeatures'], 'aliases': [], 'taxon_id': '9135', 'common_name': 'common canary', 'assembly': 'SCA1', 'strain_collection': None}\n",
      "{'accession': 'GCA_010312235.1', 'division': 'EnsemblVertebrates', 'release': 106, 'name': 'buteo_japonicus', 'display_name': 'Eastern buzzard', 'taxon_id': '224669', 'aliases': [], 'strain_collection': None, 'common_name': 'eastern buzzard', 'assembly': 'ButJap1.0', 'groups': ['rnaseq', 'core'], 'strain': None}\n",
      "{'display_name': 'Zig-zag eel', 'release': 106, 'name': 'mastacembelus_armatus', 'accession': 'GCA_900324485.2', 'division': 'EnsemblVertebrates', 'strain': None, 'groups': ['rnaseq', 'otherfeatures', 'core'], 'strain_collection': None, 'common_name': 'zig-zag eel', 'assembly': 'fMasArm1.2', 'taxon_id': '205130', 'aliases': []}\n",
      "{'display_name': 'White-throated sparrow', 'name': 'zonotrichia_albicollis', 'release': 106, 'division': 'EnsemblVertebrates', 'accession': 'GCA_000385455.1', 'groups': ['rnaseq', 'core', 'otherfeatures'], 'strain': None, 'common_name': 'white-throated sparrow', 'assembly': 'Zonotrichia_albicollis-1.0.1', 'strain_collection': None, 'aliases': [], 'taxon_id': '44394'}\n",
      "{'strain': None, 'groups': ['core', 'otherfeatures'], 'aliases': ['jjac', '51337', 'lesser egyptian jerboa', 'jacjac', 'jjaculus', 'jaculus jaculus'], 'taxon_id': '51337', 'common_name': 'Lesser Egyptian jerboa', 'assembly': 'JacJac1.0', 'strain_collection': None, 'display_name': 'Lesser Egyptian jerboa', 'division': 'EnsemblVertebrates', 'accession': 'GCA_000280705.1', 'name': 'jaculus_jaculus', 'release': 106}\n",
      "{'strain': None, 'groups': ['core', 'rnaseq'], 'strain_collection': None, 'common_name': 'Asiatic black bear', 'assembly': 'ASM966005v1', 'aliases': [], 'taxon_id': '441215', 'display_name': 'Asiatic black bear', 'release': 106, 'name': 'ursus_thibetanus_thibetanus', 'accession': 'GCA_009660055.1', 'division': 'EnsemblVertebrates'}\n",
      "{'common_name': 'Polar bear', 'assembly': 'UrsMar_1.0', 'strain_collection': None, 'taxon_id': '29073', 'aliases': [], 'groups': ['rnaseq', 'core', 'otherfeatures'], 'strain': None, 'name': 'ursus_maritimus', 'release': 106, 'division': 'EnsemblVertebrates', 'accession': 'GCA_000687225.1', 'display_name': 'Polar bear'}\n",
      "{'groups': ['rnaseq', 'core', 'otherfeatures'], 'strain': None, 'common_name': 'Budgie', 'assembly': 'Melopsittacus_undulatus_6.3', 'strain_collection': None, 'aliases': [], 'taxon_id': '13146', 'display_name': 'Budgerigar', 'name': 'melopsittacus_undulatus', 'release': 106, 'division': 'EnsemblVertebrates', 'accession': 'GCA_000238935.1'}\n",
      "{'taxon_id': '10090', 'aliases': [], 'strain_collection': None, 'assembly': 'C57BL_6NJ_v1', 'common_name': 'mouse', 'strain': 'C57BL/6NJ', 'groups': ['core', 'funcgen'], 'accession': 'GCA_001632555.1', 'division': 'EnsemblVertebrates', 'release': 106, 'name': 'mus_musculus_c57bl6nj', 'display_name': 'Mouse C57BL/6NJ'}\n",
      "{'aliases': [], 'taxon_id': '173247', 'strain_collection': None, 'assembly': 'fEcheNa1.1', 'common_name': 'live sharksucker', 'strain': None, 'groups': ['otherfeatures', 'core', 'rnaseq'], 'accession': 'GCA_900963305.1', 'division': 'EnsemblVertebrates', 'release': 106, 'name': 'echeneis_naucrates', 'display_name': 'Live sharksucker'}\n",
      "{'taxon_id': '9913', 'aliases': ['bostau', 'bovine', 'btaurus', 'domestic cattle', 'cattle', 'domestic cow', '9913', 'btau', 'bos taurus', 'cow'], 'assembly': 'ARS-UCD1.2', 'common_name': 'cattle', 'strain_collection': None, 'groups': ['otherfeatures', 'funcgen', 'core', 'rnaseq', 'variation'], 'strain': None, 'division': 'EnsemblVertebrates', 'accession': 'GCA_002263795.2', 'name': 'bos_taurus', 'release': 106, 'display_name': 'Cow'}\n",
      "{'accession': 'GCA_000164805.2', 'division': 'EnsemblVertebrates', 'release': 106, 'name': 'carlito_syrichta', 'display_name': 'Tarsier', 'taxon_id': '1868482', 'aliases': ['9478', 'philippine tarsier', 'tarsier', 'carlito syrichta', 'csyrichta', 'tarsiussyrichta', 'carsyr', 'csyr', 'carlitosyrichta', 'tarsius_syrichta', 'tarsyr', 'carlito', 'tsyr', 'tarsius syrichta', 'tsyrichta'], 'strain_collection': None, 'common_name': 'Philippine tarsier', 'assembly': 'Tarsius_syrichta-2.0.1', 'strain': None, 'groups': ['funcgen', 'core', 'otherfeatures']}\n",
      "{'name': 'chinchilla_lanigera', 'release': 106, 'division': 'EnsemblVertebrates', 'accession': 'GCA_000276665.1', 'display_name': 'Long-tailed chinchilla', 'assembly': 'ChiLan1.0', 'common_name': 'Long-tailed chinchilla', 'strain_collection': None, 'taxon_id': '34839', 'aliases': ['34839', 'long-tailed chinchilla', 'chinchilla lanigera', 'clanigera', 'chilan', 'clan'], 'strain': None, 'groups': ['core', 'otherfeatures', 'rnaseq']}\n",
      "{'display_name': 'Mouse FVB/NJ', 'division': 'EnsemblVertebrates', 'accession': 'GCA_001624535.1', 'name': 'mus_musculus_fvbnj', 'release': 106, 'strain': 'FVB/NJ', 'groups': ['funcgen', 'core'], 'aliases': [], 'taxon_id': '10090', 'assembly': 'FVB_NJ_v1', 'common_name': 'mouse', 'strain_collection': None}\n",
      "{'name': 'delphinapterus_leucas', 'release': 106, 'division': 'EnsemblVertebrates', 'accession': 'GCA_002288925.3', 'display_name': 'Beluga whale', 'assembly': 'ASM228892v3', 'common_name': 'beluga whale', 'strain_collection': None, 'taxon_id': '9749', 'aliases': [], 'strain': None, 'groups': ['core', 'otherfeatures', 'rnaseq']}\n",
      "{'name': 'pseudonaja_textilis', 'release': 106, 'division': 'EnsemblVertebrates', 'accession': 'GCA_900518735.1', 'display_name': 'Eastern brown snake', 'common_name': 'eastern brown snake', 'assembly': 'EBS10Xv2-PRI', 'strain_collection': None, 'taxon_id': '8673', 'aliases': [], 'strain': None, 'groups': ['otherfeatures', 'core', 'rnaseq']}\n",
      "{'division': 'EnsemblVertebrates', 'accession': 'GCA_900095145.2', 'name': 'mus_pahari', 'release': 106, 'display_name': 'Shrew mouse', 'aliases': ['shrew mouse', 'mpah', '10093', 'mpahari', 'muspah', 'mus pahari'], 'taxon_id': '10093', 'assembly': 'PAHARI_EIJ_v1.1', 'common_name': 'Shrew mouse', 'strain_collection': None, 'groups': ['core'], 'strain': 'PAHARI_EIJ'}\n",
      "{'groups': ['rnaseq', 'variation', 'otherfeatures', 'funcgen', 'core'], 'strain': None, 'taxon_id': '9685', 'aliases': ['cat', 'felis catus', '9685', 'fcat', 'fcatus', 'felcat', 'domestic cat'], 'strain_collection': None, 'assembly': 'Felis_catus_9.0', 'common_name': 'domestic cat', 'display_name': 'Cat', 'accession': 'GCA_000181335.4', 'division': 'EnsemblVertebrates', 'release': 106, 'name': 'felis_catus'}\n",
      "{'division': 'EnsemblVertebrates', 'accession': 'GCA_003113815.1', 'name': 'sphenodon_punctatus', 'release': 106, 'display_name': 'Tuatara', 'taxon_id': '8508', 'aliases': [], 'assembly': 'ASM311381v1', 'common_name': 'tuatara', 'strain_collection': None, 'groups': ['core', 'otherfeatures', 'rnaseq'], 'strain': None}\n",
      "{'display_name': 'Pig - Tibetan', 'release': 106, 'name': 'sus_scrofa_tibetan', 'accession': 'GCA_000472085.2', 'division': 'EnsemblVertebrates', 'strain': 'tibetan', 'groups': ['rnaseq', 'otherfeatures', 'core'], 'strain_collection': None, 'assembly': 'Tibetan_Pig_v2', 'common_name': 'pig', 'aliases': [], 'taxon_id': '9823'}\n",
      "{'release': 106, 'name': 'rhinolophus_ferrumequinum', 'accession': 'GCA_004115265.2', 'division': 'EnsemblVertebrates', 'display_name': 'Greater horseshoe bat', 'strain_collection': None, 'assembly': 'mRhiFer1_v1.p', 'common_name': 'greater horseshoe bat', 'taxon_id': '59479', 'aliases': [], 'groups': ['core', 'rnaseq'], 'strain': None}\n",
      "{'groups': ['funcgen', 'core'], 'strain': 'NOD/ShiLtJ', 'strain_collection': None, 'assembly': 'NOD_ShiLtJ_v1', 'common_name': 'mouse', 'taxon_id': '10090', 'aliases': [], 'display_name': 'Mouse NOD/ShiLtJ', 'release': 106, 'name': 'mus_musculus_nodshiltj', 'accession': 'GCA_001624675.1', 'division': 'EnsemblVertebrates'}\n",
      "{'strain_collection': None, 'common_name': 'Sooty mangabey', 'assembly': 'Caty_1.0', 'aliases': [], 'taxon_id': '9531', 'strain': None, 'groups': ['otherfeatures', 'funcgen', 'core', 'rnaseq'], 'release': 106, 'name': 'cercocebus_atys', 'accession': 'GCA_000955945.1', 'division': 'EnsemblVertebrates', 'display_name': 'Sooty mangabey'}\n",
      "{'name': 'zalophus_californianus', 'release': 106, 'division': 'EnsemblVertebrates', 'accession': 'GCA_009762305.1', 'display_name': 'California sea lion', 'common_name': 'california sea lion', 'assembly': 'mZalCal1.pri', 'strain_collection': None, 'taxon_id': '9704', 'aliases': [], 'strain': None, 'groups': ['core', 'rnaseq']}\n",
      "{'taxon_id': '1196302', 'aliases': [], 'common_name': 'New Caledonian crow', 'assembly': 'UO_Cmon_1.0', 'strain_collection': None, 'strain': None, 'groups': ['core', 'rnaseq'], 'division': 'EnsemblVertebrates', 'accession': 'GCA_009650515.1', 'name': 'corvus_moneduloides', 'release': 106, 'display_name': 'New Caledonian crow'}\n",
      "{'strain': None, 'groups': ['core', 'otherfeatures', 'rnaseq'], 'assembly': 'P_mexicana-1.0', 'common_name': 'shortfin molly', 'strain_collection': None, 'aliases': [], 'taxon_id': '48701', 'display_name': 'Shortfin molly', 'name': 'poecilia_mexicana', 'release': 106, 'division': 'EnsemblVertebrates', 'accession': 'GCA_001443325.1'}\n",
      "{'release': 106, 'name': 'piliocolobus_tephrosceles', 'accession': 'GCA_002776525.2', 'division': 'EnsemblVertebrates', 'display_name': 'Ugandan red Colobus', 'strain_collection': None, 'common_name': 'Ugandan red Colobus', 'assembly': 'ASM277652v2', 'aliases': [], 'taxon_id': '591936', 'strain': None, 'groups': ['funcgen', 'core', 'rnaseq']}\n",
      "{'accession': 'GCA_002896415.1', 'division': 'EnsemblVertebrates', 'release': 106, 'name': 'gopherus_agassizii', 'display_name': \"Agassiz's desert tortoise\", 'taxon_id': '38772', 'aliases': [], 'strain_collection': None, 'common_name': \"Agassiz's desert tortoise\", 'assembly': 'ASM289641v1', 'strain': None, 'groups': ['rnaseq', 'core']}\n",
      "{'release': 106, 'name': 'strix_occidentalis_caurina', 'accession': 'GCA_002372975.1', 'division': 'EnsemblVertebrates', 'display_name': 'Northern spotted owl', 'strain_collection': None, 'common_name': 'northern spotted owl', 'assembly': 'Soccid_v01', 'aliases': [], 'taxon_id': '311401', 'groups': ['rnaseq', 'core'], 'strain': None}\n",
      "{'strain': None, 'groups': ['rnaseq', 'core'], 'assembly': 'Pelusios_castaneus-1.0', 'common_name': 'West African mud turtle', 'strain_collection': None, 'taxon_id': '367368', 'aliases': [], 'display_name': 'West African mud turtle', 'name': 'pelusios_castaneus', 'release': 106, 'division': 'EnsemblVertebrates', 'accession': 'GCA_007922175.1'}\n",
      "{'aliases': [], 'taxon_id': '10090', 'strain_collection': None, 'common_name': 'mouse', 'assembly': 'NZO_HlLtJ_v1', 'groups': ['core', 'funcgen'], 'strain': 'NZO/HlLtJ', 'accession': 'GCA_001624745.1', 'division': 'EnsemblVertebrates', 'release': 106, 'name': 'mus_musculus_nzohlltj', 'display_name': 'Mouse NZO/HlLtJ'}\n",
      "{'display_name': 'Gilthead seabream', 'release': 106, 'name': 'sparus_aurata', 'accession': 'GCA_900880675.1', 'division': 'EnsemblVertebrates', 'groups': ['otherfeatures', 'core', 'rnaseq'], 'strain': None, 'strain_collection': None, 'assembly': 'fSpaAur1.1', 'common_name': 'gilthead seabream', 'aliases': [], 'taxon_id': '8175'}\n",
      "{'release': 106, 'name': 'latimeria_chalumnae', 'accession': 'GCA_000225785.1', 'division': 'EnsemblVertebrates', 'display_name': 'Coelacanth', 'strain_collection': None, 'assembly': 'LatCha1', 'common_name': 'coelacanth', 'aliases': ['lcha', '7897', 'living fossil', 'latimeria chalumnae', 'lamineria', 'lchalumnae', 'coelacanth', 'latcha'], 'taxon_id': '7897', 'groups': ['otherfeatures', 'core'], 'strain': None}\n",
      "{'display_name': 'Mouse BALB/cJ', 'name': 'mus_musculus_balbcj', 'release': 106, 'division': 'EnsemblVertebrates', 'accession': 'GCA_001632525.1', 'strain': 'BALB/cJ', 'groups': ['core', 'funcgen'], 'assembly': 'BALB_cJ_v1', 'common_name': 'mouse', 'strain_collection': None, 'taxon_id': '10090', 'aliases': []}\n",
      "{'display_name': 'Sheepshead minnow', 'name': 'cyprinodon_variegatus', 'release': 106, 'division': 'EnsemblVertebrates', 'accession': 'GCA_000732505.1', 'strain': None, 'groups': ['rnaseq', 'otherfeatures', 'funcgen', 'core'], 'assembly': 'C_variegatus-1.0', 'common_name': 'sheepshead minnow', 'strain_collection': None, 'taxon_id': '28743', 'aliases': []}\n",
      "{'display_name': 'Alpaca', 'division': 'EnsemblVertebrates', 'accession': None, 'name': 'vicugna_pacos', 'release': 106, 'strain': None, 'groups': ['core'], 'aliases': ['vicpac', 'vpac', 'vpacos', 'vicugnapacos', '30538', 'vicugna pacos', 'alpaca'], 'taxon_id': '30538', 'common_name': 'alpaca', 'assembly': 'vicPac1', 'strain_collection': None}\n",
      "{'name': 'pavo_cristatus', 'release': 106, 'division': 'EnsemblVertebrates', 'accession': 'GCA_005519975.1', 'display_name': 'Indian peafowl', 'assembly': 'AIIM_Pcri_1.0', 'common_name': 'Indian peafowl', 'strain_collection': None, 'aliases': [], 'taxon_id': '9049', 'groups': ['core', 'rnaseq'], 'strain': None}\n",
      "{'display_name': 'Chilean tinamou', 'name': 'nothoprocta_perdicaria', 'release': 106, 'division': 'EnsemblVertebrates', 'accession': 'GCA_003342845.1', 'groups': ['core', 'otherfeatures'], 'strain': None, 'common_name': 'Chilean tinamou', 'assembly': 'notPer1', 'strain_collection': None, 'aliases': [], 'taxon_id': '30464'}\n",
      "{'display_name': 'Northern American deer mouse', 'release': 106, 'name': 'peromyscus_maniculatus_bairdii', 'accession': 'GCA_003704035.1', 'division': 'EnsemblVertebrates', 'groups': ['core'], 'strain': None, 'strain_collection': None, 'assembly': 'HU_Pman_2.1', 'common_name': 'Northern American deer mouse', 'aliases': ['pman', 'northern american deer mouse', 'perman', 'peromyscus maniculatus bairdii', '230844', 'pmaniculatus_bairdii'], 'taxon_id': '230844'}\n",
      "{'groups': ['core', 'otherfeatures', 'rnaseq', 'variation'], 'strain': None, 'aliases': [], 'taxon_id': '59729', 'common_name': 'zebra finch', 'assembly': 'bTaeGut1_v1.p', 'strain_collection': None, 'display_name': 'Zebra finch', 'division': 'EnsemblVertebrates', 'accession': 'GCA_003957565.2', 'name': 'taeniopygia_guttata', 'release': 106}\n",
      "{'strain': None, 'groups': ['rnaseq', 'core'], 'taxon_id': '68415', 'aliases': [], 'strain_collection': None, 'assembly': 'MosMos_v2_BIUU_UCD', 'common_name': 'Siberian musk deer', 'display_name': 'Siberian musk deer', 'accession': 'GCA_004024705.2', 'division': 'EnsemblVertebrates', 'release': 106, 'name': 'moschus_moschiferus'}\n",
      "{'division': 'EnsemblVertebrates', 'accession': 'GCA_008315115.1', 'name': 'sander_lucioperca', 'release': 106, 'display_name': 'Pike-perch', 'taxon_id': '283035', 'aliases': [], 'common_name': 'pike-perch', 'assembly': 'SLUC_FBN_1', 'strain_collection': None, 'strain': None, 'groups': ['rnaseq', 'core', 'otherfeatures']}\n",
      "{'groups': ['core', 'funcgen', 'rnaseq'], 'strain': 'basenji', 'strain_collection': None, 'common_name': 'dog', 'assembly': 'Basenji_breed-1.1', 'taxon_id': '9615', 'aliases': [], 'display_name': 'Dog - Basenji', 'release': 106, 'name': 'canis_lupus_familiarisbasenji', 'accession': 'GCA_004886185.1', 'division': 'EnsemblVertebrates'}\n",
      "{'groups': ['variation', 'otherfeatures', 'funcgen', 'core'], 'strain': 'S288C', 'taxon_id': '559292', 'aliases': ['scerevisiae', \"saccharomyces cerevisiae (baker's yeast)\", 'saccharomyces cerevisiae', \"baker's yeast\", '4932', 'scer', 'saccharomyces cerevisiae s288c', 's_cerevisiae'], 'strain_collection': None, 'assembly': 'R64-1-1', 'common_name': \"baker's yeast\", 'display_name': 'Saccharomyces cerevisiae', 'accession': 'GCA_000146045.2', 'division': 'EnsemblVertebrates', 'release': 106, 'name': 'saccharomyces_cerevisiae'}\n",
      "{'release': 106, 'name': 'chelydra_serpentina', 'accession': 'GCA_007922165.1', 'division': 'EnsemblVertebrates', 'display_name': 'Common snapping turtle', 'strain_collection': None, 'common_name': 'Common snapping turtle', 'assembly': 'Chelydra_serpentina-1.0', 'aliases': [], 'taxon_id': '8475', 'groups': ['rnaseq', 'core'], 'strain': None}\n",
      "{'name': 'bos_grunniens', 'release': 106, 'division': 'EnsemblVertebrates', 'accession': 'GCA_005887515.1', 'display_name': 'Domestic yak', 'assembly': 'LU_Bosgru_v3.0', 'common_name': 'domestic yak', 'strain_collection': None, 'aliases': [], 'taxon_id': '30521', 'groups': ['rnaseq', 'core'], 'strain': None}\n",
      "{'strain_collection': None, 'assembly': 'Eluc_v4', 'common_name': 'northern pike', 'aliases': [], 'taxon_id': '8010', 'groups': ['rnaseq', 'otherfeatures', 'core'], 'strain': None, 'release': 106, 'name': 'esox_lucius', 'accession': 'GCA_004634155.1', 'division': 'EnsemblVertebrates', 'display_name': 'Northern pike'}\n",
      "{'groups': ['otherfeatures', 'core', 'rnaseq'], 'strain': None, 'strain_collection': None, 'assembly': 'athCun1', 'common_name': 'burrowing owl', 'aliases': [], 'taxon_id': '194338', 'display_name': 'Burrowing owl', 'release': 106, 'name': 'athene_cunicularia', 'accession': 'GCA_003259725.1', 'division': 'EnsemblVertebrates'}\n",
      "{'display_name': 'Turkey', 'division': 'EnsemblVertebrates', 'accession': 'GCA_000146605.4', 'name': 'meleagris_gallopavo', 'release': 106, 'strain': 'reference', 'groups': ['variation', 'rnaseq', 'core', 'otherfeatures'], 'aliases': [], 'taxon_id': '9103', 'common_name': 'turkey', 'assembly': 'Turkey_5.1', 'strain_collection': None}\n",
      "{'aliases': ['m_ochrogaster', 'micoch', 'microtus ochrogaster', 'vole', 'mochrogaster', 'prairie vole', '79684', 'pvole', 'moch'], 'taxon_id': '79684', 'strain_collection': None, 'assembly': 'MicOch1.0', 'common_name': 'vole', 'groups': ['otherfeatures', 'core'], 'strain': None, 'accession': 'GCA_000317375.1', 'division': 'EnsemblVertebrates', 'release': 106, 'name': 'microtus_ochrogaster', 'display_name': 'Prairie vole'}\n",
      "{'strain': None, 'groups': ['rnaseq', 'otherfeatures', 'core'], 'taxon_id': '9771', 'aliases': [], 'strain_collection': None, 'assembly': 'mBalMus1.v2', 'common_name': 'Blue whale', 'display_name': 'Blue whale', 'accession': 'GCA_009873245.2', 'division': 'EnsemblVertebrates', 'release': 106, 'name': 'balaenoptera_musculus'}\n",
      "{'display_name': 'Komodo dragon', 'release': 106, 'name': 'varanus_komodoensis', 'accession': 'GCA_004798865.1', 'division': 'EnsemblVertebrates', 'groups': ['core', 'rnaseq'], 'strain': None, 'strain_collection': None, 'common_name': 'Komodo dragon', 'assembly': 'ASM479886v1', 'aliases': [], 'taxon_id': '61221'}\n",
      "{'groups': ['core', 'rnaseq'], 'strain': None, 'common_name': 'muscovy Duck (domestic type)', 'assembly': 'CaiMos1.0', 'strain_collection': None, 'taxon_id': '1240228', 'aliases': [], 'display_name': 'Muscovy Duck (domestic type)', 'name': 'cairina_moschata_domestica', 'release': 106, 'division': 'EnsemblVertebrates', 'accession': 'GCA_009194515.1'}\n",
      "{'release': 106, 'name': 'dicentrarchus_labrax', 'accession': 'GCA_905237075.1', 'division': 'EnsemblVertebrates', 'display_name': 'European seabass', 'strain_collection': None, 'common_name': 'European seabass', 'assembly': 'dlabrax2021', 'taxon_id': '13489', 'aliases': [], 'groups': ['rnaseq', 'core'], 'strain': None}\n",
      "{'division': 'EnsemblVertebrates', 'accession': 'GCA_013347765.1', 'name': 'scophthalmus_maximus', 'release': 106, 'display_name': 'Turbot', 'taxon_id': '52904', 'aliases': [], 'assembly': 'ASM1334776v1', 'common_name': 'turbot', 'strain_collection': None, 'groups': ['otherfeatures', 'funcgen', 'core', 'rnaseq'], 'strain': None}\n",
      "{'strain': None, 'groups': ['core'], 'aliases': ['bottlenose dolphin', 'ttruncatus', 'tursiopstruncatus', 'dolphin', 'tursiops truncatus', 'ttru', 'bottlenosed dolphin', '9739', 'turtru'], 'taxon_id': '9739', 'common_name': 'bottlenosed dolphin', 'assembly': 'turTru1', 'strain_collection': None, 'display_name': 'Dolphin', 'division': 'EnsemblVertebrates', 'accession': None, 'name': 'tursiops_truncatus', 'release': 106}\n",
      "{'groups': ['rnaseq', 'otherfeatures', 'core'], 'strain': 'jinhua', 'aliases': [], 'taxon_id': '9823', 'strain_collection': None, 'common_name': 'pig', 'assembly': 'Jinhua_pig_v1', 'display_name': 'Pig - Jinhua', 'accession': 'GCA_001700295.1', 'division': 'EnsemblVertebrates', 'release': 106, 'name': 'sus_scrofa_jinhua'}\n",
      "{'release': 106, 'name': 'denticeps_clupeoides', 'accession': 'GCA_900700375.1', 'division': 'EnsemblVertebrates', 'display_name': 'Denticle herring', 'strain_collection': None, 'assembly': 'fDenClu1.1', 'common_name': 'denticle herring', 'taxon_id': '299321', 'aliases': [], 'strain': None, 'groups': ['otherfeatures', 'core', 'rnaseq']}\n",
      "{'taxon_id': '9358', 'aliases': ['choloepus hoffmanni', 'choloepushoffmanni', 'chof', 'choloepus', 'choffmanni', 'sloth', \"hoffmann's two-fingered sloth\", 'chohof', '9358', 'two-toed sloth'], 'strain_collection': None, 'common_name': \"Hoffmann's two-fingered sloth\", 'assembly': 'choHof1', 'strain': None, 'groups': ['core'], 'accession': None, 'division': 'EnsemblVertebrates', 'release': 106, 'name': 'choloepus_hoffmanni', 'display_name': 'Sloth'}\n",
      "{'display_name': 'Daurian ground squirrel', 'division': 'EnsemblVertebrates', 'accession': 'GCA_002406435.1', 'name': 'spermophilus_dauricus', 'release': 106, 'strain': None, 'groups': ['core'], 'taxon_id': '99837', 'aliases': [], 'assembly': 'ASM240643v1', 'common_name': 'Daurian ground squirrel', 'strain_collection': None}\n",
      "{'release': 106, 'name': 'bos_taurus_hybrid', 'accession': 'GCA_003369685.2', 'division': 'EnsemblVertebrates', 'display_name': 'Hybrid - Bos Taurus', 'strain_collection': None, 'assembly': 'UOA_Angus_1', 'common_name': 'hybrid cattle', 'taxon_id': '30522', 'aliases': [], 'groups': ['otherfeatures', 'core', 'rnaseq'], 'strain': None}\n",
      "{'division': 'EnsemblVertebrates', 'accession': 'GCA_000215625.1', 'name': 'mustela_putorius_furo', 'release': 106, 'display_name': 'Ferret', 'aliases': ['mputorius_furo', 'musput', '9669', 'mustela putorius furo', 'mput', 'domestic ferret', 'ferret'], 'taxon_id': '9669', 'assembly': 'MusPutFur1.0', 'common_name': 'Domestic ferret', 'strain_collection': None, 'groups': ['otherfeatures', 'core', 'rnaseq'], 'strain': None}\n",
      "{'display_name': 'Ruff', 'division': 'EnsemblVertebrates', 'accession': 'GCA_001431845.1', 'name': 'calidris_pugnax', 'release': 106, 'groups': ['otherfeatures', 'core', 'rnaseq'], 'strain': None, 'aliases': [], 'taxon_id': '198806', 'common_name': 'ruff', 'assembly': 'ASM143184v1', 'strain_collection': None}\n",
      "{'display_name': 'Tree Shrew', 'name': 'tupaia_belangeri', 'release': 106, 'division': 'EnsemblVertebrates', 'accession': None, 'strain': None, 'groups': ['core'], 'common_name': 'northern tree shrew', 'assembly': 'TREESHREW', 'strain_collection': None, 'taxon_id': '37347', 'aliases': ['tupbel', 'tree shrew', 'northern tree shrew', 'tbel', 'tree_shrew', 'tbelangeri', '37347', 'tupaia belangeri']}\n",
      "{'taxon_id': '375764', 'aliases': [], 'strain_collection': None, 'common_name': 'orbiculate cardinalfish', 'assembly': 'fSphaOr1.1', 'groups': ['rnaseq', 'core', 'otherfeatures'], 'strain': None, 'accession': 'GCA_902148855.1', 'division': 'EnsemblVertebrates', 'release': 106, 'name': 'sphaeramia_orbicularis', 'display_name': 'Orbiculate cardinalfish'}\n",
      "{'display_name': 'Lamprey', 'division': 'EnsemblVertebrates', 'accession': None, 'name': 'petromyzon_marinus', 'release': 106, 'groups': ['core', 'otherfeatures'], 'strain': None, 'taxon_id': '7757', 'aliases': ['pmarinus', 'petromyzon marinus', 'pmar', 'lamprey', 'sea lamprey', 'petmar', '7757'], 'common_name': 'sea lamprey', 'assembly': 'Pmarinus_7.0', 'strain_collection': None}\n",
      "{'strain_collection': None, 'assembly': 'CavAp1.0', 'common_name': 'Brazilian guinea pig', 'taxon_id': '37548', 'aliases': ['cape', 'cavia aperea', '37548', 'brazilian guinea pig', 'caperea', 'cavape'], 'strain': None, 'groups': ['core'], 'release': 106, 'name': 'cavia_aperea', 'accession': 'GCA_000688575.1', 'division': 'EnsemblVertebrates', 'display_name': 'Brazilian guinea pig'}\n",
      "{'groups': ['rnaseq', 'otherfeatures', 'core'], 'strain': None, 'taxon_id': '156563', 'aliases': [], 'common_name': 'blue tit', 'assembly': 'cyaCae2', 'strain_collection': None, 'display_name': 'Blue tit', 'division': 'EnsemblVertebrates', 'accession': 'GCA_002901205.1', 'name': 'cyanistes_caeruleus', 'release': 106}\n",
      "{'strain': None, 'groups': ['rnaseq', 'otherfeatures', 'core'], 'assembly': 'PoeFor_5.1.2', 'common_name': 'Amazon molly', 'strain_collection': None, 'taxon_id': '48698', 'aliases': ['poefor', '48698', 'pformosa', 'pfor', 'amazon molly', 'poecilia formosa'], 'display_name': 'Amazon molly', 'name': 'poecilia_formosa', 'release': 106, 'division': 'EnsemblVertebrates', 'accession': 'GCA_000485575.1'}\n",
      "{'release': 106, 'name': 'astyanax_mexicanus', 'accession': 'GCA_000372685.2', 'division': 'EnsemblVertebrates', 'display_name': 'Mexican tetra', 'strain_collection': None, 'common_name': 'Mexican tetra', 'assembly': 'Astyanax_mexicanus-2.0', 'aliases': ['amexicanus', 'amex', '7994', 'astyanax mexicanus', 'cave fish', 'astmex'], 'taxon_id': '7994', 'strain': None, 'groups': ['rnaseq', 'core']}\n",
      "{'release': 106, 'name': 'cebus_capucinus', 'accession': 'GCA_001604975.1', 'division': 'EnsemblVertebrates', 'display_name': 'Capuchin', 'strain_collection': None, 'assembly': 'Cebus_imitator-1.0', 'common_name': 'White-headed capuchin', 'aliases': [], 'taxon_id': '2715852', 'groups': ['rnaseq', 'otherfeatures', 'funcgen', 'core'], 'strain': None}\n",
      "{'groups': ['otherfeatures', 'core', 'rnaseq'], 'strain': None, 'strain_collection': None, 'assembly': 'M_zebra_UMD2a', 'common_name': 'zebra mbuna', 'aliases': [], 'taxon_id': '106582', 'display_name': 'Zebra mbuna', 'release': 106, 'name': 'maylandia_zebra', 'accession': 'GCA_000238955.5', 'division': 'EnsemblVertebrates'}\n",
      "{'release': 106, 'name': 'mola_mola', 'accession': 'GCA_001698575.1', 'division': 'EnsemblVertebrates', 'display_name': 'Ocean sunfish', 'strain_collection': None, 'common_name': 'ocean sunfish', 'assembly': 'ASM169857v1', 'aliases': [], 'taxon_id': '94237', 'groups': ['core'], 'strain': None}\n",
      "{'strain': None, 'groups': ['core'], 'aliases': [], 'taxon_id': '132585', 'assembly': 'ASM259213v1', 'common_name': 'pink-footed goose', 'strain_collection': None, 'display_name': 'Pink-footed goose', 'division': 'EnsemblVertebrates', 'accession': 'GCA_002592135.1', 'name': 'anser_brachyrhynchus', 'release': 106}\n",
      "{'name': 'oryctolagus_cuniculus', 'release': 106, 'division': 'EnsemblVertebrates', 'accession': 'GCA_000003625.1', 'display_name': 'Rabbit', 'assembly': 'OryCun2.0', 'common_name': 'rabbit', 'strain_collection': None, 'aliases': ['rabbit', 'ocuniculus', 'orycun', '9986', 'ocun', 'oryctolagus cuniculus'], 'taxon_id': '9986', 'groups': ['core', 'funcgen', 'otherfeatures', 'variation', 'rnaseq'], 'strain': None}\n",
      "{'strain': None, 'groups': ['rnaseq', 'funcgen', 'core'], 'strain_collection': None, 'assembly': 'CriGri-PICR', 'common_name': 'Chinese hamster', 'taxon_id': '10029', 'aliases': [], 'display_name': 'Chinese hamster PICR', 'release': 106, 'name': 'cricetulus_griseus_picr', 'accession': 'GCA_003668045.1', 'division': 'EnsemblVertebrates'}\n",
      "{'common_name': 'Canada lynx', 'assembly': 'mLynCan4_v1.p', 'strain_collection': None, 'aliases': [], 'taxon_id': '61383', 'strain': None, 'groups': ['otherfeatures', 'core', 'rnaseq'], 'name': 'lynx_canadensis', 'release': 106, 'division': 'EnsemblVertebrates', 'accession': 'GCA_007474595.1', 'display_name': 'Canada lynx'}\n",
      "{'release': 106, 'name': 'panthera_tigris_altaica', 'accession': 'GCA_000464555.1', 'division': 'EnsemblVertebrates', 'display_name': 'Tiger', 'strain_collection': None, 'assembly': 'PanTig1.0', 'common_name': 'Tiger', 'taxon_id': '74533', 'aliases': ['tiger'], 'groups': ['core', 'otherfeatures', 'rnaseq'], 'strain': None}\n",
      "{'groups': ['core', 'rnaseq'], 'strain': None, 'strain_collection': None, 'common_name': 'common carp hebao red', 'assembly': 'Hebao_red_carp_1.0', 'taxon_id': '7962', 'aliases': [], 'display_name': 'Common carp hebao red', 'release': 106, 'name': 'cyprinus_carpio_hebaored', 'accession': 'GCA_004011595.1', 'division': 'EnsemblVertebrates'}\n",
      "{'strain': None, 'groups': ['otherfeatures', 'core', 'rnaseq'], 'taxon_id': '41447', 'aliases': [], 'strain_collection': None, 'common_name': 'greater amberjack', 'assembly': 'Sdu_1.0', 'display_name': 'Greater amberjack', 'accession': 'GCA_002260705.1', 'division': 'EnsemblVertebrates', 'release': 106, 'name': 'seriola_dumerili'}\n",
      "{'display_name': 'Pig - Landrace', 'name': 'sus_scrofa_landrace', 'release': 106, 'division': 'EnsemblVertebrates', 'accession': 'GCA_001700215.1', 'strain': 'landrace', 'groups': ['otherfeatures', 'core', 'rnaseq'], 'assembly': 'Landrace_pig_v1', 'common_name': 'pig', 'strain_collection': None, 'taxon_id': '9823', 'aliases': []}\n",
      "{'name': 'dipodomys_ordii', 'release': 106, 'division': 'EnsemblVertebrates', 'accession': 'GCA_000151885.2', 'display_name': 'Kangaroo rat', 'assembly': 'Dord_2.0', 'common_name': \"Ord's kangaroo rat\", 'strain_collection': None, 'taxon_id': '10020', 'aliases': [\"ord's kangaroo rat\", 'kangaroo_rat', 'dord', 'dipord', 'dordii', 'dipodomys ordii', 'ords kangaroo rat', '10020', 'kangaroo rat', 'dipodomysordii'], 'groups': ['core', 'otherfeatures'], 'strain': None}\n",
      "{'display_name': 'Donkey', 'accession': 'GCA_003033725.1', 'division': 'EnsemblVertebrates', 'release': 106, 'name': 'equus_asinus_asinus', 'groups': ['rnaseq', 'core'], 'strain': None, 'aliases': [], 'taxon_id': '83772', 'strain_collection': None, 'assembly': 'ASM303372v1', 'common_name': 'donkey'}\n",
      "{'groups': ['rnaseq', 'otherfeatures', 'core'], 'strain': None, 'assembly': 'fMyrMur1.1', 'common_name': 'pinecone soldierfish', 'strain_collection': None, 'aliases': [], 'taxon_id': '586833', 'display_name': 'Pinecone soldierfish', 'name': 'myripristis_murdjan', 'release': 106, 'division': 'EnsemblVertebrates', 'accession': 'GCA_902150065.1'}\n",
      "{'release': 106, 'name': 'erythrura_gouldiae', 'accession': 'GCA_003676055.1', 'division': 'EnsemblVertebrates', 'display_name': 'Gouldian finch', 'strain_collection': None, 'assembly': 'GouldianFinch', 'common_name': 'Gouldian finch', 'taxon_id': '44316', 'aliases': [], 'groups': ['core', 'rnaseq'], 'strain': None}\n",
      "{'division': 'EnsemblVertebrates', 'accession': 'GCA_002743455.1', 'name': 'anas_platyrhynchos_platyrhynchos', 'release': 106, 'display_name': 'Duck', 'taxon_id': '8840', 'aliases': [], 'assembly': 'CAU_duck1.0', 'common_name': 'common mallard', 'strain_collection': None, 'groups': ['rnaseq', 'funcgen', 'core'], 'strain': None}\n",
      "{'display_name': 'Great spotted kiwi', 'division': 'EnsemblVertebrates', 'accession': 'GCA_003342985.1', 'name': 'apteryx_haastii', 'release': 106, 'groups': ['rnaseq', 'core'], 'strain': None, 'taxon_id': '8823', 'aliases': [], 'assembly': 'aptHaa1', 'common_name': 'Great spotted kiwi', 'strain_collection': None}\n",
      "{'division': 'EnsemblVertebrates', 'accession': 'GCA_000260255.1', 'name': 'octodon_degus', 'release': 106, 'display_name': 'Degu', 'aliases': ['odeg', '10160', 'octodon degus', 'odegus', 'octdeg', 'degu'], 'taxon_id': '10160', 'assembly': 'OctDeg1.0', 'common_name': 'Degu', 'strain_collection': None, 'groups': ['core', 'otherfeatures'], 'strain': None}\n",
      "{'division': 'EnsemblVertebrates', 'accession': 'GCA_000241765.2', 'name': 'chrysemys_picta_bellii', 'release': 106, 'display_name': 'Painted turtle', 'aliases': [], 'taxon_id': '8478', 'assembly': 'Chrysemys_picta_bellii-3.0.3', 'common_name': 'Western painted turtle', 'strain_collection': None, 'strain': None, 'groups': ['otherfeatures', 'core', 'rnaseq']}\n",
      "{'strain': 'WSB/EiJ', 'groups': ['funcgen', 'core'], 'strain_collection': None, 'common_name': 'mouse', 'assembly': 'WSB_EiJ_v1', 'aliases': ['mus musculus domesticus wsbeij', 'mus_musculus_domesticus_wsbeij', 'mmusculus_domesticus_wsbeij', 'western european house mouse', '10092', 'mouse wsbeij'], 'taxon_id': '10092', 'display_name': 'Mouse WSB/EiJ', 'release': 106, 'name': 'mus_musculus_wsbeij', 'accession': 'GCA_001624835.1', 'division': 'EnsemblVertebrates'}\n",
      "{'display_name': 'Tiger tail seahorse', 'accession': 'GCA_001891065.1', 'division': 'EnsemblVertebrates', 'release': 106, 'name': 'hippocampus_comes', 'groups': ['rnaseq', 'core', 'otherfeatures'], 'strain': None, 'taxon_id': '109280', 'aliases': [], 'strain_collection': None, 'assembly': 'H_comes_QL1_v1', 'common_name': 'tiger tail seahorse'}\n",
      "{'display_name': 'Chinese softshell turtle', 'accession': 'GCA_000230535.1', 'division': 'EnsemblVertebrates', 'release': 106, 'name': 'pelodiscus_sinensis', 'groups': ['rnaseq', 'core', 'otherfeatures'], 'strain': None, 'aliases': ['pelodiscus sinensis', 'softshell turtle', '13735', 'chinese softshell turtle', 'psinensis', 'chinese soft shell turtle', 'p_sinensis'], 'taxon_id': '13735', 'strain_collection': None, 'assembly': 'PelSin_1.0', 'common_name': 'Chinese softshell turtle'}\n",
      "{'common_name': 'Indian cobra', 'assembly': 'Nana_v5', 'strain_collection': None, 'aliases': [], 'taxon_id': '35670', 'strain': None, 'groups': ['rnaseq', 'core'], 'name': 'naja_naja', 'release': 106, 'division': 'EnsemblVertebrates', 'accession': 'GCA_009733165.1', 'display_name': 'Indian cobra'}\n",
      "{'strain': None, 'groups': ['core'], 'strain_collection': None, 'assembly': 'COMMON_SHREW1', 'common_name': 'European shrew', 'aliases': ['european_shrew', 'european shrew', 'shrew', 'sara', 'ground_shrew', 'sorara', 'saraneus', '42254', 'sorex araneus'], 'taxon_id': '42254', 'display_name': 'Shrew', 'release': 106, 'name': 'sorex_araneus', 'accession': None, 'division': 'EnsemblVertebrates'}\n",
      "{'display_name': 'Meerkat', 'release': 106, 'name': 'suricata_suricatta', 'accession': 'GCA_006229205.1', 'division': 'EnsemblVertebrates', 'groups': ['rnaseq', 'core', 'otherfeatures'], 'strain': None, 'strain_collection': None, 'common_name': 'meerkat', 'assembly': 'meerkat_22Aug2017_6uvM2_HiC', 'aliases': [], 'taxon_id': '37032'}\n",
      "{'common_name': 'golden-line barbel', 'assembly': 'SAMN03320097.WGS_v1.1', 'strain_collection': None, 'aliases': [], 'taxon_id': '75366', 'groups': ['otherfeatures', 'core', 'rnaseq'], 'strain': None, 'name': 'sinocyclocheilus_grahami', 'release': 106, 'division': 'EnsemblVertebrates', 'accession': 'GCA_001515645.1', 'display_name': 'Golden-line barbel'}\n",
      "{'release': 106, 'name': 'capra_hircus', 'accession': 'GCA_001704415.1', 'division': 'EnsemblVertebrates', 'display_name': 'Goat', 'strain_collection': None, 'assembly': 'ARS1', 'common_name': 'Goat', 'aliases': [], 'taxon_id': '9925', 'groups': ['variation', 'rnaseq', 'core', 'funcgen', 'otherfeatures'], 'strain': 'reference'}\n",
      "{'strain': None, 'groups': ['rnaseq', 'otherfeatures', 'core'], 'aliases': [], 'taxon_id': '1841481', 'strain_collection': None, 'common_name': 'yellowtail amberjack', 'assembly': 'Sedor1', 'display_name': 'Yellowtail amberjack', 'accession': 'GCA_002814215.1', 'division': 'EnsemblVertebrates', 'release': 106, 'name': 'seriola_lalandi_dorsalis'}\n",
      "{'common_name': 'spotted green pufferfish', 'assembly': 'TETRAODON8', 'strain_collection': None, 'taxon_id': '99883', 'aliases': ['tetraodon', 'tnigroviridis', 'tetraodon nigroviridis', 'fresh water pufferfish', 'spotted green pufferfish', 'tnig', '99883', 'tetnig'], 'strain': None, 'groups': ['otherfeatures', 'core', 'variation'], 'name': 'tetraodon_nigroviridis', 'release': 106, 'division': 'EnsemblVertebrates', 'accession': None, 'display_name': 'Tetraodon'}\n",
      "{'strain_collection': None, 'common_name': 'Arabian camel', 'assembly': 'CamDro2', 'taxon_id': '9838', 'aliases': [], 'groups': ['core', 'rnaseq'], 'strain': None, 'release': 106, 'name': 'camelus_dromedarius', 'accession': 'GCA_000803125.2', 'division': 'EnsemblVertebrates', 'display_name': 'Arabian camel'}\n",
      "{'division': 'EnsemblVertebrates', 'accession': 'GCA_000223135.1', 'name': 'cricetulus_griseus_crigri', 'release': 106, 'display_name': 'Chinese hamster CriGri', 'taxon_id': '10029', 'aliases': ['cricetulus griseus crigri', 'chinese hamster crigri', 'cgriseus_crigri'], 'common_name': 'Chinese hamster', 'assembly': 'CriGri_1.0', 'strain_collection': None, 'strain': None, 'groups': ['rnaseq', 'core', 'funcgen', 'otherfeatures']}\n",
      "{'aliases': ['mspretus', 'mus_spretus_spret_eij', 'western mediterranean mouse', 'spreteij'], 'taxon_id': '10096', 'common_name': 'algerian mouse', 'assembly': 'SPRET_EiJ_v1', 'strain_collection': None, 'strain': 'SPRET/EiJ', 'groups': ['core', 'funcgen'], 'division': 'EnsemblVertebrates', 'accession': 'GCA_001624865.1', 'name': 'mus_spretus', 'release': 106, 'display_name': 'Algerian mouse'}\n",
      "{'accession': 'GCA_000633615.2', 'division': 'EnsemblVertebrates', 'release': 106, 'name': 'poecilia_reticulata', 'display_name': 'Guppy', 'taxon_id': '8081', 'aliases': [], 'strain_collection': None, 'common_name': 'guppy', 'assembly': 'Guppy_female_1.0_MT', 'groups': ['rnaseq', 'core', 'otherfeatures'], 'strain': None}\n",
      "{'strain': None, 'groups': ['core', 'rnaseq'], 'strain_collection': None, 'assembly': 'ASM222487v1', 'common_name': 'Eastern spot-billed duck', 'taxon_id': '75864', 'aliases': [], 'display_name': 'Eastern spot-billed duck', 'release': 106, 'name': 'anas_zonorhyncha', 'accession': 'GCA_002224875.1', 'division': 'EnsemblVertebrates'}\n",
      "{'display_name': 'Chacoan peccary', 'release': 106, 'name': 'catagonus_wagneri', 'accession': 'GCA_004024745.2', 'division': 'EnsemblVertebrates', 'groups': ['rnaseq', 'core'], 'strain': None, 'strain_collection': None, 'assembly': 'CatWag_v2_BIUU_UCD', 'common_name': 'Chacoan peccary', 'aliases': [], 'taxon_id': '51154'}\n",
      "{'groups': ['otherfeatures', 'core', 'rnaseq', 'variation'], 'strain': 'reference', 'strain_collection': None, 'assembly': 'Oar_rambouillet_v1.0', 'common_name': 'sheep', 'taxon_id': '9940', 'aliases': [], 'display_name': 'Sheep', 'release': 106, 'name': 'ovis_aries_rambouillet', 'accession': 'GCA_002742125.1', 'division': 'EnsemblVertebrates'}\n",
      "{'strain': None, 'groups': ['core', 'otherfeatures', 'rnaseq'], 'aliases': [], 'taxon_id': '223781', 'strain_collection': None, 'common_name': 'golden eagle', 'assembly': 'bAquChr1.2', 'display_name': 'Golden eagle', 'accession': 'GCA_900496995.2', 'division': 'EnsemblVertebrates', 'release': 106, 'name': 'aquila_chrysaetos_chrysaetos'}\n",
      "{'display_name': 'Giant panda', 'division': 'EnsemblVertebrates', 'accession': 'GCA_002007445.2', 'name': 'ailuropoda_melanoleuca', 'release': 106, 'groups': ['core', 'otherfeatures', 'rnaseq'], 'strain': 'reference', 'aliases': [], 'taxon_id': '9646', 'assembly': 'ASM200744v2', 'common_name': 'giant panda', 'strain_collection': None}\n",
      "{'strain': None, 'groups': ['rnaseq', 'otherfeatures', 'core'], 'common_name': 'Spotted gar', 'assembly': 'LepOcu1', 'strain_collection': None, 'taxon_id': '7918', 'aliases': ['loculatus', '7918', 'locu', 'spotted gar', 'lepisosteus oculatus', 'lepocu'], 'display_name': 'Spotted gar', 'name': 'lepisosteus_oculatus', 'release': 106, 'division': 'EnsemblVertebrates', 'accession': 'GCA_000242695.1'}\n",
      "{'name': 'lates_calcarifer', 'release': 106, 'division': 'EnsemblVertebrates', 'accession': 'GCA_900066035.1', 'display_name': 'Barramundi perch', 'assembly': 'ASB_HGAPassembly_v1', 'common_name': 'barramundi perch', 'strain_collection': None, 'taxon_id': '8187', 'aliases': [], 'groups': ['core', 'rnaseq'], 'strain': None}\n",
      "{'display_name': \"Ma's night monkey\", 'release': 106, 'name': 'aotus_nancymaae', 'accession': 'GCA_000952055.2', 'division': 'EnsemblVertebrates', 'groups': ['funcgen', 'core', 'otherfeatures', 'rnaseq'], 'strain': None, 'strain_collection': None, 'assembly': 'Anan_2.0', 'common_name': \"Ma's night monkey\", 'taxon_id': '37293', 'aliases': []}\n",
      "{'display_name': 'C.intestinalis', 'division': 'EnsemblVertebrates', 'accession': 'GCA_000224145.1', 'name': 'ciona_intestinalis', 'release': 106, 'strain': None, 'groups': ['otherfeatures', 'funcgen', 'core'], 'taxon_id': '7719', 'aliases': ['cioint', '7719', 'c.intestinalis', 'cint', 'ciona', 'cintestinalis', 'sea squirt ciona intestinalis', 'ciona intestinalis'], 'common_name': 'Sea squirt Ciona intestinalis', 'assembly': 'KH', 'strain_collection': None}\n",
      "{'strain': None, 'groups': ['rnaseq', 'otherfeatures', 'core'], 'taxon_id': '144197', 'aliases': [], 'common_name': 'bicolor damselfish', 'assembly': 'Stegastes_partitus-1.0.2', 'strain_collection': None, 'display_name': 'Bicolor damselfish', 'division': 'EnsemblVertebrates', 'accession': 'GCA_000690725.1', 'name': 'stegastes_partitus', 'release': 106}\n",
      "{'taxon_id': '8364', 'aliases': [], 'strain_collection': None, 'assembly': 'Xenopus_tropicalis_v9.1', 'common_name': 'tropical clawed frog', 'groups': ['rnaseq', 'otherfeatures', 'funcgen', 'core'], 'strain': None, 'accession': 'GCA_000004195.3', 'division': 'EnsemblVertebrates', 'release': 106, 'name': 'xenopus_tropicalis', 'display_name': 'Tropical clawed frog'}\n",
      "{'display_name': 'Pachon cavefish', 'release': 106, 'name': 'astyanax_mexicanus_pachon', 'accession': 'GCA_004802775.1', 'division': 'EnsemblVertebrates', 'strain': None, 'groups': ['rnaseq', 'core'], 'strain_collection': None, 'common_name': 'Pachon cavefish', 'assembly': 'Astyanax_mexicanus-1.0.2', 'taxon_id': '7994', 'aliases': []}\n",
      "{'release': 106, 'name': 'mus_musculus_aj', 'accession': 'GCA_001624215.1', 'division': 'EnsemblVertebrates', 'display_name': 'Mouse A/J', 'strain_collection': None, 'assembly': 'A_J_v1', 'common_name': 'mouse', 'aliases': [], 'taxon_id': '10090', 'strain': 'A/J', 'groups': ['core', 'funcgen']}\n",
      "{'common_name': 'Western Lowland Gorilla', 'assembly': 'gorGor4', 'strain_collection': None, 'taxon_id': '9595', 'aliases': ['gorilla', 'gorilla_gorilla_gorilla', 'gorilla gorilla gorilla', 'western gorilla', 'gorilla gorilla', '9593', 'ggor', 'gorgor', 'ggorilla', '9595'], 'groups': ['rnaseq', 'funcgen', 'core', 'otherfeatures'], 'strain': None, 'name': 'gorilla_gorilla', 'release': 106, 'division': 'EnsemblVertebrates', 'accession': 'GCA_000151905.3', 'display_name': 'Gorilla'}\n",
      "{'display_name': 'Hybrid - Bos Indicus', 'accession': 'GCA_003369695.2', 'division': 'EnsemblVertebrates', 'release': 106, 'name': 'bos_indicus_hybrid', 'strain': None, 'groups': ['core', 'otherfeatures', 'rnaseq'], 'aliases': [], 'taxon_id': '30522', 'strain_collection': None, 'assembly': 'UOA_Brahman_1', 'common_name': 'hybrid cattle'}\n",
      "{'common_name': 'blunt-snouted clingfish', 'assembly': 'fGouWil2.1', 'strain_collection': None, 'aliases': [], 'taxon_id': '441366', 'strain': None, 'groups': ['rnaseq', 'otherfeatures', 'core'], 'name': 'gouania_willdenowi', 'release': 106, 'division': 'EnsemblVertebrates', 'accession': 'GCA_900634775.1', 'display_name': 'Blunt-snouted clingfish'}\n",
      "{'display_name': 'Pig', 'name': 'sus_scrofa', 'release': 106, 'division': 'EnsemblVertebrates', 'accession': 'GCA_000003025.6', 'groups': ['variation', 'rnaseq', 'funcgen', 'core', 'otherfeatures'], 'strain': 'reference', 'assembly': 'Sscrofa11.1', 'common_name': 'pig', 'strain_collection': None, 'taxon_id': '9823', 'aliases': ['pigs', 'sscr', 'sus scrofa', 'sscrofa', 'wild boar', '9823', 'swine', 'pig']}\n",
      "{'strain': None, 'groups': ['rnaseq', 'core'], 'taxon_id': '47308', 'aliases': [], 'common_name': 'round goby', 'assembly': 'RGoby_Basel_V2', 'strain_collection': None, 'display_name': 'Round goby', 'division': 'EnsemblVertebrates', 'accession': 'GCA_007210695.1', 'name': 'neogobius_melanostomus', 'release': 106}\n",
      "{'display_name': 'American black bear', 'release': 106, 'name': 'ursus_americanus', 'accession': 'GCA_003344425.1', 'division': 'EnsemblVertebrates', 'strain': None, 'groups': ['core', 'rnaseq'], 'strain_collection': None, 'assembly': 'ASM334442v1', 'common_name': 'American black bear', 'taxon_id': '9643', 'aliases': []}\n",
      "{'name': 'papio_anubis', 'release': 106, 'division': 'EnsemblVertebrates', 'accession': 'GCA_008728515.1', 'display_name': 'Olive baboon', 'common_name': 'olive baboon', 'assembly': 'Panubis1.0', 'strain_collection': None, 'aliases': ['doguera baboon', 'olive baboon', 'papio anubis', 'kenya baboon'], 'taxon_id': '9555', 'strain': None, 'groups': ['otherfeatures', 'core', 'funcgen', 'rnaseq']}\n",
      "{'display_name': 'Paramormyrops kingsleyae', 'release': 106, 'name': 'paramormyrops_kingsleyae', 'accession': 'GCA_002872115.1', 'division': 'EnsemblVertebrates', 'groups': ['core', 'rnaseq'], 'strain': None, 'strain_collection': None, 'assembly': 'PKINGS_0.1', 'common_name': 'Paramormyrops kingsleyae', 'taxon_id': '1676925', 'aliases': []}\n",
      "{'display_name': 'Orange clownfish', 'name': 'amphiprion_percula', 'release': 106, 'division': 'EnsemblVertebrates', 'accession': 'GCA_003047355.1', 'strain': None, 'groups': ['rnaseq', 'core'], 'assembly': 'Nemo_v1', 'common_name': 'orange clownfish', 'strain_collection': None, 'taxon_id': '161767', 'aliases': []}\n",
      "{'groups': ['core', 'otherfeatures', 'rnaseq'], 'strain': None, 'taxon_id': '56723', 'aliases': [], 'strain_collection': None, 'assembly': 'BallGen_V1', 'common_name': 'ballan wrasse', 'display_name': 'Ballan wrasse', 'accession': 'GCA_900080235.1', 'division': 'EnsemblVertebrates', 'release': 106, 'name': 'labrus_bergylta'}\n",
      "{'display_name': 'Green anole', 'accession': 'GCA_000090745.2', 'division': 'EnsemblVertebrates', 'release': 106, 'name': 'anolis_carolinensis', 'strain': 'reference', 'groups': ['otherfeatures', 'core', 'rnaseq'], 'taxon_id': '28377', 'aliases': [], 'strain_collection': None, 'common_name': 'green anole', 'assembly': 'AnoCar2.0v2'}\n",
      "{'display_name': 'Lesser hedgehog tenrec', 'release': 106, 'name': 'echinops_telfairi', 'accession': None, 'division': 'EnsemblVertebrates', 'strain': None, 'groups': ['core'], 'strain_collection': None, 'common_name': 'small Madagascar hedgehog', 'assembly': 'TENREC', 'taxon_id': '9371', 'aliases': ['lesser_hedgehog', 'madagascar_hedgehog', '9371', 'echinops telfairi', 'lesser hedgehog tenrec', 'etelfairi', 'tenrec', 'small madagascar hedgehog', 'echtel', 'etel']}\n",
      "{'strain': None, 'groups': ['rnaseq', 'otherfeatures', 'core'], 'aliases': [], 'taxon_id': '8005', 'strain_collection': None, 'common_name': 'electric eel', 'assembly': 'Ee_SOAP_WITH_SSPACE', 'display_name': 'Electric eel', 'accession': 'GCA_003665695.2', 'division': 'EnsemblVertebrates', 'release': 106, 'name': 'electrophorus_electricus'}\n",
      "{'assembly': 'Okis_V2', 'common_name': 'coho salmon', 'strain_collection': None, 'aliases': [], 'taxon_id': '8019', 'groups': ['rnaseq', 'core', 'otherfeatures'], 'strain': None, 'name': 'oncorhynchus_kisutch', 'release': 106, 'division': 'EnsemblVertebrates', 'accession': 'GCA_002021735.2', 'display_name': 'Coho salmon'}\n",
      "{'groups': ['rnaseq', 'core'], 'strain': None, 'common_name': 'Crab-eating macaque', 'assembly': 'Macaca_fascicularis_6.0', 'strain_collection': None, 'aliases': [], 'taxon_id': '9541', 'display_name': 'Crab-eating macaque', 'name': 'macaca_fascicularis', 'release': 106, 'division': 'EnsemblVertebrates', 'accession': 'GCA_011100615.1'}\n",
      "{'display_name': 'American bison', 'release': 106, 'name': 'bison_bison_bison', 'accession': 'GCA_000754665.1', 'division': 'EnsemblVertebrates', 'strain': None, 'groups': ['core', 'otherfeatures'], 'strain_collection': None, 'assembly': 'Bison_UMD1.0', 'common_name': 'American bison', 'aliases': [], 'taxon_id': '43346'}\n",
      "{'common_name': 'little brown bat', 'assembly': 'Myoluc2.0', 'strain_collection': None, 'aliases': ['myotis lucifugus', 'mlucifugus', 'mluc', 'little brown bat', 'little_brown_bat', 'myoluc', 'microbat', '59463'], 'taxon_id': '59463', 'groups': ['core', 'otherfeatures'], 'strain': None, 'name': 'myotis_lucifugus', 'release': 106, 'division': 'EnsemblVertebrates', 'accession': 'GCA_000147115.1', 'display_name': 'Microbat'}\n",
      "{'strain': None, 'groups': ['rnaseq', 'otherfeatures', 'core'], 'strain_collection': None, 'common_name': 'Japanese medaka HdrR', 'assembly': 'ASM223467v1', 'aliases': ['olat', 'olatipes', 'japanese medaka', 'medaka', '8090', 'orylat', 'oryzias latipes'], 'taxon_id': '8090', 'display_name': 'Japanese medaka HdrR', 'release': 106, 'name': 'oryzias_latipes', 'accession': 'GCA_002234675.1', 'division': 'EnsemblVertebrates'}\n",
      "{'assembly': 'PM.fa', 'common_name': 'Periophthalmus magnuspinnatus', 'strain_collection': None, 'aliases': [], 'taxon_id': '409849', 'strain': None, 'groups': ['core'], 'name': 'periophthalmus_magnuspinnatus', 'release': 106, 'division': 'EnsemblVertebrates', 'accession': 'GCA_000787105.1', 'display_name': 'Periophthalmus magnuspinnatus'}\n",
      "{'display_name': 'Emu', 'name': 'dromaius_novaehollandiae', 'release': 106, 'division': 'EnsemblVertebrates', 'accession': 'GCA_003342905.1', 'strain': None, 'groups': ['rnaseq', 'core', 'otherfeatures'], 'common_name': 'emu', 'assembly': 'droNov1', 'strain_collection': None, 'taxon_id': '8790', 'aliases': []}\n",
      "{'taxon_id': '132908', 'aliases': ['pvam', '132908', 'pteropus vampyrus', 'large flying fox', 'ptevam', 'pteropusvampyrus', 'pvampyrus', 'megabat'], 'assembly': 'pteVam1', 'common_name': 'large flying fox', 'strain_collection': None, 'groups': ['core'], 'strain': None, 'division': 'EnsemblVertebrates', 'accession': None, 'name': 'pteropus_vampyrus', 'release': 106, 'display_name': 'Megabat'}\n",
      "{'display_name': 'Bolivian squirrel monkey', 'release': 106, 'name': 'saimiri_boliviensis_boliviensis', 'accession': 'GCA_000235385.1', 'division': 'EnsemblVertebrates', 'groups': ['rnaseq', 'funcgen', 'core', 'otherfeatures'], 'strain': None, 'strain_collection': None, 'common_name': 'Bolivian squirrel monkey', 'assembly': 'SaiBol1.0', 'aliases': [], 'taxon_id': '39432'}\n",
      "{'assembly': 'ASM414374v1', 'common_name': 'Ring-necked pheasant', 'strain_collection': None, 'aliases': [], 'taxon_id': '9054', 'strain': None, 'groups': ['rnaseq', 'core'], 'name': 'phasianus_colchicus', 'release': 106, 'division': 'EnsemblVertebrates', 'accession': 'GCA_004143745.1', 'display_name': 'Ring-necked pheasant'}\n",
      "{'accession': 'GCA_002197715.1', 'division': 'EnsemblVertebrates', 'release': 106, 'name': 'lonchura_striata_domestica', 'display_name': 'Bengalese finch', 'taxon_id': '299123', 'aliases': [], 'strain_collection': None, 'assembly': 'LonStrDom1', 'common_name': 'Bengalese finch', 'strain': None, 'groups': ['core', 'otherfeatures', 'rnaseq']}\n",
      "{'name': 'strigops_habroptila', 'release': 106, 'division': 'EnsemblVertebrates', 'accession': 'GCA_004027225.1', 'display_name': 'Kakapo', 'assembly': 'bStrHab1_v1.p', 'common_name': 'Kakapo', 'strain_collection': None, 'taxon_id': '2489341', 'aliases': [], 'groups': ['rnaseq', 'core', 'otherfeatures'], 'strain': None}\n",
      "{'strain_collection': None, 'common_name': \"Burton's mouthbrooder\", 'assembly': 'AstBur1.0', 'aliases': [], 'taxon_id': '8153', 'strain': None, 'groups': ['rnaseq', 'core', 'otherfeatures'], 'release': 106, 'name': 'haplochromis_burtoni', 'accession': 'GCA_000239415.1', 'division': 'EnsemblVertebrates', 'display_name': \"Burton's mouthbrooder\"}\n",
      "{'name': 'ictidomys_tridecemlineatus', 'release': 106, 'division': 'EnsemblVertebrates', 'accession': 'GCA_000236235.1', 'display_name': 'Squirrel', 'assembly': 'SpeTri2.0', 'common_name': 'thirteen-lined ground squirrel', 'strain_collection': None, 'taxon_id': '43179', 'aliases': ['43179', 'stridecemlineatus', 'squirrel', 'stri', 'thirteen-lined ground squirrel', 'ictidomys tridecemlineatus', 'spetri', 'spermophilus_tridecemlineatus'], 'groups': ['rnaseq', 'core', 'otherfeatures'], 'strain': None}\n",
      "{'display_name': 'Opossum', 'division': 'EnsemblVertebrates', 'accession': 'GCA_000002295.1', 'name': 'monodelphis_domestica', 'release': 106, 'strain': None, 'groups': ['variation', 'rnaseq', 'core'], 'aliases': ['monodelphis domestica', '13616', 'mdomestica', 'opossum', 'mondom', 'mdom', 'gray short-tailed opossum', 'broado5'], 'taxon_id': '13616', 'assembly': 'ASM229v1', 'common_name': 'gray short-tailed opossum', 'strain_collection': None}\n",
      "{'accession': 'GCA_000004035.1', 'division': 'EnsemblVertebrates', 'release': 106, 'name': 'notamacropus_eugenii', 'display_name': 'Wallaby', 'taxon_id': '9315', 'aliases': ['macropus', 'notamacropus eugenii', 'neugenii', 'notamacropuseugenii', 'macropus_eugenii', 'maceug', 'macropus eugenii', 'wallaby', '9315', 'tammar wallaby', 'macropuseugenii', 'notamacropus', 'meugenii', 'meug', 'neug', 'noteug'], 'strain_collection': None, 'common_name': 'tammar wallaby', 'assembly': 'Meug_1.0', 'strain': None, 'groups': ['core']}\n",
      "{'release': 106, 'name': 'crocodylus_porosus', 'accession': 'GCA_001723895.1', 'division': 'EnsemblVertebrates', 'display_name': 'Australian saltwater crocodile', 'strain_collection': None, 'assembly': 'CroPor_comp1', 'common_name': 'Australian saltwater crocodile', 'aliases': [], 'taxon_id': '8502', 'strain': None, 'groups': ['otherfeatures', 'core', 'rnaseq']}\n",
      "{'display_name': 'Dingo', 'release': 106, 'name': 'canis_lupus_dingo', 'accession': 'GCA_003254725.1', 'division': 'EnsemblVertebrates', 'strain': None, 'groups': ['otherfeatures', 'core', 'rnaseq'], 'strain_collection': None, 'assembly': 'ASM325472v1', 'common_name': 'dingo', 'aliases': [], 'taxon_id': '286419'}\n",
      "{'release': 106, 'name': 'neovison_vison', 'accession': 'GCA_900108605.1', 'division': 'EnsemblVertebrates', 'display_name': 'American mink', 'strain_collection': None, 'common_name': 'American mink', 'assembly': 'NNQGG.v01', 'aliases': [], 'taxon_id': '452646', 'groups': ['variation', 'rnaseq', 'core'], 'strain': None}\n",
      "{'release': 106, 'name': 'amphilophus_citrinellus', 'accession': 'GCA_000751415.1', 'division': 'EnsemblVertebrates', 'display_name': 'Midas cichlid', 'strain_collection': None, 'common_name': 'Midas cichlid', 'assembly': 'Midas_v5', 'taxon_id': '61819', 'aliases': [], 'groups': ['core'], 'strain': None}\n",
      "{'division': 'EnsemblVertebrates', 'accession': 'GCA_000972845.2', 'name': 'larimichthys_crocea', 'release': 106, 'display_name': 'Large yellow croaker', 'aliases': [], 'taxon_id': '215358', 'assembly': 'L_crocea_2.0', 'common_name': 'large yellow croaker', 'strain_collection': None, 'groups': ['otherfeatures', 'core', 'rnaseq'], 'strain': None}\n",
      "{'display_name': 'Lyretail cichlid', 'name': 'neolamprologus_brichardi', 'release': 106, 'division': 'EnsemblVertebrates', 'accession': 'GCA_000239395.1', 'groups': ['core', 'otherfeatures', 'rnaseq'], 'strain': None, 'common_name': 'lyretail cichlid', 'assembly': 'NeoBri1.0', 'strain_collection': None, 'taxon_id': '32507', 'aliases': []}\n",
      "{'division': 'EnsemblVertebrates', 'accession': 'GCA_004320025.1', 'name': 'laticauda_laticaudata', 'release': 106, 'display_name': 'Blue-ringed sea krait', 'aliases': [], 'taxon_id': '8630', 'assembly': 'latLat_1.0', 'common_name': 'blue-ringed sea krait', 'strain_collection': None, 'groups': ['rnaseq', 'core'], 'strain': None}\n",
      "{'strain': None, 'groups': ['rnaseq', 'otherfeatures', 'core'], 'strain_collection': None, 'assembly': 'bare-nosed_wombat_genome_assembly', 'common_name': 'common wombat', 'aliases': [], 'taxon_id': '29139', 'display_name': 'Common wombat', 'release': 106, 'name': 'vombatus_ursinus', 'accession': 'GCA_900497805.2', 'division': 'EnsemblVertebrates'}\n",
      "{'division': 'EnsemblVertebrates', 'accession': 'GCA_003317085.1', 'name': 'hucho_hucho', 'release': 106, 'display_name': 'Huchen', 'aliases': [], 'taxon_id': '62062', 'assembly': 'ASM331708v1', 'common_name': 'huchen', 'strain_collection': None, 'strain': None, 'groups': ['core', 'rnaseq']}\n",
      "{'division': 'EnsemblVertebrates', 'accession': 'GCA_002925995.2', 'name': 'terrapene_carolina_triunguis', 'release': 106, 'display_name': 'Three-toed box turtle', 'taxon_id': '2587831', 'aliases': [], 'assembly': 'T_m_triunguis-2.0', 'common_name': 'Three-toed box turtle', 'strain_collection': None, 'strain': None, 'groups': ['rnaseq', 'otherfeatures', 'core']}\n",
      "{'release': 106, 'name': 'leptobrachium_leishanense', 'accession': 'GCA_009667805.1', 'division': 'EnsemblVertebrates', 'display_name': 'Leishan spiny toad', 'strain_collection': None, 'assembly': 'ASM966780v1', 'common_name': 'Leishan spiny toad', 'aliases': [], 'taxon_id': '445787', 'groups': ['core', 'rnaseq'], 'strain': None}\n",
      "{'taxon_id': '9813', 'aliases': ['procap', 'procavia capensis', 'procaviacapensis', 'rock_hyrax', 'cape rock hyrax', 'pcapensis', '9813', 'hyrax', 'pcap'], 'common_name': 'cape rock hyrax', 'assembly': 'proCap1', 'strain_collection': None, 'strain': None, 'groups': ['core'], 'division': 'EnsemblVertebrates', 'accession': None, 'name': 'procavia_capensis', 'release': 106, 'display_name': 'Hyrax'}\n",
      "{'name': 'coturnix_japonica', 'release': 106, 'division': 'EnsemblVertebrates', 'accession': 'GCA_001577835.1', 'display_name': 'Japanese quail', 'common_name': 'Japanese quail', 'assembly': 'Coturnix_japonica_2.0', 'strain_collection': None, 'aliases': [], 'taxon_id': '93934', 'groups': ['rnaseq', 'core', 'otherfeatures'], 'strain': None}\n",
      "{'strain': None, 'groups': ['rnaseq', 'core'], 'aliases': [], 'taxon_id': '8090', 'assembly': 'ASM223471v1', 'common_name': 'Japanese medaka HNI', 'strain_collection': None, 'display_name': 'Japanese medaka HNI', 'division': 'EnsemblVertebrates', 'accession': 'GCA_002234715.1', 'name': 'oryzias_latipes_hni', 'release': 106}\n",
      "{'strain': 'texel', 'groups': ['variation', 'rnaseq', 'core', 'otherfeatures'], 'aliases': ['ovis aries', 'oar', 'oaries', 'oari', 'sheep', 'ovisaries', 'domestic sheep', '9940', 'oviari'], 'taxon_id': '9940', 'common_name': 'sheep', 'assembly': 'Oar_v3.1', 'strain_collection': None, 'display_name': 'Sheep (texel)', 'division': 'EnsemblVertebrates', 'accession': 'GCA_000298735.1', 'name': 'ovis_aries', 'release': 106}\n",
      "{'strain': None, 'groups': ['rnaseq', 'core', 'otherfeatures'], 'common_name': 'Goodes thornscrub tortoise', 'assembly': 'rGopEvg1_v1.p', 'strain_collection': None, 'aliases': [], 'taxon_id': '1825980', 'display_name': 'Goodes thornscrub tortoise', 'name': 'gopherus_evgoodei', 'release': 106, 'division': 'EnsemblVertebrates', 'accession': 'GCA_007399415.1'}\n",
      "{'display_name': 'Tasmanian devil', 'name': 'sarcophilus_harrisii', 'release': 106, 'division': 'EnsemblVertebrates', 'accession': 'GCA_902635505.1', 'groups': ['rnaseq', 'core', 'otherfeatures'], 'strain': None, 'common_name': 'Tasmanian devil', 'assembly': 'mSarHar1.11', 'strain_collection': None, 'aliases': [], 'taxon_id': '9305'}\n",
      "{'display_name': 'Clown anemonefish', 'release': 106, 'name': 'amphiprion_ocellaris', 'accession': 'GCA_002776465.1', 'division': 'EnsemblVertebrates', 'strain': None, 'groups': ['core', 'otherfeatures', 'rnaseq'], 'strain_collection': None, 'assembly': 'AmpOce1.0', 'common_name': 'clown anemonefish', 'taxon_id': '80972', 'aliases': []}\n",
      "{'strain': None, 'groups': ['rnaseq', 'otherfeatures', 'funcgen', 'core'], 'taxon_id': '7998', 'aliases': [], 'common_name': 'channel catfish', 'assembly': 'IpCoco_1.2', 'strain_collection': None, 'display_name': 'Channel catfish', 'division': 'EnsemblVertebrates', 'accession': 'GCA_001660625.1', 'name': 'ictalurus_punctatus', 'release': 106}\n",
      "{'name': 'vulpes_vulpes', 'release': 106, 'division': 'EnsemblVertebrates', 'accession': 'GCA_003160815.1', 'display_name': 'Red fox', 'assembly': 'VulVul2.2', 'common_name': 'red fox', 'strain_collection': None, 'taxon_id': '9627', 'aliases': ['fox', 'silver fox'], 'groups': ['rnaseq', 'otherfeatures', 'core'], 'strain': None}\n",
      "{'division': 'EnsemblVertebrates', 'accession': 'GCA_008692025.1', 'name': 'phocoena_sinus', 'release': 106, 'display_name': 'Vaquita', 'aliases': [], 'taxon_id': '42100', 'common_name': 'vaquita', 'assembly': 'mPhoSin1.pri', 'strain_collection': None, 'groups': ['core', 'otherfeatures', 'rnaseq'], 'strain': None}\n",
      "{'display_name': \"Coquerel's sifaka\", 'name': 'propithecus_coquereli', 'release': 106, 'division': 'EnsemblVertebrates', 'accession': 'GCA_000956105.1', 'groups': ['core', 'funcgen', 'otherfeatures'], 'strain': None, 'common_name': \"Coquerel's sifaka\", 'assembly': 'Pcoq_1.0', 'strain_collection': None, 'taxon_id': '379532', 'aliases': []}\n",
      "{'groups': ['core', 'rnaseq'], 'strain': None, 'assembly': 'Cypcar_WagV4.0', 'common_name': 'common carp', 'strain_collection': None, 'aliases': [], 'taxon_id': '630221', 'display_name': 'Common carp', 'name': 'cyprinus_carpio_carpio', 'release': 106, 'division': 'EnsemblVertebrates', 'accession': 'GCA_905221575.1'}\n",
      "{'display_name': 'Swamp eel', 'release': 106, 'name': 'monopterus_albus', 'accession': 'GCA_001952655.1', 'division': 'EnsemblVertebrates', 'strain': None, 'groups': ['rnaseq', 'core', 'otherfeatures'], 'strain_collection': None, 'assembly': 'M_albus_1.0', 'common_name': 'swamp eel', 'aliases': [], 'taxon_id': '43700'}\n",
      "{'groups': ['core', 'funcgen', 'otherfeatures', 'rnaseq', 'variation'], 'strain': 'boxer', 'common_name': 'dog', 'assembly': 'Dog10K_Boxer_Tasha', 'strain_collection': None, 'taxon_id': '9615', 'aliases': [], 'display_name': 'Dog - Boxer', 'name': 'canis_lupus_familiarisboxer', 'release': 106, 'division': 'EnsemblVertebrates', 'accession': 'GCA_000002285.4'}\n",
      "{'strain': None, 'groups': ['core', 'rnaseq'], 'taxon_id': '87175', 'aliases': [], 'common_name': 'small tree finch', 'assembly': 'STF_HiC', 'strain_collection': None, 'display_name': 'Small tree finch', 'division': 'EnsemblVertebrates', 'accession': 'GCA_901933205.1', 'name': 'camarhynchus_parvulus', 'release': 106}\n",
      "{'taxon_id': '9545', 'aliases': [], 'assembly': 'Mnem_1.0', 'common_name': 'Pig-tailed macaque', 'strain_collection': None, 'strain': None, 'groups': ['rnaseq', 'otherfeatures', 'core', 'funcgen'], 'division': 'EnsemblVertebrates', 'accession': 'GCA_000956065.1', 'name': 'macaca_nemestrina', 'release': 106, 'display_name': 'Pig-tailed macaque'}\n",
      "{'display_name': 'Common carp german mirror', 'name': 'cyprinus_carpio_germanmirror', 'release': 106, 'division': 'EnsemblVertebrates', 'accession': 'GCA_004011555.1', 'groups': ['core', 'rnaseq'], 'strain': None, 'common_name': 'common carp german mirror', 'assembly': 'German_Mirror_carp_1.0', 'strain_collection': None, 'aliases': [], 'taxon_id': '7962'}\n",
      "{'taxon_id': '9925', 'aliases': [], 'strain_collection': None, 'common_name': 'Goat', 'assembly': 'CVASU_BBG_1.0', 'groups': ['core', 'rnaseq'], 'strain': 'black_bengal', 'accession': 'GCA_004361675.1', 'division': 'EnsemblVertebrates', 'release': 106, 'name': 'capra_hircus_blackbengal', 'display_name': 'Goat (black bengal)'}\n",
      "{'strain': None, 'groups': ['rnaseq', 'otherfeatures', 'core'], 'aliases': [], 'taxon_id': '321398', 'strain_collection': None, 'assembly': 'Lepidothrix_coronata-1.0', 'common_name': 'blue-crowned manakin', 'display_name': 'Blue-crowned manakin', 'accession': 'GCA_001604755.1', 'division': 'EnsemblVertebrates', 'release': 106, 'name': 'lepidothrix_coronata'}\n",
      "{'assembly': 'ASM164957v1', 'common_name': 'mangrove rivulus', 'strain_collection': None, 'taxon_id': '37003', 'aliases': [], 'groups': ['core', 'otherfeatures', 'rnaseq'], 'strain': None, 'name': 'kryptolebias_marmoratus', 'release': 106, 'division': 'EnsemblVertebrates', 'accession': 'GCA_001649575.1', 'display_name': 'Mangrove rivulus'}\n",
      "{'name': 'castor_canadensis', 'release': 106, 'division': 'EnsemblVertebrates', 'accession': 'GCA_001984765.1', 'display_name': 'American beaver', 'common_name': 'American beaver', 'assembly': 'C.can_genome_v1.0', 'strain_collection': None, 'taxon_id': '51338', 'aliases': [], 'strain': None, 'groups': ['rnaseq', 'otherfeatures', 'core']}\n",
      "{'display_name': 'Japanese medaka HSOK', 'name': 'oryzias_latipes_hsok', 'release': 106, 'division': 'EnsemblVertebrates', 'accession': 'GCA_002234695.1', 'groups': ['rnaseq', 'core'], 'strain': None, 'common_name': 'Japanese medaka HSOK', 'assembly': 'ASM223469v1', 'strain_collection': None, 'taxon_id': '8090', 'aliases': []}\n",
      "{'display_name': 'Golden Hamster', 'release': 106, 'name': 'mesocricetus_auratus', 'accession': 'GCA_000349665.1', 'division': 'EnsemblVertebrates', 'strain': None, 'groups': ['otherfeatures', 'funcgen', 'core'], 'strain_collection': None, 'assembly': 'MesAur1.0', 'common_name': 'Golden Hamster', 'taxon_id': '10036', 'aliases': ['golden hamster', 'maur', 'mesocricetus auratus', '10036', 'mauratus', 'mesaur']}\n",
      "{'accession': 'GCA_010332995.1', 'division': 'EnsemblVertebrates', 'release': 106, 'name': 'falco_tinnunculus', 'display_name': 'Common kestrel', 'taxon_id': '100819', 'aliases': [], 'strain_collection': None, 'assembly': 'FalTin1.0', 'common_name': 'common kestrel', 'strain': None, 'groups': ['core', 'rnaseq']}\n",
      "{'name': 'betta_splendens', 'release': 106, 'division': 'EnsemblVertebrates', 'accession': 'GCA_900634795.2', 'display_name': 'Siamese fighting fish', 'assembly': 'fBetSpl5.2', 'common_name': 'Siamese fighting fish', 'strain_collection': None, 'aliases': [], 'taxon_id': '158456', 'groups': ['rnaseq', 'otherfeatures', 'core'], 'strain': None}\n",
      "{'taxon_id': '9089', 'aliases': [], 'common_name': 'golden pheasant', 'assembly': 'Chrysolophus_pictus_GenomeV1.0', 'strain_collection': None, 'strain': None, 'groups': ['rnaseq', 'core'], 'division': 'EnsemblVertebrates', 'accession': 'GCA_003413605.1', 'name': 'chrysolophus_pictus', 'release': 106, 'display_name': 'Golden pheasant'}\n",
      "{'strain_collection': None, 'assembly': 'DBA_2J_v1', 'common_name': 'mouse', 'aliases': [], 'taxon_id': '10090', 'strain': 'DBA/2J', 'groups': ['funcgen', 'core'], 'release': 106, 'name': 'mus_musculus_dba2j', 'accession': 'GCA_001624505.1', 'division': 'EnsemblVertebrates', 'display_name': 'Mouse DBA/2J'}\n",
      "{'common_name': 'Angola colobus', 'assembly': 'Cang.pa_1.0', 'strain_collection': None, 'taxon_id': '336983', 'aliases': [], 'strain': None, 'groups': ['otherfeatures', 'funcgen', 'core'], 'name': 'colobus_angolensis_palliatus', 'release': 106, 'division': 'EnsemblVertebrates', 'accession': 'GCA_000951035.1', 'display_name': 'Angola colobus'}\n",
      "{'display_name': 'Yellow-billed parrot', 'accession': 'GCA_003947215.1', 'division': 'EnsemblVertebrates', 'release': 106, 'name': 'amazona_collaria', 'groups': ['core', 'rnaseq'], 'strain': None, 'aliases': [], 'taxon_id': '241587', 'strain_collection': None, 'common_name': 'yellow-billed parrot', 'assembly': 'ASM394721v1'}\n",
      "{'display_name': 'Monterrey platyfish', 'name': 'xiphophorus_couchianus', 'release': 106, 'division': 'EnsemblVertebrates', 'accession': 'GCA_001444195.1', 'groups': ['core'], 'strain': None, 'common_name': 'Monterrey platyfish', 'assembly': 'Xiphophorus_couchianus-4.0.1', 'strain_collection': None, 'taxon_id': '32473', 'aliases': []}\n",
      "{'groups': ['core', 'otherfeatures'], 'strain': None, 'common_name': 'Sea squirt Ciona savignyi', 'assembly': 'CSAV2.0', 'strain_collection': None, 'taxon_id': '51511', 'aliases': ['ciosav', 'csavignyi', 'ciona savignyi', 'csav', 'c.savignyi', 'sea squirt ciona savignyi', '51511'], 'display_name': 'C.savignyi', 'name': 'ciona_savignyi', 'release': 106, 'division': 'EnsemblVertebrates', 'accession': None}\n",
      "{'division': 'EnsemblVertebrates', 'accession': 'GCA_001281735.1', 'name': 'zosterops_lateralis_melanops', 'release': 106, 'display_name': 'Silver-eye', 'taxon_id': '1220523', 'aliases': [], 'assembly': 'ASM128173v1', 'common_name': 'silver-eye', 'strain_collection': None, 'strain': None, 'groups': ['rnaseq', 'core']}\n",
      "{'groups': ['otherfeatures', 'funcgen', 'core', 'rnaseq', 'variation'], 'strain': None, 'strain_collection': None, 'assembly': 'mOrnAna1.p.v1', 'common_name': 'platypus', 'aliases': [], 'taxon_id': '9258', 'display_name': 'Platypus', 'release': 106, 'name': 'ornithorhynchus_anatinus', 'accession': 'GCA_004115215.2', 'division': 'EnsemblVertebrates'}\n",
      "{'display_name': 'Golden-collared manakin', 'division': 'EnsemblVertebrates', 'accession': 'GCA_001715985.2', 'name': 'manacus_vitellinus', 'release': 106, 'groups': ['rnaseq', 'otherfeatures', 'core'], 'strain': None, 'aliases': [], 'taxon_id': '328815', 'assembly': 'ASM171598v2', 'common_name': 'golden-collared manakin', 'strain_collection': None}\n",
      "{'aliases': ['hgla', 'naked mole-rat male', '10181', 'hetgla', 'hglaber_male', 'heterocephalus glaber male', 'naked mole-rat'], 'taxon_id': '10181', 'common_name': 'naked mole-rat', 'assembly': 'HetGla_1.0', 'strain_collection': None, 'strain': None, 'groups': ['core', 'otherfeatures', 'rnaseq'], 'division': 'EnsemblVertebrates', 'accession': 'GCA_000230445.1', 'name': 'heterocephalus_glaber_male', 'release': 106, 'display_name': 'Naked mole-rat male'}\n",
      "{'display_name': 'African ostrich', 'division': 'EnsemblVertebrates', 'accession': 'GCA_000698965.1', 'name': 'struthio_camelus_australis', 'release': 106, 'strain': None, 'groups': ['rnaseq', 'core', 'otherfeatures'], 'taxon_id': '441894', 'aliases': [], 'common_name': 'African ostrich', 'assembly': 'ASM69896v1', 'strain_collection': None}\n",
      "{'display_name': 'Vervet-AGM', 'release': 106, 'name': 'chlorocebus_sabaeus', 'accession': 'GCA_000409795.2', 'division': 'EnsemblVertebrates', 'strain': None, 'groups': ['core', 'otherfeatures', 'rnaseq', 'variation'], 'strain_collection': None, 'assembly': 'ChlSab1.1', 'common_name': 'African green monkey', 'aliases': ['chlorocebus_sabeus', 'chlorocebus sabeus', 'csabaeus', 'vervet-agm', 'chlorocebus sabaeus', '60711', 'agm', 'csab', 'chlsab', 'vervet monkey', 'african green monkey'], 'taxon_id': '60711'}\n",
      "{'display_name': 'Swan goose', 'release': 106, 'name': 'anser_cygnoides', 'accession': 'GCA_002166845.1', 'division': 'EnsemblVertebrates', 'groups': ['core', 'rnaseq'], 'strain': None, 'strain_collection': None, 'assembly': 'GooseV1.0', 'common_name': 'swan goose', 'taxon_id': '8845', 'aliases': []}\n",
      "{'display_name': 'Lumpfish', 'name': 'cyclopterus_lumpus', 'release': 106, 'division': 'EnsemblVertebrates', 'accession': 'GCA_009769545.1', 'groups': ['core', 'rnaseq'], 'strain': None, 'assembly': 'fCycLum1.pri', 'common_name': 'lumpfish', 'strain_collection': None, 'taxon_id': '8103', 'aliases': []}\n",
      "{'assembly': 'Pan_tro_3.0', 'common_name': 'chimpanzee', 'strain_collection': None, 'aliases': ['ptroglodytes', '9598', 'chimp', 'chimpanzee', 'common chimpanzee', 'pantro', 'pan troglodytes', 'ptro'], 'taxon_id': '9598', 'groups': ['variation', 'rnaseq', 'otherfeatures', 'core', 'funcgen'], 'strain': None, 'name': 'pan_troglodytes', 'release': 106, 'division': 'EnsemblVertebrates', 'accession': 'GCA_000001515.5', 'display_name': 'Chimpanzee'}\n",
      "{'display_name': 'Rainbow trout', 'accession': 'GCA_013265735.3', 'division': 'EnsemblVertebrates', 'release': 106, 'name': 'oncorhynchus_mykiss', 'strain': None, 'groups': ['core', 'rnaseq'], 'aliases': [], 'taxon_id': '8022', 'strain_collection': None, 'assembly': 'USDA_OmykA_1.1', 'common_name': 'rainbow trout'}\n",
      "{'aliases': [], 'taxon_id': '64144', 'strain_collection': None, 'assembly': 'fAnaTes1.2', 'common_name': 'climbing perch', 'strain': None, 'groups': ['core', 'rnaseq'], 'accession': 'GCA_900324465.2', 'division': 'EnsemblVertebrates', 'release': 106, 'name': 'anabas_testudineus', 'display_name': 'Climbing perch'}\n",
      "{'assembly': 'Mmur_3.0', 'common_name': 'gray mouse lemur', 'strain_collection': None, 'aliases': ['mouse lemur', 'microcebus murinus', '30608', 'gray mouse lemur', 'mouse_lemur', 'micmur', 'mmur', 'mmurinus', 'grey mouse lemur'], 'taxon_id': '30608', 'groups': ['otherfeatures', 'core', 'funcgen', 'rnaseq'], 'strain': None, 'name': 'microcebus_murinus', 'release': 106, 'division': 'EnsemblVertebrates', 'accession': 'GCA_000165445.3', 'display_name': 'Mouse Lemur'}\n",
      "{'groups': ['core'], 'strain': None, 'strain_collection': None, 'common_name': 'western European hedgehog', 'assembly': 'HEDGEHOG', 'aliases': ['western_european_hedgehog', '9365', 'western european hedgehog', 'eeuropaeus', 'erinaceus europaeus', 'eeur', 'hedgehog', 'erieur'], 'taxon_id': '9365', 'display_name': 'Hedgehog', 'release': 106, 'name': 'erinaceus_europaeus', 'accession': None, 'division': 'EnsemblVertebrates'}\n",
      "{'strain_collection': None, 'assembly': 'ASM283717v2', 'common_name': 'sperm whale', 'taxon_id': '9755', 'aliases': [], 'strain': None, 'groups': ['core', 'otherfeatures', 'rnaseq'], 'release': 106, 'name': 'physeter_catodon', 'accession': 'GCA_002837175.2', 'division': 'EnsemblVertebrates', 'display_name': 'Sperm whale'}\n",
      "{'display_name': 'Nile tilapia', 'name': 'oreochromis_niloticus', 'release': 106, 'division': 'EnsemblVertebrates', 'accession': 'GCA_001858045.3', 'strain': None, 'groups': ['core', 'otherfeatures', 'rnaseq', 'variation'], 'common_name': 'Nile tilapia', 'assembly': 'O_niloticus_UMD_NMBU', 'strain_collection': None, 'aliases': [], 'taxon_id': '8128'}\n",
      "{'strain_collection': None, 'assembly': 'SAMN03320098_v1.1', 'common_name': 'horned golden-line barbel', 'taxon_id': '307959', 'aliases': [], 'groups': ['otherfeatures', 'core', 'rnaseq'], 'strain': None, 'release': 106, 'name': 'sinocyclocheilus_rhinocerous', 'accession': 'GCA_001515625.1', 'division': 'EnsemblVertebrates', 'display_name': 'Horned golden-line barbel'}\n",
      "{'strain_collection': None, 'common_name': 'white-tufted-ear marmoset', 'assembly': 'mCalJac1.pat.X', 'aliases': ['white-tufted-ear marmoset', 'callithrix jacchus', 'marmoset'], 'taxon_id': '9483', 'groups': ['core', 'funcgen', 'rnaseq'], 'strain': None, 'release': 106, 'name': 'callithrix_jacchus', 'accession': 'GCA_011100555.1', 'division': 'EnsemblVertebrates', 'display_name': 'White-tufted-ear marmoset'}\n",
      "{'groups': ['funcgen', 'core'], 'strain': 'PWK/PhJ', 'assembly': 'PWK_PhJ_v1', 'common_name': 'mouse', 'strain_collection': None, 'taxon_id': '39442', 'aliases': ['eastern european house mouse', 'mus_musculus_musculus_pwkphj', 'mouse pwkphj', 'mus musculus musculus pwkphj', '39442', 'mmusculus_musculus_pwkphj'], 'display_name': 'Mouse PWK/PhJ', 'name': 'mus_musculus_pwkphj', 'release': 106, 'division': 'EnsemblVertebrates', 'accession': 'GCA_001624775.1'}\n",
      "{'name': 'rhinopithecus_bieti', 'release': 106, 'division': 'EnsemblVertebrates', 'accession': 'GCA_001698545.1', 'display_name': 'Black snub-nosed monkey', 'assembly': 'ASM169854v1', 'common_name': 'Black snub-nosed monkey', 'strain_collection': None, 'aliases': [], 'taxon_id': '61621', 'groups': ['rnaseq', 'funcgen', 'core', 'otherfeatures'], 'strain': None}\n",
      "{'strain': None, 'groups': ['rnaseq', 'otherfeatures', 'core'], 'strain_collection': None, 'assembly': 'NumMel1.0', 'common_name': 'helmeted guineafowl', 'taxon_id': '8996', 'aliases': [], 'display_name': 'Helmeted guineafowl', 'release': 106, 'name': 'numida_meleagris', 'accession': 'GCA_002078875.2', 'division': 'EnsemblVertebrates'}\n",
      "{'division': 'EnsemblVertebrates', 'accession': 'GCA_004329235.1', 'name': 'podarcis_muralis', 'release': 106, 'display_name': 'Common wall lizard', 'taxon_id': '64176', 'aliases': [], 'assembly': 'PodMur_1.0', 'common_name': 'common wall lizard', 'strain_collection': None, 'strain': None, 'groups': ['core', 'rnaseq']}\n",
      "{'display_name': 'Pig - Largewhite', 'division': 'EnsemblVertebrates', 'accession': 'GCA_001700135.1', 'name': 'sus_scrofa_largewhite', 'release': 106, 'strain': 'largewhite', 'groups': ['rnaseq', 'otherfeatures', 'core'], 'aliases': [], 'taxon_id': '9823', 'common_name': 'pig', 'assembly': 'Large_White_v1', 'strain_collection': None}\n",
      "{'display_name': 'Koala', 'name': 'phascolarctos_cinereus', 'release': 106, 'division': 'EnsemblVertebrates', 'accession': 'GCA_002099425.1', 'strain': None, 'groups': ['core'], 'assembly': 'phaCin_unsw_v4.1', 'common_name': 'koala', 'strain_collection': None, 'aliases': [], 'taxon_id': '38626'}\n",
      "{'groups': ['otherfeatures', 'core', 'rnaseq'], 'strain': None, 'taxon_id': '10181', 'aliases': ['heterocephalus glaber female', 'hglaber_female', 'naked mole-rat female'], 'common_name': 'naked mole-rat', 'assembly': 'HetGla_female_1.0', 'strain_collection': None, 'display_name': 'Naked mole-rat female', 'division': 'EnsemblVertebrates', 'accession': 'GCA_000247695.1', 'name': 'heterocephalus_glaber_female', 'release': 106}\n",
      "{'display_name': 'Upper Galilee mountains blind mole rat', 'accession': 'GCA_000622305.1', 'division': 'EnsemblVertebrates', 'release': 106, 'name': 'nannospalax_galili', 'strain': None, 'groups': ['core', 'funcgen', 'otherfeatures', 'rnaseq'], 'aliases': ['ngal', 'nangal', 'ngalili', '1026970', 'upper galilee mountains blind mole rat', 'nannospalax galili'], 'taxon_id': '1026970', 'strain_collection': None, 'assembly': 'S.galili_v1.0', 'common_name': 'Upper Galilee mountains blind mole rat'}\n",
      "{'release': 106, 'name': 'takifugu_rubripes', 'accession': 'GCA_901000725.2', 'division': 'EnsemblVertebrates', 'display_name': 'Fugu', 'strain_collection': None, 'assembly': 'fTakRub1.2', 'common_name': 'fugu', 'taxon_id': '31033', 'aliases': [], 'strain': None, 'groups': ['core', 'otherfeatures', 'rnaseq']}\n",
      "{'strain_collection': None, 'assembly': 'gadMor3.0', 'common_name': 'Atlantic cod', 'aliases': [], 'taxon_id': '8049', 'groups': ['rnaseq', 'core'], 'strain': None, 'release': 106, 'name': 'gadus_morhua', 'accession': 'GCA_902167405.1', 'division': 'EnsemblVertebrates', 'display_name': 'Atlantic cod'}\n",
      "{'name': 'rattus_norvegicus', 'release': 106, 'division': 'EnsemblVertebrates', 'accession': 'GCA_015227675.2', 'display_name': 'Rat', 'assembly': 'mRatBN7.2', 'common_name': 'Norway rat', 'strain_collection': None, 'taxon_id': '10116', 'aliases': ['rat', 'rattus norvegicus'], 'strain': 'BN/NHsdMcwi', 'groups': ['funcgen', 'core', 'otherfeatures', 'variation', 'rnaseq']}\n",
      "{'display_name': 'Turquoise killifish', 'release': 106, 'name': 'nothobranchius_furzeri', 'accession': 'GCA_001465895.2', 'division': 'EnsemblVertebrates', 'strain': None, 'groups': ['otherfeatures', 'core', 'rnaseq'], 'strain_collection': None, 'common_name': 'turquoise killifish', 'assembly': 'Nfu_20140520', 'taxon_id': '105023', 'aliases': []}\n",
      "{'taxon_id': '9823', 'aliases': [], 'assembly': 'minipig_v1.0', 'common_name': 'pig', 'strain_collection': None, 'groups': ['core', 'otherfeatures', 'rnaseq'], 'strain': 'wuzhishan', 'division': 'EnsemblVertebrates', 'accession': 'GCA_000325925.2', 'name': 'sus_scrofa_wuzhishan', 'release': 106, 'display_name': 'Pig - Wuzhishan'}\n",
      "{'division': 'EnsemblVertebrates', 'accession': 'GCA_000951045.1', 'name': 'mandrillus_leucophaeus', 'release': 106, 'display_name': 'Drill', 'aliases': [], 'taxon_id': '9568', 'common_name': 'Drill', 'assembly': 'Mleu.le_1.0', 'strain_collection': None, 'groups': ['funcgen', 'core', 'otherfeatures'], 'strain': None}\n",
      "{'name': 'homo_sapiens', 'release': 106, 'division': 'EnsemblVertebrates', 'accession': 'GCA_000001405.28', 'display_name': 'Human', 'common_name': 'human', 'assembly': 'GRCh38', 'strain_collection': None, 'taxon_id': '9606', 'aliases': ['homo sapiens', 'hsap', 'homsap', 'h_sapiens', '9606', 'human', 'enshs', 'hsapiens', 'homo'], 'groups': ['funcgen', 'core', 'otherfeatures', 'rnaseq', 'variation', 'cdna'], 'strain': None}\n",
      "{'release': 106, 'name': 'cavia_porcellus', 'accession': 'GCA_000151735.1', 'division': 'EnsemblVertebrates', 'display_name': 'Guinea Pig', 'strain_collection': None, 'common_name': 'domestic guinea pig', 'assembly': 'Cavpor3.0', 'taxon_id': '10141', 'aliases': ['cavia porcellus', 'guinea_pig', 'cporcellus', 'cpor', 'cavpor', 'domestic guinea pig', 'guinea pig', '10141'], 'groups': ['rnaseq', 'otherfeatures', 'core', 'funcgen'], 'strain': None}\n",
      "{'strain': None, 'groups': ['rnaseq', 'variation', 'otherfeatures', 'core', 'funcgen'], 'aliases': ['danrer', 'd_rerio', 'zfish', 'danio', '7955', 'drer', 'drerio', 'danio rerio', 'zebrafish'], 'taxon_id': '7955', 'strain_collection': None, 'assembly': 'GRCz11', 'common_name': 'zebrafish', 'display_name': 'Zebrafish', 'accession': 'GCA_000002035.4', 'division': 'EnsemblVertebrates', 'release': 106, 'name': 'danio_rerio'}\n",
      "{'display_name': 'Drosophila melanogaster', 'name': 'drosophila_melanogaster', 'release': 106, 'division': 'EnsemblVertebrates', 'accession': 'GCA_000001215.4', 'strain': None, 'groups': ['core', 'funcgen'], 'common_name': 'fruit fly', 'assembly': 'BDGP6.32', 'strain_collection': None, 'aliases': ['dmel', 'd. melanogaster', 'd.mel'], 'taxon_id': '7227'}\n",
      "{'aliases': [], 'taxon_id': '183150', 'common_name': 'Chinese medaka', 'assembly': 'ASM858656v1', 'strain_collection': None, 'strain': None, 'groups': ['core', 'rnaseq'], 'division': 'EnsemblVertebrates', 'accession': 'GCA_008586565.1', 'name': 'oryzias_sinensis', 'release': 106, 'display_name': 'Chinese medaka'}\n",
      "{'taxon_id': '308060', 'aliases': [], 'strain_collection': None, 'common_name': 'Okarito brown kiwi', 'assembly': 'aptRow1', 'groups': ['rnaseq', 'core', 'otherfeatures'], 'strain': None, 'accession': 'GCA_003343035.1', 'division': 'EnsemblVertebrates', 'release': 106, 'name': 'apteryx_rowi', 'display_name': 'Okarito brown kiwi'}\n",
      "{'strain_collection': 'mouse', 'assembly': 'GRCm39', 'common_name': 'mouse', 'taxon_id': '10090', 'aliases': ['house mouse', 'mmusculus', 'musmus', 'm_musculus', 'mus', 'ensmm', 'mmus', '10090', 'mus musculus', 'mouse'], 'strain': 'reference (CL57BL6)', 'groups': ['variation', 'rnaseq', 'funcgen', 'core', 'otherfeatures'], 'release': 106, 'name': 'mus_musculus', 'accession': 'GCA_000001635.9', 'division': 'EnsemblVertebrates', 'display_name': 'Mouse'}\n",
      "{'display_name': 'Argentine black and white tegu', 'accession': 'GCA_003586115.1', 'division': 'EnsemblVertebrates', 'release': 106, 'name': 'salvator_merianae', 'strain': None, 'groups': ['rnaseq', 'core'], 'taxon_id': '96440', 'aliases': [], 'strain_collection': None, 'assembly': 'HLtupMer3', 'common_name': 'Argentine black and white tegu'}\n",
      "{'assembly': 'panpan1.1', 'common_name': 'bonobo', 'strain_collection': None, 'aliases': [], 'taxon_id': '9597', 'strain': None, 'groups': ['otherfeatures', 'core', 'funcgen', 'rnaseq'], 'name': 'pan_paniscus', 'release': 106, 'division': 'EnsemblVertebrates', 'accession': 'GCA_000258655.2', 'display_name': 'Bonobo'}\n",
      "{'display_name': 'Mouse CBA/J', 'name': 'mus_musculus_cbaj', 'release': 106, 'division': 'EnsemblVertebrates', 'accession': 'GCA_001624475.1', 'groups': ['funcgen', 'core'], 'strain': 'CBA/J', 'assembly': 'CBA_J_v1', 'common_name': 'mouse', 'strain_collection': None, 'aliases': [], 'taxon_id': '10090'}\n",
      "{'assembly': 'fParRan2.1', 'common_name': 'Indian glassy fish', 'strain_collection': None, 'aliases': [], 'taxon_id': '210632', 'strain': None, 'groups': ['rnaseq', 'otherfeatures', 'core'], 'name': 'parambassis_ranga', 'release': 106, 'division': 'EnsemblVertebrates', 'accession': 'GCA_900634625.1', 'display_name': 'Indian glassy fish'}\n",
      "{'groups': ['rnaseq', 'core', 'funcgen'], 'strain': 'great_dane', 'strain_collection': None, 'assembly': 'UMICH_Zoey_3.1', 'common_name': 'dog', 'aliases': [], 'taxon_id': '9615', 'display_name': 'Dog - Great Dane', 'release': 106, 'name': 'canis_lupus_familiarisgreatdane', 'accession': 'GCA_005444595.1', 'division': 'EnsemblVertebrates'}\n",
      "{'display_name': 'Lion', 'accession': 'GCA_008795835.1', 'division': 'EnsemblVertebrates', 'release': 106, 'name': 'panthera_leo', 'groups': ['core'], 'strain': None, 'taxon_id': '9689', 'aliases': [], 'strain_collection': None, 'common_name': 'lion', 'assembly': 'PanLeo1.0'}\n",
      "{'taxon_id': '56716', 'aliases': [], 'assembly': 'fCotGob3.1', 'common_name': 'channel bull blenny', 'strain_collection': None, 'groups': ['rnaseq', 'core', 'otherfeatures'], 'strain': None, 'division': 'EnsemblVertebrates', 'accession': 'GCA_900634415.1', 'name': 'cottoperca_gobio', 'release': 106, 'display_name': 'Channel bull blenny'}\n",
      "{'assembly': 'ASM869450v1', 'common_name': 'rufous-capped babbler', 'strain_collection': None, 'taxon_id': '181631', 'aliases': [], 'strain': None, 'groups': ['core', 'rnaseq'], 'name': 'stachyris_ruficeps', 'release': 106, 'division': 'EnsemblVertebrates', 'accession': 'GCA_008694505.1', 'display_name': 'Rufous-capped babbler'}\n",
      "{'display_name': 'Oriental scops-owl', 'release': 106, 'name': 'otus_sunia', 'accession': 'GCA_010365825.1', 'division': 'EnsemblVertebrates', 'groups': ['rnaseq', 'core'], 'strain': None, 'strain_collection': None, 'common_name': 'Oriental scops-owl', 'assembly': 'OtuSun1.0', 'taxon_id': '257818', 'aliases': []}\n",
      "{'display_name': 'Platyfish', 'division': 'EnsemblVertebrates', 'accession': 'GCA_002775205.2', 'name': 'xiphophorus_maculatus', 'release': 106, 'groups': ['core', 'otherfeatures', 'rnaseq'], 'strain': None, 'aliases': ['xiphophorus maculatus', '8083', 'southern platyfish', 'xmaculatus', 'xmac', 'xipmac', 'platyfish'], 'taxon_id': '8083', 'assembly': 'X_maculatus-5.0-male', 'common_name': 'southern platyfish', 'strain_collection': None}\n",
      "{'taxon_id': '8154', 'aliases': [], 'strain_collection': None, 'assembly': 'fAstCal1.2', 'common_name': 'eastern happy', 'groups': ['core', 'rnaseq'], 'strain': None, 'accession': 'GCA_900246225.3', 'division': 'EnsemblVertebrates', 'release': 106, 'name': 'astatotilapia_calliptera', 'display_name': 'Eastern happy'}\n",
      "{'display_name': 'Pig - Berkshire', 'accession': 'GCA_001700575.1', 'division': 'EnsemblVertebrates', 'release': 106, 'name': 'sus_scrofa_berkshire', 'groups': ['otherfeatures', 'core', 'rnaseq'], 'strain': 'berkshire', 'taxon_id': '9823', 'aliases': [], 'strain_collection': None, 'common_name': 'pig', 'assembly': 'Berkshire_pig_v1'}\n",
      "{'display_name': 'Chicken', 'division': 'EnsemblVertebrates', 'accession': 'GCA_000002315.5', 'name': 'gallus_gallus', 'release': 106, 'groups': ['core', 'funcgen', 'otherfeatures', 'variation', 'rnaseq'], 'strain': None, 'aliases': ['9031', 'galgal', 'ggal', 'chicken', 'gallus gallus', 'g_gallus', 'ggallus'], 'taxon_id': '9031', 'assembly': 'GRCg6a', 'common_name': 'chicken', 'strain_collection': None}\n",
      "{'display_name': 'Red-bellied piranha', 'name': 'pygocentrus_nattereri', 'release': 106, 'division': 'EnsemblVertebrates', 'accession': 'GCA_001682695.1', 'groups': ['otherfeatures', 'core', 'rnaseq'], 'strain': None, 'common_name': 'red-bellied piranha', 'assembly': 'Pygocentrus_nattereri-1.0.2', 'strain_collection': None, 'taxon_id': '42514', 'aliases': []}\n",
      "{'aliases': ['hagfish'], 'taxon_id': '7764', 'assembly': 'Eburgeri_3.2', 'common_name': 'Inshore hagfish', 'strain_collection': None, 'strain': None, 'groups': ['core', 'rnaseq'], 'division': 'EnsemblVertebrates', 'accession': 'GCA_900186335.2', 'name': 'eptatretus_burgeri', 'release': 106, 'display_name': 'Hagfish'}\n",
      "{'strain': 'C3H/HeJ', 'groups': ['core', 'funcgen'], 'taxon_id': '10090', 'aliases': [], 'assembly': 'C3H_HeJ_v1', 'common_name': 'mouse', 'strain_collection': None, 'display_name': 'Mouse C3H/HeJ', 'division': 'EnsemblVertebrates', 'accession': 'GCA_001632575.1', 'name': 'mus_musculus_c3hhej', 'release': 106}\n",
      "{'taxon_id': '9691', 'aliases': ['leopard'], 'common_name': 'leopard', 'assembly': 'PanPar1.0', 'strain_collection': None, 'strain': None, 'groups': ['otherfeatures', 'core'], 'division': 'EnsemblVertebrates', 'accession': 'GCA_001857705.1', 'name': 'panthera_pardus', 'release': 106, 'display_name': 'Leopard'}\n",
      "{'division': 'EnsemblVertebrates', 'accession': 'GCA_009741485.1', 'name': 'malurus_cyaneus_samueli', 'release': 106, 'display_name': 'Superb fairywren', 'taxon_id': '2593467', 'aliases': [], 'common_name': 'superb fairywren', 'assembly': 'mCya_1.0', 'strain_collection': None, 'strain': None, 'groups': ['rnaseq', 'core']}\n",
      "{'groups': ['rnaseq', 'variation', 'core', 'otherfeatures'], 'strain': None, 'aliases': ['pongo abelii', 'orangutan', 'bornean orangutan', 'sumatran orangutan'], 'taxon_id': '9601', 'assembly': 'Susie_PABv2', 'common_name': 'Sumatran orangutan', 'strain_collection': None, 'display_name': 'Sumatran orangutan', 'division': 'EnsemblVertebrates', 'accession': 'GCA_002880775.3', 'name': 'pongo_abelii', 'release': 106}\n",
      "{'division': 'EnsemblVertebrates', 'accession': 'GCA_003829775.1', 'name': 'junco_hyemalis', 'release': 106, 'display_name': 'Dark-eyed junco', 'aliases': [], 'taxon_id': '40217', 'common_name': 'dark-eyed junco', 'assembly': 'ASM382977v1', 'strain_collection': None, 'groups': ['core', 'rnaseq'], 'strain': None}\n",
      "{'accession': None, 'division': 'EnsemblVertebrates', 'release': 106, 'name': 'ochotona_princeps', 'display_name': 'Pika', 'aliases': ['ochpri', 'american pika', 'ochotona princeps', 'oprinceps', 'opri', 'pika', '9978'], 'taxon_id': '9978', 'strain_collection': None, 'assembly': 'OchPri2.0-Ens', 'common_name': 'American pika', 'groups': ['core'], 'strain': None}\n",
      "{'common_name': 'Chinook salmon', 'assembly': 'Otsh_v1.0', 'strain_collection': None, 'aliases': [], 'taxon_id': '74940', 'strain': None, 'groups': ['core', 'otherfeatures', 'rnaseq'], 'name': 'oncorhynchus_tshawytscha', 'release': 106, 'division': 'EnsemblVertebrates', 'accession': 'GCA_002872995.1', 'display_name': 'Chinook salmon'}\n",
      "{'accession': 'GCA_001522545.2', 'division': 'EnsemblVertebrates', 'release': 106, 'name': 'parus_major', 'display_name': 'Great Tit', 'aliases': [], 'taxon_id': '9157', 'strain_collection': None, 'assembly': 'Parus_major1.1', 'common_name': 'Great Tit', 'strain': None, 'groups': ['rnaseq', 'variation', 'otherfeatures', 'core']}\n",
      "{'release': 106, 'name': 'pogona_vitticeps', 'accession': 'GCA_900067755.1', 'division': 'EnsemblVertebrates', 'display_name': 'Central bearded dragon', 'strain_collection': None, 'common_name': 'central bearded dragon', 'assembly': 'pvi1.1', 'aliases': [], 'taxon_id': '103695', 'groups': ['rnaseq', 'otherfeatures', 'core'], 'strain': None}\n",
      "{'strain': None, 'groups': ['otherfeatures', 'core', 'rnaseq'], 'assembly': 'PunNye1.0', 'common_name': 'Makobe Island cichlid', 'strain_collection': None, 'aliases': [], 'taxon_id': '303518', 'display_name': 'Makobe Island cichlid', 'name': 'pundamilia_nyererei', 'release': 106, 'division': 'EnsemblVertebrates', 'accession': 'GCA_000239375.1'}\n",
      "{'display_name': 'Mummichog', 'release': 106, 'name': 'fundulus_heteroclitus', 'accession': 'GCA_000826765.1', 'division': 'EnsemblVertebrates', 'groups': ['otherfeatures', 'funcgen', 'core', 'rnaseq'], 'strain': None, 'strain_collection': None, 'assembly': 'Fundulus_heteroclitus-3.0.2', 'common_name': 'mummichog', 'aliases': [], 'taxon_id': '8078'}\n",
      "{'groups': ['otherfeatures', 'core', 'rnaseq'], 'strain': None, 'taxon_id': '9994', 'aliases': [], 'common_name': 'Alpine marmot', 'assembly': 'marMar2.1', 'strain_collection': None, 'display_name': 'Alpine marmot', 'division': 'EnsemblVertebrates', 'accession': 'GCA_001458135.1', 'name': 'marmota_marmota_marmota', 'release': 106}\n",
      "{'display_name': 'Mongolian gerbil', 'release': 106, 'name': 'meriones_unguiculatus', 'accession': 'GCA_002204375.1', 'division': 'EnsemblVertebrates', 'groups': ['core', 'otherfeatures', 'rnaseq'], 'strain': None, 'strain_collection': None, 'assembly': 'MunDraft-v1.0', 'common_name': 'Mongolian gerbil', 'aliases': [], 'taxon_id': '10047'}\n",
      "{'aliases': ['caenorhabditis elegans', 'elegans', 'worm', 'celegans', 'caenorhabditis_elegans_prjna13758', '6239', 'c.elegans', 'caeele', 'cele'], 'taxon_id': '6239', 'common_name': 'C.elegans', 'assembly': 'WBcel235', 'strain_collection': None, 'groups': ['core', 'funcgen'], 'strain': 'N2', 'division': 'EnsemblVertebrates', 'accession': 'GCA_000002985.3', 'name': 'caenorhabditis_elegans', 'release': 106, 'display_name': 'Caenorhabditis elegans (PRJNA13758)'}\n",
      "{'groups': ['core', 'rnaseq'], 'strain': None, 'aliases': [], 'taxon_id': '10103', 'assembly': 'MUSP714', 'common_name': 'steppe mouse', 'strain_collection': None, 'display_name': 'Steppe mouse', 'division': 'EnsemblVertebrates', 'accession': 'GCA_003336285.1', 'name': 'mus_spicilegus', 'release': 106}\n",
      "{'groups': ['funcgen', 'core'], 'strain': '129S1/SvImJ', 'assembly': '129S1_SvImJ_v1', 'common_name': 'mouse', 'strain_collection': None, 'aliases': [], 'taxon_id': '10090', 'display_name': 'Mouse 129S1/SvImJ', 'name': 'mus_musculus_129s1svimj', 'release': 106, 'division': 'EnsemblVertebrates', 'accession': 'GCA_001624185.1'}\n",
      "{'display_name': 'Jewelled blenny', 'accession': 'GCA_902148845.1', 'division': 'EnsemblVertebrates', 'release': 106, 'name': 'salarias_fasciatus', 'groups': ['core', 'otherfeatures', 'rnaseq'], 'strain': None, 'taxon_id': '181472', 'aliases': [], 'strain_collection': None, 'assembly': 'fSalaFa1.1', 'common_name': 'jewelled blenny'}\n",
      "{'aliases': [], 'taxon_id': '113540', 'strain_collection': None, 'common_name': 'Asian bonytongue', 'assembly': 'fSclFor1.1', 'groups': ['core', 'otherfeatures', 'rnaseq'], 'strain': None, 'accession': 'GCA_900964775.1', 'division': 'EnsemblVertebrates', 'release': 106, 'name': 'scleropages_formosus', 'display_name': 'Asian bonytongue'}\n",
      "{'division': 'EnsemblVertebrates', 'accession': None, 'name': 'gasterosteus_aculeatus', 'release': 106, 'display_name': 'Stickleback', 'taxon_id': '69293', 'aliases': ['gacu', 'three spined stickleback', 'stickleback', '69293', 'three-spined stickleback', 'gasacu', 'gasterosteus aculeatus', 'gaculeatus'], 'common_name': 'three-spined stickleback', 'assembly': 'BROADS1', 'strain_collection': None, 'strain': None, 'groups': ['core', 'otherfeatures']}\n",
      "{'groups': ['otherfeatures', 'core', 'rnaseq'], 'strain': 'hampshire', 'strain_collection': None, 'assembly': 'Hampshire_pig_v1', 'common_name': 'pig', 'aliases': [], 'taxon_id': '9823', 'display_name': 'Pig - Hampshire', 'release': 106, 'name': 'sus_scrofa_hampshire', 'accession': 'GCA_001700165.1', 'division': 'EnsemblVertebrates'}\n",
      "{'aliases': ['mus_musculus_castaneus_casteij', 'mmusculus_castaneus_casteij', 'mouse casteij', '10091', 'mus musculus castaneus casteij', 'south eastern house mouse'], 'taxon_id': '10091', 'strain_collection': None, 'assembly': 'CAST_EiJ_v1', 'common_name': 'mouse', 'groups': ['funcgen', 'core'], 'strain': 'CAST/EiJ', 'accession': 'GCA_001624445.1', 'division': 'EnsemblVertebrates', 'release': 106, 'name': 'mus_musculus_casteij', 'display_name': 'Mouse CAST/EiJ'}\n",
      "{'strain_collection': None, 'common_name': 'mouse', 'assembly': 'AKR_J_v1', 'aliases': [], 'taxon_id': '10090', 'groups': ['funcgen', 'core'], 'strain': 'AKR/J', 'release': 106, 'name': 'mus_musculus_akrj', 'accession': 'GCA_001624295.1', 'division': 'EnsemblVertebrates', 'display_name': 'Mouse AKR/J'}\n",
      "{'release': 106, 'name': 'callorhinchus_milii', 'accession': 'GCA_000165045.2', 'division': 'EnsemblVertebrates', 'display_name': 'Elephant shark', 'strain_collection': None, 'assembly': 'Callorhinchus_milii-6.1.3', 'common_name': 'elephant shark', 'aliases': [], 'taxon_id': '7868', 'groups': ['rnaseq', 'otherfeatures', 'core'], 'strain': None}\n",
      "{'display_name': 'Chinese hamster CHOK1GS', 'accession': 'GCA_900186095.1', 'division': 'EnsemblVertebrates', 'release': 106, 'name': 'cricetulus_griseus_chok1gshd', 'strain': None, 'groups': ['funcgen', 'core', 'otherfeatures', 'rnaseq'], 'aliases': ['cricetulus griseus chok1gshd', 'cgri', 'crigri', 'cgriseus_chok1gshd', 'chinese hamster chok1gs'], 'taxon_id': '10029', 'strain_collection': None, 'assembly': 'CHOK1GS_HDv1', 'common_name': 'Chinese hamster'}\n",
      "{'strain': None, 'groups': ['rnaseq', 'core', 'otherfeatures'], 'aliases': ['fukomys damarensi', 'damara mole rat', 'fdamarensi', 'fdam', '885580', 'fukdam', 'fukomys_damarensi'], 'taxon_id': '885580', 'strain_collection': None, 'common_name': 'Damara mole rat', 'assembly': 'DMR_v1.0', 'display_name': 'Damara mole rat', 'accession': 'GCA_000743615.1', 'division': 'EnsemblVertebrates', 'release': 106, 'name': 'fukomys_damarensis'}\n",
      "{'groups': ['otherfeatures', 'core', 'rnaseq'], 'strain': None, 'aliases': [], 'taxon_id': '8663', 'common_name': 'mainland tiger snake', 'assembly': 'TS10Xv2-PRI', 'strain_collection': None, 'display_name': 'Mainland tiger snake', 'division': 'EnsemblVertebrates', 'accession': 'GCA_900518725.1', 'name': 'notechis_scutatus', 'release': 106}\n",
      "{'display_name': 'Wild yak', 'name': 'bos_mutus', 'release': 106, 'division': 'EnsemblVertebrates', 'accession': 'GCA_000298355.1', 'groups': ['core', 'otherfeatures', 'rnaseq'], 'strain': None, 'assembly': 'BosGru_v2.0', 'common_name': 'wild yak', 'strain_collection': None, 'taxon_id': '72004', 'aliases': []}\n",
      "{'name': 'oryzias_javanicus', 'release': 106, 'division': 'EnsemblVertebrates', 'accession': 'GCA_003999625.1', 'display_name': 'Javanese ricefish', 'assembly': 'OJAV_1.1', 'common_name': 'javanese ricefish', 'strain_collection': None, 'aliases': [], 'taxon_id': '123683', 'strain': None, 'groups': ['rnaseq', 'core']}\n",
      "{'groups': ['core', 'rnaseq'], 'strain': None, 'strain_collection': None, 'common_name': 'Abingdon island giant tortoise', 'assembly': 'ASM359739v1', 'aliases': [], 'taxon_id': '106734', 'display_name': 'Abingdon island giant tortoise', 'release': 106, 'name': 'chelonoidis_abingdonii', 'accession': 'GCA_003597395.1', 'division': 'EnsemblVertebrates'}\n",
      "{'strain': None, 'groups': ['rnaseq', 'otherfeatures', 'core'], 'taxon_id': '48699', 'aliases': [], 'strain_collection': None, 'common_name': 'sailfin molly', 'assembly': 'P_latipinna-1.0', 'display_name': 'Sailfin molly', 'accession': 'GCA_001443285.1', 'division': 'EnsemblVertebrates', 'release': 106, 'name': 'poecilia_latipinna'}\n",
      "{'taxon_id': '211598', 'aliases': [], 'strain_collection': None, 'common_name': 'Eurasian sparrowhawk', 'assembly': 'Accipiter_nisus_ver1.0', 'groups': ['core', 'rnaseq'], 'strain': None, 'accession': 'GCA_004320145.1', 'division': 'EnsemblVertebrates', 'release': 106, 'name': 'accipiter_nisus', 'display_name': 'Eurasian sparrowhawk'}\n",
      "{'groups': ['variation', 'funcgen', 'core', 'otherfeatures'], 'strain': None, 'aliases': ['nleucogenys', 'nleu', 'northern white-cheeked gibbon', 'gibbon', '61853', 'nomascus leucogenys', 'nomleu'], 'taxon_id': '61853', 'common_name': 'Northern white-cheeked gibbon', 'assembly': 'Nleu_3.0', 'strain_collection': None, 'display_name': 'Gibbon', 'division': 'EnsemblVertebrates', 'accession': 'GCA_000146795.3', 'name': 'nomascus_leucogenys', 'release': 106}\n",
      "{'groups': ['funcgen', 'core'], 'strain': 'LP/J', 'common_name': 'mouse', 'assembly': 'LP_J_v1', 'strain_collection': None, 'aliases': [], 'taxon_id': '10090', 'display_name': 'Mouse LP/J', 'name': 'mus_musculus_lpj', 'release': 106, 'division': 'EnsemblVertebrates', 'accession': 'GCA_001632615.1'}\n",
      "{'display_name': 'Pig USMARC', 'accession': 'GCA_002844635.1', 'division': 'EnsemblVertebrates', 'release': 106, 'name': 'sus_scrofa_usmarc', 'strain': 'usmarc', 'groups': ['core', 'otherfeatures', 'rnaseq'], 'aliases': [], 'taxon_id': '9823', 'strain_collection': None, 'assembly': 'USMARCv1.0', 'common_name': 'pig'}\n",
      "{'strain_collection': None, 'common_name': 'blue tilapia', 'assembly': 'ASM587006v1', 'taxon_id': '47969', 'aliases': [], 'strain': None, 'groups': ['rnaseq', 'core'], 'release': 106, 'name': 'oreochromis_aureus', 'accession': 'GCA_005870065.1', 'division': 'EnsemblVertebrates', 'display_name': 'Blue tilapia'}\n",
      "{'taxon_id': '9361', 'aliases': ['dasnov', 'dasypus novemcinctu', 'arma', 'dasypus novemcinctus', 'nine-banded armadillo', 'dnovemcinctus', 'armadillo', 'dnov', '9361'], 'strain_collection': None, 'common_name': 'nine-banded armadillo', 'assembly': 'Dasnov3.0', 'groups': ['rnaseq', 'core', 'otherfeatures'], 'strain': None, 'accession': 'GCA_000208655.2', 'division': 'EnsemblVertebrates', 'release': 106, 'name': 'dasypus_novemcinctus', 'display_name': 'Armadillo'}\n",
      "{'taxon_id': '91951', 'aliases': [], 'common_name': \"Swainson's thrush\", 'assembly': 'bCatUst1.pri', 'strain_collection': None, 'groups': ['core', 'otherfeatures', 'rnaseq'], 'strain': None, 'division': 'EnsemblVertebrates', 'accession': 'GCA_009819885.1', 'name': 'catharus_ustulatus', 'release': 106, 'display_name': \"Swainson's thrush\"}\n",
      "{'display_name': 'Western mosquitofish', 'division': 'EnsemblVertebrates', 'accession': 'GCA_003097735.1', 'name': 'gambusia_affinis', 'release': 106, 'groups': ['rnaseq', 'core'], 'strain': None, 'aliases': [], 'taxon_id': '33528', 'common_name': 'western mosquitofish', 'assembly': 'ASM309773v1', 'strain_collection': None}\n",
      "{'display_name': 'Ryukyu mouse', 'name': 'mus_caroli', 'release': 106, 'division': 'EnsemblVertebrates', 'accession': 'GCA_900094665.2', 'groups': ['core'], 'strain': 'CAROLI_EIJ', 'common_name': 'Ryukyu mouse', 'assembly': 'CAROLI_EIJ_v1.1', 'strain_collection': None, 'taxon_id': '10089', 'aliases': ['mus caroli', '10089', 'ryukyu mouse', 'mcar', 'mcaroli', 'muscar']}\n",
      "{'taxon_id': '8032', 'aliases': [], 'strain_collection': None, 'common_name': 'brown trout', 'assembly': 'fSalTru1.1', 'groups': ['otherfeatures', 'core', 'rnaseq'], 'strain': None, 'accession': 'GCA_901001165.1', 'division': 'EnsemblVertebrates', 'release': 106, 'name': 'salmo_trutta', 'display_name': 'Brown trout'}\n",
      "{'strain_collection': None, 'assembly': 'Meishan_pig_v1', 'common_name': 'pig', 'aliases': [], 'taxon_id': '9823', 'strain': 'meishan', 'groups': ['otherfeatures', 'core', 'rnaseq'], 'release': 106, 'name': 'sus_scrofa_meishan', 'accession': 'GCA_001700195.1', 'division': 'EnsemblVertebrates', 'display_name': 'Pig - Meishan'}\n",
      "{'display_name': 'Pig - Pietrain', 'release': 106, 'name': 'sus_scrofa_pietrain', 'accession': 'GCA_001700255.1', 'division': 'EnsemblVertebrates', 'strain': 'pietrain', 'groups': ['core', 'otherfeatures', 'rnaseq'], 'strain_collection': None, 'common_name': 'pig', 'assembly': 'Pietrain_pig_v1', 'aliases': [], 'taxon_id': '9823'}\n",
      "{'name': 'clupea_harengus', 'release': 106, 'division': 'EnsemblVertebrates', 'accession': 'GCA_900700415.1', 'display_name': 'Atlantic herring', 'common_name': 'Atlantic herring', 'assembly': 'Ch_v2.0.2', 'strain_collection': None, 'taxon_id': '7950', 'aliases': [], 'groups': ['core', 'rnaseq'], 'strain': None}\n",
      "{'strain': None, 'groups': ['rnaseq', 'core'], 'strain_collection': None, 'common_name': 'Spoon-billed sandpiper', 'assembly': 'ASM369795v1', 'aliases': [], 'taxon_id': '425635', 'display_name': 'Spoon-billed sandpiper', 'release': 106, 'name': 'calidris_pygmaea', 'accession': 'GCA_003697955.1', 'division': 'EnsemblVertebrates'}\n",
      "{'aliases': [], 'taxon_id': '8824', 'assembly': 'aptOwe1', 'common_name': 'little spotted kiwi', 'strain_collection': None, 'strain': None, 'groups': ['rnaseq', 'core'], 'division': 'EnsemblVertebrates', 'accession': 'GCA_003342965.1', 'name': 'apteryx_owenii', 'release': 106, 'display_name': 'Little spotted kiwi'}\n",
      "{'strain': None, 'groups': ['core', 'rnaseq'], 'aliases': [], 'taxon_id': '30461', 'common_name': 'Eurasian eagle-owl', 'assembly': 'BubBub1.0', 'strain_collection': None, 'display_name': 'Eurasian eagle-owl', 'division': 'EnsemblVertebrates', 'accession': 'GCA_010303855.1', 'name': 'bubo_bubo', 'release': 106}\n",
      "{'aliases': [], 'taxon_id': '80966', 'assembly': 'ASM210954v1', 'common_name': 'spiny chromis', 'strain_collection': None, 'strain': None, 'groups': ['rnaseq', 'otherfeatures', 'core'], 'division': 'EnsemblVertebrates', 'accession': 'GCA_002109545.1', 'name': 'acanthochromis_polyacanthus', 'release': 106, 'display_name': 'Spiny chromis'}\n",
      "{'groups': ['rnaseq', 'core'], 'strain': None, 'taxon_id': '8030', 'aliases': [], 'strain_collection': None, 'common_name': 'Atlantic salmon', 'assembly': 'Ssal_v3.1', 'display_name': 'Atlantic salmon', 'accession': 'GCA_905237065.2', 'division': 'EnsemblVertebrates', 'release': 106, 'name': 'salmo_salar'}\n",
      "{'name': 'sinocyclocheilus_anshuiensis', 'release': 106, 'division': 'EnsemblVertebrates', 'accession': 'GCA_001515605.1', 'display_name': 'Blind barbel', 'assembly': 'SAMN03320099.WGS_v1.1', 'common_name': 'blind barbel', 'strain_collection': None, 'taxon_id': '1608454', 'aliases': [], 'strain': None, 'groups': ['core', 'otherfeatures', 'rnaseq']}\n",
      "{'common_name': 'goldfish', 'assembly': 'ASM336829v1', 'strain_collection': None, 'taxon_id': '7957', 'aliases': [], 'strain': None, 'groups': ['otherfeatures', 'core', 'rnaseq'], 'name': 'carassius_auratus', 'release': 106, 'division': 'EnsemblVertebrates', 'accession': 'GCA_003368295.1', 'display_name': 'Goldfish'}\n",
      "{'groups': ['rnaseq', 'variation', 'funcgen', 'core', 'otherfeatures'], 'strain': None, 'assembly': 'EquCab3.0', 'common_name': 'horse', 'strain_collection': None, 'taxon_id': '9796', 'aliases': ['ecaballus', 'equcab', 'horse', 'ecab', 'equuscaballus', 'equus caballus', '9796'], 'display_name': 'Horse', 'name': 'equus_caballus', 'release': 106, 'division': 'EnsemblVertebrates', 'accession': 'GCA_002863925.1'}\n",
      "{'release': 106, 'name': 'theropithecus_gelada', 'accession': 'GCA_003255815.1', 'division': 'EnsemblVertebrates', 'display_name': 'Gelada', 'strain_collection': None, 'common_name': 'gelada', 'assembly': 'Tgel_1.0', 'taxon_id': '9565', 'aliases': [], 'groups': ['core', 'funcgen', 'rnaseq'], 'strain': None}\n",
      "{'display_name': 'Macaque', 'name': 'macaca_mulatta', 'release': 106, 'division': 'EnsemblVertebrates', 'accession': 'GCA_003339765.3', 'groups': ['variation', 'rnaseq', 'otherfeatures', 'core', 'funcgen'], 'strain': None, 'assembly': 'Mmul_10', 'common_name': 'Macaque', 'strain_collection': None, 'taxon_id': '9544', 'aliases': []}\n",
      "{'display_name': 'Reedfish', 'name': 'erpetoichthys_calabaricus', 'release': 106, 'division': 'EnsemblVertebrates', 'accession': 'GCA_900747795.2', 'strain': None, 'groups': ['otherfeatures', 'core', 'rnaseq'], 'common_name': 'reedfish', 'assembly': 'fErpCal1.1', 'strain_collection': None, 'taxon_id': '27687', 'aliases': []}\n",
      "{'aliases': [], 'taxon_id': '7962', 'common_name': 'common carp huanghe', 'assembly': 'Hunaghe_carp_2.0', 'strain_collection': None, 'strain': None, 'groups': ['rnaseq', 'core'], 'division': 'EnsemblVertebrates', 'accession': 'GCA_004011575.1', 'name': 'cyprinus_carpio_huanghe', 'release': 106, 'display_name': 'Common carp huanghe'}\n",
      "{'name': 'cynoglossus_semilaevis', 'release': 106, 'division': 'EnsemblVertebrates', 'accession': 'GCA_000523025.1', 'display_name': 'Tongue sole', 'assembly': 'Cse_v1.0', 'common_name': 'tongue sole', 'strain_collection': None, 'taxon_id': '244447', 'aliases': [], 'strain': None, 'groups': ['rnaseq', 'core', 'otherfeatures']}\n",
      "{'division': 'EnsemblVertebrates', 'accession': 'GCA_003426925.1', 'name': 'urocitellus_parryii', 'release': 106, 'display_name': 'Arctic ground squirrel', 'aliases': [], 'taxon_id': '9999', 'common_name': 'Arctic ground squirrel', 'assembly': 'ASM342692v1', 'strain_collection': None, 'strain': None, 'groups': ['core', 'rnaseq']}\n",
      "{'groups': ['core', 'rnaseq'], 'strain': None, 'strain_collection': None, 'common_name': 'mallard', 'assembly': 'ASM874695v1', 'taxon_id': '8839', 'aliases': [], 'display_name': 'Mallard', 'release': 106, 'name': 'anas_platyrhynchos', 'accession': 'GCA_008746955.1', 'division': 'EnsemblVertebrates'}\n",
      "{'groups': ['rnaseq', 'core', 'funcgen', 'otherfeatures'], 'strain': None, 'strain_collection': None, 'assembly': 'Rrox_v1', 'common_name': 'Golden snub-nosed monkey', 'aliases': [], 'taxon_id': '61622', 'display_name': 'Golden snub-nosed monkey', 'release': 106, 'name': 'rhinopithecus_roxellana', 'accession': 'GCA_000769185.1', 'division': 'EnsemblVertebrates'}\n",
      "{'display_name': 'Collared flycatcher', 'accession': 'GCA_000247815.2', 'division': 'EnsemblVertebrates', 'release': 106, 'name': 'ficedula_albicollis', 'groups': ['rnaseq', 'otherfeatures', 'core'], 'strain': None, 'taxon_id': '59894', 'aliases': [], 'strain_collection': None, 'common_name': 'Collared flycatcher', 'assembly': 'FicAlb1.5'}\n",
      "{'release': 106, 'name': 'prolemur_simus', 'accession': 'GCA_003258685.1', 'division': 'EnsemblVertebrates', 'display_name': 'Greater bamboo lemur', 'strain_collection': None, 'assembly': 'Prosim_1.0', 'common_name': 'greater bamboo lemur', 'taxon_id': '1328070', 'aliases': [], 'strain': None, 'groups': ['funcgen', 'core']}\n",
      "{'strain_collection': None, 'assembly': 'ROS_Cfam_1.0', 'common_name': 'dog', 'aliases': ['canis lupus familiaris', 'canis familiaris', 'dog'], 'taxon_id': '9615', 'groups': ['rnaseq', 'variation', 'funcgen', 'core', 'otherfeatures'], 'strain': 'Labrador retriever', 'release': 106, 'name': 'canis_lupus_familiaris', 'accession': 'GCA_014441545.1', 'division': 'EnsemblVertebrates', 'display_name': 'Dog'}\n",
      "{'display_name': 'Yarkand deer', 'release': 106, 'name': 'cervus_hanglu_yarkandensis', 'accession': 'GCA_010411085.1', 'division': 'EnsemblVertebrates', 'groups': ['rnaseq', 'core'], 'strain': None, 'strain_collection': None, 'assembly': 'CEY_v1', 'common_name': 'Yarkand deer', 'aliases': [], 'taxon_id': '84702'}\n",
      "{'accession': 'GCA_005190385.2', 'division': 'EnsemblVertebrates', 'release': 106, 'name': 'monodon_monoceros', 'display_name': 'Narwhal', 'aliases': [], 'taxon_id': '40151', 'strain_collection': None, 'assembly': 'NGI_Narwhal_1', 'common_name': 'narwhal', 'strain': None, 'groups': ['core', 'otherfeatures', 'rnaseq']}\n"
     ]
    }
   ],
   "source": [
    "!pypgatk_cli.py ensembl-downloader -c config/ensembl_downloader_config.yaml -l -sv -sg -sp -sc -sd -sn "
   ]
  },
  {
   "cell_type": "markdown",
   "id": "9f6f0d19",
   "metadata": {
    "slideshow": {
     "slide_type": "slide"
    }
   },
   "source": [
    "Let's download reference files except VCF (variants) for `Meleagris_gallopavo.Turkey` (taxonomy id: 9103) into a folder named ensembl_files"
   ]
  },
  {
   "cell_type": "code",
   "execution_count": 7,
   "id": "a3e52896",
   "metadata": {
    "slideshow": {
     "slide_type": "subslide"
    }
   },
   "outputs": [
    {
     "name": "stdout",
     "output_type": "stream",
     "text": [
      "Determination of memory status is not supported on this \n",
      " platform, measuring for memoryleaks will never fail\n",
      "Downloading --  ftp://ftp.ensembl.org/pub/release-106/fasta/meleagris_gallopavo/pep/Meleagris_gallopavo.Turkey_5.1.pep.all.fa.gz\n",
      "DEBUG:pypgatk.toolbox.general:Files downloaded -- ensembl_files/Meleagris_gallopavo.Turkey_5.1.pep.all.fa,ensembl_files/Meleagris_gallopavo.Turkey_5.1.106.gtf,ensembl_files/Meleagris_gallopavo.Turkey_5.1.cds.all.fa,ensembl_files/Meleagris_gallopavo.Turkey_5.1.cdna.all.fa,ensembl_files/Meleagris_gallopavo.Turkey_5.1.ncrna.fa,ensembl_files/Meleagris_gallopavo.Turkey_5.1.dna_sm.toplevel.fa\n",
      "INFO:Main Pipeline Ensembl Downloader:Pipeline Finish !!!\n"
     ]
    }
   ],
   "source": [
    "!pypgatk_cli.py ensembl-downloader -c config/ensembl_downloader_config.yaml -t 9103 -o ensembl_files --skip_vcf"
   ]
  },
  {
   "cell_type": "markdown",
   "id": "3ae49c10",
   "metadata": {
    "slideshow": {
     "slide_type": "subslide"
    }
   },
   "source": [
    "Check the contents of the ensembl_files on your computer system, you should see the following files downloaded:"
   ]
  },
  {
   "cell_type": "code",
   "execution_count": 8,
   "id": "bd4bf472",
   "metadata": {
    "slideshow": {
     "slide_type": "subslide"
    }
   },
   "outputs": [
    {
     "data": {
      "text/plain": [
       "['Meleagris_gallopavo.Turkey_5.1.106.gtf',\n",
       " 'Meleagris_gallopavo.Turkey_5.1.dna_sm.toplevel.fa',\n",
       " 'Meleagris_gallopavo.Turkey_5.1.pep.all.fa',\n",
       " 'Meleagris_gallopavo.Turkey_5.1.ncrna.fa',\n",
       " 'Meleagris_gallopavo.Turkey_5.1.cds.all.fa',\n",
       " 'Meleagris_gallopavo.Turkey_5.1.cdna.all.fa']"
      ]
     },
     "execution_count": 8,
     "metadata": {},
     "output_type": "execute_result"
    }
   ],
   "source": [
    "os.listdir('ensembl_files')"
   ]
  },
  {
   "cell_type": "markdown",
   "id": "4aa27dc7",
   "metadata": {
    "slideshow": {
     "slide_type": "slide"
    }
   },
   "source": [
    "#### Convert GTF (can be reference or custom from RNA-seq) to DNA sequences\n",
    "Although the cdna.fa and ncrna.fa files can be used as reference DNA, but we wull use  GTF since it provides more flexibility to select desired transcript types. Also, when running your own RNA-seq experiments you usually get a GTF file as a final output therefore it is better to learn how to translate transcripts starting from a GTF file.\n",
    "\n",
    "However, since the `dnaseq-to-proteindb` tool only accepts FASTA files as input, we first need to convert the GTF into FASTA using gffread that is a separate tool.\n"
   ]
  },
  {
   "cell_type": "code",
   "execution_count": 9,
   "id": "2254ac9b",
   "metadata": {
    "slideshow": {
     "slide_type": "subslide"
    }
   },
   "outputs": [
    {
     "name": "stdout",
     "output_type": "stream",
     "text": [
      "FASTA index file ensembl_files/Meleagris_gallopavo.Turkey_5.1.dna_sm.toplevel.fa.fai created.\n",
      "\n",
      "Generated: 30708 transcript sequences from the GTF file\n"
     ]
    }
   ],
   "source": [
    "if not os.path.isfile('ensembl_files/Meleagris_gallopavo.Turkey_5.1.106.fa'):\n",
    "    !./gffread -F -w ensembl_files/Meleagris_gallopavo.Turkey_5.1.106.fa -g ensembl_files/Meleagris_gallopavo.Turkey_5.1.dna_sm.toplevel.fa ensembl_files/Meleagris_gallopavo.Turkey_5.1.106.gtf\n",
    "if os.path.isfile('ensembl_files/Meleagris_gallopavo.Turkey_5.1.106.fa'):\n",
    "    print(\"\\nGenerated: {} transcript sequences from the GTF file\".format(\n",
    "        len(list(SeqIO.index('ensembl_files/Meleagris_gallopavo.Turkey_5.1.106.fa', \"fasta\").keys()))))"
   ]
  },
  {
   "cell_type": "markdown",
   "id": "5f6ceddc",
   "metadata": {
    "slideshow": {
     "slide_type": "slide"
    }
   },
   "source": [
    "Now that we have the DNA fasta file ready to be used, let's take a look at the parameters that can be applied:"
   ]
  },
  {
   "cell_type": "code",
   "execution_count": 10,
   "id": "0e23d677",
   "metadata": {
    "scrolled": true,
    "slideshow": {
     "slide_type": "subslide"
    }
   },
   "outputs": [
    {
     "name": "stdout",
     "output_type": "stream",
     "text": [
      "Determination of memory status is not supported on this \n",
      " platform, measuring for memoryleaks will never fail\n",
      "Usage: pypgatk_cli.py dnaseq-to-proteindb [OPTIONS]\n",
      "\n",
      "Options:\n",
      "  -c, --config_file TEXT          Configuration to perform conversion between\n",
      "                                  ENSEMBL Files\n",
      "  --input_fasta TEXT              Path to sequences fasta\n",
      "  --translation_table INTEGER     Translation Table (default 1)\n",
      "  --num_orfs INTEGER              Number of ORFs (default 3)\n",
      "  --num_orfs_complement INTEGER   Number of ORFs from the reverse side\n",
      "                                  (default 0)\n",
      "  --output_proteindb TEXT         Output file name, exits if already exists\n",
      "  -p, --var_prefix TEXT           String to add before the variant peptides\n",
      "  --skip_including_all_cds        By default any transcript that has a defined\n",
      "                                  CDS will be translated, this option disables\n",
      "                                  this features instead it only depends on the\n",
      "                                  biotypes\n",
      "  --include_biotypes TEXT         Include Biotypes\n",
      "  --exclude_biotypes TEXT         Exclude Biotypes\n",
      "  --biotype_str TEXT              String used to identify gene/transcript\n",
      "                                  biotype in the gtf file.\n",
      "  --transcript_description_sep TEXT\n",
      "                                  Separator used to separate features in the\n",
      "                                  fasta headers, usually either (space, / or\n",
      "                                  semicolon).\n",
      "  --expression_str TEXT           String to be used for extracting expression\n",
      "                                  value (TPM, FPKM, etc).\n",
      "  --expression_thresh FLOAT       Threshold used to filter transcripts based\n",
      "                                  on their expression values\n",
      "  -h, --help                      Show this message and exit.\n"
     ]
    }
   ],
   "source": [
    "!pypgatk_cli.py dnaseq-to-proteindb  -h"
   ]
  },
  {
   "cell_type": "markdown",
   "id": "3854d360",
   "metadata": {
    "slideshow": {
     "slide_type": "slide"
    }
   },
   "source": [
    "#### Generate a protein database from lncRNAs only\n",
    "*Use the include_biotypes flag to specify what kind of transcripts should be translated. See ensembl biotypes: http://www.ensembl.org/info/genome/genebuild/biotypes.html"
   ]
  },
  {
   "cell_type": "code",
   "execution_count": 11,
   "id": "71a84c4c",
   "metadata": {
    "slideshow": {
     "slide_type": "subslide"
    }
   },
   "outputs": [
    {
     "name": "stdout",
     "output_type": "stream",
     "text": [
      "Determination of memory status is not supported on this \n",
      " platform, measuring for memoryleaks will never fail\n",
      "/Users/husen/opt/anaconda3/envs/pygatk/lib/python3.8/site-packages/Bio/Seq.py:2606: BiopythonWarning: Partial codon, len(sequence) not a multiple of three. Explicitly trim the sequence or add trailing N before translation. This may become an error in future.\n",
      "  warnings.warn(\"Partial codon, len(sequence) not a multiple of three. \"\n",
      "\n",
      "Generated: dict_items([('lncRNA', 5109)])\n"
     ]
    }
   ],
   "source": [
    "!pypgatk_cli.py dnaseq-to-proteindb --config_file config/ensembl_config.yaml --input_fasta ensembl_files/Meleagris_gallopavo.Turkey_5.1.106.fa --output_proteindb lncRNAs.fa --skip_including_all_cds --var_prefix lncRNA_ --include_biotypes lncRNA --output_proteindb lncRNAs.fa\n",
    "\n",
    "print(\"\\nGenerated:\", Counter([x.split('_')[0] for x in list(SeqIO.index('lncRNAs.fa', \"fasta\").keys())]).items())\n"
   ]
  },
  {
   "cell_type": "markdown",
   "id": "a6ce9b58",
   "metadata": {
    "slideshow": {
     "slide_type": "slide"
    }
   },
   "source": [
    "#### Generate protein database from other non-coding RNAs"
   ]
  },
  {
   "cell_type": "code",
   "execution_count": 12,
   "id": "e63a90af",
   "metadata": {
    "slideshow": {
     "slide_type": "subslide"
    }
   },
   "outputs": [
    {
     "name": "stdout",
     "output_type": "stream",
     "text": [
      "Determination of memory status is not supported on this \n",
      " platform, measuring for memoryleaks will never fail\n",
      "/Users/husen/opt/anaconda3/envs/pygatk/lib/python3.8/site-packages/Bio/Seq.py:2606: BiopythonWarning: Partial codon, len(sequence) not a multiple of three. Explicitly trim the sequence or add trailing N before translation. This may become an error in future.\n",
      "  warnings.warn(\"Partial codon, len(sequence) not a multiple of three. \"\n",
      "\n",
      "Generated: dict_items([('ncRNA', 1500)])\n"
     ]
    }
   ],
   "source": [
    "!pypgatk_cli.py dnaseq-to-proteindb --config_file config/ensembl_config.yaml --input_fasta ensembl_files/Meleagris_gallopavo.Turkey_5.1.106.fa --output_proteindb ncRNAs.fa --skip_including_all_cds --var_prefix ncRNA_ --include_biotypes miRNA,miscRNA,piRNA,rRNA,siRNA,snRNA,snoRNA,tRNA,vaultRNA\n",
    "\n",
    "print(\"\\nGenerated:\", Counter([x.split('_')[0] for x in list(SeqIO.index('ncRNAs.fa', \"fasta\").keys())]).items())\n"
   ]
  },
  {
   "cell_type": "markdown",
   "id": "56d4bf8c",
   "metadata": {
    "slideshow": {
     "slide_type": "slide"
    }
   },
   "source": [
    "#### Generate protein database from alternative reading frames of coding sequences"
   ]
  },
  {
   "cell_type": "code",
   "execution_count": 13,
   "id": "228362a6",
   "metadata": {
    "slideshow": {
     "slide_type": "subslide"
    }
   },
   "outputs": [
    {
     "name": "stdout",
     "output_type": "stream",
     "text": [
      "Determination of memory status is not supported on this \n",
      " platform, measuring for memoryleaks will never fail\n",
      "/Users/husen/opt/anaconda3/envs/pygatk/lib/python3.8/site-packages/Bio/Seq.py:2606: BiopythonWarning: Partial codon, len(sequence) not a multiple of three. Explicitly trim the sequence or add trailing N before translation. This may become an error in future.\n",
      "  warnings.warn(\"Partial codon, len(sequence) not a multiple of three. \"\n",
      "\n",
      "Generated: dict_items([('altORF', 84885)])\n"
     ]
    }
   ],
   "source": [
    "!pypgatk_cli.py dnaseq-to-proteindb --config_file config/ensembl_config.yaml --input_fasta ensembl_files/Meleagris_gallopavo.Turkey_5.1.106.fa --output_proteindb altORFs.fa --skip_including_all_cds --var_prefix altORF_ --include_biotypes altORFs\n",
    "\n",
    "print(\"\\nGenerated:\", Counter([x.split('_')[0] for x in list(SeqIO.index('altORFs.fa', \"fasta\").keys())]).items())\n"
   ]
  },
  {
   "cell_type": "markdown",
   "id": "88a8f5f6",
   "metadata": {
    "slideshow": {
     "slide_type": "slide"
    }
   },
   "source": [
    "#### Generate a protein database from pseudogenes? "
   ]
  },
  {
   "cell_type": "code",
   "execution_count": 14,
   "id": "069f0fd3",
   "metadata": {
    "slideshow": {
     "slide_type": "subslide"
    }
   },
   "outputs": [
    {
     "name": "stdout",
     "output_type": "stream",
     "text": [
      "Determination of memory status is not supported on this \n",
      " platform, measuring for memoryleaks will never fail\n",
      "/Users/husen/opt/anaconda3/envs/pygatk/lib/python3.8/site-packages/Bio/Seq.py:2606: BiopythonWarning: Partial codon, len(sequence) not a multiple of three. Explicitly trim the sequence or add trailing N before translation. This may become an error in future.\n",
      "  warnings.warn(\"Partial codon, len(sequence) not a multiple of three. \"\n",
      "\n",
      "Generated: dict_items([('pesuedogene', 477)])\n"
     ]
    }
   ],
   "source": [
    "!pypgatk_cli.py dnaseq-to-proteindb --config_file config/ensembl_config.yaml --input_fasta ensembl_files/Meleagris_gallopavo.Turkey_5.1.106.fa --output_proteindb pesuedogenes.fa --skip_including_all_cds --var_prefix pesuedogene_ --include_biotypes pseudogene,processed_pseudogene\n",
    "\n",
    "print(\"\\nGenerated:\", Counter([x.split('_')[0] for x in list(SeqIO.index('pesuedogenes.fa', \"fasta\").keys())]).items())\n"
   ]
  },
  {
   "cell_type": "markdown",
   "id": "abe14dba",
   "metadata": {
    "slideshow": {
     "slide_type": "slide"
    }
   },
   "source": [
    "### Concatenate the generated protein databases with reference proteome"
   ]
  },
  {
   "cell_type": "code",
   "execution_count": 15,
   "id": "590ff8aa",
   "metadata": {
    "slideshow": {
     "slide_type": "subslide"
    }
   },
   "outputs": [
    {
     "data": {
      "text/plain": [
       "dict_items([('lncRNA', 5109), ('pesuedogene', 477), ('ncRNA', 1500), ('altORF', 84885), ('Can', 28295)])"
      ]
     },
     "execution_count": 15,
     "metadata": {},
     "output_type": "execute_result"
    }
   ],
   "source": [
    "!cat lncRNAs.fa pesuedogenes.fa ncRNAs.fa altORFs.fa ensembl_files/Meleagris_gallopavo.Turkey_5.1.pep.all.fa > proteins.fa\n",
    "\n",
    "Counter([x.replace('ENS','Can_ENS').split('_')[0] for x in list(SeqIO.index('proteins.fa', \"fasta\").keys())]).items()\n"
   ]
  },
  {
   "cell_type": "markdown",
   "id": "8e5c08d5",
   "metadata": {},
   "source": [
    "### Generate decoy protein sequences"
   ]
  },
  {
   "cell_type": "code",
   "execution_count": null,
   "id": "9f2c55ef",
   "metadata": {},
   "outputs": [
    {
     "name": "stdout",
     "output_type": "stream",
     "text": [
      "Determination of memory status is not supported on this \r\n",
      " platform, measuring for memoryleaks will never fail\r\n"
     ]
    }
   ],
   "source": [
    "!pypgatk_cli.py generate-decoy -c config/protein_decoy.yaml -in proteins.fa -out decoys.fa\n",
    "\n",
    "Counter([x.replace('ENS','Can_ENS').split('_')[0] for x in list(SeqIO.index('decoys.fa', \"fasta\").keys())]).items()\n"
   ]
  },
  {
   "cell_type": "markdown",
   "id": "7aa09bc8",
   "metadata": {
    "slideshow": {
     "slide_type": "slide"
    }
   },
   "source": [
    "#### Perform six-frame translation on DNA seqyence"
   ]
  },
  {
   "cell_type": "code",
   "execution_count": null,
   "id": "b204e3b4",
   "metadata": {
    "slideshow": {
     "slide_type": "subslide"
    }
   },
   "outputs": [],
   "source": [
    "!pypgatk_cli.py dnaseq-to-proteindb --config_file config/ensembl_config.yaml --skip_including_all_cds --input_fasta ensembl_files/Meleagris_gallopavo.Turkey_5.1.106.fa --output_proteindb sixframes.fa --var_prefix sixframe_  --num_orfs 3 --num_orfs_complement 3 --include_biotypes all\n",
    "\n",
    "Counter([x.split('_')[0] for x in list(SeqIO.index('sixframes.fa', \"fasta\").keys())]).items()\n"
   ]
  },
  {
   "cell_type": "code",
   "execution_count": null,
   "id": "8c5a1f32",
   "metadata": {
    "slideshow": {
     "slide_type": "slide"
    }
   },
   "outputs": [],
   "source": [
    "#function to digest proteins\n",
    "\n",
    "def trypsin_digestion(proseq_incl_stop, miss_cleavage=0):\n",
    "    \"digest peptides using the tryptic rule, allowing for miss cleavages\"\n",
    "    all_peptides = []\n",
    "    for protseq in proseq_incl_stop.split('*'):\n",
    "        if len(protseq)<=0:\n",
    "            continue\n",
    "        peptides = []\n",
    "        peptide = ''\n",
    "        \"remove the first K/R if in the begining of a reading frame\"\n",
    "        protseq_updated = protseq[0::]\n",
    "        if protseq[0]=='K' or protseq[0]=='R' and len(protseq)>1:\n",
    "            protseq_updated = protseq[1::]\n",
    "\n",
    "        for c, aa in enumerate(protseq_updated):\n",
    "            peptide += aa\n",
    "            next_aa = ''\n",
    "            try:\n",
    "                next_aa = protseq_updated[c + 1]\n",
    "            except IndexError:\n",
    "                pass\n",
    "\n",
    "            if aa in ['K', 'R'] and next_aa != 'P':  # for trypsin peptides\n",
    "                if len(peptide) > 0:\n",
    "                    peptides.append(peptide)\n",
    "                peptide = ''\n",
    "                continue\n",
    "\n",
    "        if len(peptide) > 0:\n",
    "            peptides.append(peptide)\n",
    "\n",
    "        peptides_with_miss_cleavage = []\n",
    "        for i in range(1, miss_cleavage + 1):\n",
    "            for j, pep in enumerate(peptides):\n",
    "                if j + i < len(peptides):\n",
    "                    peptide = ''.join([x for x in (peptides[j:j + i + 1])])\n",
    "                    peptides_with_miss_cleavage.append(peptide)\n",
    "\n",
    "        peptides.extend(peptides_with_miss_cleavage)\n",
    "        all_peptides.extend(peptides)\n",
    "\n",
    "    return all_peptides"
   ]
  },
  {
   "cell_type": "markdown",
   "id": "300c2798",
   "metadata": {},
   "source": [
    "#### Investigate the overlap between tryptic peptides from various categories!"
   ]
  },
  {
   "cell_type": "code",
   "execution_count": null,
   "id": "d702f439",
   "metadata": {
    "slideshow": {
     "slide_type": "subslide"
    }
   },
   "outputs": [],
   "source": [
    "#Specify protein files to use\n",
    "prot_files = ['proteins.fa']#, 'sixframes.fa']\n",
    "\n",
    "proteins = {}\n",
    "for prot_file in prot_files:\n",
    "    for record in SeqIO.parse(prot_file, 'fasta'):\n",
    "        prot_type = str(record.id).replace('ENS', 'Can_ENS').split('_')[0]\n",
    "        try:\n",
    "            proteins[prot_type].extend(trypsin_digestion(str(record.seq)))\n",
    "        except KeyError:\n",
    "            proteins[prot_type] = trypsin_digestion(str(record.seq))\n",
    "\n",
    "#unify\n",
    "for prot_type in proteins.keys():\n",
    "    proteins[prot_type] = set(proteins[prot_type])\n",
    "\n",
    "print('Number of tryptic peptides per type:\\n', '\\n'.join([k+' = '+str(len(items)) for k,items in proteins.items()]))"
   ]
  },
  {
   "cell_type": "code",
   "execution_count": null,
   "id": "1d9241bd",
   "metadata": {
    "scrolled": true,
    "slideshow": {
     "slide_type": "slide"
    }
   },
   "outputs": [],
   "source": [
    "###Optional\n",
    "#make a supervenn to plot the overlaps (takes some time)\n",
    "try:\n",
    "    from supervenn import supervenn\n",
    "except ModuleNotFoundError:\n",
    "    !pip install supervenn #does not work for some reason it looks at the base env for this package (print(sys.executable) )\n",
    "\n",
    "\n",
    "labels = list(proteins.keys())\n",
    "sets = [proteins[x] for x in proteins.keys()]\n",
    "\n",
    "plt.figure(figsize=(20, 10))\n",
    "supervenn(sets, labels, min_width_for_annotation=10000, rotate_col_annotations=True, \n",
    "          side_plots='right', chunks_ordering='occurrence', alternating_background= False)\n",
    "plt.grid(False)\n",
    "plt.savefig('baroverlap.svg')"
   ]
  },
  {
   "cell_type": "markdown",
   "id": "52842789",
   "metadata": {
    "slideshow": {
     "slide_type": "subslide"
    }
   },
   "source": [
    "#### Try to also show peptides from the six-frame translation? any speculations how they would look like?"
   ]
  },
  {
   "cell_type": "code",
   "execution_count": null,
   "id": "c830c281",
   "metadata": {},
   "outputs": [],
   "source": [
    "#write your code here to make a supervenn to show six-frame peptides and the other proteins"
   ]
  },
  {
   "cell_type": "markdown",
   "id": "61404e7e",
   "metadata": {
    "slideshow": {
     "slide_type": "slide"
    }
   },
   "source": [
    "# Part 3: Mutations to Proteins (cBioPortal)\n",
    "\n",
    "\n",
    "In this part we will use the `cbioportal-downloader` and `cbioportal-to-proteindb` command to translate mutations from cancer studies in cBioPortal (https://www.cbioportal.org/).\n",
    "\n",
    "\n",
    "First we need to specify what study to download from cBioPortal (see -l flag): \n",
    "\n",
    "\n",
    "\n",
    "Check the flags below to know what flags to use."
   ]
  },
  {
   "cell_type": "code",
   "execution_count": null,
   "id": "3c3eddfc",
   "metadata": {
    "slideshow": {
     "slide_type": "subslide"
    }
   },
   "outputs": [],
   "source": [
    "!pypgatk_cli.py cbioportal-downloader -h"
   ]
  },
  {
   "cell_type": "markdown",
   "id": "572f26ec",
   "metadata": {
    "slideshow": {
     "slide_type": "subslide"
    }
   },
   "source": [
    "#### Download data for study ID blca_mskcc_solit_2014"
   ]
  },
  {
   "cell_type": "code",
   "execution_count": null,
   "id": "c700b496",
   "metadata": {
    "slideshow": {
     "slide_type": "subslide"
    }
   },
   "outputs": [],
   "source": [
    "!pypgatk_cli.py cbioportal-downloader -c config/cbioportal_config.yaml -d blca_mskcc_solit_2014 -o ./\n",
    "!tar -xzvf blca_mskcc_solit_2014.tar\n",
    "#Download linking CDSs (the mutations are aligned to hg37)\n",
    "!wget ftp://ftp.ensembl.org/pub/release-75/fasta/homo_sapiens/cds/Homo_sapiens.GRCh37.75.cds.all.fa.gz\n",
    "!gunzip *.gz"
   ]
  },
  {
   "cell_type": "markdown",
   "id": "b1a42ac4",
   "metadata": {},
   "source": [
    "The files are downloaded into a directory with the same name as the study ID. It contains several files but we only need the following two files:\n",
    "- `data_clinical_sample.txt`: \n",
    "\n",
    "    This file contains metada or clinical information about each of the samples in the study\n",
    "    \n",
    "    \n",
    "- `data_mutations.txt` (it might have slightly different names depending on the cBioPortal version): \n",
    "\n",
    "    This file contains the list of mutations identified in this study\n"
   ]
  },
  {
   "cell_type": "markdown",
   "id": "b31ddfcb",
   "metadata": {
    "slideshow": {
     "slide_type": "subslide"
    }
   },
   "source": [
    "#### Translate the downloaded set of mutations\n",
    "\n",
    "First check what options you have!"
   ]
  },
  {
   "cell_type": "code",
   "execution_count": null,
   "id": "fd4d03f8",
   "metadata": {
    "slideshow": {
     "slide_type": "subslide"
    }
   },
   "outputs": [],
   "source": [
    "!pypgatk_cli.py cbioportal-to-proteindb -h"
   ]
  },
  {
   "cell_type": "code",
   "execution_count": null,
   "id": "3581314b",
   "metadata": {
    "slideshow": {
     "slide_type": "subslide"
    }
   },
   "outputs": [],
   "source": [
    "\n",
    "!pypgatk_cli.py cbioportal-to-proteindb --config_file config/cbioportal_config.yaml --input_cds Homo_sapiens.GRCh37.75.cds.all.fa --input_mutation blca_mskcc_solit_2014/data_mutations.txt --clinical_sample_file blca_mskcc_solit_2014/data_clinical_sample.txt --output_db bladder_proteindb.fa\n",
    "\n",
    "Counter([x.split(':')[0] for x in list(SeqIO.index('bladder_proteindb.fa', \"fasta\").keys())]).items()\n"
   ]
  },
  {
   "cell_type": "markdown",
   "id": "612fca86",
   "metadata": {},
   "source": [
    "Optionally, you can filter the samples based on any of the columns in the data_clinical_sample.txt. First, let's see what fields (clinical information) is available for the samples in this study:"
   ]
  },
  {
   "cell_type": "code",
   "execution_count": null,
   "id": "1c575e13",
   "metadata": {},
   "outputs": [],
   "source": [
    "[x.strip() for x in open('blca_mskcc_solit_2014/data_clinical_sample.txt').readline().split('\\t')]"
   ]
  },
  {
   "cell_type": "markdown",
   "id": "9284606f",
   "metadata": {},
   "source": [
    "Let's only use mutations from samples have their `Lymph Node Status` as `Positive`"
   ]
  },
  {
   "cell_type": "code",
   "execution_count": null,
   "id": "5a9a7c87",
   "metadata": {},
   "outputs": [],
   "source": [
    "\n",
    "!pypgatk_cli.py cbioportal-to-proteindb --config_file config/cbioportal_config.yaml --input_cds Homo_sapiens.GRCh37.75.cds.all.fa --input_mutation blca_mskcc_solit_2014/data_mutations.txt --clinical_sample_file blca_mskcc_solit_2014/data_clinical_sample.txt --output_db bladder_proteindb_filtered.fa --filter_column 'LYMPH_NODE_STATUS' --accepted_values 'Positive'\n",
    "\n",
    "Counter([x.split(':')[0] for x in list(SeqIO.index('bladder_proteindb_filtered.fa', \"fasta\").keys())]).items()\n"
   ]
  },
  {
   "cell_type": "markdown",
   "id": "9f2815bf",
   "metadata": {
    "slideshow": {
     "slide_type": "slide"
    }
   },
   "source": [
    "# Part 4: Mutations to Proteins (COSMIC)\n",
    "\n",
    "\n",
    "In this part we will use the `cosmic-downloader` and `cosmic-to-proteindb` command to translate cancer mutations from COSMIC.\n",
    "\n",
    "\n",
    "However, sicne downloading data from COSMIC requries registeration therefore I have pre-downloaded\n",
    "- `CosmicMutantExport.tsv.gz` \n",
    "- `All_COSMIC_Genes.fasta.gz` \n",
    "\n",
    "The command to repeat it is sitll given below.\n",
    "\n",
    "*takes long\n",
    "Generate a protein database for each cancer type in COSMIC (--split_by_filter_column flag)\n"
   ]
  },
  {
   "cell_type": "code",
   "execution_count": null,
   "id": "a6a41a60",
   "metadata": {
    "slideshow": {
     "slide_type": "subslide"
    }
   },
   "outputs": [],
   "source": [
    "#python pypgatk_cli.py cosmic-downloader -u userName -p passWord -c config/cosmic_config.yaml -o cosmic_files\n",
    "\n",
    "!pypgatk_cli.py cosmic-to-proteindb -c config/cosmic_config.yaml -in CosmicMutantExport.tsv -fa All_COSMIC_Genes.fasta -out cosmic_proteinDB.fa --split_by_filter_column\n"
   ]
  },
  {
   "cell_type": "markdown",
   "id": "2be6514f",
   "metadata": {
    "slideshow": {
     "slide_type": "slide"
    }
   },
   "source": [
    "# Part 4: Mutations/variants to Proteins\n",
    "\n",
    "\n",
    "In this part we will use the `vcf-to-proteindb` command to translate mutations in VCF format to proteins. The output of genome/exome sequencing is usually a VCF file that includes the list of identified mutations.\n",
    "\n",
    "\n",
    "## Download relevant files\n",
    "\n",
    "First we need to specify genome fasta and a GTF file to download from the reference assembly. By default, `ensembl-downloader` downloads all files. The flags below can be used to ignore some files, e.g --skip_dna will skip downloading the reference DNA sequence, etc.\n",
    "\n"
   ]
  },
  {
   "cell_type": "code",
   "execution_count": null,
   "id": "b1aed8f6",
   "metadata": {
    "slideshow": {
     "slide_type": "subslide"
    }
   },
   "outputs": [],
   "source": [
    "!pypgatk_cli.py ensembl-downloader -c config/ensembl_downloader_config.yaml -t 9606 -o ensembl_files --skip_vcf"
   ]
  },
  {
   "cell_type": "markdown",
   "id": "08d760e8",
   "metadata": {
    "slideshow": {
     "slide_type": "subslide"
    }
   },
   "source": [
    "#### Check the flags that can be used for a VCF file\n"
   ]
  },
  {
   "cell_type": "code",
   "execution_count": null,
   "id": "52930dce",
   "metadata": {
    "slideshow": {
     "slide_type": "subslide"
    }
   },
   "outputs": [],
   "source": [
    "!pypgatk_cli.py vcf-to-proteindb -h"
   ]
  },
  {
   "cell_type": "markdown",
   "id": "556f6b2f",
   "metadata": {
    "slideshow": {
     "slide_type": "subslide"
    }
   },
   "source": [
    "#### Similar to above we need to generate a FASTA from the GTF -- replace the file names and uncomment the line below"
   ]
  },
  {
   "cell_type": "code",
   "execution_count": null,
   "id": "7d422d01",
   "metadata": {
    "slideshow": {
     "slide_type": "subslide"
    }
   },
   "outputs": [],
   "source": [
    "#gffread -F -w transcripts.fa -g genome.fa gene_annotations.gtf"
   ]
  },
  {
   "cell_type": "markdown",
   "id": "f0736f13",
   "metadata": {
    "slideshow": {
     "slide_type": "subslide"
    }
   },
   "source": [
    "#### replace the file names and uncomment the line below"
   ]
  },
  {
   "cell_type": "code",
   "execution_count": null,
   "id": "647cd520",
   "metadata": {
    "slideshow": {
     "slide_type": "subslide"
    }
   },
   "outputs": [],
   "source": [
    "#!pypgatk_cli.py vcf-to-proteindb --vcf sample.vcf --input_fasta transcripts.fa --gene_annotations_gtf genes.gtf --annotation_field_name '' --output_proteindb var_peptides.fa\n"
   ]
  }
 ],
 "metadata": {
  "kernelspec": {
   "display_name": "Python 3",
   "language": "python",
   "name": "python3"
  },
  "language_info": {
   "codemirror_mode": {
    "name": "ipython",
    "version": 3
   },
   "file_extension": ".py",
   "mimetype": "text/x-python",
   "name": "python",
   "nbconvert_exporter": "python",
   "pygments_lexer": "ipython3",
   "version": "3.8.5"
  }
 },
 "nbformat": 4,
 "nbformat_minor": 5
}
