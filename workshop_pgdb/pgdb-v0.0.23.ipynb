{
 "cells": [
  {
   "cell_type": "markdown",
   "id": "46358dd6",
   "metadata": {
    "slideshow": {
     "slide_type": "slide"
    }
   },
   "source": [
    "# Proteogenomics database generation using py-pgatk\n",
    "\n",
    "\n",
    "This notebook presents commands in `py-pgatk` to:\n",
    "- download data from various sources including ENSEMBL for reference files, COSMIC & cBioPortal for cancer mutations, and gnomAD & ENSEMBL for population variants.\n",
    "- generate protein databases using the downloaded files or from custom files (mutations in VCF and transcripts in GTF)\n",
    "- explore the database content (number of proteins and overlaps in tryptic peptides between various protein categories)\n",
    "\n",
    "`py-pgatk` is implemented in `Python` and is available here: https://github.com/bigbio/py-pgatk. \n",
    "The commands are documented here: https://pgatk.readthedocs.io/en/latest/pypgatk.html.\n",
    "The tools are also builtin to a nextflow workflow: https://nf-co.re/pgdb.\n",
    "\n",
    "The easiset way to run this notebook is by installing conda and creating an environment for installing the required packages. \n",
    "\n",
    "\n",
    "# Part 1: Installation\n",
    "\n",
    "### Get notebook and data\n",
    "Updated version can be found here: https://github.com/husensofteng/ProteoWorks/blob/master/workshop_pgdb/pgdb.ipynb\n",
    "\n",
    "\n",
    "### Install Conda\n",
    "Download Conda for your operating system and follow the installation instructions from here: https://docs.conda.io/projects/conda/en/latest/user-guide/install/index.html#regular-installation\n",
    "\n",
    "Next, open a terminal window and run the following commands:\n",
    "\n"
   ]
  },
  {
   "cell_type": "markdown",
   "id": "1b69ff0c",
   "metadata": {
    "slideshow": {
     "slide_type": "subslide"
    }
   },
   "source": [
    "Choose either `conda` (supports up to v.0.019) or `pip` that also has v0.020:\n",
    "### Create `pgdb` environment (only once\n",
    "`conda create -n pgdb jupyterlab matplotlib`\n",
    "\n",
    "\n",
    "### Activate `pgdb` environment (everytime with new terminal/login)\n",
    "`conda activate pgdb`\n",
    "\n",
    "### Browse to your working directory and start Jupyter from there using\n",
    "`jupyter-notebook`\n",
    "\n"
   ]
  },
  {
   "cell_type": "code",
   "execution_count": 1,
   "id": "62bf88ac",
   "metadata": {
    "slideshow": {
     "slide_type": "subslide"
    }
   },
   "outputs": [
    {
     "name": "stdout",
     "output_type": "stream",
     "text": [
      "Requirement already satisfied: pip in /Users/husen/opt/anaconda3/envs/pygatk/lib/python3.8/site-packages (22.1.2)\n",
      "Requirement already satisfied: wget in /Users/husen/opt/anaconda3/envs/pygatk/lib/python3.8/site-packages (3.2)\n"
     ]
    }
   ],
   "source": [
    "!pip install --upgrade pip\n",
    "\n",
    "!pip install wget"
   ]
  },
  {
   "cell_type": "code",
   "execution_count": 2,
   "id": "945d79ab",
   "metadata": {
    "slideshow": {
     "slide_type": "subslide"
    }
   },
   "outputs": [
    {
     "name": "stdout",
     "output_type": "stream",
     "text": [
      "Currently using version: 0.0.23dev_0<develop>\n",
      "Currently using version: 0.0.23dev_0<develop>\n"
     ]
    }
   ],
   "source": [
    "def get_version():\n",
    "    !conda list > package_versions.txt\n",
    "    try:\n",
    "        pypgatk_version = [x.strip() for x in open('package_versions.txt').readlines() if 'pypgatk' in x][-1].replace(' ','').replace('pypgatk', '').replace('pypi_0pypi', '')\n",
    "        print('Currently using version: {}'.format(pypgatk_version))\n",
    "        return pypgatk_version\n",
    "    except IndexError:\n",
    "        return None\n",
    "    \n",
    "\n",
    "try:\n",
    "    import pypgatk\n",
    "except ModuleNotFoundError:\n",
    "    !pip install pypgatk\n",
    "    try:\n",
    "        import pypgatk\n",
    "        !pip install pypgatk\n",
    "    except ModuleNotFoundError:\n",
    "        try: #get the latest source code from the repo\n",
    "            !git clone https://github.com/bigbio/py-pgatk.git\n",
    "            !pip install .\n",
    "            import pypgatk\n",
    "        except ModuleNotFoundError:\n",
    "            print('Failed to installed pypgatk, exiting')\n",
    "\n",
    "\n",
    "#Get version of the currently installed pypgatk to obtain the right configuration files\n",
    "if not get_version():\n",
    "    !pip install pypgatk\n",
    "    if not get_version():\n",
    "        !git clone https://github.com/bigbio/py-pgatk.git\n",
    "        !pip install .\n",
    "pypgatk_version = get_version()\n",
    "\n"
   ]
  },
  {
   "cell_type": "markdown",
   "id": "249576c2",
   "metadata": {
    "slideshow": {
     "slide_type": "slide"
    }
   },
   "source": [
    "### Download configuration files and related tools\n",
    "\n",
    "#### Import required libraries"
   ]
  },
  {
   "cell_type": "code",
   "execution_count": 3,
   "id": "56f3b79d",
   "metadata": {
    "slideshow": {
     "slide_type": "subslide"
    }
   },
   "outputs": [],
   "source": [
    "import os\n",
    "import shutil\n",
    "import sys\n",
    "from collections import Counter\n",
    "\n",
    "try:\n",
    "    from Bio import SeqIO\n",
    "except ModuleNotFoundError:\n",
    "    !conda install -c conda-forge biopython\n",
    "    from Bio import SeqIO\n",
    "    \n",
    "try:\n",
    "    import matplotlib.pyplot as plt\n",
    "except ModuleNotFoundError:\n",
    "    !conda install matplotlib\n",
    "    import matplotlib.pyplot as plt"
   ]
  },
  {
   "cell_type": "markdown",
   "id": "40634fdd",
   "metadata": {
    "slideshow": {
     "slide_type": "slide"
    }
   },
   "source": [
    "#### Get Configuaration Files"
   ]
  },
  {
   "cell_type": "code",
   "execution_count": 4,
   "id": "04b15661",
   "metadata": {
    "slideshow": {
     "slide_type": "subslide"
    }
   },
   "outputs": [
    {
     "name": "stdout",
     "output_type": "stream",
     "text": [
      "the files are available in config/ in the current directory:\n",
      "  /Users/husen/Documents/Karolinska Institutet/GRP_LehtioLab_bioinformatics_brains - General/ProteoWorks/workshop_pgdb\n"
     ]
    }
   ],
   "source": [
    "if not os.path.isdir('config'):\n",
    "    os.system('wget https://github.com/bigbio/py-pgatk/archive/refs/tags/v{}.zip'.format(pypgatk_version))\n",
    "    os.system('unzip v{}.zip'.format(pypgatk_version))\n",
    "    shutil.copytree('py-pgatk-{}/pypgatk/config'.format(pypgatk_version), 'config')\n",
    "if os.path.isdir('config'):\n",
    "    print('the files are available in config/ in the current directory:\\n ', os.getcwd())\n",
    "    try:\n",
    "        os.rmdir('py-pgatk-*')\n",
    "    except FileNotFoundError:\n",
    "        pass"
   ]
  },
  {
   "cell_type": "code",
   "execution_count": 5,
   "id": "45137cf8",
   "metadata": {
    "scrolled": false
   },
   "outputs": [
    {
     "data": {
      "text/plain": [
       "['ensembl_config.yaml',\n",
       " 'ensembl_downloader_config.yaml',\n",
       " 'cbioportal_config.yaml',\n",
       " 'openms_analysis.yaml',\n",
       " '__init__.py',\n",
       " 'assemblies_conf.json',\n",
       " 'cosmic_config.yaml',\n",
       " 'protein_decoy.yaml']"
      ]
     },
     "execution_count": 5,
     "metadata": {},
     "output_type": "execute_result"
    }
   ],
   "source": [
    "os.listdir('config')"
   ]
  },
  {
   "cell_type": "markdown",
   "id": "6246aea8",
   "metadata": {
    "slideshow": {
     "slide_type": "slide"
    }
   },
   "source": [
    "### Install gffread v.0.11.7 \n",
    "This tool is needed to convert GTF (gene-transript annotation file) to FASTA (DNA sequence)"
   ]
  },
  {
   "cell_type": "code",
   "execution_count": 6,
   "id": "d8610ecc",
   "metadata": {
    "slideshow": {
     "slide_type": "subslide"
    }
   },
   "outputs": [
    {
     "name": "stdout",
     "output_type": "stream",
     "text": [
      "gffread is ready to be used\n"
     ]
    }
   ],
   "source": [
    "if not os.path.isfile('gffread'):\n",
    "    if 'linux' in sys.platform:\n",
    "        os.system('wget https://github.com/gpertea/gffread/releases/download/v0.12.7/gffread-0.12.7.Linux_x86_64.tar.gz')\n",
    "        os.system('tar -xvzf gffread-0.12.7.Linux_x86_64.tar.gz')\n",
    "        shutil.move('gffread-0.12.7.Linux_x86_64/gffread', 'gffread')\n",
    "    elif 'darwin' in sys.platform:\n",
    "        os.system('wget https://github.com/gpertea/gffread/releases/download/v0.12.7/gffread-0.12.7.OSX_x86_64.tar.gz')\n",
    "        os.system('tar -xvzf gffread-0.12.7.OSX_x86_64.tar.gz')\n",
    "        shutil.move('gffread-0.12.7.OSX_x86_64/gffread', 'gffread')\n",
    "    else:\n",
    "        print('SORRY: only Linux and MAC are supported, maybe you need to try manually installing gffread')\n",
    "\n",
    "if os.path.isfile('gffread'):\n",
    "    print('gffread is ready to be used')\n",
    "    try:\n",
    "        os.rmdir('gffread-*')\n",
    "    except FileNotFoundError:\n",
    "        pass"
   ]
  },
  {
   "cell_type": "markdown",
   "id": "da109a48",
   "metadata": {
    "slideshow": {
     "slide_type": "slide"
    }
   },
   "source": [
    "#### Before begining, let's test if pypgatk is working, you should see a help message that lists the existing commands"
   ]
  },
  {
   "cell_type": "code",
   "execution_count": 7,
   "id": "2fff0b92",
   "metadata": {
    "scrolled": false,
    "slideshow": {
     "slide_type": "subslide"
    }
   },
   "outputs": [
    {
     "name": "stdout",
     "output_type": "stream",
     "text": [
      "Determination of memory status is not supported on this \n",
      " platform, measuring for memoryleaks will never fail\n",
      "Usage: pypgatk_cli.py [OPTIONS] COMMAND [ARGS]...\n",
      "\n",
      "  This is the main tool that give access to all commands and options\n",
      "  provided by the pypgatk\n",
      "\n",
      "Options:\n",
      "  --version   Show the version and exit.\n",
      "  -h, --help  Show this message and exit.\n",
      "\n",
      "Commands:\n",
      "  cbioportal-downloader    Command to download the the cbioportal studies\n",
      "  cbioportal-to-proteindb  Command to translate cbioportal mutation data into\n",
      "                           proteindb\n",
      "  cosmic-downloader        Command to download the cosmic mutation database\n",
      "  cosmic-to-proteindb      Command to translate Cosmic mutation data into\n",
      "                           proteindb\n",
      "  dnaseq-to-proteindb      Generate peptides based on DNA sequences\n",
      "  ensembl-check            Command to check ensembl database for stop codons,\n",
      "                           gaps\n",
      "  ensembl-downloader       Command to download the ensembl information\n",
      "  generate-decoy           Create decoy protein sequences using multiple\n",
      "                           methods DecoyPYrat, Reverse/Shuffled Proteins.\n",
      "  generate-deeplc          Generate input for deepLC tool from idXML,mzTab or\n",
      "                           consensusXML\n",
      "  msrescore-configuration  Command to generate the msrescore configuration\n",
      "                           file from idXML\n",
      "  peptide-class-fdr        Command to compute the Peptide class FDR\n",
      "  threeframe-translation   Command to perform 3'frame translation\n",
      "  vcf-to-proteindb         Generate peptides based on DNA variants VCF files\n"
     ]
    }
   ],
   "source": [
    "!pypgatk_cli.py -h"
   ]
  },
  {
   "cell_type": "markdown",
   "id": "7064d93c",
   "metadata": {
    "slideshow": {
     "slide_type": "slide"
    }
   },
   "source": [
    "# Part 2: DNA to Protein\n",
    "\n",
    "In this part we will use the `dnaseq-to-proteindb` command to translate DNA sequences in fasta format to protein. We will also show how to convert a GTF obtained from a reference assembly or from a RNA-seq to DNA sequences and then protein sequence.\n",
    "\n",
    "## Download relevant files\n",
    "\n",
    "First we need to specify what files to download from the reference assembly. By default, `ensembl-downloader` downloads all files. The flags below can be used to ignore some files, e.g --skip_dna will skip downloading the reference DNA sequence, etc.\n",
    "\n",
    "* Note: versions prior to v0.0.20 don't have the feature to download the DNA reference assembly. IF you are using an older version you need to download the DNA fasta manually, uncomment the commands given below to perform this step."
   ]
  },
  {
   "cell_type": "markdown",
   "id": "1fcb9191",
   "metadata": {
    "slideshow": {
     "slide_type": "slide"
    }
   },
   "source": [
    "### Check the flags below to know what flags to use."
   ]
  },
  {
   "cell_type": "code",
   "execution_count": 7,
   "id": "15232464",
   "metadata": {
    "slideshow": {
     "slide_type": "subslide"
    }
   },
   "outputs": [
    {
     "name": "stdout",
     "output_type": "stream",
     "text": [
      "Determination of memory status is not supported on this \n",
      " platform, measuring for memoryleaks will never fail\n",
      "Usage: pypgatk_cli.py ensembl-downloader [OPTIONS]\n",
      "\n",
      "  This tool enables to download from enseml ftp the FASTA and GTF files\n",
      "\n",
      "Options:\n",
      "  -c, --config_file TEXT          Configuration file for the ensembl data\n",
      "                                  downloader pipeline\n",
      "  -o, --output_directory TEXT     Output directory for the peptide databases\n",
      "  -fp, --folder_prefix_release TEXT\n",
      "                                  Output folder prefix to download the data\n",
      "  -t, --taxonomy TEXT             Taxonomy identifiers (comma separated list\n",
      "                                  can be given) that will be use to download\n",
      "                                  the data from Ensembl\n",
      "  -l, --list_taxonomies           Print the list of all the taxonomies in\n",
      "                                  ENSEMBL (https://www.ensembl.org)\n",
      "  -sg, --skip_gtf                 Skip the GTF file during the download\n",
      "  -sp, --skip_protein             Skip the protein fasta file during download\n",
      "  -sc, --skip_cds                 Skip the CDS file download\n",
      "  -sdn, --skip_cdna               Skip the cDNA file download\n",
      "  -sn, --skip_ncrna               Skip the ncRNA file download\n",
      "  -sd, --skip_dna                 Skip the DNA (reference genome assembly)\n",
      "                                  file download\n",
      "  -sv, --skip_vcf                 Skip the VCF variant file\n",
      "  -en, --ensembl_name TEXT        Ensembl name code to download, it can be use\n",
      "                                  instead of taxonomy (e.g. homo_sapiens)\n",
      "  --grch37                        Download a previous version GRCh37 of\n",
      "                                  ensembl genomes\n",
      "  --url_file TEXT                 Add the url to a downloaded file\n",
      "  -h, --help                      Show this message and exit.\n"
     ]
    }
   ],
   "source": [
    "!pypgatk_cli.py ensembl-downloader -h"
   ]
  },
  {
   "cell_type": "markdown",
   "id": "cfe4e0d8",
   "metadata": {
    "slideshow": {
     "slide_type": "slide"
    }
   },
   "source": [
    "\n",
    "#### Get taxonomy ID for the species of interest\n",
    "However, as shown above we need to specify a taxonomy number in order to get files from a reference assembly for our species of interest. \n",
    "\n",
    "Can you find the taxonomy ID for homo sapiens using the following command?"
   ]
  },
  {
   "cell_type": "code",
   "execution_count": null,
   "id": "57c9a0ea",
   "metadata": {
    "slideshow": {
     "slide_type": "subslide"
    }
   },
   "outputs": [],
   "source": [
    "!pypgatk_cli.py ensembl-downloader -l -sv -sg -sp -sc -sd -sn "
   ]
  },
  {
   "cell_type": "markdown",
   "id": "9f6f0d19",
   "metadata": {
    "slideshow": {
     "slide_type": "slide"
    }
   },
   "source": [
    "Let's download reference files except VCF (variants) for `Meleagris_gallopavo.Turkey` (taxonomy id: 9103) into a folder named ensembl_files"
   ]
  },
  {
   "cell_type": "code",
   "execution_count": 22,
   "id": "a3e52896",
   "metadata": {
    "slideshow": {
     "slide_type": "subslide"
    }
   },
   "outputs": [
    {
     "name": "stdout",
     "output_type": "stream",
     "text": [
      "Determination of memory status is not supported on this \n",
      " platform, measuring for memoryleaks will never fail\n",
      "Downloading --  ftp://ftp.ensembl.org/pub/release-106/fasta/meleagris_gallopavo/pep/Meleagris_gallopavo.Turkey_5.1.pep.all.fa.gz\n",
      "DEBUG:pypgatk.toolbox.general:Files downloaded -- ensembl_files/Meleagris_gallopavo.Turkey_5.1.pep.all.fa,ensembl_files/Meleagris_gallopavo.Turkey_5.1.106.gtf,ensembl_files/Meleagris_gallopavo.Turkey_5.1.cds.all.fa,ensembl_files/Meleagris_gallopavo.Turkey_5.1.cdna.all.fa,ensembl_files/Meleagris_gallopavo.Turkey_5.1.ncrna.fa,ensembl_files/Meleagris_gallopavo.Turkey_5.1.dna_sm.toplevel.fa\n",
      "INFO:Main Pipeline Ensembl Downloader:Pipeline Finish !!!\n"
     ]
    }
   ],
   "source": [
    "!pypgatk_cli.py ensembl-downloader -t 9103 -o ensembl_files --skip_vcf"
   ]
  },
  {
   "cell_type": "markdown",
   "id": "3ae49c10",
   "metadata": {
    "slideshow": {
     "slide_type": "subslide"
    }
   },
   "source": [
    "Check the contents of the ensembl_files on your computer system, you should see the following files downloaded:"
   ]
  },
  {
   "cell_type": "code",
   "execution_count": 8,
   "id": "bd4bf472",
   "metadata": {
    "scrolled": true,
    "slideshow": {
     "slide_type": "subslide"
    }
   },
   "outputs": [
    {
     "data": {
      "text/plain": [
       "['Homo_sapiens.GRCh38.106.db',\n",
       " 'Meleagris_gallopavo.Turkey_5.1.106.gtf',\n",
       " 'Meleagris_gallopavo.Turkey_5.1.dna_sm.toplevel.fa',\n",
       " 'Meleagris_gallopavo.Turkey_5.1.pep.all.fa',\n",
       " 'Homo_sapiens.GRCh38.106.gtf',\n",
       " 'Homo_sapiens.GRCh38.cds.all.fa',\n",
       " 'Meleagris_gallopavo.Turkey_5.1.ncrna.fa',\n",
       " 'Meleagris_gallopavo.Turkey_5.1.cds.all.fa',\n",
       " 'Meleagris_gallopavo.Turkey_5.1.cdna.all.fa',\n",
       " 'Meleagris_gallopavo.Turkey_5.1.dna_sm.toplevel.fa.fai',\n",
       " 'Meleagris_gallopavo.Turkey_5.1.106.fa']"
      ]
     },
     "execution_count": 8,
     "metadata": {},
     "output_type": "execute_result"
    }
   ],
   "source": [
    "os.listdir('ensembl_files')"
   ]
  },
  {
   "cell_type": "markdown",
   "id": "4aa27dc7",
   "metadata": {
    "slideshow": {
     "slide_type": "slide"
    }
   },
   "source": [
    "#### Convert GTF (can be reference or custom from RNA-seq) to DNA sequences\n",
    "Although the cdna.fa and ncrna.fa files can be used as reference DNA, but we wull use  GTF since it provides more flexibility to select desired transcript types. Also, when running your own RNA-seq experiments you usually get a GTF file as a final output therefore it is better to learn how to translate transcripts starting from a GTF file.\n",
    "\n",
    "However, since the `dnaseq-to-proteindb` tool only accepts FASTA files as input, we first need to convert the GTF into FASTA using gffread that is a separate tool.\n"
   ]
  },
  {
   "cell_type": "code",
   "execution_count": 12,
   "id": "2254ac9b",
   "metadata": {
    "slideshow": {
     "slide_type": "subslide"
    }
   },
   "outputs": [
    {
     "name": "stdout",
     "output_type": "stream",
     "text": [
      "FASTA index file ensembl_files/Meleagris_gallopavo.Turkey_5.1.dna_sm.toplevel.fa.fai created.\r\n"
     ]
    }
   ],
   "source": [
    "!./gffread -F -w ensembl_files/Meleagris_gallopavo.Turkey_5.1.106.fa -g ensembl_files/Meleagris_gallopavo.Turkey_5.1.dna_sm.toplevel.fa ensembl_files/Meleagris_gallopavo.Turkey_5.1.106.gtf\n",
    "\n"
   ]
  },
  {
   "cell_type": "markdown",
   "id": "5f6ceddc",
   "metadata": {
    "slideshow": {
     "slide_type": "slide"
    }
   },
   "source": [
    "Now that we have the DNA fasta file ready to be used, let's take a look at the parameters that can be used:"
   ]
  },
  {
   "cell_type": "code",
   "execution_count": 12,
   "id": "0e23d677",
   "metadata": {
    "scrolled": true,
    "slideshow": {
     "slide_type": "subslide"
    }
   },
   "outputs": [
    {
     "name": "stdout",
     "output_type": "stream",
     "text": [
      "Determination of memory status is not supported on this \n",
      " platform, measuring for memoryleaks will never fail\n",
      "Usage: pypgatk_cli.py dnaseq-to-proteindb [OPTIONS]\n",
      "\n",
      "Options:\n",
      "  -c, --config_file TEXT          Configuration to perform conversion between\n",
      "                                  ENSEMBL Files\n",
      "  --input_fasta TEXT              Path to sequences fasta\n",
      "  --translation_table INTEGER     Translation Table (default 1)\n",
      "  --num_orfs INTEGER              Number of ORFs (default 3)\n",
      "  --num_orfs_complement INTEGER   Number of ORFs from the reverse side\n",
      "                                  (default 0)\n",
      "  --output_proteindb TEXT         Output file name, exits if already exists\n",
      "  -p, --var_prefix TEXT           String to add before the variant peptides\n",
      "  --skip_including_all_cds        By default any transcript that has a defined\n",
      "                                  CDS will be translated, this option disables\n",
      "                                  this features instead it only depends on the\n",
      "                                  biotypes\n",
      "  --include_biotypes TEXT         Include Biotypes\n",
      "  --exclude_biotypes TEXT         Exclude Biotypes\n",
      "  --biotype_str TEXT              String used to identify gene/transcript\n",
      "                                  biotype in the gtf file.\n",
      "  --transcript_description_sep TEXT\n",
      "                                  Separator used to separate features in the\n",
      "                                  fasta headers, usually either (space, / or\n",
      "                                  semicolon).\n",
      "  --expression_str TEXT           String to be used for extracting expression\n",
      "                                  value (TPM, FPKM, etc).\n",
      "  --expression_thresh FLOAT       Threshold used to filter transcripts based\n",
      "                                  on their expression values\n",
      "  -h, --help                      Show this message and exit.\n"
     ]
    }
   ],
   "source": [
    "!pypgatk_cli.py dnaseq-to-proteindb  -h"
   ]
  },
  {
   "cell_type": "markdown",
   "id": "3854d360",
   "metadata": {
    "slideshow": {
     "slide_type": "slide"
    }
   },
   "source": [
    "#### Generate a protein database from lncRNAs only\n",
    "*Use the include_biotypes flag to specify what kind of transcripts should be translated. See ensembl biotypes: http://www.ensembl.org/info/genome/genebuild/biotypes.html"
   ]
  },
  {
   "cell_type": "code",
   "execution_count": 10,
   "id": "71a84c4c",
   "metadata": {
    "scrolled": false,
    "slideshow": {
     "slide_type": "subslide"
    }
   },
   "outputs": [
    {
     "name": "stdout",
     "output_type": "stream",
     "text": [
      "Determination of memory status is not supported on this \n",
      " platform, measuring for memoryleaks will never fail\n",
      "Traceback (most recent call last):\n",
      "  File \"/Users/husen/opt/anaconda3/envs/pygatk/bin/pypgatk_cli.py\", line 7, in <module>\n",
      "    exec(compile(f.read(), __file__, 'exec'))\n",
      "  File \"/Users/husen/git/py-pgatk/pypgatk/pypgatk_cli.py\", line 56, in <module>\n",
      "    main()\n",
      "  File \"/Users/husen/git/py-pgatk/pypgatk/pypgatk_cli.py\", line 52, in main\n",
      "    cli()\n",
      "  File \"/Users/husen/opt/anaconda3/envs/pygatk/lib/python3.8/site-packages/click/core.py\", line 764, in __call__\n",
      "    return self.main(*args, **kwargs)\n",
      "  File \"/Users/husen/opt/anaconda3/envs/pygatk/lib/python3.8/site-packages/click/core.py\", line 717, in main\n",
      "    rv = self.invoke(ctx)\n",
      "  File \"/Users/husen/opt/anaconda3/envs/pygatk/lib/python3.8/site-packages/click/core.py\", line 1137, in invoke\n",
      "    return _process_result(sub_ctx.command.invoke(sub_ctx))\n",
      "  File \"/Users/husen/opt/anaconda3/envs/pygatk/lib/python3.8/site-packages/click/core.py\", line 956, in invoke\n",
      "    return ctx.invoke(self.callback, **ctx.params)\n",
      "  File \"/Users/husen/opt/anaconda3/envs/pygatk/lib/python3.8/site-packages/click/core.py\", line 555, in invoke\n",
      "    return callback(*args, **kwargs)\n",
      "  File \"/Users/husen/opt/anaconda3/envs/pygatk/lib/python3.8/site-packages/click/decorators.py\", line 17, in new_func\n",
      "    return f(get_current_context(), *args, **kwargs)\n",
      "  File \"/Users/husen/git/py-pgatk/pypgatk/commands/dnaseq_to_proteindb.py\", line 84, in dnaseq_to_proteindb\n",
      "    ensembl_data_service = EnsemblDataService(config_data, pipeline_arguments)\n",
      "  File \"/Users/husen/git/py-pgatk/pypgatk/ensembl/ensembl.py\", line 49, in __init__\n",
      "    self._proteindb_output = self.get_default_parameters()[self.CONFIG_KEY_DATA][self.PROTEIN_DB_OUTPUT]\n",
      "KeyError: 'ensembl_translation'\n",
      "\n",
      "Generated: dict_items([])\n"
     ]
    }
   ],
   "source": [
    "!pypgatk_cli.py dnaseq-to-proteindb --input_fasta ensembl_files/Meleagris_gallopavo.Turkey_5.1.106.fa --output_proteindb lncRNAs.fa --skip_including_all_cds --include_biotypes lncRNA\n",
    "print(\"\\nGenerated:\", Counter([x.split('_')[0] for x in list(SeqIO.index('lncRNAs.fa', \"fasta\").keys())]).items())\n"
   ]
  },
  {
   "cell_type": "markdown",
   "id": "a6ce9b58",
   "metadata": {
    "slideshow": {
     "slide_type": "slide"
    }
   },
   "source": [
    "#### Generate protein database from other non-coding RNAs"
   ]
  },
  {
   "cell_type": "code",
   "execution_count": 16,
   "id": "e63a90af",
   "metadata": {
    "slideshow": {
     "slide_type": "subslide"
    }
   },
   "outputs": [
    {
     "name": "stdout",
     "output_type": "stream",
     "text": [
      "Determination of memory status is not supported on this \n",
      " platform, measuring for memoryleaks will never fail\n",
      "/Users/husen/opt/anaconda3/envs/pygatk/lib/python3.8/site-packages/Bio/Seq.py:2606: BiopythonWarning: Partial codon, len(sequence) not a multiple of three. Explicitly trim the sequence or add trailing N before translation. This may become an error in future.\n",
      "  warnings.warn(\"Partial codon, len(sequence) not a multiple of three. \"\n"
     ]
    }
   ],
   "source": [
    "!pypgatk_cli.py dnaseq-to-proteindb --config_file config/ensembl_config.yaml --input_fasta ensembl_files/Meleagris_gallopavo.Turkey_5.1.106.fa --output_proteindb ncRNAs.fa --skip_including_all_cds --var_prefix ncRNA_ --include_biotypes miRNA,miscRNA,piRNA,rRNA,siRNA,snRNA,snoRNA,tRNA,vaultRNA\n"
   ]
  },
  {
   "cell_type": "code",
   "execution_count": 17,
   "id": "159217e4",
   "metadata": {
    "slideshow": {
     "slide_type": "subslide"
    }
   },
   "outputs": [
    {
     "name": "stdout",
     "output_type": "stream",
     "text": [
      "\n",
      "Generated: dict_items([('ncRNA', 1500)])\n"
     ]
    }
   ],
   "source": [
    "print(\"\\nGenerated:\", Counter([x.split('_')[0] for x in list(SeqIO.index('ncRNAs.fa', \"fasta\").keys())]).items())\n"
   ]
  },
  {
   "cell_type": "markdown",
   "id": "56d4bf8c",
   "metadata": {
    "slideshow": {
     "slide_type": "slide"
    }
   },
   "source": [
    "#### Generate protein database from alternative reading frames of coding sequences"
   ]
  },
  {
   "cell_type": "code",
   "execution_count": 18,
   "id": "228362a6",
   "metadata": {
    "slideshow": {
     "slide_type": "subslide"
    }
   },
   "outputs": [
    {
     "name": "stdout",
     "output_type": "stream",
     "text": [
      "Determination of memory status is not supported on this \r\n",
      " platform, measuring for memoryleaks will never fail\r\n"
     ]
    }
   ],
   "source": [
    "!pypgatk_cli.py dnaseq-to-proteindb --config_file config/ensembl_config.yaml --input_fasta ensembl_files/Meleagris_gallopavo.Turkey_5.1.106.fa --output_proteindb altORFs.fa --skip_including_all_cds --var_prefix altORF_ --include_biotypes altORFs\n"
   ]
  },
  {
   "cell_type": "code",
   "execution_count": 19,
   "id": "2c65cbaa",
   "metadata": {
    "slideshow": {
     "slide_type": "subslide"
    }
   },
   "outputs": [
    {
     "name": "stdout",
     "output_type": "stream",
     "text": [
      "\n",
      "Generated: dict_items([])\n"
     ]
    }
   ],
   "source": [
    "print(\"\\nGenerated:\", Counter([x.split('_')[0] for x in list(SeqIO.index('altORFs.fa', \"fasta\").keys())]).items())\n"
   ]
  },
  {
   "cell_type": "markdown",
   "id": "88a8f5f6",
   "metadata": {
    "slideshow": {
     "slide_type": "slide"
    }
   },
   "source": [
    "#### Generate a protein database from pseudogenes? "
   ]
  },
  {
   "cell_type": "code",
   "execution_count": 20,
   "id": "069f0fd3",
   "metadata": {
    "slideshow": {
     "slide_type": "subslide"
    }
   },
   "outputs": [
    {
     "name": "stdout",
     "output_type": "stream",
     "text": [
      "Determination of memory status is not supported on this \n",
      " platform, measuring for memoryleaks will never fail\n",
      "/Users/husen/opt/anaconda3/envs/pygatk/lib/python3.8/site-packages/Bio/Seq.py:2606: BiopythonWarning: Partial codon, len(sequence) not a multiple of three. Explicitly trim the sequence or add trailing N before translation. This may become an error in future.\n",
      "  warnings.warn(\"Partial codon, len(sequence) not a multiple of three. \"\n"
     ]
    }
   ],
   "source": [
    "#write your code here\n",
    "!pypgatk_cli.py dnaseq-to-proteindb --config_file config/ensembl_config.yaml --input_fasta ensembl_files/Meleagris_gallopavo.Turkey_5.1.106.fa --output_proteindb pesuedogenes.fa --skip_including_all_cds --var_prefix pesuedogene_ --include_biotypes pseudogene,processed_pseudogene\n"
   ]
  },
  {
   "cell_type": "code",
   "execution_count": 21,
   "id": "8c46a69d",
   "metadata": {
    "slideshow": {
     "slide_type": "subslide"
    }
   },
   "outputs": [
    {
     "name": "stdout",
     "output_type": "stream",
     "text": [
      "\n",
      "Generated: dict_items([('pesuedogene', 477)])\n"
     ]
    }
   ],
   "source": [
    "print(\"\\nGenerated:\", Counter([x.split('_')[0] for x in list(SeqIO.index('pesuedogenes.fa', \"fasta\").keys())]).items())\n"
   ]
  },
  {
   "cell_type": "markdown",
   "id": "abe14dba",
   "metadata": {
    "slideshow": {
     "slide_type": "slide"
    }
   },
   "source": [
    "### Concatenate the generated protein databases with reference proteome"
   ]
  },
  {
   "cell_type": "code",
   "execution_count": 22,
   "id": "590ff8aa",
   "metadata": {
    "slideshow": {
     "slide_type": "subslide"
    }
   },
   "outputs": [
    {
     "data": {
      "text/plain": [
       "dict_items([('lncRNA', 5109), ('pesuedogene', 477), ('ncRNA', 1500), ('Can', 28295)])"
      ]
     },
     "execution_count": 22,
     "metadata": {},
     "output_type": "execute_result"
    }
   ],
   "source": [
    "!cat lncRNAs.fa pesuedogenes.fa ncRNAs.fa altORFs.fa ensembl_files/Meleagris_gallopavo.Turkey_5.1.pep.all.fa > proteins.fa\n",
    "\n",
    "Counter([x.replace('ENS','Can_ENS').split('_')[0] for x in list(SeqIO.index('proteins.fa', \"fasta\").keys())]).items()\n"
   ]
  },
  {
   "cell_type": "markdown",
   "id": "7aa09bc8",
   "metadata": {
    "slideshow": {
     "slide_type": "slide"
    }
   },
   "source": [
    "#### Perform six-frame translation on DNA seqyence"
   ]
  },
  {
   "cell_type": "code",
   "execution_count": 23,
   "id": "b204e3b4",
   "metadata": {
    "slideshow": {
     "slide_type": "subslide"
    }
   },
   "outputs": [
    {
     "name": "stdout",
     "output_type": "stream",
     "text": [
      "Determination of memory status is not supported on this \n",
      " platform, measuring for memoryleaks will never fail\n",
      "/Users/husen/opt/anaconda3/envs/pygatk/lib/python3.8/site-packages/Bio/Seq.py:2606: BiopythonWarning: Partial codon, len(sequence) not a multiple of three. Explicitly trim the sequence or add trailing N before translation. This may become an error in future.\n",
      "  warnings.warn(\"Partial codon, len(sequence) not a multiple of three. \"\n"
     ]
    }
   ],
   "source": [
    "!pypgatk_cli.py dnaseq-to-proteindb --config_file config/ensembl_config.yaml --skip_including_all_cds --input_fasta ensembl_files/Meleagris_gallopavo.Turkey_5.1.106.fa --output_proteindb sixframes.fa --var_prefix sixframe_  --num_orfs 3 --num_orfs_complement 3 --include_biotypes all\n"
   ]
  },
  {
   "cell_type": "code",
   "execution_count": 24,
   "id": "e8df5f85",
   "metadata": {
    "slideshow": {
     "slide_type": "subslide"
    }
   },
   "outputs": [
    {
     "name": "stdout",
     "output_type": "stream",
     "text": [
      "\n",
      "Generated: dict_items([('sixframe', 184248)])\n"
     ]
    }
   ],
   "source": [
    "print(\"\\nGenerated:\", Counter([x.split('_')[0] for x in list(SeqIO.index('sixframes.fa', \"fasta\").keys())]).items())\n"
   ]
  },
  {
   "cell_type": "code",
   "execution_count": 25,
   "id": "8c5a1f32",
   "metadata": {
    "slideshow": {
     "slide_type": "slide"
    }
   },
   "outputs": [],
   "source": [
    "#function to digest proteins\n",
    "\n",
    "def trypsin_digestion(proseq_incl_stop, miss_cleavage=0):\n",
    "    \"digest peptides using the tryptic rule, allowing for miss cleavages\"\n",
    "    all_peptides = []\n",
    "    for protseq in proseq_incl_stop.split('*'):\n",
    "        if len(protseq)<=0:\n",
    "            continue\n",
    "        peptides = []\n",
    "        peptide = ''\n",
    "        \"remove the first K/R if in the begining of a reading frame\"\n",
    "        protseq_updated = protseq[0::]\n",
    "        if protseq[0]=='K' or protseq[0]=='R' and len(protseq)>1:\n",
    "            protseq_updated = protseq[1::]\n",
    "\n",
    "        for c, aa in enumerate(protseq_updated):\n",
    "            peptide += aa\n",
    "            next_aa = ''\n",
    "            try:\n",
    "                next_aa = protseq_updated[c + 1]\n",
    "            except IndexError:\n",
    "                pass\n",
    "\n",
    "            if aa in ['K', 'R'] and next_aa != 'P':  # for trypsin peptides\n",
    "                if len(peptide) > 0:\n",
    "                    peptides.append(peptide)\n",
    "                peptide = ''\n",
    "                continue\n",
    "\n",
    "        if len(peptide) > 0:\n",
    "            peptides.append(peptide)\n",
    "\n",
    "        peptides_with_miss_cleavage = []\n",
    "        for i in range(1, miss_cleavage + 1):\n",
    "            for j, pep in enumerate(peptides):\n",
    "                if j + i < len(peptides):\n",
    "                    peptide = ''.join([x for x in (peptides[j:j + i + 1])])\n",
    "                    peptides_with_miss_cleavage.append(peptide)\n",
    "\n",
    "        peptides.extend(peptides_with_miss_cleavage)\n",
    "        all_peptides.extend(peptides)\n",
    "\n",
    "    return all_peptides"
   ]
  },
  {
   "cell_type": "markdown",
   "id": "300c2798",
   "metadata": {
    "slideshow": {
     "slide_type": "slide"
    }
   },
   "source": [
    "#### Investigate the overlap between tryptic peptides from various categories!"
   ]
  },
  {
   "cell_type": "code",
   "execution_count": 26,
   "id": "d702f439",
   "metadata": {
    "slideshow": {
     "slide_type": "subslide"
    }
   },
   "outputs": [
    {
     "name": "stdout",
     "output_type": "stream",
     "text": [
      "Number of tryptic peptides per type:\n",
      " lncRNA = 170307\n",
      "pesuedogene = 32431\n",
      "ncRNA = 4565\n",
      "Can = 525753\n"
     ]
    }
   ],
   "source": [
    "#Specify protein files to use\n",
    "prot_files = ['proteins.fa']#, 'sixframes.fa']\n",
    "\n",
    "proteins = {}\n",
    "for prot_file in prot_files:\n",
    "    for record in SeqIO.parse(prot_file, 'fasta'):\n",
    "        prot_type = str(record.id).replace('ENS', 'Can_ENS').split('_')[0]\n",
    "        try:\n",
    "            proteins[prot_type].extend(trypsin_digestion(str(record.seq)))\n",
    "        except KeyError:\n",
    "            proteins[prot_type] = trypsin_digestion(str(record.seq))\n",
    "\n",
    "#unify\n",
    "for prot_type in proteins.keys():\n",
    "    proteins[prot_type] = set(proteins[prot_type])\n",
    "\n",
    "print('Number of tryptic peptides per type:\\n', '\\n'.join([k+' = '+str(len(items)) for k,items in proteins.items()]))"
   ]
  },
  {
   "cell_type": "code",
   "execution_count": 27,
   "id": "1d9241bd",
   "metadata": {
    "scrolled": true,
    "slideshow": {
     "slide_type": "subslide"
    }
   },
   "outputs": [
    {
     "data": {
      "image/png": "[encoded data removed]",
      "text/plain": [
       "<Figure size 1440x720 with 3 Axes>"
      ]
     },
     "metadata": {
      "needs_background": "light"
     },
     "output_type": "display_data"
    }
   ],
   "source": [
    "###Optional\n",
    "#make a supervenn to plot the overlaps (takes some time)\n",
    "try:\n",
    "    from supervenn import supervenn\n",
    "except ModuleNotFoundError:\n",
    "    !pip install supervenn #does not work for some reason it looks at the base env for this package (print(sys.executable) )\n",
    "    from supervenn import supervenn\n",
    "\n",
    "labels = list(proteins.keys())\n",
    "sets = [proteins[x] for x in proteins.keys()]\n",
    "\n",
    "plt.figure(figsize=(20, 10))\n",
    "supervenn(sets, labels, min_width_for_annotation=10000, rotate_col_annotations=True, \n",
    "          side_plots='right', chunks_ordering='occurrence', alternating_background= False)\n",
    "plt.grid(False)\n",
    "plt.savefig('baroverlap.svg')"
   ]
  },
  {
   "cell_type": "markdown",
   "id": "52842789",
   "metadata": {
    "slideshow": {
     "slide_type": "subslide"
    }
   },
   "source": [
    "#### Can you also show peptides from the six-frame translation? can you speculate how they would look like?"
   ]
  },
  {
   "cell_type": "markdown",
   "id": "2be6514f",
   "metadata": {
    "slideshow": {
     "slide_type": "slide"
    }
   },
   "source": [
    "# Part 3: DNA Variants to Proteins\n",
    "\n",
    "\n",
    "In this part we will use the `vcf-to-proteindb` command to translate mutations in VCF format to proteins. The output of genome/exome sequencing is usually a VCF file that includes the list of identified mutations.\n",
    "\n",
    "\n",
    "## Download relevant files\n",
    "\n",
    "Lets download a `VCF` file from `ENSEMBL` containing all `SNP`s from homo sapiens, to minimize computational time we only download SNPs identified in `chrY`. \n",
    "\n",
    "The idea is to learn how to convert a `VCF` file and you can replace this `VCF` with any standard `VCF` file that is generated from WGS/WES. "
   ]
  },
  {
   "cell_type": "code",
   "execution_count": 28,
   "id": "3cf26272",
   "metadata": {
    "slideshow": {
     "slide_type": "subslide"
    }
   },
   "outputs": [
    {
     "name": "stdout",
     "output_type": "stream",
     "text": [
      "--2022-06-09 10:49:30--  http://ftp.ensembl.org/pub/release-106/variation/vcf/homo_sapiens/homo_sapiens_incl_consequences-chrY.vcf.gz\n",
      "Resolving ftp.ensembl.org (ftp.ensembl.org)... 193.62.193.139\n",
      "Connecting to ftp.ensembl.org (ftp.ensembl.org)|193.62.193.139|:80... connected.\n",
      "HTTP request sent, awaiting response... 200 OK\n",
      "Length: 31480732 (30M) [application/x-gzip]\n",
      "Saving to: ‘homo_sapiens_incl_consequences-chrY.vcf.gz’\n",
      "\n",
      "homo_sapiens_incl_c 100%[===================>]  30,02M  3,95MB/s    in 8,2s    \n",
      "\n",
      "2022-06-09 10:49:38 (3,65 MB/s) - ‘homo_sapiens_incl_consequences-chrY.vcf.gz’ saved [31480732/31480732]\n",
      "\n"
     ]
    }
   ],
   "source": [
    "!wget http://ftp.ensembl.org/pub/release-106/variation/vcf/homo_sapiens/homo_sapiens_incl_consequences-chrY.vcf.gz\n",
    "!gunzip homo_sapiens_incl_consequences-chrY.vcf.gz"
   ]
  },
  {
   "cell_type": "markdown",
   "id": "1d25dfd4",
   "metadata": {
    "slideshow": {
     "slide_type": "subslide"
    }
   },
   "source": [
    "Also, we need to download transcript structures and sequences for homo sapiens, run the following to download `GTF` and `cdna` files"
   ]
  },
  {
   "cell_type": "code",
   "execution_count": 29,
   "id": "2b3e34f4",
   "metadata": {
    "slideshow": {
     "slide_type": "subslide"
    }
   },
   "outputs": [
    {
     "name": "stdout",
     "output_type": "stream",
     "text": [
      "Determination of memory status is not supported on this \n",
      " platform, measuring for memoryleaks will never fail\n",
      "DEBUG:pypgatk.toolbox.general:Files downloaded -- ensembl_files/Homo_sapiens.GRCh38.106.gtf,ensembl_files/Homo_sapiens.GRCh38.cds.all.fa\n",
      "INFO:Main Pipeline Ensembl Downloader:Pipeline Finish !!!\n"
     ]
    }
   ],
   "source": [
    "!pypgatk_cli.py ensembl-downloader -c config/ensembl_downloader_config.yaml -t 9606 -o ensembl_files --skip_vcf --skip_protein --skip_ncrna --skip_dna --skip_cdna\n"
   ]
  },
  {
   "cell_type": "markdown",
   "id": "08d760e8",
   "metadata": {
    "slideshow": {
     "slide_type": "slide"
    }
   },
   "source": [
    "#### Check the flags that can be used for a VCF file"
   ]
  },
  {
   "cell_type": "code",
   "execution_count": 30,
   "id": "4b78830f",
   "metadata": {
    "slideshow": {
     "slide_type": "subslide"
    }
   },
   "outputs": [
    {
     "name": "stdout",
     "output_type": "stream",
     "text": [
      "Determination of memory status is not supported on this \n",
      " platform, measuring for memoryleaks will never fail\n",
      "Usage: pypgatk_cli.py vcf-to-proteindb [OPTIONS]\n",
      "\n",
      "Options:\n",
      "  -c, --config_file TEXT          Configuration to perform conversion between\n",
      "                                  ENSEMBL Files\n",
      "  -f, --input_fasta TEXT          Path to the transcript sequence\n",
      "  -v, --vcf TEXT                  Path to the VCF file\n",
      "  -g, --gene_annotations_gtf TEXT\n",
      "                                  Path to the gene annotations file\n",
      "  -t, --translation_table INTEGER\n",
      "                                  Translation table (Default 1)\n",
      "  -m, --mito_translation_table INTEGER\n",
      "                                  Mito_trans_table (default 2)\n",
      "  -p, --var_prefix TEXT           String to add before the variant peptides\n",
      "  --report_ref_seq                In addition to var peps, also report all ref\n",
      "                                  peps\n",
      "  -o, --output_proteindb TEXT     Output file name, exits if already exists\n",
      "  --annotation_field_name TEXT    Annotation field name found in the INFO\n",
      "                                  column,\n",
      "                                  e.g CSQ or vep; if empty it will\n",
      "                                  identify overlapping transcripts\n",
      "                                  from the\n",
      "                                  given GTF file and no aa consequence will be\n",
      "                                  considered\n",
      "  --af_field TEXT                 field name in the VCF INFO column to use for\n",
      "                                  filtering on AF, (Default None)\n",
      "  --af_threshold FLOAT            Minium AF threshold for considering common\n",
      "                                  variants\n",
      "  --transcript_str TEXT           String that is used for transcript ID in the\n",
      "                                  VCF header INFO field\n",
      "  --biotype_str TEXT              String that is used for biotype in the VCF\n",
      "                                  header INFO field\n",
      "  --exclude_biotypes TEXT         Excluded Biotypes  [default: ]\n",
      "  --include_biotypes TEXT         included_biotypes, default all\n",
      "  --consequence_str TEXT          String that is used for consequence in the\n",
      "                                  VCF header INFO field\n",
      "  --exclude_consequences TEXT     Excluded Consequences  [default:\n",
      "                                  downstream_gene_variant,\n",
      "                                  upstream_gene_variant, intergenic_variant,\n",
      "                                  intron_variant, synonymous_variant]\n",
      "  -s, --skip_including_all_cds    by default any transcript that has a defined\n",
      "                                  CDS will be used, this option disables this\n",
      "                                  features instead\n",
      "  --include_consequences TEXT     included_consequences, default all\n",
      "  --ignore_filters                enabling this option causes or variants to\n",
      "                                  be parsed. By default only variants that\n",
      "                                  have not failed any filters will be\n",
      "                                  processed (FILTER column is PASS, None, .)\n",
      "                                  or if the filters are subset of the accepted\n",
      "                                  filters. (default is False)\n",
      "  --accepted_filters TEXT         Accepted filters for variant parsing\n",
      "  -h, --help                      Show this message and exit.\n"
     ]
    }
   ],
   "source": [
    "!pypgatk_cli.py vcf-to-proteindb -h"
   ]
  },
  {
   "cell_type": "markdown",
   "id": "36ff542f",
   "metadata": {
    "slideshow": {
     "slide_type": "slide"
    }
   },
   "source": [
    "#### Convert the variants to protein sequences\n",
    "\n",
    "\n",
    "The first time you run the command, it takes a bit long because it converts the `GTF` file to an `sqlite` database"
   ]
  },
  {
   "cell_type": "code",
   "execution_count": 31,
   "id": "3863cf00",
   "metadata": {
    "scrolled": true,
    "slideshow": {
     "slide_type": "subslide"
    }
   },
   "outputs": [
    {
     "name": "stdout",
     "output_type": "stream",
     "text": [
      "Determination of memory status is not supported on this \n",
      " platform, measuring for memoryleaks will never fail\n",
      "2022-06-09 10:59:53,905 - INFO - Committing changes: 3279000 features\n",
      "2022-06-09 10:59:55,943 - INFO - Populating features table and first-order relations: 3279404 features\n",
      "2022-06-09 10:59:55,946 - INFO - Creating relations(parent) index\n",
      "2022-06-09 11:00:07,480 - INFO - Creating relations(child) index\n",
      "2022-06-09 11:00:18,876 - INFO - Creating features(featuretype) index\n",
      "2022-06-09 11:00:36,776 - INFO - Creating features (seqid, start, end) index\n",
      "2022-06-09 11:00:57,518 - INFO - Creating features (seqid, start, end, strand) index\n",
      "2022-06-09 11:01:18,656 - INFO - Running ANALYZE features\n",
      "/Users/husen/opt/anaconda3/envs/pygatk/lib/python3.8/site-packages/Bio/Seq.py:2606: BiopythonWarning: Partial codon, len(sequence) not a multiple of three. Explicitly trim the sequence or add trailing N before translation. This may become an error in future.\n",
      "  warnings.warn(\"Partial codon, len(sequence) not a multiple of three. \"\n",
      "Translation summary:\n",
      " # variants with invalid record:3430\n",
      "# variants not passing Filter:0\n",
      "# variants not passing AF threshold:0\n",
      "# feature IDs from VCF that are not found in the given FASTA file:1153573\n",
      "# variants successfully translated:4485\n",
      "Generated dict_items([('var', 28353)]) variant proteins from 4479 variants\n"
     ]
    }
   ],
   "source": [
    "!pypgatk_cli.py vcf-to-proteindb -c config/ensembl_config.yaml --input_fasta ensembl_files/Homo_sapiens.GRCh38.cds.all.fa --vcf homo_sapiens_incl_consequences-chrY.vcf --gene_annotations_gtf ensembl_files/Homo_sapiens.GRCh38.106.gtf --output_proteindb chrY_protein_variants.fa\n",
    "\n",
    "print('Generated {} variant proteins from {} variants'.format(\n",
    "    Counter([x.split('_')[0] for x in list(SeqIO.index('chrY_protein_variants.fa', \"fasta\").keys())]).items(),\n",
    "    len(set(['_'.join(x.split('_')[0:3]) for x in SeqIO.index('chrY_protein_variants.fa', \"fasta\").keys()]))))\n"
   ]
  },
  {
   "cell_type": "markdown",
   "id": "1abb6452",
   "metadata": {
    "slideshow": {
     "slide_type": "subslide"
    }
   },
   "source": [
    "#### Filter variants by allele frequency and consequence \n",
    "\n",
    "Depending on the VCF file, you may also need to specify which field name indicates allele frequency using the `--af_field` parameter.\n",
    "\n",
    "Below, we only variants that are common in the population (MAF>=0.01)."
   ]
  },
  {
   "cell_type": "code",
   "execution_count": 32,
   "id": "b42b1707",
   "metadata": {
    "slideshow": {
     "slide_type": "subslide"
    }
   },
   "outputs": [
    {
     "name": "stdout",
     "output_type": "stream",
     "text": [
      "Determination of memory status is not supported on this \n",
      " platform, measuring for memoryleaks will never fail\n",
      "Database already exists: table features already exists ensembl_files/Homo_sapiens.GRCh38.106.db\n",
      "/Users/husen/opt/anaconda3/envs/pygatk/lib/python3.8/site-packages/Bio/Seq.py:2606: BiopythonWarning: Partial codon, len(sequence) not a multiple of three. Explicitly trim the sequence or add trailing N before translation. This may become an error in future.\n",
      "  warnings.warn(\"Partial codon, len(sequence) not a multiple of three. \"\n",
      "Translation summary:\n",
      " # variants with invalid record:1503251\n",
      "# variants not passing Filter:0\n",
      "# variants not passing AF threshold:132214\n",
      "# feature IDs from VCF that are not found in the given FASTA file:28860\n",
      "# variants successfully translated:15\n",
      "Generated dict_items([('var', 66)]) variant proteins from 17 variants\n"
     ]
    }
   ],
   "source": [
    "!pypgatk_cli.py vcf-to-proteindb -c config/ensembl_config.yaml --input_fasta ensembl_files/Homo_sapiens.GRCh38.cds.all.fa --vcf homo_sapiens_incl_consequences-chrY.vcf --gene_annotations_gtf ensembl_files/Homo_sapiens.GRCh38.106.gtf --output_proteindb chrY_protein_variants_VAF05.fa --af_field 'MAF' --af_threshold 0.01\n",
    "\n",
    "print('Generated {} variant proteins from {} variants'.format(\n",
    "    Counter([x.split('_')[0] for x in list(SeqIO.index('chrY_protein_variants_VAF05.fa', \"fasta\").keys())]).items(),\n",
    "    len(set(['_'.join(x.split('_')[0:3]) for x in SeqIO.index('chrY_protein_variants_VAF05.fa', \"fasta\").keys()]))))\n"
   ]
  },
  {
   "cell_type": "markdown",
   "id": "5893e2a3",
   "metadata": {
    "slideshow": {
     "slide_type": "subslide"
    }
   },
   "source": [
    "Filter by consequence, only translate frameshift variants"
   ]
  },
  {
   "cell_type": "code",
   "execution_count": 33,
   "id": "ddc9a335",
   "metadata": {
    "slideshow": {
     "slide_type": "subslide"
    }
   },
   "outputs": [
    {
     "name": "stdout",
     "output_type": "stream",
     "text": [
      "Determination of memory status is not supported on this \n",
      " platform, measuring for memoryleaks will never fail\n",
      "Database already exists: table features already exists ensembl_files/Homo_sapiens.GRCh38.106.db\n",
      "/Users/husen/opt/anaconda3/envs/pygatk/lib/python3.8/site-packages/Bio/Seq.py:2606: BiopythonWarning: Partial codon, len(sequence) not a multiple of three. Explicitly trim the sequence or add trailing N before translation. This may become an error in future.\n",
      "  warnings.warn(\"Partial codon, len(sequence) not a multiple of three. \"\n",
      "Translation summary:\n",
      " # variants with invalid record:3430\n",
      "# variants not passing Filter:0\n",
      "# variants not passing AF threshold:0\n",
      "# feature IDs from VCF that are not found in the given FASTA file:1153573\n",
      "# variants successfully translated:2698\n",
      "Generated dict_items([('var', 21418)]) variant proteins from 2736 variants\n"
     ]
    }
   ],
   "source": [
    "!pypgatk_cli.py vcf-to-proteindb -c config/ensembl_config.yaml --input_fasta ensembl_files/Homo_sapiens.GRCh38.cds.all.fa --vcf homo_sapiens_incl_consequences-chrY.vcf --gene_annotations_gtf ensembl_files/Homo_sapiens.GRCh38.106.gtf --output_proteindb chrY_protein_variants_framshift.fa --include_consequences 'frameshift_variant,missense_variant'\n",
    "\n",
    "print('Generated {} variant proteins from {} variants'.format(\n",
    "    Counter([x.split('_')[0] for x in list(SeqIO.index('chrY_protein_variants_framshift.fa', \"fasta\").keys())]).items(),\n",
    "    len(set(['_'.join(x.split('_')[0:3]) for x in SeqIO.index('chrY_protein_variants_framshift.fa', \"fasta\").keys()]))))\n"
   ]
  },
  {
   "cell_type": "markdown",
   "id": "0fb8a422",
   "metadata": {
    "slideshow": {
     "slide_type": "subslide"
    }
   },
   "source": [
    "### * Note on translating patient sequencing data\n",
    "The same command as above can be applied to generate a protein database per patient.\n",
    "\n",
    "Provide path of the VCF file that you obtain from `WGS`/`WES`. \n",
    "\n",
    "If you also have `RNA-seq` from the same patient, you can convert the `GTF` file to `fasta` using the gffread command shown in the second part of this notebook. This enables translation of expressed transcripts only.\n",
    "\n",
    "For cases where no `RNA-seq` is perfromed, you can still give the refernce GTF file and the canonical transcripts will be used to generate mutated/variant proteins"
   ]
  },
  {
   "cell_type": "markdown",
   "id": "61404e7e",
   "metadata": {
    "slideshow": {
     "slide_type": "slide"
    }
   },
   "source": [
    "# Part 4a: Mutations to Proteins (cBioPortal)\n",
    "\n",
    "\n",
    "In this part we will use the `cbioportal-downloader` and `cbioportal-to-proteindb` command to translate mutations from cancer studies in cBioPortal (https://www.cbioportal.org/).\n",
    "\n",
    "\n",
    "First we need to specify what study to download from cBioPortal (see -l flag): \n",
    "\n",
    "\n",
    "\n",
    "Check the flags below to know what flags to use."
   ]
  },
  {
   "cell_type": "code",
   "execution_count": 34,
   "id": "3c3eddfc",
   "metadata": {
    "slideshow": {
     "slide_type": "subslide"
    }
   },
   "outputs": [
    {
     "name": "stdout",
     "output_type": "stream",
     "text": [
      "Determination of memory status is not supported on this \n",
      " platform, measuring for memoryleaks will never fail\n",
      "Usage: pypgatk_cli.py cbioportal-downloader [OPTIONS]\n",
      "\n",
      "Options:\n",
      "  -c, --config_file TEXT       Configuration file for the ensembl data\n",
      "                               downloader pipeline\n",
      "  -o, --output_directory TEXT  Output directory for the peptide databases\n",
      "  -l, --list_studies           Print the list of all the studies in cBioPortal\n",
      "                               (https://www.cbioportal.org)\n",
      "  -d, --download_study TEXT    Download a specific Study from cBioPortal --\n",
      "                               (all to download all studies)\n",
      "  -th, --multithreading        Enable multithreading to download multiple\n",
      "                               files ad the same time\n",
      "  -h, --help                   Show this message and exit.\n"
     ]
    }
   ],
   "source": [
    "!pypgatk_cli.py cbioportal-downloader -h"
   ]
  },
  {
   "cell_type": "markdown",
   "id": "572f26ec",
   "metadata": {
    "slideshow": {
     "slide_type": "subslide"
    }
   },
   "source": [
    "#### Download data for study ID blca_mskcc_solit_2014\n",
    "\n",
    "In addition to the files from cBioPortal we also need to download coding sequences from GRCh37, the matching genome assemblies."
   ]
  },
  {
   "cell_type": "code",
   "execution_count": 35,
   "id": "c700b496",
   "metadata": {
    "slideshow": {
     "slide_type": "subslide"
    }
   },
   "outputs": [
    {
     "name": "stdout",
     "output_type": "stream",
     "text": [
      "Determination of memory status is not supported on this \n",
      " platform, measuring for memoryleaks will never fail\n",
      "DEBUG:pypgatk.toolbox.general:The following study 'blca_mskcc_solit_2014' has been downloaded. \n",
      "x blca_mskcc_solit_2014/\n",
      "x blca_mskcc_solit_2014/meta_mutations.txt\n",
      "x blca_mskcc_solit_2014/data_log2_cna.txt\n",
      "x blca_mskcc_solit_2014/Readme.txt\n",
      "x blca_mskcc_solit_2014/meta_clinical_sample.txt\n",
      "x blca_mskcc_solit_2014/data_cna.txt\n",
      "x blca_mskcc_solit_2014/case_lists/\n",
      "x blca_mskcc_solit_2014/case_lists/cases_sequenced.txt\n",
      "x blca_mskcc_solit_2014/case_lists/cases_all.txt\n",
      "x blca_mskcc_solit_2014/case_lists/cases_cnaseq.txt\n",
      "x blca_mskcc_solit_2014/case_lists/cases_log2CNA.txt\n",
      "x blca_mskcc_solit_2014/case_lists/cases_cna.txt\n",
      "x blca_mskcc_solit_2014/data_clinical_patient.txt\n",
      "x blca_mskcc_solit_2014/data_clinical_sample.txt\n",
      "x blca_mskcc_solit_2014/meta_cna.txt\n",
      "x blca_mskcc_solit_2014/data_cna_hg19.seg\n",
      "x blca_mskcc_solit_2014/data_gene_panel_matrix.txt\n",
      "x blca_mskcc_solit_2014/meta_clinical_patient.txt\n",
      "x blca_mskcc_solit_2014/meta_study.txt\n",
      "x blca_mskcc_solit_2014/LICENSE\n",
      "x blca_mskcc_solit_2014/data_mutations.txt\n",
      "x blca_mskcc_solit_2014/meta_gene_panel_matrix.txt\n",
      "x blca_mskcc_solit_2014/meta_cna_hg19_seg.txt\n",
      "x blca_mskcc_solit_2014/meta_log2_cna.txt\n",
      "--2022-06-09 12:15:50--  ftp://ftp.ensembl.org/pub/release-75/fasta/homo_sapiens/cds/Homo_sapiens.GRCh37.75.cds.all.fa.gz\n",
      "           => ‘Homo_sapiens.GRCh37.75.cds.all.fa.gz’\n",
      "Resolving ftp.ensembl.org (ftp.ensembl.org)... 193.62.193.139\n",
      "Connecting to ftp.ensembl.org (ftp.ensembl.org)|193.62.193.139|:21... connected.\n",
      "Logging in as anonymous ... Logged in!\n",
      "==> SYST ... done.    ==> PWD ... done.\n",
      "==> TYPE I ... done.  ==> CWD (1) /pub/release-75/fasta/homo_sapiens/cds ... done.\n",
      "==> SIZE Homo_sapiens.GRCh37.75.cds.all.fa.gz ... 19834207\n",
      "==> PASV ... done.    ==> RETR Homo_sapiens.GRCh37.75.cds.all.fa.gz ... done.\n",
      "Length: 19834207 (19M) (unauthoritative)\n",
      "\n",
      "Homo_sapiens.GRCh37 100%[===================>]  18,92M  10,3MB/s    in 1,8s    \n",
      "\n",
      "2022-06-09 12:15:52 (10,3 MB/s) - ‘Homo_sapiens.GRCh37.75.cds.all.fa.gz’ saved [19834207]\n",
      "\n"
     ]
    }
   ],
   "source": [
    "study_id = 'blca_mskcc_solit_2014'\n",
    "!pypgatk_cli.py cbioportal-downloader -c config/cbioportal_config.yaml -d $study_id -o ./\n",
    "!tar -xzvf $study_id\".tar\"\n",
    "\n",
    "#Download linking CDSs (the mutations are aligned to hg37)\n",
    "!wget ftp://ftp.ensembl.org/pub/release-75/fasta/homo_sapiens/cds/Homo_sapiens.GRCh37.75.cds.all.fa.gz\n",
    "!gunzip *.gz"
   ]
  },
  {
   "cell_type": "markdown",
   "id": "b1a42ac4",
   "metadata": {
    "slideshow": {
     "slide_type": "subslide"
    }
   },
   "source": [
    "The files are downloaded into a directory with the same name as the study ID. It contains several files but we only need the following two files:\n",
    "- `data_clinical_sample.txt`: \n",
    "\n",
    "    This file contains metada or clinical information about each of the samples in the study\n",
    "    \n",
    "    \n",
    "- `data_mutations.txt` (it might have slightly different names depending on the cBioPortal version): \n",
    "\n",
    "    This file contains the list of mutations identified in this study\n"
   ]
  },
  {
   "cell_type": "markdown",
   "id": "b31ddfcb",
   "metadata": {
    "slideshow": {
     "slide_type": "subslide"
    }
   },
   "source": [
    "#### Translate the downloaded set of mutations\n",
    "\n",
    "First check what options you have!"
   ]
  },
  {
   "cell_type": "code",
   "execution_count": 36,
   "id": "fd4d03f8",
   "metadata": {
    "slideshow": {
     "slide_type": "subslide"
    }
   },
   "outputs": [
    {
     "name": "stdout",
     "output_type": "stream",
     "text": [
      "Determination of memory status is not supported on this \n",
      " platform, measuring for memoryleaks will never fail\n",
      "Usage: pypgatk_cli.py cbioportal-to-proteindb [OPTIONS]\n",
      "\n",
      "Options:\n",
      "  -c, --config_file TEXT          Configuration for cbioportal to proteindb\n",
      "                                  tool\n",
      "  -in, --input_mutation TEXT      Cbioportal mutation file\n",
      "  -fa, --input_cds TEXT           CDS genes from ENSEMBL database\n",
      "  -out, --output_db TEXT          Protein database including all the mutations\n",
      "  -f, --filter_column TEXT        Column in the VCF file to be used for\n",
      "                                  filtering or splitting mutations\n",
      "  -a, --accepted_values TEXT      Limit mutations to values (tissue type,\n",
      "                                  sample name, etc) considered for generating\n",
      "                                  proteinDBs, by default mutations from all\n",
      "                                  records are considered\n",
      "  -s, --split_by_filter_column    Use this flag to generate a proteinDB per\n",
      "                                  group as specified in the filter_column,\n",
      "                                  default is False\n",
      "  -cl, --clinical_sample_file TEXT\n",
      "                                  File to get tissue type from for the samples\n",
      "                                  in input_mutation file\n",
      "  -h, --help                      Show this message and exit.\n"
     ]
    }
   ],
   "source": [
    "!pypgatk_cli.py cbioportal-to-proteindb -h"
   ]
  },
  {
   "cell_type": "code",
   "execution_count": 37,
   "id": "3581314b",
   "metadata": {
    "slideshow": {
     "slide_type": "subslide"
    }
   },
   "outputs": [
    {
     "name": "stdout",
     "output_type": "stream",
     "text": [
      "Determination of memory status is not supported on this \n",
      " platform, measuring for memoryleaks will never fail\n",
      "/Users/husen/opt/anaconda3/envs/pygatk/lib/python3.8/site-packages/Bio/Seq.py:2606: BiopythonWarning: Partial codon, len(sequence) not a multiple of three. Explicitly trim the sequence or add trailing N before translation. This may become an error in future.\n",
      "  warnings.warn(\"Partial codon, len(sequence) not a multiple of three. \"\n",
      "Generated Counter({'cbiomut': 1125}) variant proteins from 1057 variants\n"
     ]
    }
   ],
   "source": [
    "\n",
    "!pypgatk_cli.py cbioportal-to-proteindb --config_file config/cbioportal_config.yaml --input_cds Homo_sapiens.GRCh37.75.cds.all.fa --input_mutation $study_id/data_mutations.txt --clinical_sample_file blca_mskcc_solit_2014/data_clinical_sample.txt --output_db variants_proteindb.fa\n",
    "\n",
    "print('Generated {} variant proteins from {} variants'.format(\n",
    "    Counter([str(x.id).split(':')[0] for x in SeqIO.parse('variants_proteindb.fa', \"fasta\")]),\n",
    "    len(set([x.id for x in SeqIO.parse('variants_proteindb.fa', \"fasta\")]))\n",
    "    ))\n",
    "\n"
   ]
  },
  {
   "cell_type": "markdown",
   "id": "612fca86",
   "metadata": {
    "slideshow": {
     "slide_type": "subslide"
    }
   },
   "source": [
    "Optionally, you can filter the samples based on any of the columns in the data_clinical_sample.txt. First, let's see what fields (clinical information) is available for the samples in this study:"
   ]
  },
  {
   "cell_type": "code",
   "execution_count": 38,
   "id": "1c575e13",
   "metadata": {
    "slideshow": {
     "slide_type": "subslide"
    }
   },
   "outputs": [
    {
     "data": {
      "text/plain": [
       "['#Patient Identifier',\n",
       " 'Sample Identifier',\n",
       " 'Sample Type',\n",
       " 'Concomitant Carcinoma in situ',\n",
       " 'Lymph Node Status',\n",
       " 'Tissue Sequenced',\n",
       " 'Oncotree Code',\n",
       " 'Cancer Type',\n",
       " 'Cancer Type Detailed',\n",
       " 'Somatic Status',\n",
       " 'TMB (nonsynonymous)']"
      ]
     },
     "execution_count": 38,
     "metadata": {},
     "output_type": "execute_result"
    }
   ],
   "source": [
    "[x.strip() for x in open('{}/data_clinical_sample.txt'.format(study_id)).readline().split('\\t')]"
   ]
  },
  {
   "cell_type": "markdown",
   "id": "9284606f",
   "metadata": {
    "slideshow": {
     "slide_type": "subslide"
    }
   },
   "source": [
    "Let's only use mutations from samples that have their `Lymph Node Status` as `Positive`. Cancer Type can also be used to filter mutations for a specific cancer type."
   ]
  },
  {
   "cell_type": "code",
   "execution_count": 39,
   "id": "5a9a7c87",
   "metadata": {
    "slideshow": {
     "slide_type": "subslide"
    }
   },
   "outputs": [
    {
     "name": "stdout",
     "output_type": "stream",
     "text": [
      "Determination of memory status is not supported on this \n",
      " platform, measuring for memoryleaks will never fail\n",
      "sample_groups_dict blca_mskcc_solit_2014/data_clinical_sample.txt LYMPH_NODE_STATUS\n",
      "No clinical info was found for sample Tumor_Sample_Barcode. Skipping (line 0): Hugo_Symbol\tEntrez_Gene_Id\tCenter\tNCBI_Build\tChromosome\tStart_Position\tEnd_Position\tStrand\tConsequence\tVariant_Classification\tVariant_Type\tReference_Allele\tTumor_Seq_Allele1\tTumor_Seq_Allele2\tdbSNP_RS\tdbSNP_Val_Status\tTumor_Sample_Barcode\tMatched_Norm_Sample_Barcode\tMatch_Norm_Seq_Allele1\tMatch_Norm_Seq_Allele2\tTumor_Validation_Allele1\tTumor_Validation_Allele2\tMatch_Norm_Validation_Allele1\tMatch_Norm_Validation_Allele2\tVerification_Status\tValidation_Status\tMutation_Status\tSequencing_Phase\tSequence_Source\tValidation_Method\tScore\tBAM_File\tSequencer\tt_ref_count\tt_alt_count\tn_ref_count\tn_alt_count\tHGVSc\tHGVSp\tHGVSp_Short\tTranscript_ID\tRefSeq\tProtein_position\tCodons\tHotspot\n",
      "\n",
      "/Users/husen/opt/anaconda3/envs/pygatk/lib/python3.8/site-packages/Bio/Seq.py:2606: BiopythonWarning: Partial codon, len(sequence) not a multiple of three. Explicitly trim the sequence or add trailing N before translation. This may become an error in future.\n",
      "  warnings.warn(\"Partial codon, len(sequence) not a multiple of three. \"\n",
      "Generated Counter({'cbiomut': 363}) variant proteins from 353 variants\n"
     ]
    }
   ],
   "source": [
    "\n",
    "!pypgatk_cli.py cbioportal-to-proteindb --config_file config/cbioportal_config.yaml --input_cds Homo_sapiens.GRCh37.75.cds.all.fa --input_mutation $study_id/data_mutations.txt --clinical_sample_file blca_mskcc_solit_2014/data_clinical_sample.txt --output_db variants_proteindb_filtered.fa --filter_column 'LYMPH_NODE_STATUS' --accepted_values 'Positive'\n",
    "\n",
    "print('Generated {} variant proteins from {} variants'.format(\n",
    "    Counter([str(x.id).split(':')[0] for x in SeqIO.parse('variants_proteindb_filtered.fa', \"fasta\")]),\n",
    "    len(set([x.id for x in SeqIO.parse('variants_proteindb_filtered.fa', \"fasta\")]))\n",
    "    ))\n"
   ]
  },
  {
   "cell_type": "markdown",
   "id": "9f2815bf",
   "metadata": {
    "slideshow": {
     "slide_type": "slide"
    }
   },
   "source": [
    "# Part 4b: Mutations to Proteins (COSMIC)\n",
    "\n",
    "\n",
    "In this part we will use the `cosmic-downloader` and `cosmic-to-proteindb` command to translate cancer mutations from COSMIC. The downloader downloads the following files:\n",
    "\n",
    "- `CosmicMutantExport.tsv`  : `tsv` file containing somatic mutations from human samples\n",
    "-  `CosmicCLP_MutantExport.tsv` : `tsv` file containing somatic mutations from cancer cell lines\n",
    "- `All_COSMIC_Genes.fasta`: Transcripts `fasta` file, it is used to extract sequences of altered transcripts.\n",
    "\n",
    "However, since COSMIC requires registeration and the file sizes are large (15G), the download takes some time therefore I have pre-downloaded the files and extracted 50k mutations from it as a sample to make the processes run faster. Run the following code to download a sample directory"
   ]
  },
  {
   "cell_type": "code",
   "execution_count": 40,
   "id": "599af02e",
   "metadata": {
    "slideshow": {
     "slide_type": "subslide"
    }
   },
   "outputs": [
    {
     "name": "stdout",
     "output_type": "stream",
     "text": [
      "--2022-06-09 12:16:04--  https://github.com/husensofteng/ProteoWorks/raw/master/workshop_pgdb/cosmic_files.tar.gz\n",
      "Resolving github.com (github.com)... 140.82.121.3\n",
      "Connecting to github.com (github.com)|140.82.121.3|:443... connected.\n",
      "HTTP request sent, awaiting response... 302 Found\n",
      "Location: https://raw.githubusercontent.com/husensofteng/ProteoWorks/master/workshop_pgdb/cosmic_files.tar.gz [following]\n",
      "--2022-06-09 12:16:05--  https://raw.githubusercontent.com/husensofteng/ProteoWorks/master/workshop_pgdb/cosmic_files.tar.gz\n",
      "Resolving raw.githubusercontent.com (raw.githubusercontent.com)... 185.199.109.133, 185.199.110.133, 185.199.111.133, ...\n",
      "Connecting to raw.githubusercontent.com (raw.githubusercontent.com)|185.199.109.133|:443... connected.\n",
      "HTTP request sent, awaiting response... 200 OK\n",
      "Length: 38247627 (36M) [application/octet-stream]\n",
      "Saving to: ‘cosmic_files.tar.gz’\n",
      "\n",
      "cosmic_files.tar.gz 100%[===================>]  36,48M  11,6MB/s    in 3,2s    \n",
      "\n",
      "2022-06-09 12:16:10 (11,6 MB/s) - ‘cosmic_files.tar.gz’ saved [38247627/38247627]\n",
      "\n",
      "x cosmic_files/\n",
      "x cosmic_files/All_CellLines_Genes.fasta\n",
      "x cosmic_files/CosmicCLP_MutantExport.tsv\n",
      "x cosmic_files/CosmicMutantExport.tsv\n",
      "x cosmic_files/All_COSMIC_Genes.fasta\n"
     ]
    }
   ],
   "source": [
    "if not os.path.isfile('cosmic_files.tar.gz'):\n",
    "    !wget https://github.com/husensofteng/ProteoWorks/raw/master/workshop_pgdb/cosmic_files.tar.gz\n",
    "    !tar -xzvf cosmic_files.tar.gz\n"
   ]
  },
  {
   "cell_type": "markdown",
   "id": "862c3b8e",
   "metadata": {
    "slideshow": {
     "slide_type": "subslide"
    }
   },
   "source": [
    "### For actual analysis:\n",
    "- remove the sample `cosmic_files` directory\n",
    "- register an account on: https://cancer.sanger.ac.uk/\n",
    "- replace `yourUserName` and `yourPassword` in the follwing command with your actual credentials from your account in COSMIC. \n",
    "- run the following command to download the mutation data files from COSMIC and ponder on some simple childhood memories until the files are downloaded :)"
   ]
  },
  {
   "cell_type": "code",
   "execution_count": 41,
   "id": "a6a41a60",
   "metadata": {
    "slideshow": {
     "slide_type": "subslide"
    }
   },
   "outputs": [],
   "source": [
    "if not os.path.isdir('cosmic_files'):\n",
    "    !pypgatk_cli.py cosmic-downloader -u yourUserName -p yourPassword -c config/cosmic_config.yaml -o cosmic_files/\n"
   ]
  },
  {
   "cell_type": "code",
   "execution_count": 42,
   "id": "499e7dca",
   "metadata": {
    "slideshow": {
     "slide_type": "slide"
    }
   },
   "outputs": [
    {
     "name": "stdout",
     "output_type": "stream",
     "text": [
      "Determination of memory status is not supported on this \n",
      " platform, measuring for memoryleaks will never fail\n",
      "Usage: pypgatk_cli.py cosmic-to-proteindb [OPTIONS]\n",
      "\n",
      "Options:\n",
      "  -c, --config_file TEXT        Configuration file for the cosmic data\n",
      "                                pipelines\n",
      "  -in, --input_mutation TEXT    Cosmic Mutation data file\n",
      "  -fa, --input_genes TEXT       All Cosmic genes\n",
      "  -out, --output_db TEXT        Protein database including all the mutations\n",
      "  -f, --filter_column TEXT      Column in the VCF file to be used for\n",
      "                                filtering or splitting mutations\n",
      "  -a, --accepted_values TEXT    Limit mutations to values (tissue type, sample\n",
      "                                name, etc) considered for generating\n",
      "                                proteinDBs, by default mutations from all\n",
      "                                records are considered\n",
      "  -s, --split_by_filter_column  Use this flag to generate a proteinDB per\n",
      "                                group as specified in the filter_column,\n",
      "                                default is False\n",
      "  -h, --help                    Show this message and exit.\n"
     ]
    }
   ],
   "source": [
    "!pypgatk_cli.py cosmic-to-proteindb -h\n"
   ]
  },
  {
   "cell_type": "markdown",
   "id": "edc86574",
   "metadata": {
    "slideshow": {
     "slide_type": "slide"
    }
   },
   "source": [
    "### Translate cosmic mutations\n",
    "To translate all mutations, we just need to specify paths for the mutations file and the transcripts file. "
   ]
  },
  {
   "cell_type": "code",
   "execution_count": 43,
   "id": "62fc4e0e",
   "metadata": {
    "slideshow": {
     "slide_type": "subslide"
    }
   },
   "outputs": [
    {
     "name": "stdout",
     "output_type": "stream",
     "text": [
      "Determination of memory status is not supported on this \n",
      " platform, measuring for memoryleaks will never fail\n",
      "/Users/husen/opt/anaconda3/envs/pygatk/lib/python3.8/site-packages/Bio/Seq.py:2606: BiopythonWarning: Partial codon, len(sequence) not a multiple of three. Explicitly trim the sequence or add trailing N before translation. This may become an error in future.\n",
      "  warnings.warn(\"Partial codon, len(sequence) not a multiple of three. \"\n"
     ]
    }
   ],
   "source": [
    "\n",
    "!pypgatk_cli.py cosmic-to-proteindb -c config/cosmic_config.yaml -in cosmic_files/CosmicMutantExport.tsv -fa cosmic_files/All_COSMIC_Genes.fasta -out cosmic_proteinDB.fa\n",
    "\n"
   ]
  },
  {
   "cell_type": "markdown",
   "id": "7ca0b043",
   "metadata": {
    "slideshow": {
     "slide_type": "subslide"
    }
   },
   "source": [
    "Since the actual `CosmicMutantExport.tsv` file contains around 50 Million mutations, we needs to filter them according to our needs otherwise the resulting protein database becomes too large. \n",
    "\n",
    "As shown in the help message, the `cosmic-to-proteindb` provides a `--filter_column` parameter that can be used to select any column for filtering and then with the `--accepted_values` parameter we can list the desired values. \n",
    "\n",
    "Inspect the following features to identify a column that you want to use as a filter:"
   ]
  },
  {
   "cell_type": "code",
   "execution_count": 44,
   "id": "469c9aec",
   "metadata": {
    "slideshow": {
     "slide_type": "subslide"
    }
   },
   "outputs": [
    {
     "name": "stdout",
     "output_type": "stream",
     "text": [
      "Columns that can be used to filter mutations: Gene name\n",
      "Accession Number\n",
      "Gene CDS length\n",
      "HGNC ID\n",
      "Sample name\n",
      "ID_sample\n",
      "ID_tumour\n",
      "Primary site\n",
      "Site subtype 1\n",
      "Site subtype 2\n",
      "Site subtype 3\n",
      "Primary histology\n",
      "Histology subtype 1\n",
      "Histology subtype 2\n",
      "Histology subtype 3\n",
      "Genome-wide screen\n",
      "GENOMIC_MUTATION_ID\n",
      "LEGACY_MUTATION_ID\n",
      "MUTATION_ID\n",
      "Mutation CDS\n",
      "Mutation AA\n",
      "Mutation Description\n",
      "Mutation zygosity\n",
      "LOH\n",
      "GRCh\n",
      "Mutation genome position\n",
      "Mutation strand\n",
      "Resistance Mutation\n",
      "Mutation somatic status\n",
      "Pubmed_PMID\n",
      "ID_STUDY\n",
      "Sample Type\n",
      "Tumour origin\n",
      "Age\n",
      "HGVSP\n",
      "HGVSC\n",
      "HGVSG\n"
     ]
    }
   ],
   "source": [
    "fields = '\\n'.join(open('cosmic_files/CosmicMutantExport.tsv').readline().strip().split('\\t'))\n",
    "print('Columns that can be used to filter mutations:', fields)\n"
   ]
  },
  {
   "cell_type": "markdown",
   "id": "9ba88be5",
   "metadata": {
    "slideshow": {
     "slide_type": "subslide"
    }
   },
   "source": [
    "Lets use `Primary site` as the filter column and accept mutations from tumors in liver, lung or skin"
   ]
  },
  {
   "cell_type": "code",
   "execution_count": 45,
   "id": "ba4b6fb6",
   "metadata": {
    "slideshow": {
     "slide_type": "subslide"
    }
   },
   "outputs": [
    {
     "name": "stdout",
     "output_type": "stream",
     "text": [
      "Determination of memory status is not supported on this \n",
      " platform, measuring for memoryleaks will never fail\n",
      "/Users/husen/opt/anaconda3/envs/pygatk/lib/python3.8/site-packages/Bio/Seq.py:2606: BiopythonWarning: Partial codon, len(sequence) not a multiple of three. Explicitly trim the sequence or add trailing N before translation. This may become an error in future.\n",
      "  warnings.warn(\"Partial codon, len(sequence) not a multiple of three. \"\n",
      "Generated Counter({'COSMIC': 5100}) variant proteins from 4899 variants\n"
     ]
    }
   ],
   "source": [
    "!pypgatk_cli.py cosmic-to-proteindb -c config/cosmic_config.yaml -in cosmic_files/CosmicMutantExport.tsv -fa cosmic_files/All_COSMIC_Genes.fasta -out cosmic_proteinDB_filtered.fa --filter_column 'Primary site' --accepted_values 'liver,lung,skin'\n",
    "\n",
    "print('Generated {} variant proteins from {} variants'.format(\n",
    "    Counter([str(x.id).split(':')[0] for x in SeqIO.parse('cosmic_proteinDB_filtered.fa', \"fasta\")]),\n",
    "    len(set([':'.join(str(x.id).split(':')[2::]) for x in SeqIO.parse('cosmic_proteinDB_filtered.fa', \"fasta\")]))\n",
    "    ))\n",
    "\n"
   ]
  },
  {
   "cell_type": "markdown",
   "id": "3c85a807",
   "metadata": {
    "slideshow": {
     "slide_type": "subslide"
    }
   },
   "source": [
    "We could also generate mutated proteins of a particular gene, e.g. `CDH6`. If you open the mutations file with a text editor, the gene names can be seen in the first column."
   ]
  },
  {
   "cell_type": "code",
   "execution_count": 46,
   "id": "a6787f5a",
   "metadata": {
    "slideshow": {
     "slide_type": "subslide"
    }
   },
   "outputs": [
    {
     "name": "stdout",
     "output_type": "stream",
     "text": [
      "Determination of memory status is not supported on this \n",
      " platform, measuring for memoryleaks will never fail\n",
      "/Users/husen/opt/anaconda3/envs/pygatk/lib/python3.8/site-packages/Bio/Seq.py:2606: BiopythonWarning: Partial codon, len(sequence) not a multiple of three. Explicitly trim the sequence or add trailing N before translation. This may become an error in future.\n",
      "  warnings.warn(\"Partial codon, len(sequence) not a multiple of three. \"\n",
      "Generated Counter({'COSMIC': 453}) variant proteins from 453 variants\n"
     ]
    }
   ],
   "source": [
    "!pypgatk_cli.py cosmic-to-proteindb -c config/cosmic_config.yaml -in cosmic_files/CosmicMutantExport.tsv -fa cosmic_files/All_COSMIC_Genes.fasta -out cosmic_proteinDB_filtered_gene.fa --filter_column 'Gene name' --accepted_values 'CDH6'\n",
    "\n",
    "print('Generated {} variant proteins from {} variants'.format(\n",
    "    Counter([str(x.id).split(':')[0] for x in SeqIO.parse('cosmic_proteinDB_filtered_gene.fa', \"fasta\")]),\n",
    "    len(set([':'.join(str(x.id).split(':')[2::]) for x in SeqIO.parse('cosmic_proteinDB_filtered_gene.fa', \"fasta\")]))\n",
    "    ))\n",
    "\n"
   ]
  }
 ],
 "metadata": {
  "celltoolbar": "Raw Cell Format",
  "kernelspec": {
   "display_name": "Python 3",
   "language": "python",
   "name": "python3"
  },
  "language_info": {
   "codemirror_mode": {
    "name": "ipython",
    "version": 3
   },
   "file_extension": ".py",
   "mimetype": "text/x-python",
   "name": "python",
   "nbconvert_exporter": "python",
   "pygments_lexer": "ipython3",
   "version": "3.8.5"
  }
 },
 "nbformat": 4,
 "nbformat_minor": 5
}
