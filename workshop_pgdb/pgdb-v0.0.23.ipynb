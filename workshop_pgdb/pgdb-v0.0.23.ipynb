{
 "cells": [
  {
   "cell_type": "markdown",
   "id": "46358dd6",
   "metadata": {
    "slideshow": {
     "slide_type": "slide"
    }
   },
   "source": [
    "# Proteogenomics database generation using py-pgatk\n",
    "\n",
    "\n",
    "This notebook presents commands in `py-pgatk` to:\n",
    "- download data from various sources including ENSEMBL for reference files, COSMIC & cBioPortal for cancer mutations, and gnomAD & ENSEMBL for population variants.\n",
    "- generate protein databases using the downloaded files or from custom files (mutations in VCF and transcripts in GTF)\n",
    "- explore the database content (number of proteins and overlaps in tryptic peptides between various protein categories)\n",
    "\n",
    "`py-pgatk` is implemented in `Python` and is available here: https://github.com/bigbio/py-pgatk. \n",
    "The commands are documented here: https://pgatk.readthedocs.io/en/latest/pypgatk.html.\n",
    "The tools are also builtin to a nextflow workflow: https://nf-co.re/pgdb.\n",
    "\n",
    "The easiset way to run this notebook is by installing conda and creating an environment for installing the required packages. \n",
    "\n",
    "\n",
    "# Part 1: Installation\n",
    "\n",
    "### Get notebook and data\n",
    "Updated version can be found here: https://github.com/husensofteng/ProteoWorks/blob/master/workshop_pgdb/pgdb.ipynb\n",
    "\n",
    "\n",
    "### Install Conda\n",
    "Download Conda for your operating system and follow the installation instructions from here: https://docs.conda.io/projects/conda/en/latest/user-guide/install/index.html#regular-installation\n",
    "\n",
    "Next, open a terminal window and run the following commands:\n",
    "\n"
   ]
  },
  {
   "cell_type": "markdown",
   "id": "1b69ff0c",
   "metadata": {
    "slideshow": {
     "slide_type": "subslide"
    }
   },
   "source": [
    "Choose either `conda` (supports up to v.0.019) or `pip` that also has v0.020:\n",
    "### Create `pgdb` environment (only once\n",
    "`conda create -n pgdb jupyterlab matplotlib`\n",
    "\n",
    "\n",
    "### Activate `pgdb` environment (everytime with new terminal/login)\n",
    "`conda activate pgdb`\n",
    "\n",
    "### Browse to your working directory and start Jupyter from there using\n",
    "`jupyter-notebook`\n",
    "\n"
   ]
  },
  {
   "cell_type": "code",
   "execution_count": 1,
   "id": "62bf88ac",
   "metadata": {
    "slideshow": {
     "slide_type": "subslide"
    }
   },
   "outputs": [
    {
     "name": "stdout",
     "output_type": "stream",
     "text": [
      "Requirement already satisfied: pip in /Users/husen/opt/anaconda3/envs/pygatk/lib/python3.8/site-packages (22.1.2)\n",
      "Requirement already satisfied: wget in /Users/husen/opt/anaconda3/envs/pygatk/lib/python3.8/site-packages (3.2)\n"
     ]
    }
   ],
   "source": [
    "!pip install --upgrade pip\n",
    "\n",
    "!pip install wget"
   ]
  },
  {
   "cell_type": "code",
   "execution_count": 2,
   "id": "945d79ab",
   "metadata": {
    "slideshow": {
     "slide_type": "subslide"
    }
   },
   "outputs": [
    {
     "name": "stdout",
     "output_type": "stream",
     "text": [
      "Currently using version: 0.0.23dev_0<develop>\n",
      "Currently using version: 0.0.23dev_0<develop>\n"
     ]
    }
   ],
   "source": [
    "def get_version():\n",
    "    !conda list > package_versions.txt\n",
    "    try:\n",
    "        pypgatk_version = [x.strip() for x in open('package_versions.txt').readlines() if 'pypgatk' in x][-1].replace(' ','').replace('pypgatk', '').replace('pypi_0pypi', '')\n",
    "        print('Currently using version: {}'.format(pypgatk_version))\n",
    "        return pypgatk_version\n",
    "    except IndexError:\n",
    "        return None\n",
    "    \n",
    "\n",
    "try:\n",
    "    import pypgatk\n",
    "except ModuleNotFoundError:\n",
    "    !pip install pypgatk\n",
    "    try:\n",
    "        import pypgatk\n",
    "        !pip install pypgatk\n",
    "    except ModuleNotFoundError:\n",
    "        try: #get the latest source code from the repo\n",
    "            !git clone https://github.com/bigbio/py-pgatk.git\n",
    "            !pip install .\n",
    "            import pypgatk\n",
    "        except ModuleNotFoundError:\n",
    "            print('Failed to installed pypgatk, exiting')\n",
    "\n",
    "\n",
    "#Get version of the currently installed pypgatk to obtain the right configuration files\n",
    "if not get_version():\n",
    "    !pip install pypgatk\n",
    "    if not get_version():\n",
    "        !git clone https://github.com/bigbio/py-pgatk.git\n",
    "        !pip install .\n",
    "pypgatk_version = get_version()\n",
    "\n"
   ]
  },
  {
   "cell_type": "markdown",
   "id": "249576c2",
   "metadata": {
    "slideshow": {
     "slide_type": "slide"
    }
   },
   "source": [
    "### Download configuration files and related tools\n",
    "\n",
    "#### Import required libraries"
   ]
  },
  {
   "cell_type": "code",
   "execution_count": 3,
   "id": "56f3b79d",
   "metadata": {
    "slideshow": {
     "slide_type": "subslide"
    }
   },
   "outputs": [],
   "source": [
    "import os\n",
    "import shutil\n",
    "import sys\n",
    "from collections import Counter\n",
    "\n",
    "try:\n",
    "    from Bio import SeqIO\n",
    "except ModuleNotFoundError:\n",
    "    !conda install -c conda-forge biopython\n",
    "    from Bio import SeqIO\n",
    "    \n",
    "try:\n",
    "    import matplotlib.pyplot as plt\n",
    "except ModuleNotFoundError:\n",
    "    !conda install matplotlib\n",
    "    import matplotlib.pyplot as plt"
   ]
  },
  {
   "cell_type": "markdown",
   "id": "40634fdd",
   "metadata": {
    "slideshow": {
     "slide_type": "slide"
    }
   },
   "source": [
    "#### Get Configuaration Files"
   ]
  },
  {
   "cell_type": "code",
   "execution_count": 4,
   "id": "04b15661",
   "metadata": {
    "slideshow": {
     "slide_type": "subslide"
    }
   },
   "outputs": [
    {
     "name": "stdout",
     "output_type": "stream",
     "text": [
      "the files are available in config/ in the current directory:\n",
      "  /Users/husen/Documents/Karolinska Institutet/GRP_LehtioLab_bioinformatics_brains - General/ProteoWorks/workshop_pgdb\n"
     ]
    }
   ],
   "source": [
    "if not os.path.isdir('config'):\n",
    "    os.system('wget https://github.com/bigbio/py-pgatk/archive/refs/tags/v{}.zip'.format(pypgatk_version))\n",
    "    os.system('unzip v{}.zip'.format(pypgatk_version))\n",
    "    shutil.copytree('py-pgatk-{}/pypgatk/config'.format(pypgatk_version), 'config')\n",
    "if os.path.isdir('config'):\n",
    "    print('the files are available in config/ in the current directory:\\n ', os.getcwd())\n",
    "    try:\n",
    "        os.rmdir('py-pgatk-*')\n",
    "    except FileNotFoundError:\n",
    "        pass"
   ]
  },
  {
   "cell_type": "code",
   "execution_count": 5,
   "id": "45137cf8",
   "metadata": {
    "scrolled": false
   },
   "outputs": [
    {
     "data": {
      "text/plain": [
       "['ensembl_config.yaml',\n",
       " 'ensembl_downloader_config.yaml',\n",
       " 'cbioportal_config.yaml',\n",
       " 'openms_analysis.yaml',\n",
       " '__init__.py',\n",
       " 'assemblies_conf.json',\n",
       " 'cosmic_config.yaml',\n",
       " 'protein_decoy.yaml']"
      ]
     },
     "execution_count": 5,
     "metadata": {},
     "output_type": "execute_result"
    }
   ],
   "source": [
    "os.listdir('config')"
   ]
  },
  {
   "cell_type": "markdown",
   "id": "6246aea8",
   "metadata": {
    "slideshow": {
     "slide_type": "slide"
    }
   },
   "source": [
    "### Install gffread v.0.11.7 \n",
    "This tool is needed to convert GTF (gene-transript annotation file) to FASTA (DNA sequence)"
   ]
  },
  {
   "cell_type": "code",
   "execution_count": 6,
   "id": "d8610ecc",
   "metadata": {
    "slideshow": {
     "slide_type": "subslide"
    }
   },
   "outputs": [
    {
     "name": "stdout",
     "output_type": "stream",
     "text": [
      "gffread is ready to be used\n"
     ]
    }
   ],
   "source": [
    "if not os.path.isfile('gffread'):\n",
    "    if 'linux' in sys.platform:\n",
    "        os.system('wget https://github.com/gpertea/gffread/releases/download/v0.12.7/gffread-0.12.7.Linux_x86_64.tar.gz')\n",
    "        os.system('tar -xvzf gffread-0.12.7.Linux_x86_64.tar.gz')\n",
    "        shutil.move('gffread-0.12.7.Linux_x86_64/gffread', 'gffread')\n",
    "    elif 'darwin' in sys.platform:\n",
    "        os.system('wget https://github.com/gpertea/gffread/releases/download/v0.12.7/gffread-0.12.7.OSX_x86_64.tar.gz')\n",
    "        os.system('tar -xvzf gffread-0.12.7.OSX_x86_64.tar.gz')\n",
    "        shutil.move('gffread-0.12.7.OSX_x86_64/gffread', 'gffread')\n",
    "    else:\n",
    "        print('SORRY: only Linux and MAC are supported, maybe you need to try manually installing gffread')\n",
    "\n",
    "if os.path.isfile('gffread'):\n",
    "    print('gffread is ready to be used')\n",
    "    try:\n",
    "        os.rmdir('gffread-*')\n",
    "    except FileNotFoundError:\n",
    "        pass"
   ]
  },
  {
   "cell_type": "markdown",
   "id": "da109a48",
   "metadata": {
    "slideshow": {
     "slide_type": "slide"
    }
   },
   "source": [
    "#### Before begining, let's test if pypgatk is working, you should see a help message that lists the existing commands"
   ]
  },
  {
   "cell_type": "code",
   "execution_count": 7,
   "id": "2fff0b92",
   "metadata": {
    "scrolled": false,
    "slideshow": {
     "slide_type": "subslide"
    }
   },
   "outputs": [
    {
     "name": "stdout",
     "output_type": "stream",
     "text": [
      "Determination of memory status is not supported on this \n",
      " platform, measuring for memoryleaks will never fail\n",
      "Usage: pypgatk_cli.py [OPTIONS] COMMAND [ARGS]...\n",
      "\n",
      "  This is the main tool that give access to all commands and options\n",
      "  provided by the pypgatk\n",
      "\n",
      "Options:\n",
      "  --version   Show the version and exit.\n",
      "  -h, --help  Show this message and exit.\n",
      "\n",
      "Commands:\n",
      "  cbioportal-downloader    Command to download the the cbioportal studies\n",
      "  cbioportal-to-proteindb  Command to translate cbioportal mutation data into\n",
      "                           proteindb\n",
      "  cosmic-downloader        Command to download the cosmic mutation database\n",
      "  cosmic-to-proteindb      Command to translate Cosmic mutation data into\n",
      "                           proteindb\n",
      "  dnaseq-to-proteindb      Generate peptides based on DNA sequences\n",
      "  ensembl-check            Command to check ensembl database for stop codons,\n",
      "                           gaps\n",
      "  ensembl-downloader       Command to download the ensembl information\n",
      "  generate-decoy           Create decoy protein sequences using multiple\n",
      "                           methods DecoyPYrat, Reverse/Shuffled Proteins.\n",
      "  generate-deeplc          Generate input for deepLC tool from idXML,mzTab or\n",
      "                           consensusXML\n",
      "  msrescore-configuration  Command to generate the msrescore configuration\n",
      "                           file from idXML\n",
      "  peptide-class-fdr        Command to compute the Peptide class FDR\n",
      "  threeframe-translation   Command to perform 3'frame translation\n",
      "  vcf-to-proteindb         Generate peptides based on DNA variants VCF files\n"
     ]
    }
   ],
   "source": [
    "!pypgatk_cli.py -h"
   ]
  },
  {
   "cell_type": "markdown",
   "id": "7064d93c",
   "metadata": {
    "slideshow": {
     "slide_type": "slide"
    }
   },
   "source": [
    "# Part 2: DNA to Protein\n",
    "\n",
    "In this part we will use the `dnaseq-to-proteindb` command to translate DNA sequences in fasta format to protein. We will also show how to convert a GTF obtained from a reference assembly or from a RNA-seq to DNA sequences and then protein sequence.\n",
    "\n",
    "## Download relevant files\n",
    "\n",
    "First we need to specify what files to download from the reference assembly. By default, `ensembl-downloader` downloads all files. The flags below can be used to ignore some files, e.g --skip_dna will skip downloading the reference DNA sequence, etc.\n",
    "\n",
    "* Note: versions prior to v0.0.20 don't have the feature to download the DNA reference assembly. IF you are using an older version you need to download the DNA fasta manually, uncomment the commands given below to perform this step."
   ]
  },
  {
   "cell_type": "markdown",
   "id": "1fcb9191",
   "metadata": {
    "slideshow": {
     "slide_type": "slide"
    }
   },
   "source": [
    "### Check the flags below to know what flags to use."
   ]
  },
  {
   "cell_type": "code",
   "execution_count": 7,
   "id": "15232464",
   "metadata": {
    "slideshow": {
     "slide_type": "subslide"
    }
   },
   "outputs": [
    {
     "name": "stdout",
     "output_type": "stream",
     "text": [
      "Determination of memory status is not supported on this \n",
      " platform, measuring for memoryleaks will never fail\n",
      "Usage: pypgatk_cli.py ensembl-downloader [OPTIONS]\n",
      "\n",
      "  This tool enables to download from enseml ftp the FASTA and GTF files\n",
      "\n",
      "Options:\n",
      "  -c, --config_file TEXT          Configuration file for the ensembl data\n",
      "                                  downloader pipeline\n",
      "  -o, --output_directory TEXT     Output directory for the peptide databases\n",
      "  -fp, --folder_prefix_release TEXT\n",
      "                                  Output folder prefix to download the data\n",
      "  -t, --taxonomy TEXT             Taxonomy identifiers (comma separated list\n",
      "                                  can be given) that will be use to download\n",
      "                                  the data from Ensembl\n",
      "  -l, --list_taxonomies           Print the list of all the taxonomies in\n",
      "                                  ENSEMBL (https://www.ensembl.org)\n",
      "  -sg, --skip_gtf                 Skip the GTF file during the download\n",
      "  -sp, --skip_protein             Skip the protein fasta file during download\n",
      "  -sc, --skip_cds                 Skip the CDS file download\n",
      "  -sdn, --skip_cdna               Skip the cDNA file download\n",
      "  -sn, --skip_ncrna               Skip the ncRNA file download\n",
      "  -sd, --skip_dna                 Skip the DNA (reference genome assembly)\n",
      "                                  file download\n",
      "  -sv, --skip_vcf                 Skip the VCF variant file\n",
      "  -en, --ensembl_name TEXT        Ensembl name code to download, it can be use\n",
      "                                  instead of taxonomy (e.g. homo_sapiens)\n",
      "  --grch37                        Download a previous version GRCh37 of\n",
      "                                  ensembl genomes\n",
      "  --url_file TEXT                 Add the url to a downloaded file\n",
      "  -h, --help                      Show this message and exit.\n"
     ]
    }
   ],
   "source": [
    "!pypgatk_cli.py ensembl-downloader -h"
   ]
  },
  {
   "cell_type": "markdown",
   "id": "cfe4e0d8",
   "metadata": {
    "slideshow": {
     "slide_type": "slide"
    }
   },
   "source": [
    "\n",
    "#### Get taxonomy ID for the species of interest\n",
    "However, as shown above we need to specify a taxonomy number in order to get files from a reference assembly for our species of interest. \n",
    "\n",
    "Can you find the taxonomy ID for homo sapiens using the following command?"
   ]
  },
  {
   "cell_type": "code",
   "execution_count": 21,
   "id": "57c9a0ea",
   "metadata": {
    "slideshow": {
     "slide_type": "subslide"
    }
   },
   "outputs": [
    {
     "name": "stdout",
     "output_type": "stream",
     "text": [
      "Determination of memory status is not supported on this \n",
      " platform, measuring for memoryleaks will never fail\n",
      "{'groups': ['rnaseq', 'otherfeatures', 'core'], 'strain_collection': None, 'assembly': 'bStrHab1_v1.p', 'taxon_id': '2489341', 'strain': None, 'display_name': 'Kakapo', 'common_name': 'Kakapo', 'accession': 'GCA_004027225.1', 'name': 'strigops_habroptila', 'division': 'EnsemblVertebrates', 'release': 106, 'aliases': []}\n",
      "{'aliases': [], 'division': 'EnsemblVertebrates', 'release': 106, 'name': 'erythrura_gouldiae', 'accession': 'GCA_003676055.1', 'common_name': 'Gouldian finch', 'display_name': 'Gouldian finch', 'strain': None, 'taxon_id': '44316', 'assembly': 'GouldianFinch', 'strain_collection': None, 'groups': ['rnaseq', 'core']}\n",
      "{'accession': 'GCA_000298355.1', 'division': 'EnsemblVertebrates', 'release': 106, 'name': 'bos_mutus', 'aliases': [], 'groups': ['core', 'rnaseq', 'otherfeatures'], 'assembly': 'BosGru_v2.0', 'strain_collection': None, 'display_name': 'Wild yak', 'strain': None, 'taxon_id': '72004', 'common_name': 'wild yak'}\n",
      "{'aliases': ['doguera baboon', 'olive baboon', 'kenya baboon', 'papio anubis'], 'name': 'papio_anubis', 'release': 106, 'division': 'EnsemblVertebrates', 'accession': 'GCA_008728515.1', 'common_name': 'olive baboon', 'strain': None, 'taxon_id': '9555', 'display_name': 'Olive baboon', 'strain_collection': None, 'assembly': 'Panubis1.0', 'groups': ['rnaseq', 'otherfeatures', 'core', 'funcgen']}\n",
      "{'division': 'EnsemblVertebrates', 'release': 106, 'name': 'erpetoichthys_calabaricus', 'accession': 'GCA_900747795.2', 'aliases': [], 'assembly': 'fErpCal1.1', 'strain_collection': None, 'groups': ['rnaseq', 'otherfeatures', 'core'], 'common_name': 'reedfish', 'display_name': 'Reedfish', 'strain': None, 'taxon_id': '27687'}\n",
      "{'assembly': 'panpan1.1', 'strain_collection': None, 'groups': ['funcgen', 'core', 'rnaseq', 'otherfeatures'], 'common_name': 'bonobo', 'display_name': 'Bonobo', 'taxon_id': '9597', 'strain': None, 'release': 106, 'division': 'EnsemblVertebrates', 'name': 'pan_paniscus', 'accession': 'GCA_000258655.2', 'aliases': []}\n",
      "{'accession': 'GCA_001624215.1', 'release': 106, 'division': 'EnsemblVertebrates', 'name': 'mus_musculus_aj', 'aliases': [], 'groups': ['funcgen', 'core'], 'assembly': 'A_J_v1', 'strain_collection': None, 'display_name': 'Mouse A/J', 'strain': 'A/J', 'taxon_id': '10090', 'common_name': 'mouse'}\n",
      "{'groups': ['core', 'funcgen', 'rnaseq', 'otherfeatures'], 'strain_collection': None, 'assembly': 'gorGor4', 'taxon_id': '9595', 'strain': None, 'display_name': 'Gorilla', 'common_name': 'Western Lowland Gorilla', 'accession': 'GCA_000151905.3', 'name': 'gorilla_gorilla', 'division': 'EnsemblVertebrates', 'release': 106, 'aliases': ['gorilla_gorilla_gorilla', 'gorilla gorilla', 'ggorilla', 'western gorilla', 'gorgor', 'ggor', '9595', 'gorilla gorilla gorilla', '9593', 'gorilla']}\n",
      "{'strain_collection': None, 'assembly': 'GRCz11', 'groups': ['otherfeatures', 'rnaseq', 'variation', 'core', 'funcgen'], 'common_name': 'zebrafish', 'strain': None, 'taxon_id': '7955', 'display_name': 'Zebrafish', 'name': 'danio_rerio', 'release': 106, 'division': 'EnsemblVertebrates', 'accession': 'GCA_000002035.4', 'aliases': ['danrer', 'zfish', 'danio', 'drer', '7955', 'zebrafish', 'danio rerio', 'd_rerio', 'drerio']}\n",
      "{'aliases': [], 'division': 'EnsemblVertebrates', 'release': 106, 'name': 'mus_musculus_nzohlltj', 'accession': 'GCA_001624745.1', 'common_name': 'mouse', 'display_name': 'Mouse NZO/HlLtJ', 'strain': 'NZO/HlLtJ', 'taxon_id': '10090', 'assembly': 'NZO_HlLtJ_v1', 'strain_collection': None, 'groups': ['core', 'funcgen']}\n",
      "{'assembly': 'TREESHREW', 'strain_collection': None, 'groups': ['core'], 'common_name': 'northern tree shrew', 'display_name': 'Tree Shrew', 'strain': None, 'taxon_id': '37347', 'release': 106, 'division': 'EnsemblVertebrates', 'name': 'tupaia_belangeri', 'accession': None, 'aliases': ['tree shrew', 'tupbel', 'northern tree shrew', '37347', 'tbelangeri', 'tbel', 'tupaia belangeri', 'tree_shrew']}\n",
      "{'strain_collection': None, 'assembly': 'Pan_tro_3.0', 'groups': ['otherfeatures', 'rnaseq', 'variation', 'core', 'funcgen'], 'common_name': 'chimpanzee', 'taxon_id': '9598', 'strain': None, 'display_name': 'Chimpanzee', 'name': 'pan_troglodytes', 'division': 'EnsemblVertebrates', 'release': 106, 'accession': 'GCA_000001515.5', 'aliases': ['9598', 'common chimpanzee', 'chimp', 'pan troglodytes', 'ptro', 'ptroglodytes', 'chimpanzee', 'pantro']}\n",
      "{'accession': 'GCA_900634795.2', 'division': 'EnsemblVertebrates', 'release': 106, 'name': 'betta_splendens', 'aliases': [], 'groups': ['core', 'otherfeatures', 'rnaseq'], 'assembly': 'fBetSpl5.2', 'strain_collection': None, 'display_name': 'Siamese fighting fish', 'taxon_id': '158456', 'strain': None, 'common_name': 'Siamese fighting fish'}\n",
      "{'aliases': [], 'accession': 'GCA_010411085.1', 'release': 106, 'division': 'EnsemblVertebrates', 'name': 'cervus_hanglu_yarkandensis', 'display_name': 'Yarkand deer', 'taxon_id': '84702', 'strain': None, 'common_name': 'Yarkand deer', 'groups': ['rnaseq', 'core'], 'assembly': 'CEY_v1', 'strain_collection': None}\n",
      "{'assembly': 'SAMN03320099.WGS_v1.1', 'strain_collection': None, 'groups': ['otherfeatures', 'rnaseq', 'core'], 'common_name': 'blind barbel', 'display_name': 'Blind barbel', 'strain': None, 'taxon_id': '1608454', 'division': 'EnsemblVertebrates', 'release': 106, 'name': 'sinocyclocheilus_anshuiensis', 'accession': 'GCA_001515605.1', 'aliases': []}\n",
      "{'aliases': [], 'accession': 'GCA_900080235.1', 'division': 'EnsemblVertebrates', 'release': 106, 'name': 'labrus_bergylta', 'display_name': 'Ballan wrasse', 'strain': None, 'taxon_id': '56723', 'common_name': 'ballan wrasse', 'groups': ['otherfeatures', 'rnaseq', 'core'], 'assembly': 'BallGen_V1', 'strain_collection': None}\n",
      "{'groups': ['core', 'rnaseq', 'otherfeatures'], 'assembly': 'fTakRub1.2', 'strain_collection': None, 'display_name': 'Fugu', 'strain': None, 'taxon_id': '31033', 'common_name': 'fugu', 'accession': 'GCA_901000725.2', 'division': 'EnsemblVertebrates', 'release': 106, 'name': 'takifugu_rubripes', 'aliases': []}\n",
      "{'aliases': ['9785', 'african savanna elephant', 'african_elephant', 'elephant', 'lafr', 'loxafr', 'lafricana', 'loxodonta africana'], 'accession': 'GCA_000001905.1', 'release': 106, 'division': 'EnsemblVertebrates', 'name': 'loxodonta_africana', 'display_name': 'Elephant', 'taxon_id': '9785', 'strain': None, 'common_name': 'African savanna elephant', 'groups': ['core'], 'assembly': 'loxAfr3', 'strain_collection': None}\n",
      "{'name': 'sphenodon_punctatus', 'division': 'EnsemblVertebrates', 'release': 106, 'accession': 'GCA_003113815.1', 'aliases': [], 'strain_collection': None, 'assembly': 'ASM311381v1', 'groups': ['otherfeatures', 'rnaseq', 'core'], 'common_name': 'tuatara', 'strain': None, 'taxon_id': '8508', 'display_name': 'Tuatara'}\n",
      "{'groups': ['rnaseq', 'otherfeatures', 'core'], 'assembly': 'mBalMus1.v2', 'strain_collection': None, 'display_name': 'Blue whale', 'strain': None, 'taxon_id': '9771', 'common_name': 'Blue whale', 'accession': 'GCA_009873245.2', 'release': 106, 'division': 'EnsemblVertebrates', 'name': 'balaenoptera_musculus', 'aliases': []}\n",
      "{'aliases': [], 'name': 'salarias_fasciatus', 'division': 'EnsemblVertebrates', 'release': 106, 'accession': 'GCA_902148845.1', 'common_name': 'jewelled blenny', 'strain': None, 'taxon_id': '181472', 'display_name': 'Jewelled blenny', 'strain_collection': None, 'assembly': 'fSalaFa1.1', 'groups': ['core', 'rnaseq', 'otherfeatures']}\n",
      "{'accession': 'GCA_003665695.2', 'name': 'electrophorus_electricus', 'release': 106, 'division': 'EnsemblVertebrates', 'aliases': [], 'groups': ['core', 'rnaseq', 'otherfeatures'], 'strain_collection': None, 'assembly': 'Ee_SOAP_WITH_SSPACE', 'strain': None, 'taxon_id': '8005', 'display_name': 'Electric eel', 'common_name': 'electric eel'}\n",
      "{'name': 'oncorhynchus_mykiss', 'release': 106, 'division': 'EnsemblVertebrates', 'accession': 'GCA_013265735.3', 'aliases': [], 'strain_collection': None, 'assembly': 'USDA_OmykA_1.1', 'groups': ['rnaseq', 'core'], 'common_name': 'rainbow trout', 'strain': None, 'taxon_id': '8022', 'display_name': 'Rainbow trout'}\n",
      "{'aliases': [], 'name': 'sus_scrofa_tibetan', 'division': 'EnsemblVertebrates', 'release': 106, 'accession': 'GCA_000472085.2', 'common_name': 'pig', 'taxon_id': '9823', 'strain': 'tibetan', 'display_name': 'Pig - Tibetan', 'strain_collection': None, 'assembly': 'Tibetan_Pig_v2', 'groups': ['core', 'otherfeatures', 'rnaseq']}\n",
      "{'common_name': 'Great spotted kiwi', 'strain': None, 'taxon_id': '8823', 'display_name': 'Great spotted kiwi', 'strain_collection': None, 'assembly': 'aptHaa1', 'groups': ['rnaseq', 'core'], 'aliases': [], 'name': 'apteryx_haastii', 'division': 'EnsemblVertebrates', 'release': 106, 'accession': 'GCA_003342985.1'}\n",
      "{'groups': ['rnaseq', 'otherfeatures', 'core'], 'strain_collection': None, 'assembly': 'AstBur1.0', 'taxon_id': '8153', 'strain': None, 'display_name': \"Burton's mouthbrooder\", 'common_name': \"Burton's mouthbrooder\", 'accession': 'GCA_000239415.1', 'name': 'haplochromis_burtoni', 'division': 'EnsemblVertebrates', 'release': 106, 'aliases': []}\n",
      "{'name': 'choloepus_hoffmanni', 'release': 106, 'division': 'EnsemblVertebrates', 'accession': None, 'aliases': [\"hoffmann's two-fingered sloth\", 'two-toed sloth', 'choloepus hoffmanni', 'chof', 'choloepus', 'sloth', 'choffmanni', 'chohof', 'choloepushoffmanni', '9358'], 'strain_collection': None, 'assembly': 'choHof1', 'groups': ['core'], 'common_name': \"Hoffmann's two-fingered sloth\", 'taxon_id': '9358', 'strain': None, 'display_name': 'Sloth'}\n",
      "{'name': 'monodelphis_domestica', 'release': 106, 'division': 'EnsemblVertebrates', 'accession': 'GCA_000002295.1', 'aliases': ['opossum', 'gray short-tailed opossum', 'mondom', '13616', 'monodelphis domestica', 'broado5', 'mdomestica', 'mdom'], 'strain_collection': None, 'assembly': 'ASM229v1', 'groups': ['rnaseq', 'core', 'variation'], 'common_name': 'gray short-tailed opossum', 'taxon_id': '13616', 'strain': None, 'display_name': 'Opossum'}\n",
      "{'groups': ['otherfeatures', 'rnaseq', 'core'], 'assembly': 'ASM143184v1', 'strain_collection': None, 'display_name': 'Ruff', 'taxon_id': '198806', 'strain': None, 'common_name': 'ruff', 'accession': 'GCA_001431845.1', 'release': 106, 'division': 'EnsemblVertebrates', 'name': 'calidris_pugnax', 'aliases': []}\n",
      "{'aliases': [], 'division': 'EnsemblVertebrates', 'release': 106, 'name': 'ornithorhynchus_anatinus', 'accession': 'GCA_004115215.2', 'common_name': 'platypus', 'display_name': 'Platypus', 'strain': None, 'taxon_id': '9258', 'assembly': 'mOrnAna1.p.v1', 'strain_collection': None, 'groups': ['otherfeatures', 'rnaseq', 'variation', 'funcgen', 'core']}\n",
      "{'accession': 'GCA_001632555.1', 'name': 'mus_musculus_c57bl6nj', 'division': 'EnsemblVertebrates', 'release': 106, 'aliases': [], 'groups': ['funcgen', 'core'], 'strain_collection': None, 'assembly': 'C57BL_6NJ_v1', 'taxon_id': '10090', 'strain': 'C57BL/6NJ', 'display_name': 'Mouse C57BL/6NJ', 'common_name': 'mouse'}\n",
      "{'aliases': ['maceug', 'noteug', 'macropus', 'notamacropus eugenii', 'macropuseugenii', 'macropus_eugenii', 'meugenii', 'wallaby', '9315', 'neug', 'notamacropuseugenii', 'neugenii', 'meug', 'tammar wallaby', 'macropus eugenii', 'notamacropus'], 'accession': 'GCA_000004035.1', 'division': 'EnsemblVertebrates', 'release': 106, 'name': 'notamacropus_eugenii', 'display_name': 'Wallaby', 'strain': None, 'taxon_id': '9315', 'common_name': 'tammar wallaby', 'groups': ['core'], 'assembly': 'Meug_1.0', 'strain_collection': None}\n",
      "{'display_name': 'Gilthead seabream', 'taxon_id': '8175', 'strain': None, 'common_name': 'gilthead seabream', 'groups': ['otherfeatures', 'rnaseq', 'core'], 'assembly': 'fSpaAur1.1', 'strain_collection': None, 'aliases': [], 'accession': 'GCA_900880675.1', 'division': 'EnsemblVertebrates', 'release': 106, 'name': 'sparus_aurata'}\n",
      "{'division': 'EnsemblVertebrates', 'release': 106, 'name': 'anas_platyrhynchos', 'accession': 'GCA_008746955.1', 'aliases': [], 'assembly': 'ASM874695v1', 'strain_collection': None, 'groups': ['rnaseq', 'core'], 'common_name': 'mallard', 'display_name': 'Mallard', 'taxon_id': '8839', 'strain': None}\n",
      "{'accession': 'GCA_001515645.1', 'release': 106, 'division': 'EnsemblVertebrates', 'name': 'sinocyclocheilus_grahami', 'aliases': [], 'groups': ['core', 'rnaseq', 'otherfeatures'], 'assembly': 'SAMN03320097.WGS_v1.1', 'strain_collection': None, 'display_name': 'Golden-line barbel', 'taxon_id': '75366', 'strain': None, 'common_name': 'golden-line barbel'}\n",
      "{'assembly': 'STF_HiC', 'strain_collection': None, 'groups': ['core', 'rnaseq'], 'common_name': 'small tree finch', 'display_name': 'Small tree finch', 'strain': None, 'taxon_id': '87175', 'division': 'EnsemblVertebrates', 'release': 106, 'name': 'camarhynchus_parvulus', 'accession': 'GCA_901933205.1', 'aliases': []}\n",
      "{'common_name': 'dog', 'display_name': 'Dog - Basenji', 'taxon_id': '9615', 'strain': 'basenji', 'assembly': 'Basenji_breed-1.1', 'strain_collection': None, 'groups': ['rnaseq', 'funcgen', 'core'], 'aliases': [], 'division': 'EnsemblVertebrates', 'release': 106, 'name': 'canis_lupus_familiarisbasenji', 'accession': 'GCA_004886185.1'}\n",
      "{'name': 'serinus_canaria', 'division': 'EnsemblVertebrates', 'release': 106, 'accession': 'GCA_000534875.1', 'aliases': [], 'strain_collection': None, 'assembly': 'SCA1', 'groups': ['rnaseq', 'otherfeatures', 'core'], 'common_name': 'common canary', 'taxon_id': '9135', 'strain': None, 'display_name': 'Common canary'}\n",
      "{'aliases': [], 'accession': 'GCA_004329235.1', 'division': 'EnsemblVertebrates', 'release': 106, 'name': 'podarcis_muralis', 'display_name': 'Common wall lizard', 'taxon_id': '64176', 'strain': None, 'common_name': 'common wall lizard', 'groups': ['core', 'rnaseq'], 'assembly': 'PodMur_1.0', 'strain_collection': None}\n",
      "{'aliases': [], 'division': 'EnsemblVertebrates', 'release': 106, 'name': 'gadus_morhua', 'accession': 'GCA_902167405.1', 'common_name': 'Atlantic cod', 'display_name': 'Atlantic cod', 'taxon_id': '8049', 'strain': None, 'assembly': 'gadMor3.0', 'strain_collection': None, 'groups': ['core', 'rnaseq']}\n",
      "{'aliases': [], 'division': 'EnsemblVertebrates', 'release': 106, 'name': 'ictalurus_punctatus', 'accession': 'GCA_001660625.1', 'common_name': 'channel catfish', 'display_name': 'Channel catfish', 'taxon_id': '7998', 'strain': None, 'assembly': 'IpCoco_1.2', 'strain_collection': None, 'groups': ['rnaseq', 'otherfeatures', 'funcgen', 'core']}\n",
      "{'division': 'EnsemblVertebrates', 'release': 106, 'name': 'mola_mola', 'accession': 'GCA_001698575.1', 'aliases': [], 'assembly': 'ASM169857v1', 'strain_collection': None, 'groups': ['core'], 'common_name': 'ocean sunfish', 'display_name': 'Ocean sunfish', 'strain': None, 'taxon_id': '94237'}\n",
      "{'strain_collection': None, 'assembly': 'cyaCae2', 'groups': ['core', 'rnaseq', 'otherfeatures'], 'common_name': 'blue tit', 'taxon_id': '156563', 'strain': None, 'display_name': 'Blue tit', 'name': 'cyanistes_caeruleus', 'release': 106, 'division': 'EnsemblVertebrates', 'accession': 'GCA_002901205.1', 'aliases': []}\n",
      "{'common_name': 'dog', 'strain': 'boxer', 'taxon_id': '9615', 'display_name': 'Dog - Boxer', 'strain_collection': None, 'assembly': 'Dog10K_Boxer_Tasha', 'groups': ['otherfeatures', 'rnaseq', 'variation', 'core', 'funcgen'], 'aliases': [], 'name': 'canis_lupus_familiarisboxer', 'division': 'EnsemblVertebrates', 'release': 106, 'accession': 'GCA_000002285.4'}\n",
      "{'name': 'tetraodon_nigroviridis', 'division': 'EnsemblVertebrates', 'release': 106, 'accession': None, 'aliases': ['tetnig', 'fresh water pufferfish', 'tnig', 'tetraodon', '99883', 'tnigroviridis', 'tetraodon nigroviridis', 'spotted green pufferfish'], 'strain_collection': None, 'assembly': 'TETRAODON8', 'groups': ['core', 'variation', 'otherfeatures'], 'common_name': 'spotted green pufferfish', 'strain': None, 'taxon_id': '99883', 'display_name': 'Tetraodon'}\n",
      "{'assembly': 'Susie_PABv2', 'strain_collection': None, 'groups': ['variation', 'core', 'otherfeatures', 'rnaseq'], 'common_name': 'Sumatran orangutan', 'display_name': 'Sumatran orangutan', 'strain': None, 'taxon_id': '9601', 'division': 'EnsemblVertebrates', 'release': 106, 'name': 'pongo_abelii', 'accession': 'GCA_002880775.3', 'aliases': ['pongo abelii', 'sumatran orangutan', 'bornean orangutan', 'orangutan']}\n",
      "{'name': 'cyprinus_carpio_germanmirror', 'division': 'EnsemblVertebrates', 'release': 106, 'accession': 'GCA_004011555.1', 'aliases': [], 'strain_collection': None, 'assembly': 'German_Mirror_carp_1.0', 'groups': ['core', 'rnaseq'], 'common_name': 'common carp german mirror', 'taxon_id': '7962', 'strain': None, 'display_name': 'Common carp german mirror'}\n",
      "{'division': 'EnsemblVertebrates', 'release': 106, 'name': 'mus_musculus_fvbnj', 'accession': 'GCA_001624535.1', 'aliases': [], 'assembly': 'FVB_NJ_v1', 'strain_collection': None, 'groups': ['core', 'funcgen'], 'common_name': 'mouse', 'display_name': 'Mouse FVB/NJ', 'taxon_id': '10090', 'strain': 'FVB/NJ'}\n",
      "{'name': 'nothobranchius_furzeri', 'release': 106, 'division': 'EnsemblVertebrates', 'accession': 'GCA_001465895.2', 'aliases': [], 'strain_collection': None, 'assembly': 'Nfu_20140520', 'groups': ['core', 'rnaseq', 'otherfeatures'], 'common_name': 'turquoise killifish', 'strain': None, 'taxon_id': '105023', 'display_name': 'Turquoise killifish'}\n",
      "{'aliases': [], 'release': 106, 'division': 'EnsemblVertebrates', 'name': 'poecilia_latipinna', 'accession': 'GCA_001443285.1', 'common_name': 'sailfin molly', 'display_name': 'Sailfin molly', 'strain': None, 'taxon_id': '48699', 'assembly': 'P_latipinna-1.0', 'strain_collection': None, 'groups': ['otherfeatures', 'rnaseq', 'core']}\n",
      "{'aliases': [], 'accession': 'GCA_001624295.1', 'name': 'mus_musculus_akrj', 'division': 'EnsemblVertebrates', 'release': 106, 'taxon_id': '10090', 'strain': 'AKR/J', 'display_name': 'Mouse AKR/J', 'common_name': 'mouse', 'groups': ['funcgen', 'core'], 'strain_collection': None, 'assembly': 'AKR_J_v1'}\n",
      "{'aliases': ['cgri', 'cgriseus_chok1gshd', 'crigri', 'cricetulus griseus chok1gshd', 'chinese hamster chok1gs'], 'accession': 'GCA_900186095.1', 'name': 'cricetulus_griseus_chok1gshd', 'division': 'EnsemblVertebrates', 'release': 106, 'taxon_id': '10029', 'strain': None, 'display_name': 'Chinese hamster CHOK1GS', 'common_name': 'Chinese hamster', 'groups': ['otherfeatures', 'rnaseq', 'funcgen', 'core'], 'strain_collection': None, 'assembly': 'CHOK1GS_HDv1'}\n",
      "{'strain_collection': None, 'assembly': 'Hebao_red_carp_1.0', 'groups': ['rnaseq', 'core'], 'common_name': 'common carp hebao red', 'strain': None, 'taxon_id': '7962', 'display_name': 'Common carp hebao red', 'name': 'cyprinus_carpio_hebaored', 'release': 106, 'division': 'EnsemblVertebrates', 'accession': 'GCA_004011595.1', 'aliases': []}\n",
      "{'common_name': 'pig', 'display_name': 'Pig - Largewhite', 'strain': 'largewhite', 'taxon_id': '9823', 'assembly': 'Large_White_v1', 'strain_collection': None, 'groups': ['otherfeatures', 'rnaseq', 'core'], 'aliases': [], 'division': 'EnsemblVertebrates', 'release': 106, 'name': 'sus_scrofa_largewhite', 'accession': 'GCA_001700135.1'}\n",
      "{'accession': 'GCA_001649575.1', 'division': 'EnsemblVertebrates', 'release': 106, 'name': 'kryptolebias_marmoratus', 'aliases': [], 'groups': ['core', 'otherfeatures', 'rnaseq'], 'assembly': 'ASM164957v1', 'strain_collection': None, 'display_name': 'Mangrove rivulus', 'taxon_id': '37003', 'strain': None, 'common_name': 'mangrove rivulus'}\n",
      "{'division': 'EnsemblVertebrates', 'release': 106, 'name': 'peromyscus_maniculatus_bairdii', 'accession': 'GCA_003704035.1', 'aliases': ['230844', 'pman', 'pmaniculatus_bairdii', 'northern american deer mouse', 'perman', 'peromyscus maniculatus bairdii'], 'assembly': 'HU_Pman_2.1', 'strain_collection': None, 'groups': ['core'], 'common_name': 'Northern American deer mouse', 'display_name': 'Northern American deer mouse', 'strain': None, 'taxon_id': '230844'}\n",
      "{'strain_collection': None, 'assembly': 'OtuSun1.0', 'groups': ['rnaseq', 'core'], 'common_name': 'Oriental scops-owl', 'taxon_id': '257818', 'strain': None, 'display_name': 'Oriental scops-owl', 'name': 'otus_sunia', 'release': 106, 'division': 'EnsemblVertebrates', 'accession': 'GCA_010365825.1', 'aliases': []}\n",
      "{'common_name': 'European shrew', 'display_name': 'Shrew', 'taxon_id': '42254', 'strain': None, 'assembly': 'COMMON_SHREW1', 'strain_collection': None, 'groups': ['core'], 'aliases': ['saraneus', '42254', 'sorara', 'sara', 'shrew', 'european shrew', 'european_shrew', 'sorex araneus', 'ground_shrew'], 'release': 106, 'division': 'EnsemblVertebrates', 'name': 'sorex_araneus', 'accession': None}\n",
      "{'taxon_id': '132908', 'strain': None, 'display_name': 'Megabat', 'common_name': 'large flying fox', 'groups': ['core'], 'strain_collection': None, 'assembly': 'pteVam1', 'aliases': ['pteropusvampyrus', 'pteropus vampyrus', 'large flying fox', '132908', 'pvam', 'pvampyrus', 'megabat', 'ptevam'], 'accession': None, 'name': 'pteropus_vampyrus', 'division': 'EnsemblVertebrates', 'release': 106}\n",
      "{'strain_collection': None, 'assembly': 'Sscrofa11.1', 'groups': ['core', 'funcgen', 'variation', 'rnaseq', 'otherfeatures'], 'common_name': 'pig', 'taxon_id': '9823', 'strain': 'reference', 'display_name': 'Pig', 'name': 'sus_scrofa', 'release': 106, 'division': 'EnsemblVertebrates', 'accession': 'GCA_000003025.6', 'aliases': ['sus scrofa', 'swine', 'sscrofa', 'wild boar', 'sscr', '9823', 'pigs', 'pig']}\n",
      "{'aliases': [], 'accession': 'GCA_005444595.1', 'division': 'EnsemblVertebrates', 'release': 106, 'name': 'canis_lupus_familiarisgreatdane', 'display_name': 'Dog - Great Dane', 'strain': 'great_dane', 'taxon_id': '9615', 'common_name': 'dog', 'groups': ['core', 'funcgen', 'rnaseq'], 'assembly': 'UMICH_Zoey_3.1', 'strain_collection': None}\n",
      "{'name': 'ictidomys_tridecemlineatus', 'release': 106, 'division': 'EnsemblVertebrates', 'accession': 'GCA_000236235.1', 'aliases': ['43179', 'spetri', 'thirteen-lined ground squirrel', 'spermophilus_tridecemlineatus', 'ictidomys tridecemlineatus', 'stridecemlineatus', 'stri', 'squirrel'], 'strain_collection': None, 'assembly': 'SpeTri2.0', 'groups': ['rnaseq', 'otherfeatures', 'core'], 'common_name': 'thirteen-lined ground squirrel', 'taxon_id': '43179', 'strain': None, 'display_name': 'Squirrel'}\n",
      "{'display_name': 'Brown trout', 'strain': None, 'taxon_id': '8032', 'common_name': 'brown trout', 'groups': ['core', 'rnaseq', 'otherfeatures'], 'assembly': 'fSalTru1.1', 'strain_collection': None, 'aliases': [], 'accession': 'GCA_901001165.1', 'division': 'EnsemblVertebrates', 'release': 106, 'name': 'salmo_trutta'}\n",
      "{'groups': ['otherfeatures', 'core'], 'assembly': 'OctDeg1.0', 'strain_collection': None, 'display_name': 'Degu', 'strain': None, 'taxon_id': '10160', 'common_name': 'Degu', 'accession': 'GCA_000260255.1', 'division': 'EnsemblVertebrates', 'release': 106, 'name': 'octodon_degus', 'aliases': ['odeg', '10160', 'octdeg', 'degu', 'odegus', 'octodon degus']}\n",
      "{'groups': ['core', 'otherfeatures', 'rnaseq'], 'strain_collection': None, 'assembly': 'M_albus_1.0', 'strain': None, 'taxon_id': '43700', 'display_name': 'Swamp eel', 'common_name': 'swamp eel', 'accession': 'GCA_001952655.1', 'name': 'monopterus_albus', 'division': 'EnsemblVertebrates', 'release': 106, 'aliases': []}\n",
      "{'name': 'aotus_nancymaae', 'division': 'EnsemblVertebrates', 'release': 106, 'accession': 'GCA_000952055.2', 'aliases': [], 'strain_collection': None, 'assembly': 'Anan_2.0', 'groups': ['core', 'funcgen', 'rnaseq', 'otherfeatures'], 'common_name': \"Ma's night monkey\", 'taxon_id': '37293', 'strain': None, 'display_name': \"Ma's night monkey\"}\n",
      "{'common_name': 'Siberian musk deer', 'display_name': 'Siberian musk deer', 'strain': None, 'taxon_id': '68415', 'assembly': 'MosMos_v2_BIUU_UCD', 'strain_collection': None, 'groups': ['core', 'rnaseq'], 'aliases': [], 'division': 'EnsemblVertebrates', 'release': 106, 'name': 'moschus_moschiferus', 'accession': 'GCA_004024705.2'}\n",
      "{'division': 'EnsemblVertebrates', 'release': 106, 'name': 'oryzias_latipes_hni', 'accession': 'GCA_002234715.1', 'aliases': [], 'assembly': 'ASM223471v1', 'strain_collection': None, 'groups': ['core', 'rnaseq'], 'common_name': 'Japanese medaka HNI', 'display_name': 'Japanese medaka HNI', 'strain': None, 'taxon_id': '8090'}\n",
      "{'aliases': [], 'accession': 'GCA_001604975.1', 'name': 'cebus_capucinus', 'division': 'EnsemblVertebrates', 'release': 106, 'taxon_id': '2715852', 'strain': None, 'display_name': 'Capuchin', 'common_name': 'White-headed capuchin', 'groups': ['rnaseq', 'otherfeatures', 'funcgen', 'core'], 'strain_collection': None, 'assembly': 'Cebus_imitator-1.0'}\n",
      "{'groups': ['rnaseq', 'core'], 'assembly': 'fCycLum1.pri', 'strain_collection': None, 'display_name': 'Lumpfish', 'taxon_id': '8103', 'strain': None, 'common_name': 'lumpfish', 'accession': 'GCA_009769545.1', 'division': 'EnsemblVertebrates', 'release': 106, 'name': 'cyclopterus_lumpus', 'aliases': []}\n",
      "{'assembly': 'ROS_Cfam_1.0', 'strain_collection': None, 'groups': ['rnaseq', 'otherfeatures', 'core', 'funcgen', 'variation'], 'common_name': 'dog', 'display_name': 'Dog', 'taxon_id': '9615', 'strain': 'Labrador retriever', 'release': 106, 'division': 'EnsemblVertebrates', 'name': 'canis_lupus_familiaris', 'accession': 'GCA_014441545.1', 'aliases': ['canis familiaris', 'dog', 'canis lupus familiaris']}\n",
      "{'taxon_id': '173247', 'strain': None, 'display_name': 'Live sharksucker', 'common_name': 'live sharksucker', 'groups': ['core', 'otherfeatures', 'rnaseq'], 'strain_collection': None, 'assembly': 'fEcheNa1.1', 'aliases': [], 'accession': 'GCA_900963305.1', 'name': 'echeneis_naucrates', 'release': 106, 'division': 'EnsemblVertebrates'}\n",
      "{'taxon_id': '59463', 'strain': None, 'display_name': 'Microbat', 'common_name': 'little brown bat', 'groups': ['otherfeatures', 'core'], 'strain_collection': None, 'assembly': 'Myoluc2.0', 'aliases': ['59463', 'little brown bat', 'myoluc', 'mluc', 'mlucifugus', 'microbat', 'myotis lucifugus', 'little_brown_bat'], 'accession': 'GCA_000147115.1', 'name': 'myotis_lucifugus', 'division': 'EnsemblVertebrates', 'release': 106}\n",
      "{'aliases': [], 'accession': 'GCA_001632575.1', 'name': 'mus_musculus_c3hhej', 'division': 'EnsemblVertebrates', 'release': 106, 'strain': 'C3H/HeJ', 'taxon_id': '10090', 'display_name': 'Mouse C3H/HeJ', 'common_name': 'mouse', 'groups': ['funcgen', 'core'], 'strain_collection': None, 'assembly': 'C3H_HeJ_v1'}\n",
      "{'aliases': ['vervet monkey', '60711', 'csabaeus', 'african green monkey', 'chlorocebus_sabeus', 'csab', 'vervet-agm', 'agm', 'chlorocebus sabaeus', 'chlorocebus sabeus', 'chlsab'], 'division': 'EnsemblVertebrates', 'release': 106, 'name': 'chlorocebus_sabaeus', 'accession': 'GCA_000409795.2', 'common_name': 'African green monkey', 'display_name': 'Vervet-AGM', 'taxon_id': '60711', 'strain': None, 'assembly': 'ChlSab1.1', 'strain_collection': None, 'groups': ['variation', 'core', 'otherfeatures', 'rnaseq']}\n",
      "{'display_name': 'Tropical clawed frog', 'taxon_id': '8364', 'strain': None, 'common_name': 'tropical clawed frog', 'groups': ['funcgen', 'core', 'rnaseq', 'otherfeatures'], 'assembly': 'Xenopus_tropicalis_v9.1', 'strain_collection': None, 'aliases': [], 'accession': 'GCA_000004195.3', 'division': 'EnsemblVertebrates', 'release': 106, 'name': 'xenopus_tropicalis'}\n",
      "{'aliases': [], 'accession': 'GCA_000633615.2', 'name': 'poecilia_reticulata', 'division': 'EnsemblVertebrates', 'release': 106, 'taxon_id': '8081', 'strain': None, 'display_name': 'Guppy', 'common_name': 'guppy', 'groups': ['core', 'rnaseq', 'otherfeatures'], 'strain_collection': None, 'assembly': 'Guppy_female_1.0_MT'}\n",
      "{'groups': ['otherfeatures', 'rnaseq', 'core'], 'assembly': 'aptRow1', 'strain_collection': None, 'display_name': 'Okarito brown kiwi', 'strain': None, 'taxon_id': '308060', 'common_name': 'Okarito brown kiwi', 'accession': 'GCA_003343035.1', 'release': 106, 'division': 'EnsemblVertebrates', 'name': 'apteryx_rowi', 'aliases': []}\n",
      "{'assembly': 'Okis_V2', 'strain_collection': None, 'groups': ['otherfeatures', 'rnaseq', 'core'], 'common_name': 'coho salmon', 'display_name': 'Coho salmon', 'strain': None, 'taxon_id': '8019', 'division': 'EnsemblVertebrates', 'release': 106, 'name': 'oncorhynchus_kisutch', 'accession': 'GCA_002021735.2', 'aliases': []}\n",
      "{'aliases': [], 'accession': 'GCA_003369685.2', 'release': 106, 'division': 'EnsemblVertebrates', 'name': 'bos_taurus_hybrid', 'display_name': 'Hybrid - Bos Taurus', 'taxon_id': '30522', 'strain': None, 'common_name': 'hybrid cattle', 'groups': ['core', 'rnaseq', 'otherfeatures'], 'assembly': 'UOA_Angus_1', 'strain_collection': None}\n",
      "{'accession': 'GCA_015227675.2', 'name': 'rattus_norvegicus', 'release': 106, 'division': 'EnsemblVertebrates', 'aliases': ['rattus norvegicus', 'rat'], 'groups': ['rnaseq', 'otherfeatures', 'funcgen', 'core', 'variation'], 'strain_collection': None, 'assembly': 'mRatBN7.2', 'strain': 'BN/NHsdMcwi', 'taxon_id': '10116', 'display_name': 'Rat', 'common_name': 'Norway rat'}\n",
      "{'assembly': 'Cang.pa_1.0', 'strain_collection': None, 'groups': ['core', 'funcgen', 'otherfeatures'], 'common_name': 'Angola colobus', 'display_name': 'Angola colobus', 'strain': None, 'taxon_id': '336983', 'division': 'EnsemblVertebrates', 'release': 106, 'name': 'colobus_angolensis_palliatus', 'accession': 'GCA_000951035.1', 'aliases': []}\n",
      "{'aliases': [], 'division': 'EnsemblVertebrates', 'release': 106, 'name': 'macaca_fascicularis', 'accession': 'GCA_011100615.1', 'common_name': 'Crab-eating macaque', 'display_name': 'Crab-eating macaque', 'strain': None, 'taxon_id': '9541', 'assembly': 'Macaca_fascicularis_6.0', 'strain_collection': None, 'groups': ['rnaseq', 'core']}\n",
      "{'aliases': ['domestic guinea pig', 'cporcellus', 'guinea pig', 'cpor', '10141', 'cavpor', 'guinea_pig', 'cavia porcellus'], 'accession': 'GCA_000151735.1', 'name': 'cavia_porcellus', 'division': 'EnsemblVertebrates', 'release': 106, 'taxon_id': '10141', 'strain': None, 'display_name': 'Guinea Pig', 'common_name': 'domestic guinea pig', 'groups': ['funcgen', 'core', 'otherfeatures', 'rnaseq'], 'strain_collection': None, 'assembly': 'Cavpor3.0'}\n",
      "{'taxon_id': '7994', 'strain': None, 'display_name': 'Mexican tetra', 'common_name': 'Mexican tetra', 'groups': ['rnaseq', 'core'], 'strain_collection': None, 'assembly': 'Astyanax_mexicanus-2.0', 'aliases': ['amex', '7994', 'astyanax mexicanus', 'amexicanus', 'cave fish', 'astmex'], 'accession': 'GCA_000372685.2', 'name': 'astyanax_mexicanus', 'release': 106, 'division': 'EnsemblVertebrates'}\n",
      "{'strain_collection': None, 'assembly': 'HEDGEHOG', 'groups': ['core'], 'common_name': 'western European hedgehog', 'strain': None, 'taxon_id': '9365', 'display_name': 'Hedgehog', 'name': 'erinaceus_europaeus', 'release': 106, 'division': 'EnsemblVertebrates', 'accession': None, 'aliases': ['hedgehog', 'eeuropaeus', '9365', 'erieur', 'western european hedgehog', 'eeur', 'western_european_hedgehog', 'erinaceus europaeus']}\n",
      "{'release': 106, 'division': 'EnsemblVertebrates', 'name': 'bos_indicus_hybrid', 'accession': 'GCA_003369695.2', 'aliases': [], 'assembly': 'UOA_Brahman_1', 'strain_collection': None, 'groups': ['rnaseq', 'otherfeatures', 'core'], 'common_name': 'hybrid cattle', 'display_name': 'Hybrid - Bos Indicus', 'strain': None, 'taxon_id': '30522'}\n",
      "{'aliases': [], 'accession': 'GCA_002592135.1', 'release': 106, 'division': 'EnsemblVertebrates', 'name': 'anser_brachyrhynchus', 'display_name': 'Pink-footed goose', 'strain': None, 'taxon_id': '132585', 'common_name': 'pink-footed goose', 'groups': ['core'], 'assembly': 'ASM259213v1', 'strain_collection': None}\n",
      "{'common_name': \"Coquerel's sifaka\", 'strain': None, 'taxon_id': '379532', 'display_name': \"Coquerel's sifaka\", 'strain_collection': None, 'assembly': 'Pcoq_1.0', 'groups': ['otherfeatures', 'funcgen', 'core'], 'aliases': [], 'name': 'propithecus_coquereli', 'release': 106, 'division': 'EnsemblVertebrates', 'accession': 'GCA_000956105.1'}\n",
      "{'common_name': 'blue-crowned manakin', 'taxon_id': '321398', 'strain': None, 'display_name': 'Blue-crowned manakin', 'strain_collection': None, 'assembly': 'Lepidothrix_coronata-1.0', 'groups': ['rnaseq', 'otherfeatures', 'core'], 'aliases': [], 'name': 'lepidothrix_coronata', 'release': 106, 'division': 'EnsemblVertebrates', 'accession': 'GCA_001604755.1'}\n",
      "{'aliases': ['tiger'], 'release': 106, 'division': 'EnsemblVertebrates', 'name': 'panthera_tigris_altaica', 'accession': 'GCA_000464555.1', 'common_name': 'Tiger', 'display_name': 'Tiger', 'strain': None, 'taxon_id': '74533', 'assembly': 'PanTig1.0', 'strain_collection': None, 'groups': ['core', 'rnaseq', 'otherfeatures']}\n",
      "{'release': 106, 'division': 'EnsemblVertebrates', 'name': 'chelonoidis_abingdonii', 'accession': 'GCA_003597395.1', 'aliases': [], 'assembly': 'ASM359739v1', 'strain_collection': None, 'groups': ['core', 'rnaseq'], 'common_name': 'Abingdon island giant tortoise', 'display_name': 'Abingdon island giant tortoise', 'strain': None, 'taxon_id': '106734'}\n",
      "{'aliases': ['tarsius_syrichta', 'tsyr', '9478', 'csyrichta', 'csyr', 'carlitosyrichta', 'carlito', 'carsyr', 'tsyrichta', 'tarsius syrichta', 'philippine tarsier', 'tarsiussyrichta', 'tarsyr', 'carlito syrichta', 'tarsier'], 'accession': 'GCA_000164805.2', 'release': 106, 'division': 'EnsemblVertebrates', 'name': 'carlito_syrichta', 'display_name': 'Tarsier', 'strain': None, 'taxon_id': '1868482', 'common_name': 'Philippine tarsier', 'groups': ['core', 'funcgen', 'otherfeatures'], 'assembly': 'Tarsius_syrichta-2.0.1', 'strain_collection': None}\n",
      "{'aliases': [], 'accession': 'GCA_001704415.1', 'name': 'capra_hircus', 'division': 'EnsemblVertebrates', 'release': 106, 'taxon_id': '9925', 'strain': 'reference', 'display_name': 'Goat', 'common_name': 'Goat', 'groups': ['variation', 'funcgen', 'core', 'otherfeatures', 'rnaseq'], 'strain_collection': None, 'assembly': 'ARS1'}\n",
      "{'common_name': 'Ryukyu mouse', 'strain': 'CAROLI_EIJ', 'taxon_id': '10089', 'display_name': 'Ryukyu mouse', 'strain_collection': None, 'assembly': 'CAROLI_EIJ_v1.1', 'groups': ['core'], 'aliases': ['mus caroli', 'ryukyu mouse', 'mcaroli', '10089', 'muscar', 'mcar'], 'name': 'mus_caroli', 'release': 106, 'division': 'EnsemblVertebrates', 'accession': 'GCA_900094665.2'}\n",
      "{'assembly': 'MusPutFur1.0', 'strain_collection': None, 'groups': ['core', 'otherfeatures', 'rnaseq'], 'common_name': 'Domestic ferret', 'display_name': 'Ferret', 'taxon_id': '9669', 'strain': None, 'division': 'EnsemblVertebrates', 'release': 106, 'name': 'mustela_putorius_furo', 'accession': 'GCA_000215625.1', 'aliases': ['9669', 'musput', 'mputorius_furo', 'domestic ferret', 'mput', 'ferret', 'mustela putorius furo']}\n",
      "{'aliases': ['cavia aperea', 'brazilian guinea pig', 'cavape', '37548', 'cape', 'caperea'], 'name': 'cavia_aperea', 'release': 106, 'division': 'EnsemblVertebrates', 'accession': 'GCA_000688575.1', 'common_name': 'Brazilian guinea pig', 'strain': None, 'taxon_id': '37548', 'display_name': 'Brazilian guinea pig', 'strain_collection': None, 'assembly': 'CavAp1.0', 'groups': ['core']}\n",
      "{'accession': 'GCA_003047355.1', 'name': 'amphiprion_percula', 'division': 'EnsemblVertebrates', 'release': 106, 'aliases': [], 'groups': ['core', 'rnaseq'], 'strain_collection': None, 'assembly': 'Nemo_v1', 'taxon_id': '161767', 'strain': None, 'display_name': 'Orange clownfish', 'common_name': 'orange clownfish'}\n",
      "{'taxon_id': '9689', 'strain': None, 'display_name': 'Lion', 'common_name': 'lion', 'groups': ['core'], 'strain_collection': None, 'assembly': 'PanLeo1.0', 'aliases': [], 'accession': 'GCA_008795835.1', 'name': 'panthera_leo', 'release': 106, 'division': 'EnsemblVertebrates'}\n",
      "{'accession': 'GCA_002743455.1', 'release': 106, 'division': 'EnsemblVertebrates', 'name': 'anas_platyrhynchos_platyrhynchos', 'aliases': [], 'groups': ['rnaseq', 'core', 'funcgen'], 'assembly': 'CAU_duck1.0', 'strain_collection': None, 'display_name': 'Duck', 'taxon_id': '8840', 'strain': None, 'common_name': 'common mallard'}\n",
      "{'aliases': ['ngal', '1026970', 'nannospalax galili', 'nangal', 'upper galilee mountains blind mole rat', 'ngalili'], 'accession': 'GCA_000622305.1', 'name': 'nannospalax_galili', 'division': 'EnsemblVertebrates', 'release': 106, 'taxon_id': '1026970', 'strain': None, 'display_name': 'Upper Galilee mountains blind mole rat', 'common_name': 'Upper Galilee mountains blind mole rat', 'groups': ['rnaseq', 'otherfeatures', 'funcgen', 'core'], 'strain_collection': None, 'assembly': 'S.galili_v1.0'}\n",
      "{'strain': None, 'taxon_id': '7950', 'display_name': 'Atlantic herring', 'common_name': 'Atlantic herring', 'groups': ['core', 'rnaseq'], 'strain_collection': None, 'assembly': 'Ch_v2.0.2', 'aliases': [], 'accession': 'GCA_900700415.1', 'name': 'clupea_harengus', 'division': 'EnsemblVertebrates', 'release': 106}\n",
      "{'aliases': [], 'release': 106, 'division': 'EnsemblVertebrates', 'name': 'cyprinus_carpio_huanghe', 'accession': 'GCA_004011575.1', 'common_name': 'common carp huanghe', 'display_name': 'Common carp huanghe', 'strain': None, 'taxon_id': '7962', 'assembly': 'Hunaghe_carp_2.0', 'strain_collection': None, 'groups': ['core', 'rnaseq']}\n",
      "{'aliases': [], 'division': 'EnsemblVertebrates', 'release': 106, 'name': 'hucho_hucho', 'accession': 'GCA_003317085.1', 'common_name': 'huchen', 'display_name': 'Huchen', 'strain': None, 'taxon_id': '62062', 'assembly': 'ASM331708v1', 'strain_collection': None, 'groups': ['rnaseq', 'core']}\n",
      "{'name': 'numida_meleagris', 'release': 106, 'division': 'EnsemblVertebrates', 'accession': 'GCA_002078875.2', 'aliases': [], 'strain_collection': None, 'assembly': 'NumMel1.0', 'groups': ['otherfeatures', 'rnaseq', 'core'], 'common_name': 'helmeted guineafowl', 'taxon_id': '8996', 'strain': None, 'display_name': 'Helmeted guineafowl'}\n",
      "{'division': 'EnsemblVertebrates', 'release': 106, 'name': 'lonchura_striata_domestica', 'accession': 'GCA_002197715.1', 'aliases': [], 'assembly': 'LonStrDom1', 'strain_collection': None, 'groups': ['rnaseq', 'otherfeatures', 'core'], 'common_name': 'Bengalese finch', 'display_name': 'Bengalese finch', 'taxon_id': '299123', 'strain': None}\n",
      "{'display_name': 'C.intestinalis', 'taxon_id': '7719', 'strain': None, 'common_name': 'Sea squirt Ciona intestinalis', 'groups': ['funcgen', 'core', 'otherfeatures'], 'assembly': 'KH', 'strain_collection': None, 'aliases': ['7719', 'cioint', 'ciona intestinalis', 'c.intestinalis', 'ciona', 'sea squirt ciona intestinalis', 'cint', 'cintestinalis'], 'accession': 'GCA_000224145.1', 'release': 106, 'division': 'EnsemblVertebrates', 'name': 'ciona_intestinalis'}\n",
      "{'aliases': ['vicugna pacos', 'vicpac', 'alpaca', '30538', 'vpac', 'vpacos', 'vicugnapacos'], 'accession': None, 'division': 'EnsemblVertebrates', 'release': 106, 'name': 'vicugna_pacos', 'display_name': 'Alpaca', 'strain': None, 'taxon_id': '30538', 'common_name': 'alpaca', 'groups': ['core'], 'assembly': 'vicPac1', 'strain_collection': None}\n",
      "{'aliases': [], 'release': 106, 'division': 'EnsemblVertebrates', 'name': 'ailuropoda_melanoleuca', 'accession': 'GCA_002007445.2', 'common_name': 'giant panda', 'display_name': 'Giant panda', 'strain': 'reference', 'taxon_id': '9646', 'assembly': 'ASM200744v2', 'strain_collection': None, 'groups': ['rnaseq', 'otherfeatures', 'core']}\n",
      "{'accession': 'GCA_002234695.1', 'name': 'oryzias_latipes_hsok', 'division': 'EnsemblVertebrates', 'release': 106, 'aliases': [], 'groups': ['core', 'rnaseq'], 'strain_collection': None, 'assembly': 'ASM223469v1', 'strain': None, 'taxon_id': '8090', 'display_name': 'Japanese medaka HSOK', 'common_name': 'Japanese medaka HSOK'}\n",
      "{'strain': 'reference', 'taxon_id': '9940', 'display_name': 'Sheep', 'common_name': 'sheep', 'groups': ['core', 'variation', 'rnaseq', 'otherfeatures'], 'strain_collection': None, 'assembly': 'Oar_rambouillet_v1.0', 'aliases': [], 'accession': 'GCA_002742125.1', 'name': 'ovis_aries_rambouillet', 'division': 'EnsemblVertebrates', 'release': 106}\n",
      "{'assembly': 'Dasnov3.0', 'strain_collection': None, 'groups': ['otherfeatures', 'rnaseq', 'core'], 'common_name': 'nine-banded armadillo', 'display_name': 'Armadillo', 'taxon_id': '9361', 'strain': None, 'release': 106, 'division': 'EnsemblVertebrates', 'name': 'dasypus_novemcinctus', 'accession': 'GCA_000208655.2', 'aliases': ['dnovemcinctus', 'armadillo', 'arma', 'nine-banded armadillo', 'dasypus novemcinctu', 'dasypus novemcinctus', 'dnov', 'dasnov', '9361']}\n",
      "{'aliases': [], 'accession': 'GCA_009194515.1', 'name': 'cairina_moschata_domestica', 'division': 'EnsemblVertebrates', 'release': 106, 'taxon_id': '1240228', 'strain': None, 'display_name': 'Muscovy Duck (domestic type)', 'common_name': 'muscovy Duck (domestic type)', 'groups': ['core', 'rnaseq'], 'strain_collection': None, 'assembly': 'CaiMos1.0'}\n",
      "{'aliases': [], 'accession': 'GCA_003344425.1', 'release': 106, 'division': 'EnsemblVertebrates', 'name': 'ursus_americanus', 'display_name': 'American black bear', 'taxon_id': '9643', 'strain': None, 'common_name': 'American black bear', 'groups': ['rnaseq', 'core'], 'assembly': 'ASM334442v1', 'strain_collection': None}\n",
      "{'accession': 'GCA_000769185.1', 'division': 'EnsemblVertebrates', 'release': 106, 'name': 'rhinopithecus_roxellana', 'aliases': [], 'groups': ['core', 'funcgen', 'otherfeatures', 'rnaseq'], 'assembly': 'Rrox_v1', 'strain_collection': None, 'display_name': 'Golden snub-nosed monkey', 'taxon_id': '61622', 'strain': None, 'common_name': 'Golden snub-nosed monkey'}\n",
      "{'aliases': [], 'accession': 'GCA_902150065.1', 'release': 106, 'division': 'EnsemblVertebrates', 'name': 'myripristis_murdjan', 'display_name': 'Pinecone soldierfish', 'taxon_id': '586833', 'strain': None, 'common_name': 'pinecone soldierfish', 'groups': ['rnaseq', 'otherfeatures', 'core'], 'assembly': 'fMyrMur1.1', 'strain_collection': None}\n",
      "{'aliases': ['8090', 'japanese medaka', 'olatipes', 'orylat', 'oryzias latipes', 'olat', 'medaka'], 'accession': 'GCA_002234675.1', 'name': 'oryzias_latipes', 'release': 106, 'division': 'EnsemblVertebrates', 'strain': None, 'taxon_id': '8090', 'display_name': 'Japanese medaka HdrR', 'common_name': 'Japanese medaka HdrR', 'groups': ['core', 'rnaseq', 'otherfeatures'], 'strain_collection': None, 'assembly': 'ASM223467v1'}\n",
      "{'strain_collection': None, 'assembly': 'M_zebra_UMD2a', 'groups': ['rnaseq', 'otherfeatures', 'core'], 'common_name': 'zebra mbuna', 'taxon_id': '106582', 'strain': None, 'display_name': 'Zebra mbuna', 'name': 'maylandia_zebra', 'release': 106, 'division': 'EnsemblVertebrates', 'accession': 'GCA_000238955.5', 'aliases': []}\n",
      "{'accession': 'GCA_010303855.1', 'name': 'bubo_bubo', 'division': 'EnsemblVertebrates', 'release': 106, 'aliases': [], 'groups': ['rnaseq', 'core'], 'strain_collection': None, 'assembly': 'BubBub1.0', 'taxon_id': '30461', 'strain': None, 'display_name': 'Eurasian eagle-owl', 'common_name': 'Eurasian eagle-owl'}\n",
      "{'name': 'ficedula_albicollis', 'release': 106, 'division': 'EnsemblVertebrates', 'accession': 'GCA_000247815.2', 'aliases': [], 'strain_collection': None, 'assembly': 'FicAlb1.5', 'groups': ['otherfeatures', 'rnaseq', 'core'], 'common_name': 'Collared flycatcher', 'strain': None, 'taxon_id': '59894', 'display_name': 'Collared flycatcher'}\n",
      "{'aliases': [], 'accession': 'GCA_004143745.1', 'release': 106, 'division': 'EnsemblVertebrates', 'name': 'phasianus_colchicus', 'display_name': 'Ring-necked pheasant', 'strain': None, 'taxon_id': '9054', 'common_name': 'Ring-necked pheasant', 'groups': ['rnaseq', 'core'], 'assembly': 'ASM414374v1', 'strain_collection': None}\n",
      "{'groups': ['core', 'otherfeatures', 'rnaseq'], 'assembly': 'ASM325472v1', 'strain_collection': None, 'display_name': 'Dingo', 'taxon_id': '286419', 'strain': None, 'common_name': 'dingo', 'accession': 'GCA_003254725.1', 'division': 'EnsemblVertebrates', 'release': 106, 'name': 'canis_lupus_dingo', 'aliases': []}\n",
      "{'assembly': 'droNov1', 'strain_collection': None, 'groups': ['core', 'rnaseq', 'otherfeatures'], 'common_name': 'emu', 'display_name': 'Emu', 'taxon_id': '8790', 'strain': None, 'release': 106, 'division': 'EnsemblVertebrates', 'name': 'dromaius_novaehollandiae', 'accession': 'GCA_003342905.1', 'aliases': []}\n",
      "{'division': 'EnsemblVertebrates', 'release': 106, 'name': 'cyprinodon_variegatus', 'accession': 'GCA_000732505.1', 'aliases': [], 'assembly': 'C_variegatus-1.0', 'strain_collection': None, 'groups': ['funcgen', 'core', 'otherfeatures', 'rnaseq'], 'common_name': 'sheepshead minnow', 'display_name': 'Sheepshead minnow', 'strain': None, 'taxon_id': '28743'}\n",
      "{'assembly': 'ASM869450v1', 'strain_collection': None, 'groups': ['rnaseq', 'core'], 'common_name': 'rufous-capped babbler', 'display_name': 'Rufous-capped babbler', 'strain': None, 'taxon_id': '181631', 'division': 'EnsemblVertebrates', 'release': 106, 'name': 'stachyris_ruficeps', 'accession': 'GCA_008694505.1', 'aliases': []}\n",
      "{'name': 'callithrix_jacchus', 'release': 106, 'division': 'EnsemblVertebrates', 'accession': 'GCA_011100555.1', 'aliases': ['callithrix jacchus', 'marmoset', 'white-tufted-ear marmoset'], 'strain_collection': None, 'assembly': 'mCalJac1.pat.X', 'groups': ['rnaseq', 'core', 'funcgen'], 'common_name': 'white-tufted-ear marmoset', 'strain': None, 'taxon_id': '9483', 'display_name': 'White-tufted-ear marmoset'}\n",
      "{'strain_collection': None, 'assembly': 'Prosim_1.0', 'groups': ['core', 'funcgen'], 'common_name': 'greater bamboo lemur', 'taxon_id': '1328070', 'strain': None, 'display_name': 'Greater bamboo lemur', 'name': 'prolemur_simus', 'division': 'EnsemblVertebrates', 'release': 106, 'accession': 'GCA_003258685.1', 'aliases': []}\n",
      "{'name': 'eptatretus_burgeri', 'release': 106, 'division': 'EnsemblVertebrates', 'accession': 'GCA_900186335.2', 'aliases': ['hagfish'], 'strain_collection': None, 'assembly': 'Eburgeri_3.2', 'groups': ['rnaseq', 'core'], 'common_name': 'Inshore hagfish', 'taxon_id': '7764', 'strain': None, 'display_name': 'Hagfish'}\n",
      "{'strain_collection': None, 'assembly': 'TS10Xv2-PRI', 'groups': ['core', 'rnaseq', 'otherfeatures'], 'common_name': 'mainland tiger snake', 'taxon_id': '8663', 'strain': None, 'display_name': 'Mainland tiger snake', 'name': 'notechis_scutatus', 'division': 'EnsemblVertebrates', 'release': 106, 'accession': 'GCA_900518725.1', 'aliases': []}\n",
      "{'aliases': [], 'accession': 'GCA_004115265.2', 'release': 106, 'division': 'EnsemblVertebrates', 'name': 'rhinolophus_ferrumequinum', 'display_name': 'Greater horseshoe bat', 'taxon_id': '59479', 'strain': None, 'common_name': 'greater horseshoe bat', 'groups': ['rnaseq', 'core'], 'assembly': 'mRhiFer1_v1.p', 'strain_collection': None}\n",
      "{'groups': ['core', 'funcgen', 'otherfeatures', 'rnaseq'], 'assembly': 'ASM1334776v1', 'strain_collection': None, 'display_name': 'Turbot', 'taxon_id': '52904', 'strain': None, 'common_name': 'turbot', 'accession': 'GCA_013347765.1', 'division': 'EnsemblVertebrates', 'release': 106, 'name': 'scophthalmus_maximus', 'aliases': []}\n",
      "{'name': 'gopherus_evgoodei', 'release': 106, 'division': 'EnsemblVertebrates', 'accession': 'GCA_007399415.1', 'aliases': [], 'strain_collection': None, 'assembly': 'rGopEvg1_v1.p', 'groups': ['rnaseq', 'otherfeatures', 'core'], 'common_name': 'Goodes thornscrub tortoise', 'strain': None, 'taxon_id': '1825980', 'display_name': 'Goodes thornscrub tortoise'}\n",
      "{'taxon_id': '51338', 'strain': None, 'display_name': 'American beaver', 'common_name': 'American beaver', 'groups': ['core', 'rnaseq', 'otherfeatures'], 'strain_collection': None, 'assembly': 'C.can_genome_v1.0', 'aliases': [], 'accession': 'GCA_001984765.1', 'name': 'castor_canadensis', 'release': 106, 'division': 'EnsemblVertebrates'}\n",
      "{'aliases': [], 'division': 'EnsemblVertebrates', 'release': 106, 'name': 'sus_scrofa_meishan', 'accession': 'GCA_001700195.1', 'common_name': 'pig', 'display_name': 'Pig - Meishan', 'strain': 'meishan', 'taxon_id': '9823', 'assembly': 'Meishan_pig_v1', 'strain_collection': None, 'groups': ['core', 'rnaseq', 'otherfeatures']}\n",
      "{'assembly': 'ASM277652v2', 'strain_collection': None, 'groups': ['rnaseq', 'funcgen', 'core'], 'common_name': 'Ugandan red Colobus', 'display_name': 'Ugandan red Colobus', 'strain': None, 'taxon_id': '591936', 'release': 106, 'division': 'EnsemblVertebrates', 'name': 'piliocolobus_tephrosceles', 'accession': 'GCA_002776525.2', 'aliases': []}\n",
      "{'groups': ['rnaseq', 'otherfeatures', 'core', 'funcgen'], 'assembly': 'ASM169854v1', 'strain_collection': None, 'display_name': 'Black snub-nosed monkey', 'taxon_id': '61621', 'strain': None, 'common_name': 'Black snub-nosed monkey', 'accession': 'GCA_001698545.1', 'release': 106, 'division': 'EnsemblVertebrates', 'name': 'rhinopithecus_bieti', 'aliases': []}\n",
      "{'display_name': 'Mummichog', 'strain': None, 'taxon_id': '8078', 'common_name': 'mummichog', 'groups': ['core', 'funcgen', 'rnaseq', 'otherfeatures'], 'assembly': 'Fundulus_heteroclitus-3.0.2', 'strain_collection': None, 'aliases': [], 'accession': 'GCA_000826765.1', 'division': 'EnsemblVertebrates', 'release': 106, 'name': 'fundulus_heteroclitus'}\n",
      "{'aliases': ['scerevisiae', 'saccharomyces cerevisiae s288c', 'saccharomyces cerevisiae', 's_cerevisiae', \"saccharomyces cerevisiae (baker's yeast)\", 'scer', \"baker's yeast\", '4932'], 'release': 106, 'division': 'EnsemblVertebrates', 'name': 'saccharomyces_cerevisiae', 'accession': 'GCA_000146045.2', 'common_name': \"baker's yeast\", 'display_name': 'Saccharomyces cerevisiae', 'strain': 'S288C', 'taxon_id': '559292', 'assembly': 'R64-1-1', 'strain_collection': None, 'groups': ['otherfeatures', 'variation', 'core', 'funcgen']}\n",
      "{'groups': ['core', 'rnaseq'], 'strain_collection': None, 'assembly': 'mSciVul1.1', 'taxon_id': '55149', 'strain': None, 'display_name': 'Eurasian red squirrel', 'common_name': 'Eurasian red squirrel', 'accession': 'GCA_902686455.1', 'name': 'sciurus_vulgaris', 'release': 106, 'division': 'EnsemblVertebrates', 'aliases': []}\n",
      "{'aliases': ['cgriseus_crigri', 'chinese hamster crigri', 'cricetulus griseus crigri'], 'division': 'EnsemblVertebrates', 'release': 106, 'name': 'cricetulus_griseus_crigri', 'accession': 'GCA_000223135.1', 'common_name': 'Chinese hamster', 'display_name': 'Chinese hamster CriGri', 'taxon_id': '10029', 'strain': None, 'assembly': 'CriGri_1.0', 'strain_collection': None, 'groups': ['rnaseq', 'otherfeatures', 'core', 'funcgen']}\n",
      "{'aliases': [], 'division': 'EnsemblVertebrates', 'release': 106, 'name': 'buteo_japonicus', 'accession': 'GCA_010312235.1', 'common_name': 'eastern buzzard', 'display_name': 'Eastern buzzard', 'taxon_id': '224669', 'strain': None, 'assembly': 'ButJap1.0', 'strain_collection': None, 'groups': ['core', 'rnaseq']}\n",
      "{'taxon_id': '10096', 'strain': 'SPRET/EiJ', 'display_name': 'Algerian mouse', 'common_name': 'algerian mouse', 'groups': ['funcgen', 'core'], 'strain_collection': None, 'assembly': 'SPRET_EiJ_v1', 'aliases': ['mspretus', 'western mediterranean mouse', 'mus_spretus_spret_eij', 'spreteij'], 'accession': 'GCA_001624865.1', 'name': 'mus_spretus', 'division': 'EnsemblVertebrates', 'release': 106}\n",
      "{'accession': 'GCA_900324465.2', 'division': 'EnsemblVertebrates', 'release': 106, 'name': 'anabas_testudineus', 'aliases': [], 'groups': ['rnaseq', 'core'], 'assembly': 'fAnaTes1.2', 'strain_collection': None, 'display_name': 'Climbing perch', 'taxon_id': '64144', 'strain': None, 'common_name': 'climbing perch'}\n",
      "{'assembly': 'Mleu.le_1.0', 'strain_collection': None, 'groups': ['otherfeatures', 'funcgen', 'core'], 'common_name': 'Drill', 'display_name': 'Drill', 'taxon_id': '9568', 'strain': None, 'division': 'EnsemblVertebrates', 'release': 106, 'name': 'mandrillus_leucophaeus', 'accession': 'GCA_000951045.1', 'aliases': []}\n",
      "{'aliases': [], 'accession': 'GCA_000239375.1', 'name': 'pundamilia_nyererei', 'release': 106, 'division': 'EnsemblVertebrates', 'strain': None, 'taxon_id': '303518', 'display_name': 'Makobe Island cichlid', 'common_name': 'Makobe Island cichlid', 'groups': ['core', 'rnaseq', 'otherfeatures'], 'strain_collection': None, 'assembly': 'PunNye1.0'}\n",
      "{'accession': 'GCA_001522545.2', 'name': 'parus_major', 'division': 'EnsemblVertebrates', 'release': 106, 'aliases': [], 'groups': ['variation', 'core', 'otherfeatures', 'rnaseq'], 'strain_collection': None, 'assembly': 'Parus_major1.1', 'strain': None, 'taxon_id': '9157', 'display_name': 'Great Tit', 'common_name': 'Great Tit'}\n",
      "{'groups': ['rnaseq', 'otherfeatures', 'core'], 'assembly': 'Cse_v1.0', 'strain_collection': None, 'display_name': 'Tongue sole', 'taxon_id': '244447', 'strain': None, 'common_name': 'tongue sole', 'accession': 'GCA_000523025.1', 'division': 'EnsemblVertebrates', 'release': 106, 'name': 'cynoglossus_semilaevis', 'aliases': []}\n",
      "{'name': 'sus_scrofa_hampshire', 'release': 106, 'division': 'EnsemblVertebrates', 'accession': 'GCA_001700165.1', 'aliases': [], 'strain_collection': None, 'assembly': 'Hampshire_pig_v1', 'groups': ['core', 'rnaseq', 'otherfeatures'], 'common_name': 'pig', 'strain': 'hampshire', 'taxon_id': '9823', 'display_name': 'Pig - Hampshire'}\n",
      "{'strain_collection': None, 'assembly': 'Astyanax_mexicanus-1.0.2', 'groups': ['rnaseq', 'core'], 'common_name': 'Pachon cavefish', 'strain': None, 'taxon_id': '7994', 'display_name': 'Pachon cavefish', 'name': 'astyanax_mexicanus_pachon', 'release': 106, 'division': 'EnsemblVertebrates', 'accession': 'GCA_004802775.1', 'aliases': []}\n",
      "{'aliases': ['mesocricetus auratus', 'golden hamster', 'maur', '10036', 'mauratus', 'mesaur'], 'accession': 'GCA_000349665.1', 'division': 'EnsemblVertebrates', 'release': 106, 'name': 'mesocricetus_auratus', 'display_name': 'Golden Hamster', 'taxon_id': '10036', 'strain': None, 'common_name': 'Golden Hamster', 'groups': ['core', 'funcgen', 'otherfeatures'], 'assembly': 'MesAur1.0', 'strain_collection': None}\n",
      "{'aliases': [], 'accession': 'GCA_001443325.1', 'name': 'poecilia_mexicana', 'release': 106, 'division': 'EnsemblVertebrates', 'strain': None, 'taxon_id': '48701', 'display_name': 'Shortfin molly', 'common_name': 'shortfin molly', 'groups': ['rnaseq', 'otherfeatures', 'core'], 'strain_collection': None, 'assembly': 'P_mexicana-1.0'}\n",
      "{'common_name': 'swan goose', 'display_name': 'Swan goose', 'taxon_id': '8845', 'strain': None, 'assembly': 'GooseV1.0', 'strain_collection': None, 'groups': ['core', 'rnaseq'], 'aliases': [], 'release': 106, 'division': 'EnsemblVertebrates', 'name': 'anser_cygnoides', 'accession': 'GCA_002166845.1'}\n",
      "{'aliases': [], 'name': 'amazona_collaria', 'release': 106, 'division': 'EnsemblVertebrates', 'accession': 'GCA_003947215.1', 'common_name': 'yellow-billed parrot', 'strain': None, 'taxon_id': '241587', 'display_name': 'Yellow-billed parrot', 'strain_collection': None, 'assembly': 'ASM394721v1', 'groups': ['rnaseq', 'core']}\n",
      "{'groups': ['core', 'rnaseq', 'otherfeatures'], 'assembly': 'fMasArm1.2', 'strain_collection': None, 'display_name': 'Zig-zag eel', 'strain': None, 'taxon_id': '205130', 'common_name': 'zig-zag eel', 'accession': 'GCA_900324485.2', 'division': 'EnsemblVertebrates', 'release': 106, 'name': 'mastacembelus_armatus', 'aliases': []}\n",
      "{'aliases': [], 'release': 106, 'division': 'EnsemblVertebrates', 'name': 'varanus_komodoensis', 'accession': 'GCA_004798865.1', 'common_name': 'Komodo dragon', 'display_name': 'Komodo dragon', 'taxon_id': '61221', 'strain': None, 'assembly': 'ASM479886v1', 'strain_collection': None, 'groups': ['core', 'rnaseq']}\n",
      "{'aliases': [], 'name': 'denticeps_clupeoides', 'release': 106, 'division': 'EnsemblVertebrates', 'accession': 'GCA_900700375.1', 'common_name': 'denticle herring', 'taxon_id': '299321', 'strain': None, 'display_name': 'Denticle herring', 'strain_collection': None, 'assembly': 'fDenClu1.1', 'groups': ['core', 'rnaseq', 'otherfeatures']}\n",
      "{'name': 'felis_catus', 'division': 'EnsemblVertebrates', 'release': 106, 'accession': 'GCA_000181335.4', 'aliases': ['fcat', 'felis catus', 'domestic cat', 'fcatus', 'felcat', '9685', 'cat'], 'strain_collection': None, 'assembly': 'Felis_catus_9.0', 'groups': ['variation', 'core', 'funcgen', 'otherfeatures', 'rnaseq'], 'common_name': 'domestic cat', 'taxon_id': '9685', 'strain': None, 'display_name': 'Cat'}\n",
      "{'aliases': [], 'division': 'EnsemblVertebrates', 'release': 106, 'name': 'callorhinchus_milii', 'accession': 'GCA_000165045.2', 'common_name': 'elephant shark', 'display_name': 'Elephant shark', 'taxon_id': '7868', 'strain': None, 'assembly': 'Callorhinchus_milii-6.1.3', 'strain_collection': None, 'groups': ['otherfeatures', 'rnaseq', 'core']}\n",
      "{'common_name': 'blue-ringed sea krait', 'taxon_id': '8630', 'strain': None, 'display_name': 'Blue-ringed sea krait', 'strain_collection': None, 'assembly': 'latLat_1.0', 'groups': ['rnaseq', 'core'], 'aliases': [], 'name': 'laticauda_laticaudata', 'division': 'EnsemblVertebrates', 'release': 106, 'accession': 'GCA_004320025.1'}\n",
      "{'display_name': 'Stickleback', 'taxon_id': '69293', 'strain': None, 'common_name': 'three-spined stickleback', 'groups': ['core', 'otherfeatures'], 'assembly': 'BROADS1', 'strain_collection': None, 'aliases': ['stickleback', 'gaculeatus', 'gacu', 'gasterosteus aculeatus', 'three spined stickleback', 'gasacu', 'three-spined stickleback', '69293'], 'accession': None, 'release': 106, 'division': 'EnsemblVertebrates', 'name': 'gasterosteus_aculeatus'}\n",
      "{'strain': None, 'taxon_id': '30732', 'display_name': 'Indian medaka', 'common_name': 'Indian medaka', 'groups': ['rnaseq', 'core'], 'strain_collection': None, 'assembly': 'Om_v0.7.RACA', 'aliases': [], 'accession': 'GCA_002922805.1', 'name': 'oryzias_melastigma', 'division': 'EnsemblVertebrates', 'release': 106}\n",
      "{'assembly': 'LepOcu1', 'strain_collection': None, 'groups': ['otherfeatures', 'rnaseq', 'core'], 'common_name': 'Spotted gar', 'display_name': 'Spotted gar', 'taxon_id': '7918', 'strain': None, 'release': 106, 'division': 'EnsemblVertebrates', 'name': 'lepisosteus_oculatus', 'accession': 'GCA_000242695.1', 'aliases': ['lepocu', 'spotted gar', 'lepisosteus oculatus', '7918', 'loculatus', 'locu']}\n",
      "{'name': 'mus_pahari', 'division': 'EnsemblVertebrates', 'release': 106, 'accession': 'GCA_900095145.2', 'aliases': ['mus pahari', 'mpah', 'mpahari', 'muspah', '10093', 'shrew mouse'], 'strain_collection': None, 'assembly': 'PAHARI_EIJ_v1.1', 'groups': ['core'], 'common_name': 'Shrew mouse', 'taxon_id': '10093', 'strain': 'PAHARI_EIJ', 'display_name': 'Shrew mouse'}\n",
      "{'common_name': 'American bison', 'taxon_id': '43346', 'strain': None, 'display_name': 'American bison', 'strain_collection': None, 'assembly': 'Bison_UMD1.0', 'groups': ['core', 'otherfeatures'], 'aliases': [], 'name': 'bison_bison_bison', 'release': 106, 'division': 'EnsemblVertebrates', 'accession': 'GCA_000754665.1'}\n",
      "{'aliases': ['9978', 'opri', 'ochpri', 'ochotona princeps', 'american pika', 'oprinceps', 'pika'], 'accession': None, 'name': 'ochotona_princeps', 'release': 106, 'division': 'EnsemblVertebrates', 'strain': None, 'taxon_id': '9978', 'display_name': 'Pika', 'common_name': 'American pika', 'groups': ['core'], 'strain_collection': None, 'assembly': 'OchPri2.0-Ens'}\n",
      "{'assembly': 'SaiBol1.0', 'strain_collection': None, 'groups': ['otherfeatures', 'rnaseq', 'funcgen', 'core'], 'common_name': 'Bolivian squirrel monkey', 'display_name': 'Bolivian squirrel monkey', 'taxon_id': '39432', 'strain': None, 'division': 'EnsemblVertebrates', 'release': 106, 'name': 'saimiri_boliviensis_boliviensis', 'accession': 'GCA_000235385.1', 'aliases': []}\n",
      "{'accession': 'GCA_003586115.1', 'name': 'salvator_merianae', 'division': 'EnsemblVertebrates', 'release': 106, 'aliases': [], 'groups': ['core', 'rnaseq'], 'strain_collection': None, 'assembly': 'HLtupMer3', 'taxon_id': '96440', 'strain': None, 'display_name': 'Argentine black and white tegu', 'common_name': 'Argentine black and white tegu'}\n",
      "{'aliases': ['heterocephalus glaber male', 'hgla', 'naked mole-rat male', '10181', 'hetgla', 'naked mole-rat', 'hglaber_male'], 'accession': 'GCA_000230445.1', 'division': 'EnsemblVertebrates', 'release': 106, 'name': 'heterocephalus_glaber_male', 'display_name': 'Naked mole-rat male', 'strain': None, 'taxon_id': '10181', 'common_name': 'naked mole-rat', 'groups': ['rnaseq', 'otherfeatures', 'core'], 'assembly': 'HetGla_1.0', 'strain_collection': None}\n",
      "{'strain_collection': None, 'assembly': 'Nana_v5', 'groups': ['rnaseq', 'core'], 'common_name': 'Indian cobra', 'strain': None, 'taxon_id': '35670', 'display_name': 'Indian cobra', 'name': 'naja_naja', 'division': 'EnsemblVertebrates', 'release': 106, 'accession': 'GCA_009733165.1', 'aliases': []}\n",
      "{'accession': 'GCA_000002315.5', 'name': 'gallus_gallus', 'division': 'EnsemblVertebrates', 'release': 106, 'aliases': ['galgal', 'gallus gallus', 'ggallus', 'chicken', 'ggal', '9031', 'g_gallus'], 'groups': ['core', 'funcgen', 'variation', 'rnaseq', 'otherfeatures'], 'strain_collection': None, 'assembly': 'GRCg6a', 'strain': None, 'taxon_id': '9031', 'display_name': 'Chicken', 'common_name': 'chicken'}\n",
      "{'common_name': 'greater amberjack', 'display_name': 'Greater amberjack', 'taxon_id': '41447', 'strain': None, 'assembly': 'Sdu_1.0', 'strain_collection': None, 'groups': ['rnaseq', 'otherfeatures', 'core'], 'aliases': [], 'division': 'EnsemblVertebrates', 'release': 106, 'name': 'seriola_dumerili', 'accession': 'GCA_002260705.1'}\n",
      "{'aliases': [], 'release': 106, 'division': 'EnsemblVertebrates', 'name': 'macaca_mulatta', 'accession': 'GCA_003339765.3', 'common_name': 'Macaque', 'display_name': 'Macaque', 'strain': None, 'taxon_id': '9544', 'assembly': 'Mmul_10', 'strain_collection': None, 'groups': ['core', 'funcgen', 'variation', 'rnaseq', 'otherfeatures']}\n",
      "{'strain_collection': None, 'assembly': 'bTaeGut1_v1.p', 'groups': ['otherfeatures', 'rnaseq', 'variation', 'core'], 'common_name': 'zebra finch', 'strain': None, 'taxon_id': '59729', 'display_name': 'Zebra finch', 'name': 'taeniopygia_guttata', 'release': 106, 'division': 'EnsemblVertebrates', 'accession': 'GCA_003957565.2', 'aliases': []}\n",
      "{'aliases': ['gibbon', 'nomleu', 'nomascus leucogenys', 'northern white-cheeked gibbon', 'nleu', '61853', 'nleucogenys'], 'release': 106, 'division': 'EnsemblVertebrates', 'name': 'nomascus_leucogenys', 'accession': 'GCA_000146795.3', 'common_name': 'Northern white-cheeked gibbon', 'display_name': 'Gibbon', 'taxon_id': '61853', 'strain': None, 'assembly': 'Nleu_3.0', 'strain_collection': None, 'groups': ['otherfeatures', 'core', 'funcgen', 'variation']}\n",
      "{'strain_collection': None, 'assembly': 'ASM303372v1', 'groups': ['rnaseq', 'core'], 'common_name': 'donkey', 'taxon_id': '83772', 'strain': None, 'display_name': 'Donkey', 'name': 'equus_asinus_asinus', 'division': 'EnsemblVertebrates', 'release': 106, 'accession': 'GCA_003033725.1', 'aliases': []}\n",
      "{'division': 'EnsemblVertebrates', 'release': 106, 'name': 'gouania_willdenowi', 'accession': 'GCA_900634775.1', 'aliases': [], 'assembly': 'fGouWil2.1', 'strain_collection': None, 'groups': ['core', 'otherfeatures', 'rnaseq'], 'common_name': 'blunt-snouted clingfish', 'display_name': 'Blunt-snouted clingfish', 'strain': None, 'taxon_id': '441366'}\n",
      "{'groups': ['core', 'funcgen'], 'strain_collection': None, 'assembly': 'NOD_ShiLtJ_v1', 'strain': 'NOD/ShiLtJ', 'taxon_id': '10090', 'display_name': 'Mouse NOD/ShiLtJ', 'common_name': 'mouse', 'accession': 'GCA_001624675.1', 'name': 'mus_musculus_nodshiltj', 'division': 'EnsemblVertebrates', 'release': 106, 'aliases': []}\n",
      "{'division': 'EnsemblVertebrates', 'release': 106, 'name': 'neovison_vison', 'accession': 'GCA_900108605.1', 'aliases': [], 'assembly': 'NNQGG.v01', 'strain_collection': None, 'groups': ['rnaseq', 'variation', 'core'], 'common_name': 'American mink', 'display_name': 'American mink', 'strain': None, 'taxon_id': '452646'}\n",
      "{'strain_collection': None, 'assembly': 'ARS-UCD1.2', 'groups': ['variation', 'core', 'funcgen', 'otherfeatures', 'rnaseq'], 'common_name': 'cattle', 'taxon_id': '9913', 'strain': None, 'display_name': 'Cow', 'name': 'bos_taurus', 'division': 'EnsemblVertebrates', 'release': 106, 'accession': 'GCA_002263795.2', 'aliases': ['cow', '9913', 'domestic cattle', 'cattle', 'bostau', 'bovine', 'domestic cow', 'btau', 'btaurus', 'bos taurus']}\n",
      "{'strain': None, 'taxon_id': '8128', 'display_name': 'Nile tilapia', 'common_name': 'Nile tilapia', 'groups': ['otherfeatures', 'rnaseq', 'variation', 'core'], 'strain_collection': None, 'assembly': 'O_niloticus_UMD_NMBU', 'aliases': [], 'accession': 'GCA_001858045.3', 'name': 'oreochromis_niloticus', 'division': 'EnsemblVertebrates', 'release': 106}\n",
      "{'groups': ['core', 'otherfeatures'], 'strain_collection': None, 'assembly': 'Dord_2.0', 'strain': None, 'taxon_id': '10020', 'display_name': 'Kangaroo rat', 'common_name': \"Ord's kangaroo rat\", 'accession': 'GCA_000151885.2', 'name': 'dipodomys_ordii', 'division': 'EnsemblVertebrates', 'release': 106, 'aliases': ['dordii', \"ord's kangaroo rat\", 'dord', 'dipodomysordii', 'kangaroo rat', 'dipodomys ordii', 'ords kangaroo rat', '10020', 'kangaroo_rat', 'dipord']}\n",
      "{'common_name': 'superb fairywren', 'strain': None, 'taxon_id': '2593467', 'display_name': 'Superb fairywren', 'strain_collection': None, 'assembly': 'mCya_1.0', 'groups': ['core', 'rnaseq'], 'aliases': [], 'name': 'malurus_cyaneus_samueli', 'division': 'EnsemblVertebrates', 'release': 106, 'accession': 'GCA_009741485.1'}\n",
      "{'display_name': 'Domestic yak', 'strain': None, 'taxon_id': '30521', 'common_name': 'domestic yak', 'groups': ['core', 'rnaseq'], 'assembly': 'LU_Bosgru_v3.0', 'strain_collection': None, 'aliases': [], 'accession': 'GCA_005887515.1', 'division': 'EnsemblVertebrates', 'release': 106, 'name': 'bos_grunniens'}\n",
      "{'division': 'EnsemblVertebrates', 'release': 106, 'name': 'sus_scrofa_wuzhishan', 'accession': 'GCA_000325925.2', 'aliases': [], 'assembly': 'minipig_v1.0', 'strain_collection': None, 'groups': ['core', 'rnaseq', 'otherfeatures'], 'common_name': 'pig', 'display_name': 'Pig - Wuzhishan', 'taxon_id': '9823', 'strain': 'wuzhishan'}\n",
      "{'aliases': [], 'accession': 'GCA_005519975.1', 'name': 'pavo_cristatus', 'release': 106, 'division': 'EnsemblVertebrates', 'taxon_id': '9049', 'strain': None, 'display_name': 'Indian peafowl', 'common_name': 'Indian peafowl', 'groups': ['core', 'rnaseq'], 'strain_collection': None, 'assembly': 'AIIM_Pcri_1.0'}\n",
      "{'aliases': [], 'division': 'EnsemblVertebrates', 'release': 106, 'name': 'oryzias_javanicus', 'accession': 'GCA_003999625.1', 'common_name': 'javanese ricefish', 'display_name': 'Javanese ricefish', 'taxon_id': '123683', 'strain': None, 'assembly': 'OJAV_1.1', 'strain_collection': None, 'groups': ['rnaseq', 'core']}\n",
      "{'accession': 'GCA_000230535.1', 'name': 'pelodiscus_sinensis', 'division': 'EnsemblVertebrates', 'release': 106, 'aliases': ['psinensis', 'softshell turtle', 'pelodiscus sinensis', 'chinese softshell turtle', '13735', 'p_sinensis', 'chinese soft shell turtle'], 'groups': ['core', 'otherfeatures', 'rnaseq'], 'strain_collection': None, 'assembly': 'PelSin_1.0', 'taxon_id': '13735', 'strain': None, 'display_name': 'Chinese softshell turtle', 'common_name': 'Chinese softshell turtle'}\n",
      "{'assembly': 'Ssal_v3.1', 'strain_collection': None, 'groups': ['core', 'rnaseq'], 'common_name': 'Atlantic salmon', 'display_name': 'Atlantic salmon', 'strain': None, 'taxon_id': '8030', 'release': 106, 'division': 'EnsemblVertebrates', 'name': 'salmo_salar', 'accession': 'GCA_905237065.2', 'aliases': []}\n",
      "{'aliases': [], 'accession': 'GCA_002109545.1', 'name': 'acanthochromis_polyacanthus', 'release': 106, 'division': 'EnsemblVertebrates', 'strain': None, 'taxon_id': '80966', 'display_name': 'Spiny chromis', 'common_name': 'spiny chromis', 'groups': ['core', 'otherfeatures', 'rnaseq'], 'strain_collection': None, 'assembly': 'ASM210954v1'}\n",
      "{'common_name': 'Chinese medaka', 'display_name': 'Chinese medaka', 'taxon_id': '183150', 'strain': None, 'assembly': 'ASM858656v1', 'strain_collection': None, 'groups': ['rnaseq', 'core'], 'aliases': [], 'release': 106, 'division': 'EnsemblVertebrates', 'name': 'oryzias_sinensis', 'accession': 'GCA_008586565.1'}\n",
      "{'accession': 'GCA_900634625.1', 'division': 'EnsemblVertebrates', 'release': 106, 'name': 'parambassis_ranga', 'aliases': [], 'groups': ['core', 'rnaseq', 'otherfeatures'], 'assembly': 'fParRan2.1', 'strain_collection': None, 'display_name': 'Indian glassy fish', 'taxon_id': '210632', 'strain': None, 'common_name': 'Indian glassy fish'}\n",
      "{'aliases': [], 'division': 'EnsemblVertebrates', 'release': 106, 'name': 'nothoprocta_perdicaria', 'accession': 'GCA_003342845.1', 'common_name': 'Chilean tinamou', 'display_name': 'Chilean tinamou', 'taxon_id': '30464', 'strain': None, 'assembly': 'notPer1', 'strain_collection': None, 'groups': ['core', 'otherfeatures']}\n",
      "{'release': 106, 'division': 'EnsemblVertebrates', 'name': 'homo_sapiens', 'accession': 'GCA_000001405.28', 'aliases': ['h_sapiens', 'human', 'hsap', 'homo sapiens', '9606', 'hsapiens', 'homsap', 'homo', 'enshs'], 'assembly': 'GRCh38', 'strain_collection': None, 'groups': ['rnaseq', 'cdna', 'otherfeatures', 'funcgen', 'core', 'variation'], 'common_name': 'human', 'display_name': 'Human', 'taxon_id': '9606', 'strain': None}\n",
      "{'groups': ['otherfeatures', 'rnaseq', 'variation', 'core', 'funcgen'], 'strain_collection': 'mouse', 'assembly': 'GRCm39', 'taxon_id': '10090', 'strain': 'reference (CL57BL6)', 'display_name': 'Mouse', 'common_name': 'mouse', 'accession': 'GCA_000001635.9', 'name': 'mus_musculus', 'release': 106, 'division': 'EnsemblVertebrates', 'aliases': ['10090', 'mus', 'mus musculus', 'ensmm', 'mmusculus', 'm_musculus', 'mmus', 'house mouse', 'mouse', 'musmus']}\n",
      "{'common_name': 'fruit fly', 'taxon_id': '7227', 'strain': None, 'display_name': 'Drosophila melanogaster', 'strain_collection': None, 'assembly': 'BDGP6.32', 'groups': ['core', 'funcgen'], 'aliases': ['dmel', 'd. melanogaster', 'd.mel'], 'name': 'drosophila_melanogaster', 'release': 106, 'division': 'EnsemblVertebrates', 'accession': 'GCA_000001215.4'}\n",
      "{'aliases': ['mus musculus domesticus wsbeij', '10092', 'western european house mouse', 'mmusculus_domesticus_wsbeij', 'mouse wsbeij', 'mus_musculus_domesticus_wsbeij'], 'accession': 'GCA_001624835.1', 'division': 'EnsemblVertebrates', 'release': 106, 'name': 'mus_musculus_wsbeij', 'display_name': 'Mouse WSB/EiJ', 'strain': 'WSB/EiJ', 'taxon_id': '10092', 'common_name': 'mouse', 'groups': ['core', 'funcgen'], 'assembly': 'WSB_EiJ_v1', 'strain_collection': None}\n",
      "{'groups': ['rnaseq', 'otherfeatures', 'core'], 'strain_collection': None, 'assembly': 'Jinhua_pig_v1', 'strain': 'jinhua', 'taxon_id': '9823', 'display_name': 'Pig - Jinhua', 'common_name': 'pig', 'accession': 'GCA_001700295.1', 'name': 'sus_scrofa_jinhua', 'division': 'EnsemblVertebrates', 'release': 106, 'aliases': []}\n",
      "{'taxon_id': '445787', 'strain': None, 'display_name': 'Leishan spiny toad', 'common_name': 'Leishan spiny toad', 'groups': ['rnaseq', 'core'], 'strain_collection': None, 'assembly': 'ASM966780v1', 'aliases': [], 'accession': 'GCA_009667805.1', 'name': 'leptobrachium_leishanense', 'division': 'EnsemblVertebrates', 'release': 106}\n",
      "{'name': 'monodon_monoceros', 'division': 'EnsemblVertebrates', 'release': 106, 'accession': 'GCA_005190385.2', 'aliases': [], 'strain_collection': None, 'assembly': 'NGI_Narwhal_1', 'groups': ['core', 'otherfeatures', 'rnaseq'], 'common_name': 'narwhal', 'taxon_id': '40151', 'strain': None, 'display_name': 'Narwhal'}\n",
      "{'strain_collection': None, 'assembly': 'Pmarinus_7.0', 'groups': ['otherfeatures', 'core'], 'common_name': 'sea lamprey', 'strain': None, 'taxon_id': '7757', 'display_name': 'Lamprey', 'name': 'petromyzon_marinus', 'division': 'EnsemblVertebrates', 'release': 106, 'accession': None, 'aliases': ['pmarinus', 'sea lamprey', '7757', 'petmar', 'lamprey', 'pmar', 'petromyzon marinus']}\n",
      "{'accession': 'GCA_001624185.1', 'release': 106, 'division': 'EnsemblVertebrates', 'name': 'mus_musculus_129s1svimj', 'aliases': [], 'groups': ['core', 'funcgen'], 'assembly': '129S1_SvImJ_v1', 'strain_collection': None, 'display_name': 'Mouse 129S1/SvImJ', 'taxon_id': '10090', 'strain': '129S1/SvImJ', 'common_name': 'mouse'}\n",
      "{'common_name': 'Asiatic black bear', 'strain': None, 'taxon_id': '441215', 'display_name': 'Asiatic black bear', 'strain_collection': None, 'assembly': 'ASM966005v1', 'groups': ['rnaseq', 'core'], 'aliases': [], 'name': 'ursus_thibetanus_thibetanus', 'division': 'EnsemblVertebrates', 'release': 106, 'accession': 'GCA_009660055.1'}\n",
      "{'common_name': 'yellowtail amberjack', 'display_name': 'Yellowtail amberjack', 'strain': None, 'taxon_id': '1841481', 'assembly': 'Sedor1', 'strain_collection': None, 'groups': ['rnaseq', 'otherfeatures', 'core'], 'aliases': [], 'division': 'EnsemblVertebrates', 'release': 106, 'name': 'seriola_lalandi_dorsalis', 'accession': 'GCA_002814215.1'}\n",
      "{'display_name': 'Sheep (texel)', 'strain': 'texel', 'taxon_id': '9940', 'common_name': 'sheep', 'groups': ['variation', 'core', 'otherfeatures', 'rnaseq'], 'assembly': 'Oar_v3.1', 'strain_collection': None, 'aliases': ['sheep', 'oaries', '9940', 'ovis aries', 'ovisaries', 'oviari', 'domestic sheep', 'oari', 'oar'], 'accession': 'GCA_000298735.1', 'release': 106, 'division': 'EnsemblVertebrates', 'name': 'ovis_aries'}\n",
      "{'display_name': 'Pig - Berkshire', 'strain': 'berkshire', 'taxon_id': '9823', 'common_name': 'pig', 'groups': ['core', 'rnaseq', 'otherfeatures'], 'assembly': 'Berkshire_pig_v1', 'strain_collection': None, 'aliases': [], 'accession': 'GCA_001700575.1', 'release': 106, 'division': 'EnsemblVertebrates', 'name': 'sus_scrofa_berkshire'}\n",
      "{'taxon_id': '8502', 'strain': None, 'display_name': 'Australian saltwater crocodile', 'common_name': 'Australian saltwater crocodile', 'groups': ['otherfeatures', 'rnaseq', 'core'], 'strain_collection': None, 'assembly': 'CroPor_comp1', 'aliases': [], 'accession': 'GCA_001723895.1', 'name': 'crocodylus_porosus', 'release': 106, 'division': 'EnsemblVertebrates'}\n",
      "{'groups': ['core', 'rnaseq', 'otherfeatures'], 'assembly': 'X_maculatus-5.0-male', 'strain_collection': None, 'display_name': 'Platyfish', 'taxon_id': '8083', 'strain': None, 'common_name': 'southern platyfish', 'accession': 'GCA_002775205.2', 'release': 106, 'division': 'EnsemblVertebrates', 'name': 'xiphophorus_maculatus', 'aliases': ['xipmac', '8083', 'southern platyfish', 'xmac', 'xiphophorus maculatus', 'platyfish', 'xmaculatus']}\n",
      "{'accession': 'GCA_001700215.1', 'release': 106, 'division': 'EnsemblVertebrates', 'name': 'sus_scrofa_landrace', 'aliases': [], 'groups': ['otherfeatures', 'rnaseq', 'core'], 'assembly': 'Landrace_pig_v1', 'strain_collection': None, 'display_name': 'Pig - Landrace', 'taxon_id': '9823', 'strain': 'landrace', 'common_name': 'pig'}\n",
      "{'groups': ['core', 'rnaseq', 'otherfeatures'], 'assembly': 'marMar2.1', 'strain_collection': None, 'display_name': 'Alpine marmot', 'strain': None, 'taxon_id': '9994', 'common_name': 'Alpine marmot', 'accession': 'GCA_001458135.1', 'division': 'EnsemblVertebrates', 'release': 106, 'name': 'marmota_marmota_marmota', 'aliases': []}\n",
      "{'aliases': [], 'division': 'EnsemblVertebrates', 'release': 106, 'name': 'junco_hyemalis', 'accession': 'GCA_003829775.1', 'common_name': 'dark-eyed junco', 'display_name': 'Dark-eyed junco', 'strain': None, 'taxon_id': '40217', 'assembly': 'ASM382977v1', 'strain_collection': None, 'groups': ['rnaseq', 'core']}\n",
      "{'strain': None, 'taxon_id': '311401', 'display_name': 'Northern spotted owl', 'common_name': 'northern spotted owl', 'groups': ['core', 'rnaseq'], 'strain_collection': None, 'assembly': 'Soccid_v01', 'aliases': [], 'accession': 'GCA_002372975.1', 'name': 'strix_occidentalis_caurina', 'release': 106, 'division': 'EnsemblVertebrates'}\n",
      "{'aliases': ['silver fox', 'fox'], 'accession': 'GCA_003160815.1', 'name': 'vulpes_vulpes', 'release': 106, 'division': 'EnsemblVertebrates', 'taxon_id': '9627', 'strain': None, 'display_name': 'Red fox', 'common_name': 'red fox', 'groups': ['rnaseq', 'otherfeatures', 'core'], 'strain_collection': None, 'assembly': 'VulVul2.2'}\n",
      "{'accession': 'GCA_002204375.1', 'name': 'meriones_unguiculatus', 'division': 'EnsemblVertebrates', 'release': 106, 'aliases': [], 'groups': ['core', 'rnaseq', 'otherfeatures'], 'strain_collection': None, 'assembly': 'MunDraft-v1.0', 'strain': None, 'taxon_id': '10047', 'display_name': 'Mongolian gerbil', 'common_name': 'Mongolian gerbil'}\n",
      "{'groups': ['core', 'rnaseq'], 'assembly': 'mZalCal1.pri', 'strain_collection': None, 'display_name': 'California sea lion', 'taxon_id': '9704', 'strain': None, 'common_name': 'california sea lion', 'accession': 'GCA_009762305.1', 'release': 106, 'division': 'EnsemblVertebrates', 'name': 'zalophus_californianus', 'aliases': []}\n",
      "{'assembly': 'ChiLan1.0', 'strain_collection': None, 'groups': ['core', 'otherfeatures', 'rnaseq'], 'common_name': 'Long-tailed chinchilla', 'display_name': 'Long-tailed chinchilla', 'taxon_id': '34839', 'strain': None, 'release': 106, 'division': 'EnsemblVertebrates', 'name': 'chinchilla_lanigera', 'accession': 'GCA_000276665.1', 'aliases': ['clanigera', 'long-tailed chinchilla', 'clan', 'chilan', '34839', 'chinchilla lanigera']}\n",
      "{'groups': ['core', 'otherfeatures', 'rnaseq'], 'strain_collection': None, 'assembly': 'mPhoSin1.pri', 'taxon_id': '42100', 'strain': None, 'display_name': 'Vaquita', 'common_name': 'vaquita', 'accession': 'GCA_008692025.1', 'name': 'phocoena_sinus', 'division': 'EnsemblVertebrates', 'release': 106, 'aliases': []}\n",
      "{'groups': ['otherfeatures', 'rnaseq', 'core'], 'assembly': 'DMR_v1.0', 'strain_collection': None, 'display_name': 'Damara mole rat', 'strain': None, 'taxon_id': '885580', 'common_name': 'Damara mole rat', 'accession': 'GCA_000743615.1', 'division': 'EnsemblVertebrates', 'release': 106, 'name': 'fukomys_damarensis', 'aliases': ['fukomys_damarensi', 'fdam', 'fukdam', 'fdamarensi', 'damara mole rat', '885580', 'fukomys damarensi']}\n",
      "{'aliases': [], 'accession': 'GCA_000803125.2', 'division': 'EnsemblVertebrates', 'release': 106, 'name': 'camelus_dromedarius', 'display_name': 'Arabian camel', 'strain': None, 'taxon_id': '9838', 'common_name': 'Arabian camel', 'groups': ['rnaseq', 'core'], 'assembly': 'CamDro2', 'strain_collection': None}\n",
      "{'common_name': 'mouse', 'display_name': 'Mouse LP/J', 'strain': 'LP/J', 'taxon_id': '10090', 'assembly': 'LP_J_v1', 'strain_collection': None, 'groups': ['funcgen', 'core'], 'aliases': [], 'division': 'EnsemblVertebrates', 'release': 106, 'name': 'mus_musculus_lpj', 'accession': 'GCA_001632615.1'}\n",
      "{'aliases': [], 'release': 106, 'division': 'EnsemblVertebrates', 'name': 'geospiza_fortis', 'accession': 'GCA_000277835.1', 'common_name': 'medium ground-finch', 'display_name': 'Medium ground-finch', 'taxon_id': '48883', 'strain': None, 'assembly': 'GeoFor_1.0', 'strain_collection': None, 'groups': ['otherfeatures', 'rnaseq', 'core']}\n",
      "{'accession': 'GCA_003336285.1', 'name': 'mus_spicilegus', 'release': 106, 'division': 'EnsemblVertebrates', 'aliases': [], 'groups': ['rnaseq', 'core'], 'strain_collection': None, 'assembly': 'MUSP714', 'taxon_id': '10103', 'strain': None, 'display_name': 'Steppe mouse', 'common_name': 'steppe mouse'}\n",
      "{'release': 106, 'division': 'EnsemblVertebrates', 'name': 'amphilophus_citrinellus', 'accession': 'GCA_000751415.1', 'aliases': [], 'assembly': 'Midas_v5', 'strain_collection': None, 'groups': ['core'], 'common_name': 'Midas cichlid', 'display_name': 'Midas cichlid', 'taxon_id': '61819', 'strain': None}\n",
      "{'aliases': [], 'name': 'chelydra_serpentina', 'release': 106, 'division': 'EnsemblVertebrates', 'accession': 'GCA_007922165.1', 'common_name': 'Common snapping turtle', 'strain': None, 'taxon_id': '8475', 'display_name': 'Common snapping turtle', 'strain_collection': None, 'assembly': 'Chelydra_serpentina-1.0', 'groups': ['core', 'rnaseq']}\n",
      "{'aliases': ['ecaballus', 'ecab', 'horse', '9796', 'equuscaballus', 'equcab', 'equus caballus'], 'release': 106, 'division': 'EnsemblVertebrates', 'name': 'equus_caballus', 'accession': 'GCA_002863925.1', 'common_name': 'horse', 'display_name': 'Horse', 'strain': None, 'taxon_id': '9796', 'assembly': 'EquCab3.0', 'strain_collection': None, 'groups': ['otherfeatures', 'rnaseq', 'variation', 'funcgen', 'core']}\n",
      "{'accession': 'GCA_000385455.1', 'name': 'zonotrichia_albicollis', 'division': 'EnsemblVertebrates', 'release': 106, 'aliases': [], 'groups': ['core', 'rnaseq', 'otherfeatures'], 'strain_collection': None, 'assembly': 'Zonotrichia_albicollis-1.0.1', 'strain': None, 'taxon_id': '44394', 'display_name': 'White-throated sparrow', 'common_name': 'white-throated sparrow'}\n",
      "{'common_name': 'meerkat', 'strain': None, 'taxon_id': '37032', 'display_name': 'Meerkat', 'strain_collection': None, 'assembly': 'meerkat_22Aug2017_6uvM2_HiC', 'groups': ['otherfeatures', 'rnaseq', 'core'], 'aliases': [], 'name': 'suricata_suricatta', 'division': 'EnsemblVertebrates', 'release': 106, 'accession': 'GCA_006229205.1'}\n",
      "{'assembly': 'ASM336829v1', 'strain_collection': None, 'groups': ['core', 'otherfeatures', 'rnaseq'], 'common_name': 'goldfish', 'display_name': 'Goldfish', 'strain': None, 'taxon_id': '7957', 'release': 106, 'division': 'EnsemblVertebrates', 'name': 'carassius_auratus', 'accession': 'GCA_003368295.1', 'aliases': []}\n",
      "{'groups': ['funcgen', 'core'], 'strain_collection': None, 'assembly': 'CBA_J_v1', 'taxon_id': '10090', 'strain': 'CBA/J', 'display_name': 'Mouse CBA/J', 'common_name': 'mouse', 'accession': 'GCA_001624475.1', 'name': 'mus_musculus_cbaj', 'release': 106, 'division': 'EnsemblVertebrates', 'aliases': []}\n",
      "{'name': 'calidris_pygmaea', 'division': 'EnsemblVertebrates', 'release': 106, 'accession': 'GCA_003697955.1', 'aliases': [], 'strain_collection': None, 'assembly': 'ASM369795v1', 'groups': ['core', 'rnaseq'], 'common_name': 'Spoon-billed sandpiper', 'taxon_id': '425635', 'strain': None, 'display_name': 'Spoon-billed sandpiper'}\n",
      "{'strain': None, 'taxon_id': '9305', 'display_name': 'Tasmanian devil', 'common_name': 'Tasmanian devil', 'groups': ['core', 'otherfeatures', 'rnaseq'], 'strain_collection': None, 'assembly': 'mSarHar1.11', 'aliases': [], 'accession': 'GCA_902635505.1', 'name': 'sarcophilus_harrisii', 'division': 'EnsemblVertebrates', 'release': 106}\n",
      "{'aliases': [], 'name': 'sus_scrofa_usmarc', 'release': 106, 'division': 'EnsemblVertebrates', 'accession': 'GCA_002844635.1', 'common_name': 'pig', 'strain': 'usmarc', 'taxon_id': '9823', 'display_name': 'Pig USMARC', 'strain_collection': None, 'assembly': 'USMARCv1.0', 'groups': ['rnaseq', 'otherfeatures', 'core']}\n",
      "{'strain_collection': None, 'assembly': 'CVASU_BBG_1.0', 'groups': ['rnaseq', 'core'], 'common_name': 'Goat', 'taxon_id': '9925', 'strain': 'black_bengal', 'display_name': 'Goat (black bengal)', 'name': 'capra_hircus_blackbengal', 'division': 'EnsemblVertebrates', 'release': 106, 'accession': 'GCA_004361675.1', 'aliases': []}\n",
      "{'accession': 'GCA_000317375.1', 'name': 'microtus_ochrogaster', 'division': 'EnsemblVertebrates', 'release': 106, 'aliases': ['79684', 'microtus ochrogaster', 'pvole', 'vole', 'm_ochrogaster', 'moch', 'prairie vole', 'micoch', 'mochrogaster'], 'groups': ['core', 'otherfeatures'], 'strain_collection': None, 'assembly': 'MicOch1.0', 'taxon_id': '79684', 'strain': None, 'display_name': 'Prairie vole', 'common_name': 'vole'}\n",
      "{'aliases': [], 'accession': 'GCA_001444195.1', 'division': 'EnsemblVertebrates', 'release': 106, 'name': 'xiphophorus_couchianus', 'display_name': 'Monterrey platyfish', 'strain': None, 'taxon_id': '32473', 'common_name': 'Monterrey platyfish', 'groups': ['core'], 'assembly': 'Xiphophorus_couchianus-4.0.1', 'strain_collection': None}\n",
      "{'groups': ['rnaseq', 'core', 'funcgen'], 'assembly': 'CriGri-PICR', 'strain_collection': None, 'display_name': 'Chinese hamster PICR', 'strain': None, 'taxon_id': '10029', 'common_name': 'Chinese hamster', 'accession': 'GCA_003668045.1', 'division': 'EnsemblVertebrates', 'release': 106, 'name': 'cricetulus_griseus_picr', 'aliases': []}\n",
      "{'common_name': 'round goby', 'display_name': 'Round goby', 'strain': None, 'taxon_id': '47308', 'assembly': 'RGoby_Basel_V2', 'strain_collection': None, 'groups': ['rnaseq', 'core'], 'aliases': [], 'division': 'EnsemblVertebrates', 'release': 106, 'name': 'neogobius_melanostomus', 'accession': 'GCA_007210695.1'}\n",
      "{'aliases': [], 'release': 106, 'division': 'EnsemblVertebrates', 'name': 'lates_calcarifer', 'accession': 'GCA_900066035.1', 'common_name': 'barramundi perch', 'display_name': 'Barramundi perch', 'taxon_id': '8187', 'strain': None, 'assembly': 'ASB_HGAPassembly_v1', 'strain_collection': None, 'groups': ['rnaseq', 'core']}\n",
      "{'aliases': [], 'name': 'pseudonaja_textilis', 'division': 'EnsemblVertebrates', 'release': 106, 'accession': 'GCA_900518735.1', 'common_name': 'eastern brown snake', 'taxon_id': '8673', 'strain': None, 'display_name': 'Eastern brown snake', 'strain_collection': None, 'assembly': 'EBS10Xv2-PRI', 'groups': ['otherfeatures', 'rnaseq', 'core']}\n",
      "{'accession': 'GCA_000003625.1', 'name': 'oryctolagus_cuniculus', 'release': 106, 'division': 'EnsemblVertebrates', 'aliases': ['ocun', 'oryctolagus cuniculus', 'orycun', '9986', 'rabbit', 'ocuniculus'], 'groups': ['core', 'funcgen', 'variation', 'rnaseq', 'otherfeatures'], 'strain_collection': None, 'assembly': 'OryCun2.0', 'strain': None, 'taxon_id': '9986', 'display_name': 'Rabbit', 'common_name': 'rabbit'}\n",
      "{'accession': 'GCA_001891065.1', 'name': 'hippocampus_comes', 'release': 106, 'division': 'EnsemblVertebrates', 'aliases': [], 'groups': ['otherfeatures', 'rnaseq', 'core'], 'strain_collection': None, 'assembly': 'H_comes_QL1_v1', 'strain': None, 'taxon_id': '109280', 'display_name': 'Tiger tail seahorse', 'common_name': 'tiger tail seahorse'}\n",
      "{'taxon_id': '8154', 'strain': None, 'display_name': 'Eastern happy', 'common_name': 'eastern happy', 'groups': ['rnaseq', 'core'], 'strain_collection': None, 'assembly': 'fAstCal1.2', 'aliases': [], 'accession': 'GCA_900246225.3', 'name': 'astatotilapia_calliptera', 'division': 'EnsemblVertebrates', 'release': 106}\n",
      "{'aliases': [], 'name': 'pelusios_castaneus', 'release': 106, 'division': 'EnsemblVertebrates', 'accession': 'GCA_007922175.1', 'common_name': 'West African mud turtle', 'taxon_id': '367368', 'strain': None, 'display_name': 'West African mud turtle', 'strain_collection': None, 'assembly': 'Pelusios_castaneus-1.0', 'groups': ['rnaseq', 'core']}\n",
      "{'accession': 'GCA_002896415.1', 'name': 'gopherus_agassizii', 'release': 106, 'division': 'EnsemblVertebrates', 'aliases': [], 'groups': ['rnaseq', 'core'], 'strain_collection': None, 'assembly': 'ASM289641v1', 'strain': None, 'taxon_id': '38772', 'display_name': \"Agassiz's desert tortoise\", 'common_name': \"Agassiz's desert tortoise\"}\n",
      "{'assembly': 'Pietrain_pig_v1', 'strain_collection': None, 'groups': ['core', 'rnaseq', 'otherfeatures'], 'common_name': 'pig', 'display_name': 'Pig - Pietrain', 'strain': 'pietrain', 'taxon_id': '9823', 'division': 'EnsemblVertebrates', 'release': 106, 'name': 'sus_scrofa_pietrain', 'accession': 'GCA_001700255.1', 'aliases': []}\n",
      "{'strain': 'reference', 'taxon_id': '28377', 'display_name': 'Green anole', 'common_name': 'green anole', 'groups': ['core', 'rnaseq', 'otherfeatures'], 'strain_collection': None, 'assembly': 'AnoCar2.0v2', 'aliases': [], 'accession': 'GCA_000090745.2', 'name': 'anolis_carolinensis', 'division': 'EnsemblVertebrates', 'release': 106}\n",
      "{'display_name': 'Sooty mangabey', 'taxon_id': '9531', 'strain': None, 'common_name': 'Sooty mangabey', 'groups': ['otherfeatures', 'rnaseq', 'funcgen', 'core'], 'assembly': 'Caty_1.0', 'strain_collection': None, 'aliases': [], 'accession': 'GCA_000955945.1', 'release': 106, 'division': 'EnsemblVertebrates', 'name': 'cercocebus_atys'}\n",
      "{'groups': ['core', 'funcgen'], 'strain_collection': None, 'assembly': 'CAST_EiJ_v1', 'taxon_id': '10091', 'strain': 'CAST/EiJ', 'display_name': 'Mouse CAST/EiJ', 'common_name': 'mouse', 'accession': 'GCA_001624445.1', 'name': 'mus_musculus_casteij', 'division': 'EnsemblVertebrates', 'release': 106, 'aliases': ['10091', 'mus musculus castaneus casteij', 'mmusculus_castaneus_casteij', 'mus_musculus_castaneus_casteij', 'mouse casteij', 'south eastern house mouse']}\n",
      "{'division': 'EnsemblVertebrates', 'release': 106, 'name': 'neolamprologus_brichardi', 'accession': 'GCA_000239395.1', 'aliases': [], 'assembly': 'NeoBri1.0', 'strain_collection': None, 'groups': ['core', 'otherfeatures', 'rnaseq'], 'common_name': 'lyretail cichlid', 'display_name': 'Lyretail cichlid', 'strain': None, 'taxon_id': '32507'}\n",
      "{'strain': None, 'taxon_id': '100819', 'display_name': 'Common kestrel', 'common_name': 'common kestrel', 'groups': ['rnaseq', 'core'], 'strain_collection': None, 'assembly': 'FalTin1.0', 'aliases': [], 'accession': 'GCA_010332995.1', 'name': 'falco_tinnunculus', 'division': 'EnsemblVertebrates', 'release': 106}\n",
      "{'aliases': ['9739', 'ttru', 'bottlenose dolphin', 'tursiopstruncatus', 'turtru', 'tursiops truncatus', 'bottlenosed dolphin', 'ttruncatus', 'dolphin'], 'name': 'tursiops_truncatus', 'division': 'EnsemblVertebrates', 'release': 106, 'accession': None, 'common_name': 'bottlenosed dolphin', 'strain': None, 'taxon_id': '9739', 'display_name': 'Dolphin', 'strain_collection': None, 'assembly': 'turTru1', 'groups': ['core']}\n",
      "{'groups': ['core', 'otherfeatures', 'rnaseq'], 'strain_collection': None, 'assembly': 'AmpOce1.0', 'taxon_id': '80972', 'strain': None, 'display_name': 'Clown anemonefish', 'common_name': 'clown anemonefish', 'accession': 'GCA_002776465.1', 'name': 'amphiprion_ocellaris', 'release': 106, 'division': 'EnsemblVertebrates', 'aliases': []}\n",
      "{'aliases': [], 'accession': 'GCA_000972845.2', 'name': 'larimichthys_crocea', 'release': 106, 'division': 'EnsemblVertebrates', 'strain': None, 'taxon_id': '215358', 'display_name': 'Large yellow croaker', 'common_name': 'large yellow croaker', 'groups': ['rnaseq', 'otherfeatures', 'core'], 'strain_collection': None, 'assembly': 'L_crocea_2.0'}\n",
      "{'aliases': [], 'accession': 'GCA_000687225.1', 'release': 106, 'division': 'EnsemblVertebrates', 'name': 'ursus_maritimus', 'display_name': 'Polar bear', 'taxon_id': '29073', 'strain': None, 'common_name': 'Polar bear', 'groups': ['core', 'otherfeatures', 'rnaseq'], 'assembly': 'UrsMar_1.0', 'strain_collection': None}\n",
      "{'taxon_id': '409849', 'strain': None, 'display_name': 'Periophthalmus magnuspinnatus', 'common_name': 'Periophthalmus magnuspinnatus', 'groups': ['core'], 'strain_collection': None, 'assembly': 'PM.fa', 'aliases': [], 'accession': 'GCA_000787105.1', 'name': 'periophthalmus_magnuspinnatus', 'division': 'EnsemblVertebrates', 'release': 106}\n",
      "{'aliases': ['mmusculus_musculus_pwkphj', 'mus_musculus_musculus_pwkphj', 'mouse pwkphj', '39442', 'eastern european house mouse', 'mus musculus musculus pwkphj'], 'release': 106, 'division': 'EnsemblVertebrates', 'name': 'mus_musculus_pwkphj', 'accession': 'GCA_001624775.1', 'common_name': 'mouse', 'display_name': 'Mouse PWK/PhJ', 'taxon_id': '39442', 'strain': 'PWK/PhJ', 'assembly': 'PWK_PhJ_v1', 'strain_collection': None, 'groups': ['core', 'funcgen']}\n",
      "{'aliases': ['poecilia formosa', 'amazon molly', 'pformosa', 'poefor', '48698', 'pfor'], 'name': 'poecilia_formosa', 'release': 106, 'division': 'EnsemblVertebrates', 'accession': 'GCA_000485575.1', 'common_name': 'Amazon molly', 'taxon_id': '48698', 'strain': None, 'display_name': 'Amazon molly', 'strain_collection': None, 'assembly': 'PoeFor_5.1.2', 'groups': ['rnaseq', 'otherfeatures', 'core']}\n",
      "{'strain': None, 'taxon_id': '328815', 'display_name': 'Golden-collared manakin', 'common_name': 'golden-collared manakin', 'groups': ['otherfeatures', 'rnaseq', 'core'], 'strain_collection': None, 'assembly': 'ASM171598v2', 'aliases': [], 'accession': 'GCA_001715985.2', 'name': 'manacus_vitellinus', 'release': 106, 'division': 'EnsemblVertebrates'}\n",
      "{'assembly': 'ASM240643v1', 'strain_collection': None, 'groups': ['core'], 'common_name': 'Daurian ground squirrel', 'display_name': 'Daurian ground squirrel', 'strain': None, 'taxon_id': '99837', 'release': 106, 'division': 'EnsemblVertebrates', 'name': 'spermophilus_dauricus', 'accession': 'GCA_002406435.1', 'aliases': []}\n",
      "{'taxon_id': '307959', 'strain': None, 'display_name': 'Horned golden-line barbel', 'common_name': 'horned golden-line barbel', 'groups': ['core', 'rnaseq', 'otherfeatures'], 'strain_collection': None, 'assembly': 'SAMN03320098_v1.1', 'aliases': [], 'accession': 'GCA_001515625.1', 'name': 'sinocyclocheilus_rhinocerous', 'release': 106, 'division': 'EnsemblVertebrates'}\n",
      "{'strain': None, 'taxon_id': '8478', 'display_name': 'Painted turtle', 'common_name': 'Western painted turtle', 'groups': ['core', 'rnaseq', 'otherfeatures'], 'strain_collection': None, 'assembly': 'Chrysemys_picta_bellii-3.0.3', 'aliases': [], 'accession': 'GCA_000241765.2', 'name': 'chrysemys_picta_bellii', 'release': 106, 'division': 'EnsemblVertebrates'}\n",
      "{'accession': 'GCA_000181295.3', 'name': 'otolemur_garnettii', 'release': 106, 'division': 'EnsemblVertebrates', 'aliases': ['otogar', 'galago', 'bushbaby', 'ogar', 'ogarnettii', 'small-eared galago', 'otolemur garnettii', '30611'], 'groups': ['core', 'otherfeatures'], 'strain_collection': None, 'assembly': 'OtoGar3', 'taxon_id': '30611', 'strain': None, 'display_name': 'Bushbaby', 'common_name': 'small-eared galago'}\n",
      "{'common_name': 'small Madagascar hedgehog', 'display_name': 'Lesser hedgehog tenrec', 'strain': None, 'taxon_id': '9371', 'assembly': 'TENREC', 'strain_collection': None, 'groups': ['core'], 'aliases': ['tenrec', 'echinops telfairi', '9371', 'madagascar_hedgehog', 'etelfairi', 'echtel', 'etel', 'small madagascar hedgehog', 'lesser hedgehog tenrec', 'lesser_hedgehog'], 'release': 106, 'division': 'EnsemblVertebrates', 'name': 'echinops_telfairi', 'accession': None}\n",
      "{'groups': ['core', 'otherfeatures', 'rnaseq'], 'assembly': 'bAquChr1.2', 'strain_collection': None, 'display_name': 'Golden eagle', 'taxon_id': '223781', 'strain': None, 'common_name': 'golden eagle', 'accession': 'GCA_900496995.2', 'release': 106, 'division': 'EnsemblVertebrates', 'name': 'aquila_chrysaetos_chrysaetos', 'aliases': []}\n",
      "{'accession': 'GCA_004024745.2', 'release': 106, 'division': 'EnsemblVertebrates', 'name': 'catagonus_wagneri', 'aliases': [], 'groups': ['core', 'rnaseq'], 'assembly': 'CatWag_v2_BIUU_UCD', 'strain_collection': None, 'display_name': 'Chacoan peccary', 'strain': None, 'taxon_id': '51154', 'common_name': 'Chacoan peccary'}\n",
      "{'aliases': ['celegans', 'cele', 'elegans', '6239', 'c.elegans', 'worm', 'caenorhabditis_elegans_prjna13758', 'caeele', 'caenorhabditis elegans'], 'division': 'EnsemblVertebrates', 'release': 106, 'name': 'caenorhabditis_elegans', 'accession': 'GCA_000002985.3', 'common_name': 'C.elegans', 'display_name': 'Caenorhabditis elegans (PRJNA13758)', 'strain': 'N2', 'taxon_id': '6239', 'assembly': 'WBcel235', 'strain_collection': None, 'groups': ['core', 'funcgen']}\n",
      "{'accession': 'GCA_001624505.1', 'name': 'mus_musculus_dba2j', 'division': 'EnsemblVertebrates', 'release': 106, 'aliases': [], 'groups': ['core', 'funcgen'], 'strain_collection': None, 'assembly': 'DBA_2J_v1', 'taxon_id': '10090', 'strain': 'DBA/2J', 'display_name': 'Mouse DBA/2J', 'common_name': 'mouse'}\n",
      "{'groups': ['rnaseq', 'otherfeatures', 'core'], 'strain_collection': None, 'assembly': 'Coturnix_japonica_2.0', 'strain': None, 'taxon_id': '93934', 'display_name': 'Japanese quail', 'common_name': 'Japanese quail', 'accession': 'GCA_001577835.1', 'name': 'coturnix_japonica', 'release': 106, 'division': 'EnsemblVertebrates', 'aliases': []}\n",
      "{'division': 'EnsemblVertebrates', 'release': 106, 'name': 'apteryx_owenii', 'accession': 'GCA_003342965.1', 'aliases': [], 'assembly': 'aptOwe1', 'strain_collection': None, 'groups': ['core', 'rnaseq'], 'common_name': 'little spotted kiwi', 'display_name': 'Little spotted kiwi', 'strain': None, 'taxon_id': '8824'}\n",
      "{'aliases': [], 'accession': 'GCA_001700155.1', 'name': 'sus_scrofa_rongchang', 'division': 'EnsemblVertebrates', 'release': 106, 'taxon_id': '9823', 'strain': 'rongchang', 'display_name': 'Pig - Rongchang', 'common_name': 'pig', 'groups': ['rnaseq', 'otherfeatures', 'core'], 'strain_collection': None, 'assembly': 'Rongchang_pig_v1'}\n",
      "{'assembly': 'Cypcar_WagV4.0', 'strain_collection': None, 'groups': ['core', 'rnaseq'], 'common_name': 'common carp', 'display_name': 'Common carp', 'taxon_id': '630221', 'strain': None, 'release': 106, 'division': 'EnsemblVertebrates', 'name': 'cyprinus_carpio_carpio', 'accession': 'GCA_905221575.1', 'aliases': []}\n",
      "{'division': 'EnsemblVertebrates', 'release': 106, 'name': 'pygocentrus_nattereri', 'accession': 'GCA_001682695.1', 'aliases': [], 'assembly': 'Pygocentrus_nattereri-1.0.2', 'strain_collection': None, 'groups': ['core', 'rnaseq', 'otherfeatures'], 'common_name': 'red-bellied piranha', 'display_name': 'Red-bellied piranha', 'taxon_id': '42514', 'strain': None}\n",
      "{'taxon_id': '30608', 'strain': None, 'display_name': 'Mouse Lemur', 'common_name': 'gray mouse lemur', 'groups': ['rnaseq', 'otherfeatures', 'core', 'funcgen'], 'strain_collection': None, 'assembly': 'Mmur_3.0', 'aliases': ['mmur', 'mouse lemur', 'micmur', 'mmurinus', 'gray mouse lemur', 'microcebus murinus', 'mouse_lemur', 'grey mouse lemur', '30608'], 'accession': 'GCA_000165445.3', 'name': 'microcebus_murinus', 'release': 106, 'division': 'EnsemblVertebrates'}\n",
      "{'groups': ['core', 'otherfeatures', 'rnaseq'], 'strain_collection': None, 'assembly': 'ASM228892v3', 'strain': None, 'taxon_id': '9749', 'display_name': 'Beluga whale', 'common_name': 'beluga whale', 'accession': 'GCA_002288925.3', 'name': 'delphinapterus_leucas', 'division': 'EnsemblVertebrates', 'release': 106, 'aliases': []}\n",
      "{'assembly': 'Chrysolophus_pictus_GenomeV1.0', 'strain_collection': None, 'groups': ['core', 'rnaseq'], 'common_name': 'golden pheasant', 'display_name': 'Golden pheasant', 'strain': None, 'taxon_id': '9089', 'release': 106, 'division': 'EnsemblVertebrates', 'name': 'chrysolophus_pictus', 'accession': 'GCA_003413605.1', 'aliases': []}\n",
      "{'division': 'EnsemblVertebrates', 'release': 106, 'name': 'physeter_catodon', 'accession': 'GCA_002837175.2', 'aliases': [], 'assembly': 'ASM283717v2', 'strain_collection': None, 'groups': ['core', 'otherfeatures', 'rnaseq'], 'common_name': 'sperm whale', 'display_name': 'Sperm whale', 'strain': None, 'taxon_id': '9755'}\n",
      "{'aliases': [], 'division': 'EnsemblVertebrates', 'release': 106, 'name': 'oreochromis_aureus', 'accession': 'GCA_005870065.1', 'common_name': 'blue tilapia', 'display_name': 'Blue tilapia', 'strain': None, 'taxon_id': '47969', 'assembly': 'ASM587006v1', 'strain_collection': None, 'groups': ['core', 'rnaseq']}\n",
      "{'groups': ['core', 'rnaseq', 'otherfeatures'], 'assembly': 'SLUC_FBN_1', 'strain_collection': None, 'display_name': 'Pike-perch', 'strain': None, 'taxon_id': '283035', 'common_name': 'pike-perch', 'accession': 'GCA_008315115.1', 'division': 'EnsemblVertebrates', 'release': 106, 'name': 'sander_lucioperca', 'aliases': []}\n",
      "{'aliases': [], 'accession': 'GCA_000146605.4', 'name': 'meleagris_gallopavo', 'release': 106, 'division': 'EnsemblVertebrates', 'strain': 'reference', 'taxon_id': '9103', 'display_name': 'Turkey', 'common_name': 'turkey', 'groups': ['rnaseq', 'otherfeatures', 'core', 'variation'], 'strain_collection': None, 'assembly': 'Turkey_5.1'}\n",
      "{'assembly': 'mLynCan4_v1.p', 'strain_collection': None, 'groups': ['core', 'rnaseq', 'otherfeatures'], 'common_name': 'Canada lynx', 'display_name': 'Canada lynx', 'strain': None, 'taxon_id': '61383', 'release': 106, 'division': 'EnsemblVertebrates', 'name': 'lynx_canadensis', 'accession': 'GCA_007474595.1', 'aliases': []}\n",
      "{'name': 'accipiter_nisus', 'release': 106, 'division': 'EnsemblVertebrates', 'accession': 'GCA_004320145.1', 'aliases': [], 'strain_collection': None, 'assembly': 'Accipiter_nisus_ver1.0', 'groups': ['core', 'rnaseq'], 'common_name': 'Eurasian sparrowhawk', 'taxon_id': '211598', 'strain': None, 'display_name': 'Eurasian sparrowhawk'}\n",
      "{'strain_collection': None, 'assembly': 'ASM309773v1', 'groups': ['rnaseq', 'core'], 'common_name': 'western mosquitofish', 'taxon_id': '33528', 'strain': None, 'display_name': 'Western mosquitofish', 'name': 'gambusia_affinis', 'division': 'EnsemblVertebrates', 'release': 106, 'accession': 'GCA_003097735.1', 'aliases': []}\n",
      "{'name': 'ciona_savignyi', 'release': 106, 'division': 'EnsemblVertebrates', 'accession': None, 'aliases': ['csav', 'ciosav', '51511', 'ciona savignyi', 'csavignyi', 'c.savignyi', 'sea squirt ciona savignyi'], 'strain_collection': None, 'assembly': 'CSAV2.0', 'groups': ['core', 'otherfeatures'], 'common_name': 'Sea squirt Ciona savignyi', 'strain': None, 'taxon_id': '51511', 'display_name': 'C.savignyi'}\n",
      "{'aliases': [], 'name': 'catharus_ustulatus', 'division': 'EnsemblVertebrates', 'release': 106, 'accession': 'GCA_009819885.1', 'common_name': \"Swainson's thrush\", 'taxon_id': '91951', 'strain': None, 'display_name': \"Swainson's thrush\", 'strain_collection': None, 'assembly': 'bCatUst1.pri', 'groups': ['core', 'rnaseq', 'otherfeatures']}\n",
      "{'assembly': 'ASM69896v1', 'strain_collection': None, 'groups': ['core', 'rnaseq', 'otherfeatures'], 'common_name': 'African ostrich', 'display_name': 'African ostrich', 'strain': None, 'taxon_id': '441894', 'division': 'EnsemblVertebrates', 'release': 106, 'name': 'struthio_camelus_australis', 'accession': 'GCA_000698965.1', 'aliases': []}\n",
      "{'division': 'EnsemblVertebrates', 'release': 106, 'name': 'dicentrarchus_labrax', 'accession': 'GCA_905237075.1', 'aliases': [], 'assembly': 'dlabrax2021', 'strain_collection': None, 'groups': ['rnaseq', 'core'], 'common_name': 'European seabass', 'display_name': 'European seabass', 'strain': None, 'taxon_id': '13489'}\n",
      "{'common_name': 'coelacanth', 'display_name': 'Coelacanth', 'strain': None, 'taxon_id': '7897', 'assembly': 'LatCha1', 'strain_collection': None, 'groups': ['core', 'otherfeatures'], 'aliases': ['living fossil', 'lcha', 'coelacanth', '7897', 'latcha', 'lchalumnae', 'latimeria chalumnae', 'lamineria'], 'division': 'EnsemblVertebrates', 'release': 106, 'name': 'latimeria_chalumnae', 'accession': 'GCA_000225785.1'}\n",
      "{'aliases': ['procaviacapensis', 'procap', '9813', 'cape rock hyrax', 'pcap', 'pcapensis', 'procavia capensis', 'hyrax', 'rock_hyrax'], 'accession': None, 'division': 'EnsemblVertebrates', 'release': 106, 'name': 'procavia_capensis', 'display_name': 'Hyrax', 'strain': None, 'taxon_id': '9813', 'common_name': 'cape rock hyrax', 'groups': ['core'], 'assembly': 'proCap1', 'strain_collection': None}\n",
      "{'common_name': 'gelada', 'strain': None, 'taxon_id': '9565', 'display_name': 'Gelada', 'strain_collection': None, 'assembly': 'Tgel_1.0', 'groups': ['core', 'funcgen', 'rnaseq'], 'aliases': [], 'name': 'theropithecus_gelada', 'release': 106, 'division': 'EnsemblVertebrates', 'accession': 'GCA_003255815.1'}\n",
      "{'aliases': ['leopard'], 'accession': 'GCA_001857705.1', 'release': 106, 'division': 'EnsemblVertebrates', 'name': 'panthera_pardus', 'display_name': 'Leopard', 'strain': None, 'taxon_id': '9691', 'common_name': 'leopard', 'groups': ['core', 'otherfeatures'], 'assembly': 'PanPar1.0', 'strain_collection': None}\n",
      "{'accession': 'GCA_000247695.1', 'name': 'heterocephalus_glaber_female', 'release': 106, 'division': 'EnsemblVertebrates', 'aliases': ['naked mole-rat female', 'heterocephalus glaber female', 'hglaber_female'], 'groups': ['rnaseq', 'otherfeatures', 'core'], 'strain_collection': None, 'assembly': 'HetGla_female_1.0', 'taxon_id': '10181', 'strain': None, 'display_name': 'Naked mole-rat female', 'common_name': 'naked mole-rat'}\n",
      "{'name': 'jaculus_jaculus', 'release': 106, 'division': 'EnsemblVertebrates', 'accession': 'GCA_000280705.1', 'aliases': ['jacjac', 'jaculus jaculus', '51337', 'jjac', 'jjaculus', 'lesser egyptian jerboa'], 'strain_collection': None, 'assembly': 'JacJac1.0', 'groups': ['core', 'otherfeatures'], 'common_name': 'Lesser Egyptian jerboa', 'taxon_id': '51337', 'strain': None, 'display_name': 'Lesser Egyptian jerboa'}\n",
      "{'groups': ['core', 'otherfeatures', 'rnaseq'], 'strain_collection': None, 'assembly': 'Melopsittacus_undulatus_6.3', 'strain': None, 'taxon_id': '13146', 'display_name': 'Budgerigar', 'common_name': 'Budgie', 'accession': 'GCA_000238935.1', 'name': 'melopsittacus_undulatus', 'division': 'EnsemblVertebrates', 'release': 106, 'aliases': []}\n",
      "{'aliases': [], 'accession': 'GCA_009650515.1', 'release': 106, 'division': 'EnsemblVertebrates', 'name': 'corvus_moneduloides', 'display_name': 'New Caledonian crow', 'taxon_id': '1196302', 'strain': None, 'common_name': 'New Caledonian crow', 'groups': ['core', 'rnaseq'], 'assembly': 'UO_Cmon_1.0', 'strain_collection': None}\n",
      "{'division': 'EnsemblVertebrates', 'release': 106, 'name': 'oncorhynchus_tshawytscha', 'accession': 'GCA_002872995.1', 'aliases': [], 'assembly': 'Otsh_v1.0', 'strain_collection': None, 'groups': ['otherfeatures', 'rnaseq', 'core'], 'common_name': 'Chinook salmon', 'display_name': 'Chinook salmon', 'taxon_id': '74940', 'strain': None}\n",
      "{'aliases': [], 'name': 'sus_scrofa_bamei', 'release': 106, 'division': 'EnsemblVertebrates', 'accession': 'GCA_001700235.1', 'common_name': 'pig', 'taxon_id': '9823', 'strain': 'bamei', 'display_name': 'Pig - Bamei', 'strain_collection': None, 'assembly': 'Bamei_pig_v1', 'groups': ['rnaseq', 'otherfeatures', 'core']}\n",
      "{'assembly': 'BALB_cJ_v1', 'strain_collection': None, 'groups': ['funcgen', 'core'], 'common_name': 'mouse', 'display_name': 'Mouse BALB/cJ', 'strain': 'BALB/cJ', 'taxon_id': '10090', 'release': 106, 'division': 'EnsemblVertebrates', 'name': 'mus_musculus_balbcj', 'accession': 'GCA_001632525.1', 'aliases': []}\n",
      "{'accession': 'GCA_000956065.1', 'release': 106, 'division': 'EnsemblVertebrates', 'name': 'macaca_nemestrina', 'aliases': [], 'groups': ['core', 'funcgen', 'otherfeatures', 'rnaseq'], 'assembly': 'Mnem_1.0', 'strain_collection': None, 'display_name': 'Pig-tailed macaque', 'taxon_id': '9545', 'strain': None, 'common_name': 'Pig-tailed macaque'}\n",
      "{'accession': 'GCA_900634415.1', 'name': 'cottoperca_gobio', 'release': 106, 'division': 'EnsemblVertebrates', 'aliases': [], 'groups': ['rnaseq', 'otherfeatures', 'core'], 'strain_collection': None, 'assembly': 'fCotGob3.1', 'taxon_id': '56716', 'strain': None, 'display_name': 'Channel bull blenny', 'common_name': 'channel bull blenny'}\n",
      "{'common_name': 'central bearded dragon', 'display_name': 'Central bearded dragon', 'taxon_id': '103695', 'strain': None, 'assembly': 'pvi1.1', 'strain_collection': None, 'groups': ['rnaseq', 'otherfeatures', 'core'], 'aliases': [], 'release': 106, 'division': 'EnsemblVertebrates', 'name': 'pogona_vitticeps', 'accession': 'GCA_900067755.1'}\n",
      "{'aliases': [], 'accession': 'GCA_003426925.1', 'division': 'EnsemblVertebrates', 'release': 106, 'name': 'urocitellus_parryii', 'display_name': 'Arctic ground squirrel', 'taxon_id': '9999', 'strain': None, 'common_name': 'Arctic ground squirrel', 'groups': ['rnaseq', 'core'], 'assembly': 'ASM342692v1', 'strain_collection': None}\n",
      "{'display_name': 'Three-toed box turtle', 'taxon_id': '2587831', 'strain': None, 'common_name': 'Three-toed box turtle', 'groups': ['rnaseq', 'otherfeatures', 'core'], 'assembly': 'T_m_triunguis-2.0', 'strain_collection': None, 'aliases': [], 'accession': 'GCA_002925995.2', 'release': 106, 'division': 'EnsemblVertebrates', 'name': 'terrapene_carolina_triunguis'}\n",
      "{'groups': ['core', 'otherfeatures', 'rnaseq'], 'assembly': 'fSphaOr1.1', 'strain_collection': None, 'display_name': 'Orbiculate cardinalfish', 'taxon_id': '375764', 'strain': None, 'common_name': 'orbiculate cardinalfish', 'accession': 'GCA_902148855.1', 'release': 106, 'division': 'EnsemblVertebrates', 'name': 'sphaeramia_orbicularis', 'aliases': []}\n",
      "{'aliases': [], 'accession': 'GCA_003259725.1', 'release': 106, 'division': 'EnsemblVertebrates', 'name': 'athene_cunicularia', 'display_name': 'Burrowing owl', 'strain': None, 'taxon_id': '194338', 'common_name': 'burrowing owl', 'groups': ['otherfeatures', 'rnaseq', 'core'], 'assembly': 'athCun1', 'strain_collection': None}\n",
      "{'groups': ['core'], 'strain_collection': None, 'assembly': 'phaCin_unsw_v4.1', 'strain': None, 'taxon_id': '38626', 'display_name': 'Koala', 'common_name': 'koala', 'accession': 'GCA_002099425.1', 'name': 'phascolarctos_cinereus', 'division': 'EnsemblVertebrates', 'release': 106, 'aliases': []}\n",
      "{'aliases': [], 'accession': 'GCA_900497805.2', 'division': 'EnsemblVertebrates', 'release': 106, 'name': 'vombatus_ursinus', 'display_name': 'Common wombat', 'strain': None, 'taxon_id': '29139', 'common_name': 'common wombat', 'groups': ['core', 'rnaseq', 'otherfeatures'], 'assembly': 'bare-nosed_wombat_genome_assembly', 'strain_collection': None}\n",
      "{'aliases': [], 'accession': 'GCA_002224875.1', 'division': 'EnsemblVertebrates', 'release': 106, 'name': 'anas_zonorhyncha', 'display_name': 'Eastern spot-billed duck', 'strain': None, 'taxon_id': '75864', 'common_name': 'Eastern spot-billed duck', 'groups': ['rnaseq', 'core'], 'assembly': 'ASM222487v1', 'strain_collection': None}\n",
      "{'name': 'esox_lucius', 'division': 'EnsemblVertebrates', 'release': 106, 'accession': 'GCA_004634155.1', 'aliases': [], 'strain_collection': None, 'assembly': 'Eluc_v4', 'groups': ['core', 'rnaseq', 'otherfeatures'], 'common_name': 'northern pike', 'taxon_id': '8010', 'strain': None, 'display_name': 'Northern pike'}\n",
      "{'common_name': 'silver-eye', 'display_name': 'Silver-eye', 'taxon_id': '1220523', 'strain': None, 'assembly': 'ASM128173v1', 'strain_collection': None, 'groups': ['rnaseq', 'core'], 'aliases': [], 'release': 106, 'division': 'EnsemblVertebrates', 'name': 'zosterops_lateralis_melanops', 'accession': 'GCA_001281735.1'}\n",
      "{'accession': 'GCA_900964775.1', 'name': 'scleropages_formosus', 'division': 'EnsemblVertebrates', 'release': 106, 'aliases': [], 'groups': ['core', 'otherfeatures', 'rnaseq'], 'strain_collection': None, 'assembly': 'fSclFor1.1', 'strain': None, 'taxon_id': '113540', 'display_name': 'Asian bonytongue', 'common_name': 'Asian bonytongue'}\n",
      "{'release': 106, 'division': 'EnsemblVertebrates', 'name': 'paramormyrops_kingsleyae', 'accession': 'GCA_002872115.1', 'aliases': [], 'assembly': 'PKINGS_0.1', 'strain_collection': None, 'groups': ['rnaseq', 'core'], 'common_name': 'Paramormyrops kingsleyae', 'display_name': 'Paramormyrops kingsleyae', 'taxon_id': '1676925', 'strain': None}\n",
      "{'aliases': [], 'name': 'stegastes_partitus', 'release': 106, 'division': 'EnsemblVertebrates', 'accession': 'GCA_000690725.1', 'common_name': 'bicolor damselfish', 'strain': None, 'taxon_id': '144197', 'display_name': 'Bicolor damselfish', 'strain_collection': None, 'assembly': 'Stegastes_partitus-1.0.2', 'groups': ['core', 'rnaseq', 'otherfeatures']}\n"
     ]
    }
   ],
   "source": [
    "!pypgatk_cli.py ensembl-downloader -l -sv -sg -sp -sc -sd -sn "
   ]
  },
  {
   "cell_type": "markdown",
   "id": "9f6f0d19",
   "metadata": {
    "slideshow": {
     "slide_type": "slide"
    }
   },
   "source": [
    "Let's download reference files except VCF (variants) for `Meleagris_gallopavo.Turkey` (taxonomy id: 9103) into a folder named ensembl_files"
   ]
  },
  {
   "cell_type": "code",
   "execution_count": 22,
   "id": "a3e52896",
   "metadata": {
    "slideshow": {
     "slide_type": "subslide"
    }
   },
   "outputs": [
    {
     "name": "stdout",
     "output_type": "stream",
     "text": [
      "Determination of memory status is not supported on this \n",
      " platform, measuring for memoryleaks will never fail\n",
      "Downloading --  ftp://ftp.ensembl.org/pub/release-106/fasta/meleagris_gallopavo/pep/Meleagris_gallopavo.Turkey_5.1.pep.all.fa.gz\n",
      "DEBUG:pypgatk.toolbox.general:Files downloaded -- ensembl_files/Meleagris_gallopavo.Turkey_5.1.pep.all.fa,ensembl_files/Meleagris_gallopavo.Turkey_5.1.106.gtf,ensembl_files/Meleagris_gallopavo.Turkey_5.1.cds.all.fa,ensembl_files/Meleagris_gallopavo.Turkey_5.1.cdna.all.fa,ensembl_files/Meleagris_gallopavo.Turkey_5.1.ncrna.fa,ensembl_files/Meleagris_gallopavo.Turkey_5.1.dna_sm.toplevel.fa\n",
      "INFO:Main Pipeline Ensembl Downloader:Pipeline Finish !!!\n"
     ]
    }
   ],
   "source": [
    "!pypgatk_cli.py ensembl-downloader -t 9103 -o ensembl_files --skip_vcf"
   ]
  },
  {
   "cell_type": "markdown",
   "id": "3ae49c10",
   "metadata": {
    "slideshow": {
     "slide_type": "subslide"
    }
   },
   "source": [
    "Check the contents of the ensembl_files on your computer system, you should see the following files downloaded:"
   ]
  },
  {
   "cell_type": "code",
   "execution_count": 8,
   "id": "bd4bf472",
   "metadata": {
    "scrolled": true,
    "slideshow": {
     "slide_type": "subslide"
    }
   },
   "outputs": [
    {
     "data": {
      "text/plain": [
       "['Homo_sapiens.GRCh38.106.db',\n",
       " 'Meleagris_gallopavo.Turkey_5.1.106.gtf',\n",
       " 'Meleagris_gallopavo.Turkey_5.1.dna_sm.toplevel.fa',\n",
       " 'Meleagris_gallopavo.Turkey_5.1.pep.all.fa',\n",
       " 'Homo_sapiens.GRCh38.106.gtf',\n",
       " 'Homo_sapiens.GRCh38.cds.all.fa',\n",
       " 'Meleagris_gallopavo.Turkey_5.1.ncrna.fa',\n",
       " 'Meleagris_gallopavo.Turkey_5.1.cds.all.fa',\n",
       " 'Meleagris_gallopavo.Turkey_5.1.cdna.all.fa',\n",
       " 'Meleagris_gallopavo.Turkey_5.1.dna_sm.toplevel.fa.fai',\n",
       " 'Meleagris_gallopavo.Turkey_5.1.106.fa']"
      ]
     },
     "execution_count": 8,
     "metadata": {},
     "output_type": "execute_result"
    }
   ],
   "source": [
    "os.listdir('ensembl_files')"
   ]
  },
  {
   "cell_type": "markdown",
   "id": "4aa27dc7",
   "metadata": {
    "slideshow": {
     "slide_type": "slide"
    }
   },
   "source": [
    "#### Convert GTF (can be reference or custom from RNA-seq) to DNA sequences\n",
    "Although the cdna.fa and ncrna.fa files can be used as reference DNA, but we wull use  GTF since it provides more flexibility to select desired transcript types. Also, when running your own RNA-seq experiments you usually get a GTF file as a final output therefore it is better to learn how to translate transcripts starting from a GTF file.\n",
    "\n",
    "However, since the `dnaseq-to-proteindb` tool only accepts FASTA files as input, we first need to convert the GTF into FASTA using gffread that is a separate tool.\n"
   ]
  },
  {
   "cell_type": "code",
   "execution_count": 12,
   "id": "2254ac9b",
   "metadata": {
    "slideshow": {
     "slide_type": "subslide"
    }
   },
   "outputs": [
    {
     "name": "stdout",
     "output_type": "stream",
     "text": [
      "FASTA index file ensembl_files/Meleagris_gallopavo.Turkey_5.1.dna_sm.toplevel.fa.fai created.\r\n"
     ]
    }
   ],
   "source": [
    "!./gffread -F -w ensembl_files/Meleagris_gallopavo.Turkey_5.1.106.fa -g ensembl_files/Meleagris_gallopavo.Turkey_5.1.dna_sm.toplevel.fa ensembl_files/Meleagris_gallopavo.Turkey_5.1.106.gtf\n",
    "\n"
   ]
  },
  {
   "cell_type": "markdown",
   "id": "5f6ceddc",
   "metadata": {
    "slideshow": {
     "slide_type": "slide"
    }
   },
   "source": [
    "Now that we have the DNA fasta file ready to be used, let's take a look at the parameters that can be used:"
   ]
  },
  {
   "cell_type": "code",
   "execution_count": 12,
   "id": "0e23d677",
   "metadata": {
    "scrolled": true,
    "slideshow": {
     "slide_type": "subslide"
    }
   },
   "outputs": [
    {
     "name": "stdout",
     "output_type": "stream",
     "text": [
      "Determination of memory status is not supported on this \n",
      " platform, measuring for memoryleaks will never fail\n",
      "Usage: pypgatk_cli.py dnaseq-to-proteindb [OPTIONS]\n",
      "\n",
      "Options:\n",
      "  -c, --config_file TEXT          Configuration to perform conversion between\n",
      "                                  ENSEMBL Files\n",
      "  --input_fasta TEXT              Path to sequences fasta\n",
      "  --translation_table INTEGER     Translation Table (default 1)\n",
      "  --num_orfs INTEGER              Number of ORFs (default 3)\n",
      "  --num_orfs_complement INTEGER   Number of ORFs from the reverse side\n",
      "                                  (default 0)\n",
      "  --output_proteindb TEXT         Output file name, exits if already exists\n",
      "  -p, --var_prefix TEXT           String to add before the variant peptides\n",
      "  --skip_including_all_cds        By default any transcript that has a defined\n",
      "                                  CDS will be translated, this option disables\n",
      "                                  this features instead it only depends on the\n",
      "                                  biotypes\n",
      "  --include_biotypes TEXT         Include Biotypes\n",
      "  --exclude_biotypes TEXT         Exclude Biotypes\n",
      "  --biotype_str TEXT              String used to identify gene/transcript\n",
      "                                  biotype in the gtf file.\n",
      "  --transcript_description_sep TEXT\n",
      "                                  Separator used to separate features in the\n",
      "                                  fasta headers, usually either (space, / or\n",
      "                                  semicolon).\n",
      "  --expression_str TEXT           String to be used for extracting expression\n",
      "                                  value (TPM, FPKM, etc).\n",
      "  --expression_thresh FLOAT       Threshold used to filter transcripts based\n",
      "                                  on their expression values\n",
      "  -h, --help                      Show this message and exit.\n"
     ]
    }
   ],
   "source": [
    "!pypgatk_cli.py dnaseq-to-proteindb  -h"
   ]
  },
  {
   "cell_type": "markdown",
   "id": "3854d360",
   "metadata": {
    "slideshow": {
     "slide_type": "slide"
    }
   },
   "source": [
    "#### Generate a protein database from lncRNAs only\n",
    "*Use the include_biotypes flag to specify what kind of transcripts should be translated. See ensembl biotypes: http://www.ensembl.org/info/genome/genebuild/biotypes.html"
   ]
  },
  {
   "cell_type": "code",
   "execution_count": 10,
   "id": "71a84c4c",
   "metadata": {
    "scrolled": false,
    "slideshow": {
     "slide_type": "subslide"
    }
   },
   "outputs": [
    {
     "name": "stdout",
     "output_type": "stream",
     "text": [
      "Determination of memory status is not supported on this \n",
      " platform, measuring for memoryleaks will never fail\n",
      "Traceback (most recent call last):\n",
      "  File \"/Users/husen/opt/anaconda3/envs/pygatk/bin/pypgatk_cli.py\", line 7, in <module>\n",
      "    exec(compile(f.read(), __file__, 'exec'))\n",
      "  File \"/Users/husen/git/py-pgatk/pypgatk/pypgatk_cli.py\", line 56, in <module>\n",
      "    main()\n",
      "  File \"/Users/husen/git/py-pgatk/pypgatk/pypgatk_cli.py\", line 52, in main\n",
      "    cli()\n",
      "  File \"/Users/husen/opt/anaconda3/envs/pygatk/lib/python3.8/site-packages/click/core.py\", line 764, in __call__\n",
      "    return self.main(*args, **kwargs)\n",
      "  File \"/Users/husen/opt/anaconda3/envs/pygatk/lib/python3.8/site-packages/click/core.py\", line 717, in main\n",
      "    rv = self.invoke(ctx)\n",
      "  File \"/Users/husen/opt/anaconda3/envs/pygatk/lib/python3.8/site-packages/click/core.py\", line 1137, in invoke\n",
      "    return _process_result(sub_ctx.command.invoke(sub_ctx))\n",
      "  File \"/Users/husen/opt/anaconda3/envs/pygatk/lib/python3.8/site-packages/click/core.py\", line 956, in invoke\n",
      "    return ctx.invoke(self.callback, **ctx.params)\n",
      "  File \"/Users/husen/opt/anaconda3/envs/pygatk/lib/python3.8/site-packages/click/core.py\", line 555, in invoke\n",
      "    return callback(*args, **kwargs)\n",
      "  File \"/Users/husen/opt/anaconda3/envs/pygatk/lib/python3.8/site-packages/click/decorators.py\", line 17, in new_func\n",
      "    return f(get_current_context(), *args, **kwargs)\n",
      "  File \"/Users/husen/git/py-pgatk/pypgatk/commands/dnaseq_to_proteindb.py\", line 84, in dnaseq_to_proteindb\n",
      "    ensembl_data_service = EnsemblDataService(config_data, pipeline_arguments)\n",
      "  File \"/Users/husen/git/py-pgatk/pypgatk/ensembl/ensembl.py\", line 49, in __init__\n",
      "    self._proteindb_output = self.get_default_parameters()[self.CONFIG_KEY_DATA][self.PROTEIN_DB_OUTPUT]\n",
      "KeyError: 'ensembl_translation'\n",
      "\n",
      "Generated: dict_items([])\n"
     ]
    }
   ],
   "source": [
    "!pypgatk_cli.py dnaseq-to-proteindb --input_fasta ensembl_files/Meleagris_gallopavo.Turkey_5.1.106.fa --output_proteindb lncRNAs.fa --skip_including_all_cds --include_biotypes lncRNA\n",
    "print(\"\\nGenerated:\", Counter([x.split('_')[0] for x in list(SeqIO.index('lncRNAs.fa', \"fasta\").keys())]).items())\n"
   ]
  },
  {
   "cell_type": "markdown",
   "id": "a6ce9b58",
   "metadata": {
    "slideshow": {
     "slide_type": "slide"
    }
   },
   "source": [
    "#### Generate protein database from other non-coding RNAs"
   ]
  },
  {
   "cell_type": "code",
   "execution_count": 16,
   "id": "e63a90af",
   "metadata": {
    "slideshow": {
     "slide_type": "subslide"
    }
   },
   "outputs": [
    {
     "name": "stdout",
     "output_type": "stream",
     "text": [
      "Determination of memory status is not supported on this \n",
      " platform, measuring for memoryleaks will never fail\n",
      "/Users/husen/opt/anaconda3/envs/pygatk/lib/python3.8/site-packages/Bio/Seq.py:2606: BiopythonWarning: Partial codon, len(sequence) not a multiple of three. Explicitly trim the sequence or add trailing N before translation. This may become an error in future.\n",
      "  warnings.warn(\"Partial codon, len(sequence) not a multiple of three. \"\n"
     ]
    }
   ],
   "source": [
    "!pypgatk_cli.py dnaseq-to-proteindb --config_file config/ensembl_config.yaml --input_fasta ensembl_files/Meleagris_gallopavo.Turkey_5.1.106.fa --output_proteindb ncRNAs.fa --skip_including_all_cds --var_prefix ncRNA_ --include_biotypes miRNA,miscRNA,piRNA,rRNA,siRNA,snRNA,snoRNA,tRNA,vaultRNA\n"
   ]
  },
  {
   "cell_type": "code",
   "execution_count": 17,
   "id": "159217e4",
   "metadata": {
    "slideshow": {
     "slide_type": "subslide"
    }
   },
   "outputs": [
    {
     "name": "stdout",
     "output_type": "stream",
     "text": [
      "\n",
      "Generated: dict_items([('ncRNA', 1500)])\n"
     ]
    }
   ],
   "source": [
    "print(\"\\nGenerated:\", Counter([x.split('_')[0] for x in list(SeqIO.index('ncRNAs.fa', \"fasta\").keys())]).items())\n"
   ]
  },
  {
   "cell_type": "markdown",
   "id": "56d4bf8c",
   "metadata": {
    "slideshow": {
     "slide_type": "slide"
    }
   },
   "source": [
    "#### Generate protein database from alternative reading frames of coding sequences"
   ]
  },
  {
   "cell_type": "code",
   "execution_count": 18,
   "id": "228362a6",
   "metadata": {
    "slideshow": {
     "slide_type": "subslide"
    }
   },
   "outputs": [
    {
     "name": "stdout",
     "output_type": "stream",
     "text": [
      "Determination of memory status is not supported on this \r\n",
      " platform, measuring for memoryleaks will never fail\r\n"
     ]
    }
   ],
   "source": [
    "!pypgatk_cli.py dnaseq-to-proteindb --config_file config/ensembl_config.yaml --input_fasta ensembl_files/Meleagris_gallopavo.Turkey_5.1.106.fa --output_proteindb altORFs.fa --skip_including_all_cds --var_prefix altORF_ --include_biotypes altORFs\n"
   ]
  },
  {
   "cell_type": "code",
   "execution_count": 19,
   "id": "2c65cbaa",
   "metadata": {
    "slideshow": {
     "slide_type": "subslide"
    }
   },
   "outputs": [
    {
     "name": "stdout",
     "output_type": "stream",
     "text": [
      "\n",
      "Generated: dict_items([])\n"
     ]
    }
   ],
   "source": [
    "print(\"\\nGenerated:\", Counter([x.split('_')[0] for x in list(SeqIO.index('altORFs.fa', \"fasta\").keys())]).items())\n"
   ]
  },
  {
   "cell_type": "markdown",
   "id": "88a8f5f6",
   "metadata": {
    "slideshow": {
     "slide_type": "slide"
    }
   },
   "source": [
    "#### Generate a protein database from pseudogenes? "
   ]
  },
  {
   "cell_type": "code",
   "execution_count": 20,
   "id": "069f0fd3",
   "metadata": {
    "slideshow": {
     "slide_type": "subslide"
    }
   },
   "outputs": [
    {
     "name": "stdout",
     "output_type": "stream",
     "text": [
      "Determination of memory status is not supported on this \n",
      " platform, measuring for memoryleaks will never fail\n",
      "/Users/husen/opt/anaconda3/envs/pygatk/lib/python3.8/site-packages/Bio/Seq.py:2606: BiopythonWarning: Partial codon, len(sequence) not a multiple of three. Explicitly trim the sequence or add trailing N before translation. This may become an error in future.\n",
      "  warnings.warn(\"Partial codon, len(sequence) not a multiple of three. \"\n"
     ]
    }
   ],
   "source": [
    "#write your code here\n",
    "!pypgatk_cli.py dnaseq-to-proteindb --config_file config/ensembl_config.yaml --input_fasta ensembl_files/Meleagris_gallopavo.Turkey_5.1.106.fa --output_proteindb pesuedogenes.fa --skip_including_all_cds --var_prefix pesuedogene_ --include_biotypes pseudogene,processed_pseudogene\n"
   ]
  },
  {
   "cell_type": "code",
   "execution_count": 21,
   "id": "8c46a69d",
   "metadata": {
    "slideshow": {
     "slide_type": "subslide"
    }
   },
   "outputs": [
    {
     "name": "stdout",
     "output_type": "stream",
     "text": [
      "\n",
      "Generated: dict_items([('pesuedogene', 477)])\n"
     ]
    }
   ],
   "source": [
    "print(\"\\nGenerated:\", Counter([x.split('_')[0] for x in list(SeqIO.index('pesuedogenes.fa', \"fasta\").keys())]).items())\n"
   ]
  },
  {
   "cell_type": "markdown",
   "id": "abe14dba",
   "metadata": {
    "slideshow": {
     "slide_type": "slide"
    }
   },
   "source": [
    "### Concatenate the generated protein databases with reference proteome"
   ]
  },
  {
   "cell_type": "code",
   "execution_count": 22,
   "id": "590ff8aa",
   "metadata": {
    "slideshow": {
     "slide_type": "subslide"
    }
   },
   "outputs": [
    {
     "data": {
      "text/plain": [
       "dict_items([('lncRNA', 5109), ('pesuedogene', 477), ('ncRNA', 1500), ('Can', 28295)])"
      ]
     },
     "execution_count": 22,
     "metadata": {},
     "output_type": "execute_result"
    }
   ],
   "source": [
    "!cat lncRNAs.fa pesuedogenes.fa ncRNAs.fa altORFs.fa ensembl_files/Meleagris_gallopavo.Turkey_5.1.pep.all.fa > proteins.fa\n",
    "\n",
    "Counter([x.replace('ENS','Can_ENS').split('_')[0] for x in list(SeqIO.index('proteins.fa', \"fasta\").keys())]).items()\n"
   ]
  },
  {
   "cell_type": "markdown",
   "id": "7aa09bc8",
   "metadata": {
    "slideshow": {
     "slide_type": "slide"
    }
   },
   "source": [
    "#### Perform six-frame translation on DNA seqyence"
   ]
  },
  {
   "cell_type": "code",
   "execution_count": 23,
   "id": "b204e3b4",
   "metadata": {
    "slideshow": {
     "slide_type": "subslide"
    }
   },
   "outputs": [
    {
     "name": "stdout",
     "output_type": "stream",
     "text": [
      "Determination of memory status is not supported on this \n",
      " platform, measuring for memoryleaks will never fail\n",
      "/Users/husen/opt/anaconda3/envs/pygatk/lib/python3.8/site-packages/Bio/Seq.py:2606: BiopythonWarning: Partial codon, len(sequence) not a multiple of three. Explicitly trim the sequence or add trailing N before translation. This may become an error in future.\n",
      "  warnings.warn(\"Partial codon, len(sequence) not a multiple of three. \"\n"
     ]
    }
   ],
   "source": [
    "!pypgatk_cli.py dnaseq-to-proteindb --config_file config/ensembl_config.yaml --skip_including_all_cds --input_fasta ensembl_files/Meleagris_gallopavo.Turkey_5.1.106.fa --output_proteindb sixframes.fa --var_prefix sixframe_  --num_orfs 3 --num_orfs_complement 3 --include_biotypes all\n"
   ]
  },
  {
   "cell_type": "code",
   "execution_count": 24,
   "id": "e8df5f85",
   "metadata": {
    "slideshow": {
     "slide_type": "subslide"
    }
   },
   "outputs": [
    {
     "name": "stdout",
     "output_type": "stream",
     "text": [
      "\n",
      "Generated: dict_items([('sixframe', 184248)])\n"
     ]
    }
   ],
   "source": [
    "print(\"\\nGenerated:\", Counter([x.split('_')[0] for x in list(SeqIO.index('sixframes.fa', \"fasta\").keys())]).items())\n"
   ]
  },
  {
   "cell_type": "code",
   "execution_count": 25,
   "id": "8c5a1f32",
   "metadata": {
    "slideshow": {
     "slide_type": "slide"
    }
   },
   "outputs": [],
   "source": [
    "#function to digest proteins\n",
    "\n",
    "def trypsin_digestion(proseq_incl_stop, miss_cleavage=0):\n",
    "    \"digest peptides using the tryptic rule, allowing for miss cleavages\"\n",
    "    all_peptides = []\n",
    "    for protseq in proseq_incl_stop.split('*'):\n",
    "        if len(protseq)<=0:\n",
    "            continue\n",
    "        peptides = []\n",
    "        peptide = ''\n",
    "        \"remove the first K/R if in the begining of a reading frame\"\n",
    "        protseq_updated = protseq[0::]\n",
    "        if protseq[0]=='K' or protseq[0]=='R' and len(protseq)>1:\n",
    "            protseq_updated = protseq[1::]\n",
    "\n",
    "        for c, aa in enumerate(protseq_updated):\n",
    "            peptide += aa\n",
    "            next_aa = ''\n",
    "            try:\n",
    "                next_aa = protseq_updated[c + 1]\n",
    "            except IndexError:\n",
    "                pass\n",
    "\n",
    "            if aa in ['K', 'R'] and next_aa != 'P':  # for trypsin peptides\n",
    "                if len(peptide) > 0:\n",
    "                    peptides.append(peptide)\n",
    "                peptide = ''\n",
    "                continue\n",
    "\n",
    "        if len(peptide) > 0:\n",
    "            peptides.append(peptide)\n",
    "\n",
    "        peptides_with_miss_cleavage = []\n",
    "        for i in range(1, miss_cleavage + 1):\n",
    "            for j, pep in enumerate(peptides):\n",
    "                if j + i < len(peptides):\n",
    "                    peptide = ''.join([x for x in (peptides[j:j + i + 1])])\n",
    "                    peptides_with_miss_cleavage.append(peptide)\n",
    "\n",
    "        peptides.extend(peptides_with_miss_cleavage)\n",
    "        all_peptides.extend(peptides)\n",
    "\n",
    "    return all_peptides"
   ]
  },
  {
   "cell_type": "markdown",
   "id": "300c2798",
   "metadata": {
    "slideshow": {
     "slide_type": "slide"
    }
   },
   "source": [
    "#### Investigate the overlap between tryptic peptides from various categories!"
   ]
  },
  {
   "cell_type": "code",
   "execution_count": 26,
   "id": "d702f439",
   "metadata": {
    "slideshow": {
     "slide_type": "subslide"
    }
   },
   "outputs": [
    {
     "name": "stdout",
     "output_type": "stream",
     "text": [
      "Number of tryptic peptides per type:\n",
      " lncRNA = 170307\n",
      "pesuedogene = 32431\n",
      "ncRNA = 4565\n",
      "Can = 525753\n"
     ]
    }
   ],
   "source": [
    "#Specify protein files to use\n",
    "prot_files = ['proteins.fa']#, 'sixframes.fa']\n",
    "\n",
    "proteins = {}\n",
    "for prot_file in prot_files:\n",
    "    for record in SeqIO.parse(prot_file, 'fasta'):\n",
    "        prot_type = str(record.id).replace('ENS', 'Can_ENS').split('_')[0]\n",
    "        try:\n",
    "            proteins[prot_type].extend(trypsin_digestion(str(record.seq)))\n",
    "        except KeyError:\n",
    "            proteins[prot_type] = trypsin_digestion(str(record.seq))\n",
    "\n",
    "#unify\n",
    "for prot_type in proteins.keys():\n",
    "    proteins[prot_type] = set(proteins[prot_type])\n",
    "\n",
    "print('Number of tryptic peptides per type:\\n', '\\n'.join([k+' = '+str(len(items)) for k,items in proteins.items()]))"
   ]
  },
  {
   "cell_type": "code",
   "execution_count": 27,
   "id": "1d9241bd",
   "metadata": {
    "scrolled": true,
    "slideshow": {
     "slide_type": "subslide"
    }
   },
   "outputs": [
    {
     "data": {
      "image/png": "[encoded data removed]",
      "text/plain": [
       "<Figure size 1440x720 with 3 Axes>"
      ]
     },
     "metadata": {
      "needs_background": "light"
     },
     "output_type": "display_data"
    }
   ],
   "source": [
    "###Optional\n",
    "#make a supervenn to plot the overlaps (takes some time)\n",
    "try:\n",
    "    from supervenn import supervenn\n",
    "except ModuleNotFoundError:\n",
    "    !pip install supervenn #does not work for some reason it looks at the base env for this package (print(sys.executable) )\n",
    "    from supervenn import supervenn\n",
    "\n",
    "labels = list(proteins.keys())\n",
    "sets = [proteins[x] for x in proteins.keys()]\n",
    "\n",
    "plt.figure(figsize=(20, 10))\n",
    "supervenn(sets, labels, min_width_for_annotation=10000, rotate_col_annotations=True, \n",
    "          side_plots='right', chunks_ordering='occurrence', alternating_background= False)\n",
    "plt.grid(False)\n",
    "plt.savefig('baroverlap.svg')"
   ]
  },
  {
   "cell_type": "markdown",
   "id": "52842789",
   "metadata": {
    "slideshow": {
     "slide_type": "subslide"
    }
   },
   "source": [
    "#### Can you also show peptides from the six-frame translation? can you speculate how they would look like?"
   ]
  },
  {
   "cell_type": "markdown",
   "id": "2be6514f",
   "metadata": {
    "slideshow": {
     "slide_type": "slide"
    }
   },
   "source": [
    "# Part 3: DNA Variants to Proteins\n",
    "\n",
    "\n",
    "In this part we will use the `vcf-to-proteindb` command to translate mutations in VCF format to proteins. The output of genome/exome sequencing is usually a VCF file that includes the list of identified mutations.\n",
    "\n",
    "\n",
    "## Download relevant files\n",
    "\n",
    "Lets download a `VCF` file from `ENSEMBL` containing all `SNP`s from homo sapiens, to minimize computational time we only download SNPs identified in `chrY`. \n",
    "\n",
    "The idea is to learn how to convert a `VCF` file and you can replace this `VCF` with any standard `VCF` file that is generated from WGS/WES. "
   ]
  },
  {
   "cell_type": "code",
   "execution_count": 28,
   "id": "3cf26272",
   "metadata": {
    "slideshow": {
     "slide_type": "subslide"
    }
   },
   "outputs": [
    {
     "name": "stdout",
     "output_type": "stream",
     "text": [
      "--2022-06-09 10:49:30--  http://ftp.ensembl.org/pub/release-106/variation/vcf/homo_sapiens/homo_sapiens_incl_consequences-chrY.vcf.gz\n",
      "Resolving ftp.ensembl.org (ftp.ensembl.org)... 193.62.193.139\n",
      "Connecting to ftp.ensembl.org (ftp.ensembl.org)|193.62.193.139|:80... connected.\n",
      "HTTP request sent, awaiting response... 200 OK\n",
      "Length: 31480732 (30M) [application/x-gzip]\n",
      "Saving to: ‘homo_sapiens_incl_consequences-chrY.vcf.gz’\n",
      "\n",
      "homo_sapiens_incl_c 100%[===================>]  30,02M  3,95MB/s    in 8,2s    \n",
      "\n",
      "2022-06-09 10:49:38 (3,65 MB/s) - ‘homo_sapiens_incl_consequences-chrY.vcf.gz’ saved [31480732/31480732]\n",
      "\n"
     ]
    }
   ],
   "source": [
    "!wget http://ftp.ensembl.org/pub/release-106/variation/vcf/homo_sapiens/homo_sapiens_incl_consequences-chrY.vcf.gz\n",
    "!gunzip homo_sapiens_incl_consequences-chrY.vcf.gz"
   ]
  },
  {
   "cell_type": "markdown",
   "id": "1d25dfd4",
   "metadata": {
    "slideshow": {
     "slide_type": "subslide"
    }
   },
   "source": [
    "Also, we need to download transcript structures and sequences for homo sapiens, run the following to download `GTF` and `cdna` files"
   ]
  },
  {
   "cell_type": "code",
   "execution_count": 29,
   "id": "2b3e34f4",
   "metadata": {
    "slideshow": {
     "slide_type": "subslide"
    }
   },
   "outputs": [
    {
     "name": "stdout",
     "output_type": "stream",
     "text": [
      "Determination of memory status is not supported on this \n",
      " platform, measuring for memoryleaks will never fail\n",
      "DEBUG:pypgatk.toolbox.general:Files downloaded -- ensembl_files/Homo_sapiens.GRCh38.106.gtf,ensembl_files/Homo_sapiens.GRCh38.cds.all.fa\n",
      "INFO:Main Pipeline Ensembl Downloader:Pipeline Finish !!!\n"
     ]
    }
   ],
   "source": [
    "!pypgatk_cli.py ensembl-downloader -c config/ensembl_downloader_config.yaml -t 9606 -o ensembl_files --skip_vcf --skip_protein --skip_ncrna --skip_dna --skip_cdna\n"
   ]
  },
  {
   "cell_type": "markdown",
   "id": "08d760e8",
   "metadata": {
    "slideshow": {
     "slide_type": "slide"
    }
   },
   "source": [
    "#### Check the flags that can be used for a VCF file"
   ]
  },
  {
   "cell_type": "code",
   "execution_count": 30,
   "id": "4b78830f",
   "metadata": {
    "slideshow": {
     "slide_type": "subslide"
    }
   },
   "outputs": [
    {
     "name": "stdout",
     "output_type": "stream",
     "text": [
      "Determination of memory status is not supported on this \n",
      " platform, measuring for memoryleaks will never fail\n",
      "Usage: pypgatk_cli.py vcf-to-proteindb [OPTIONS]\n",
      "\n",
      "Options:\n",
      "  -c, --config_file TEXT          Configuration to perform conversion between\n",
      "                                  ENSEMBL Files\n",
      "  -f, --input_fasta TEXT          Path to the transcript sequence\n",
      "  -v, --vcf TEXT                  Path to the VCF file\n",
      "  -g, --gene_annotations_gtf TEXT\n",
      "                                  Path to the gene annotations file\n",
      "  -t, --translation_table INTEGER\n",
      "                                  Translation table (Default 1)\n",
      "  -m, --mito_translation_table INTEGER\n",
      "                                  Mito_trans_table (default 2)\n",
      "  -p, --var_prefix TEXT           String to add before the variant peptides\n",
      "  --report_ref_seq                In addition to var peps, also report all ref\n",
      "                                  peps\n",
      "  -o, --output_proteindb TEXT     Output file name, exits if already exists\n",
      "  --annotation_field_name TEXT    Annotation field name found in the INFO\n",
      "                                  column,\n",
      "                                  e.g CSQ or vep; if empty it will\n",
      "                                  identify overlapping transcripts\n",
      "                                  from the\n",
      "                                  given GTF file and no aa consequence will be\n",
      "                                  considered\n",
      "  --af_field TEXT                 field name in the VCF INFO column to use for\n",
      "                                  filtering on AF, (Default None)\n",
      "  --af_threshold FLOAT            Minium AF threshold for considering common\n",
      "                                  variants\n",
      "  --transcript_str TEXT           String that is used for transcript ID in the\n",
      "                                  VCF header INFO field\n",
      "  --biotype_str TEXT              String that is used for biotype in the VCF\n",
      "                                  header INFO field\n",
      "  --exclude_biotypes TEXT         Excluded Biotypes  [default: ]\n",
      "  --include_biotypes TEXT         included_biotypes, default all\n",
      "  --consequence_str TEXT          String that is used for consequence in the\n",
      "                                  VCF header INFO field\n",
      "  --exclude_consequences TEXT     Excluded Consequences  [default:\n",
      "                                  downstream_gene_variant,\n",
      "                                  upstream_gene_variant, intergenic_variant,\n",
      "                                  intron_variant, synonymous_variant]\n",
      "  -s, --skip_including_all_cds    by default any transcript that has a defined\n",
      "                                  CDS will be used, this option disables this\n",
      "                                  features instead\n",
      "  --include_consequences TEXT     included_consequences, default all\n",
      "  --ignore_filters                enabling this option causes or variants to\n",
      "                                  be parsed. By default only variants that\n",
      "                                  have not failed any filters will be\n",
      "                                  processed (FILTER column is PASS, None, .)\n",
      "                                  or if the filters are subset of the accepted\n",
      "                                  filters. (default is False)\n",
      "  --accepted_filters TEXT         Accepted filters for variant parsing\n",
      "  -h, --help                      Show this message and exit.\n"
     ]
    }
   ],
   "source": [
    "!pypgatk_cli.py vcf-to-proteindb -h"
   ]
  },
  {
   "cell_type": "markdown",
   "id": "36ff542f",
   "metadata": {
    "slideshow": {
     "slide_type": "slide"
    }
   },
   "source": [
    "#### Convert the variants to protein sequences\n",
    "\n",
    "\n",
    "The first time you run the command, it takes a bit long because it converts the `GTF` file to an `sqlite` database"
   ]
  },
  {
   "cell_type": "code",
   "execution_count": 31,
   "id": "3863cf00",
   "metadata": {
    "scrolled": true,
    "slideshow": {
     "slide_type": "subslide"
    }
   },
   "outputs": [
    {
     "name": "stdout",
     "output_type": "stream",
     "text": [
      "Determination of memory status is not supported on this \n",
      " platform, measuring for memoryleaks will never fail\n",
      "2022-06-09 10:59:53,905 - INFO - Committing changes: 3279000 features\n",
      "2022-06-09 10:59:55,943 - INFO - Populating features table and first-order relations: 3279404 features\n",
      "2022-06-09 10:59:55,946 - INFO - Creating relations(parent) index\n",
      "2022-06-09 11:00:07,480 - INFO - Creating relations(child) index\n",
      "2022-06-09 11:00:18,876 - INFO - Creating features(featuretype) index\n",
      "2022-06-09 11:00:36,776 - INFO - Creating features (seqid, start, end) index\n",
      "2022-06-09 11:00:57,518 - INFO - Creating features (seqid, start, end, strand) index\n",
      "2022-06-09 11:01:18,656 - INFO - Running ANALYZE features\n",
      "/Users/husen/opt/anaconda3/envs/pygatk/lib/python3.8/site-packages/Bio/Seq.py:2606: BiopythonWarning: Partial codon, len(sequence) not a multiple of three. Explicitly trim the sequence or add trailing N before translation. This may become an error in future.\n",
      "  warnings.warn(\"Partial codon, len(sequence) not a multiple of three. \"\n",
      "Translation summary:\n",
      " # variants with invalid record:3430\n",
      "# variants not passing Filter:0\n",
      "# variants not passing AF threshold:0\n",
      "# feature IDs from VCF that are not found in the given FASTA file:1153573\n",
      "# variants successfully translated:4485\n",
      "Generated dict_items([('var', 28353)]) variant proteins from 4479 variants\n"
     ]
    }
   ],
   "source": [
    "!pypgatk_cli.py vcf-to-proteindb -c config/ensembl_config.yaml --input_fasta ensembl_files/Homo_sapiens.GRCh38.cds.all.fa --vcf homo_sapiens_incl_consequences-chrY.vcf --gene_annotations_gtf ensembl_files/Homo_sapiens.GRCh38.106.gtf --output_proteindb chrY_protein_variants.fa\n",
    "\n",
    "print('Generated {} variant proteins from {} variants'.format(\n",
    "    Counter([x.split('_')[0] for x in list(SeqIO.index('chrY_protein_variants.fa', \"fasta\").keys())]).items(),\n",
    "    len(set(['_'.join(x.split('_')[0:3]) for x in SeqIO.index('chrY_protein_variants.fa', \"fasta\").keys()]))))\n"
   ]
  },
  {
   "cell_type": "markdown",
   "id": "1abb6452",
   "metadata": {
    "slideshow": {
     "slide_type": "subslide"
    }
   },
   "source": [
    "#### Filter variants by allele frequency and consequence \n",
    "\n",
    "Depending on the VCF file, you may also need to specify which field name indicates allele frequency using the `--af_field` parameter.\n",
    "\n",
    "Below, we only variants that are common in the population (MAF>=0.01)."
   ]
  },
  {
   "cell_type": "code",
   "execution_count": 32,
   "id": "b42b1707",
   "metadata": {
    "slideshow": {
     "slide_type": "subslide"
    }
   },
   "outputs": [
    {
     "name": "stdout",
     "output_type": "stream",
     "text": [
      "Determination of memory status is not supported on this \n",
      " platform, measuring for memoryleaks will never fail\n",
      "Database already exists: table features already exists ensembl_files/Homo_sapiens.GRCh38.106.db\n",
      "/Users/husen/opt/anaconda3/envs/pygatk/lib/python3.8/site-packages/Bio/Seq.py:2606: BiopythonWarning: Partial codon, len(sequence) not a multiple of three. Explicitly trim the sequence or add trailing N before translation. This may become an error in future.\n",
      "  warnings.warn(\"Partial codon, len(sequence) not a multiple of three. \"\n",
      "Translation summary:\n",
      " # variants with invalid record:1503251\n",
      "# variants not passing Filter:0\n",
      "# variants not passing AF threshold:132214\n",
      "# feature IDs from VCF that are not found in the given FASTA file:28860\n",
      "# variants successfully translated:15\n",
      "Generated dict_items([('var', 66)]) variant proteins from 17 variants\n"
     ]
    }
   ],
   "source": [
    "!pypgatk_cli.py vcf-to-proteindb -c config/ensembl_config.yaml --input_fasta ensembl_files/Homo_sapiens.GRCh38.cds.all.fa --vcf homo_sapiens_incl_consequences-chrY.vcf --gene_annotations_gtf ensembl_files/Homo_sapiens.GRCh38.106.gtf --output_proteindb chrY_protein_variants_VAF05.fa --af_field 'MAF' --af_threshold 0.01\n",
    "\n",
    "print('Generated {} variant proteins from {} variants'.format(\n",
    "    Counter([x.split('_')[0] for x in list(SeqIO.index('chrY_protein_variants_VAF05.fa', \"fasta\").keys())]).items(),\n",
    "    len(set(['_'.join(x.split('_')[0:3]) for x in SeqIO.index('chrY_protein_variants_VAF05.fa', \"fasta\").keys()]))))\n"
   ]
  },
  {
   "cell_type": "markdown",
   "id": "5893e2a3",
   "metadata": {
    "slideshow": {
     "slide_type": "subslide"
    }
   },
   "source": [
    "Filter by consequence, only translate frameshift variants"
   ]
  },
  {
   "cell_type": "code",
   "execution_count": 33,
   "id": "ddc9a335",
   "metadata": {
    "slideshow": {
     "slide_type": "subslide"
    }
   },
   "outputs": [
    {
     "name": "stdout",
     "output_type": "stream",
     "text": [
      "Determination of memory status is not supported on this \n",
      " platform, measuring for memoryleaks will never fail\n",
      "Database already exists: table features already exists ensembl_files/Homo_sapiens.GRCh38.106.db\n",
      "/Users/husen/opt/anaconda3/envs/pygatk/lib/python3.8/site-packages/Bio/Seq.py:2606: BiopythonWarning: Partial codon, len(sequence) not a multiple of three. Explicitly trim the sequence or add trailing N before translation. This may become an error in future.\n",
      "  warnings.warn(\"Partial codon, len(sequence) not a multiple of three. \"\n",
      "Translation summary:\n",
      " # variants with invalid record:3430\n",
      "# variants not passing Filter:0\n",
      "# variants not passing AF threshold:0\n",
      "# feature IDs from VCF that are not found in the given FASTA file:1153573\n",
      "# variants successfully translated:2698\n",
      "Generated dict_items([('var', 21418)]) variant proteins from 2736 variants\n"
     ]
    }
   ],
   "source": [
    "!pypgatk_cli.py vcf-to-proteindb -c config/ensembl_config.yaml --input_fasta ensembl_files/Homo_sapiens.GRCh38.cds.all.fa --vcf homo_sapiens_incl_consequences-chrY.vcf --gene_annotations_gtf ensembl_files/Homo_sapiens.GRCh38.106.gtf --output_proteindb chrY_protein_variants_framshift.fa --include_consequences 'frameshift_variant,missense_variant'\n",
    "\n",
    "print('Generated {} variant proteins from {} variants'.format(\n",
    "    Counter([x.split('_')[0] for x in list(SeqIO.index('chrY_protein_variants_framshift.fa', \"fasta\").keys())]).items(),\n",
    "    len(set(['_'.join(x.split('_')[0:3]) for x in SeqIO.index('chrY_protein_variants_framshift.fa', \"fasta\").keys()]))))\n"
   ]
  },
  {
   "cell_type": "markdown",
   "id": "0fb8a422",
   "metadata": {
    "slideshow": {
     "slide_type": "subslide"
    }
   },
   "source": [
    "### * Note on translating patient sequencing data\n",
    "The same command as above can be applied to generate a protein database per patient.\n",
    "\n",
    "Provide path of the VCF file that you obtain from `WGS`/`WES`. \n",
    "\n",
    "If you also have `RNA-seq` from the same patient, you can convert the `GTF` file to `fasta` using the gffread command shown in the second part of this notebook. This enables translation of expressed transcripts only.\n",
    "\n",
    "For cases where no `RNA-seq` is perfromed, you can still give the refernce GTF file and the canonical transcripts will be used to generate mutated/variant proteins"
   ]
  },
  {
   "cell_type": "markdown",
   "id": "61404e7e",
   "metadata": {
    "slideshow": {
     "slide_type": "slide"
    }
   },
   "source": [
    "# Part 4a: Mutations to Proteins (cBioPortal)\n",
    "\n",
    "\n",
    "In this part we will use the `cbioportal-downloader` and `cbioportal-to-proteindb` command to translate mutations from cancer studies in cBioPortal (https://www.cbioportal.org/).\n",
    "\n",
    "\n",
    "First we need to specify what study to download from cBioPortal (see -l flag): \n",
    "\n",
    "\n",
    "\n",
    "Check the flags below to know what flags to use."
   ]
  },
  {
   "cell_type": "code",
   "execution_count": 34,
   "id": "3c3eddfc",
   "metadata": {
    "slideshow": {
     "slide_type": "subslide"
    }
   },
   "outputs": [
    {
     "name": "stdout",
     "output_type": "stream",
     "text": [
      "Determination of memory status is not supported on this \n",
      " platform, measuring for memoryleaks will never fail\n",
      "Usage: pypgatk_cli.py cbioportal-downloader [OPTIONS]\n",
      "\n",
      "Options:\n",
      "  -c, --config_file TEXT       Configuration file for the ensembl data\n",
      "                               downloader pipeline\n",
      "  -o, --output_directory TEXT  Output directory for the peptide databases\n",
      "  -l, --list_studies           Print the list of all the studies in cBioPortal\n",
      "                               (https://www.cbioportal.org)\n",
      "  -d, --download_study TEXT    Download a specific Study from cBioPortal --\n",
      "                               (all to download all studies)\n",
      "  -th, --multithreading        Enable multithreading to download multiple\n",
      "                               files ad the same time\n",
      "  -h, --help                   Show this message and exit.\n"
     ]
    }
   ],
   "source": [
    "!pypgatk_cli.py cbioportal-downloader -h"
   ]
  },
  {
   "cell_type": "markdown",
   "id": "572f26ec",
   "metadata": {
    "slideshow": {
     "slide_type": "subslide"
    }
   },
   "source": [
    "#### Download data for study ID blca_mskcc_solit_2014\n",
    "\n",
    "In addition to the files from cBioPortal we also need to download coding sequences from GRCh37, the matching genome assemblies."
   ]
  },
  {
   "cell_type": "code",
   "execution_count": 35,
   "id": "c700b496",
   "metadata": {
    "slideshow": {
     "slide_type": "subslide"
    }
   },
   "outputs": [
    {
     "name": "stdout",
     "output_type": "stream",
     "text": [
      "Determination of memory status is not supported on this \n",
      " platform, measuring for memoryleaks will never fail\n",
      "DEBUG:pypgatk.toolbox.general:The following study 'blca_mskcc_solit_2014' has been downloaded. \n",
      "x blca_mskcc_solit_2014/\n",
      "x blca_mskcc_solit_2014/meta_mutations.txt\n",
      "x blca_mskcc_solit_2014/data_log2_cna.txt\n",
      "x blca_mskcc_solit_2014/Readme.txt\n",
      "x blca_mskcc_solit_2014/meta_clinical_sample.txt\n",
      "x blca_mskcc_solit_2014/data_cna.txt\n",
      "x blca_mskcc_solit_2014/case_lists/\n",
      "x blca_mskcc_solit_2014/case_lists/cases_sequenced.txt\n",
      "x blca_mskcc_solit_2014/case_lists/cases_all.txt\n",
      "x blca_mskcc_solit_2014/case_lists/cases_cnaseq.txt\n",
      "x blca_mskcc_solit_2014/case_lists/cases_log2CNA.txt\n",
      "x blca_mskcc_solit_2014/case_lists/cases_cna.txt\n",
      "x blca_mskcc_solit_2014/data_clinical_patient.txt\n",
      "x blca_mskcc_solit_2014/data_clinical_sample.txt\n",
      "x blca_mskcc_solit_2014/meta_cna.txt\n",
      "x blca_mskcc_solit_2014/data_cna_hg19.seg\n",
      "x blca_mskcc_solit_2014/data_gene_panel_matrix.txt\n",
      "x blca_mskcc_solit_2014/meta_clinical_patient.txt\n",
      "x blca_mskcc_solit_2014/meta_study.txt\n",
      "x blca_mskcc_solit_2014/LICENSE\n",
      "x blca_mskcc_solit_2014/data_mutations.txt\n",
      "x blca_mskcc_solit_2014/meta_gene_panel_matrix.txt\n",
      "x blca_mskcc_solit_2014/meta_cna_hg19_seg.txt\n",
      "x blca_mskcc_solit_2014/meta_log2_cna.txt\n",
      "--2022-06-09 12:15:50--  ftp://ftp.ensembl.org/pub/release-75/fasta/homo_sapiens/cds/Homo_sapiens.GRCh37.75.cds.all.fa.gz\n",
      "           => ‘Homo_sapiens.GRCh37.75.cds.all.fa.gz’\n",
      "Resolving ftp.ensembl.org (ftp.ensembl.org)... 193.62.193.139\n",
      "Connecting to ftp.ensembl.org (ftp.ensembl.org)|193.62.193.139|:21... connected.\n",
      "Logging in as anonymous ... Logged in!\n",
      "==> SYST ... done.    ==> PWD ... done.\n",
      "==> TYPE I ... done.  ==> CWD (1) /pub/release-75/fasta/homo_sapiens/cds ... done.\n",
      "==> SIZE Homo_sapiens.GRCh37.75.cds.all.fa.gz ... 19834207\n",
      "==> PASV ... done.    ==> RETR Homo_sapiens.GRCh37.75.cds.all.fa.gz ... done.\n",
      "Length: 19834207 (19M) (unauthoritative)\n",
      "\n",
      "Homo_sapiens.GRCh37 100%[===================>]  18,92M  10,3MB/s    in 1,8s    \n",
      "\n",
      "2022-06-09 12:15:52 (10,3 MB/s) - ‘Homo_sapiens.GRCh37.75.cds.all.fa.gz’ saved [19834207]\n",
      "\n"
     ]
    }
   ],
   "source": [
    "study_id = 'blca_mskcc_solit_2014'\n",
    "!pypgatk_cli.py cbioportal-downloader -c config/cbioportal_config.yaml -d $study_id -o ./\n",
    "!tar -xzvf $study_id\".tar\"\n",
    "\n",
    "#Download linking CDSs (the mutations are aligned to hg37)\n",
    "!wget ftp://ftp.ensembl.org/pub/release-75/fasta/homo_sapiens/cds/Homo_sapiens.GRCh37.75.cds.all.fa.gz\n",
    "!gunzip *.gz"
   ]
  },
  {
   "cell_type": "markdown",
   "id": "b1a42ac4",
   "metadata": {
    "slideshow": {
     "slide_type": "subslide"
    }
   },
   "source": [
    "The files are downloaded into a directory with the same name as the study ID. It contains several files but we only need the following two files:\n",
    "- `data_clinical_sample.txt`: \n",
    "\n",
    "    This file contains metada or clinical information about each of the samples in the study\n",
    "    \n",
    "    \n",
    "- `data_mutations.txt` (it might have slightly different names depending on the cBioPortal version): \n",
    "\n",
    "    This file contains the list of mutations identified in this study\n"
   ]
  },
  {
   "cell_type": "markdown",
   "id": "b31ddfcb",
   "metadata": {
    "slideshow": {
     "slide_type": "subslide"
    }
   },
   "source": [
    "#### Translate the downloaded set of mutations\n",
    "\n",
    "First check what options you have!"
   ]
  },
  {
   "cell_type": "code",
   "execution_count": 36,
   "id": "fd4d03f8",
   "metadata": {
    "slideshow": {
     "slide_type": "subslide"
    }
   },
   "outputs": [
    {
     "name": "stdout",
     "output_type": "stream",
     "text": [
      "Determination of memory status is not supported on this \n",
      " platform, measuring for memoryleaks will never fail\n",
      "Usage: pypgatk_cli.py cbioportal-to-proteindb [OPTIONS]\n",
      "\n",
      "Options:\n",
      "  -c, --config_file TEXT          Configuration for cbioportal to proteindb\n",
      "                                  tool\n",
      "  -in, --input_mutation TEXT      Cbioportal mutation file\n",
      "  -fa, --input_cds TEXT           CDS genes from ENSEMBL database\n",
      "  -out, --output_db TEXT          Protein database including all the mutations\n",
      "  -f, --filter_column TEXT        Column in the VCF file to be used for\n",
      "                                  filtering or splitting mutations\n",
      "  -a, --accepted_values TEXT      Limit mutations to values (tissue type,\n",
      "                                  sample name, etc) considered for generating\n",
      "                                  proteinDBs, by default mutations from all\n",
      "                                  records are considered\n",
      "  -s, --split_by_filter_column    Use this flag to generate a proteinDB per\n",
      "                                  group as specified in the filter_column,\n",
      "                                  default is False\n",
      "  -cl, --clinical_sample_file TEXT\n",
      "                                  File to get tissue type from for the samples\n",
      "                                  in input_mutation file\n",
      "  -h, --help                      Show this message and exit.\n"
     ]
    }
   ],
   "source": [
    "!pypgatk_cli.py cbioportal-to-proteindb -h"
   ]
  },
  {
   "cell_type": "code",
   "execution_count": 37,
   "id": "3581314b",
   "metadata": {
    "slideshow": {
     "slide_type": "subslide"
    }
   },
   "outputs": [
    {
     "name": "stdout",
     "output_type": "stream",
     "text": [
      "Determination of memory status is not supported on this \n",
      " platform, measuring for memoryleaks will never fail\n",
      "/Users/husen/opt/anaconda3/envs/pygatk/lib/python3.8/site-packages/Bio/Seq.py:2606: BiopythonWarning: Partial codon, len(sequence) not a multiple of three. Explicitly trim the sequence or add trailing N before translation. This may become an error in future.\n",
      "  warnings.warn(\"Partial codon, len(sequence) not a multiple of three. \"\n",
      "Generated Counter({'cbiomut': 1125}) variant proteins from 1057 variants\n"
     ]
    }
   ],
   "source": [
    "\n",
    "!pypgatk_cli.py cbioportal-to-proteindb --config_file config/cbioportal_config.yaml --input_cds Homo_sapiens.GRCh37.75.cds.all.fa --input_mutation $study_id/data_mutations.txt --clinical_sample_file blca_mskcc_solit_2014/data_clinical_sample.txt --output_db variants_proteindb.fa\n",
    "\n",
    "print('Generated {} variant proteins from {} variants'.format(\n",
    "    Counter([str(x.id).split(':')[0] for x in SeqIO.parse('variants_proteindb.fa', \"fasta\")]),\n",
    "    len(set([x.id for x in SeqIO.parse('variants_proteindb.fa', \"fasta\")]))\n",
    "    ))\n",
    "\n"
   ]
  },
  {
   "cell_type": "markdown",
   "id": "612fca86",
   "metadata": {
    "slideshow": {
     "slide_type": "subslide"
    }
   },
   "source": [
    "Optionally, you can filter the samples based on any of the columns in the data_clinical_sample.txt. First, let's see what fields (clinical information) is available for the samples in this study:"
   ]
  },
  {
   "cell_type": "code",
   "execution_count": 38,
   "id": "1c575e13",
   "metadata": {
    "slideshow": {
     "slide_type": "subslide"
    }
   },
   "outputs": [
    {
     "data": {
      "text/plain": [
       "['#Patient Identifier',\n",
       " 'Sample Identifier',\n",
       " 'Sample Type',\n",
       " 'Concomitant Carcinoma in situ',\n",
       " 'Lymph Node Status',\n",
       " 'Tissue Sequenced',\n",
       " 'Oncotree Code',\n",
       " 'Cancer Type',\n",
       " 'Cancer Type Detailed',\n",
       " 'Somatic Status',\n",
       " 'TMB (nonsynonymous)']"
      ]
     },
     "execution_count": 38,
     "metadata": {},
     "output_type": "execute_result"
    }
   ],
   "source": [
    "[x.strip() for x in open('{}/data_clinical_sample.txt'.format(study_id)).readline().split('\\t')]"
   ]
  },
  {
   "cell_type": "markdown",
   "id": "9284606f",
   "metadata": {
    "slideshow": {
     "slide_type": "subslide"
    }
   },
   "source": [
    "Let's only use mutations from samples that have their `Lymph Node Status` as `Positive`. Cancer Type can also be used to filter mutations for a specific cancer type."
   ]
  },
  {
   "cell_type": "code",
   "execution_count": 39,
   "id": "5a9a7c87",
   "metadata": {
    "slideshow": {
     "slide_type": "subslide"
    }
   },
   "outputs": [
    {
     "name": "stdout",
     "output_type": "stream",
     "text": [
      "Determination of memory status is not supported on this \n",
      " platform, measuring for memoryleaks will never fail\n",
      "sample_groups_dict blca_mskcc_solit_2014/data_clinical_sample.txt LYMPH_NODE_STATUS\n",
      "No clinical info was found for sample Tumor_Sample_Barcode. Skipping (line 0): Hugo_Symbol\tEntrez_Gene_Id\tCenter\tNCBI_Build\tChromosome\tStart_Position\tEnd_Position\tStrand\tConsequence\tVariant_Classification\tVariant_Type\tReference_Allele\tTumor_Seq_Allele1\tTumor_Seq_Allele2\tdbSNP_RS\tdbSNP_Val_Status\tTumor_Sample_Barcode\tMatched_Norm_Sample_Barcode\tMatch_Norm_Seq_Allele1\tMatch_Norm_Seq_Allele2\tTumor_Validation_Allele1\tTumor_Validation_Allele2\tMatch_Norm_Validation_Allele1\tMatch_Norm_Validation_Allele2\tVerification_Status\tValidation_Status\tMutation_Status\tSequencing_Phase\tSequence_Source\tValidation_Method\tScore\tBAM_File\tSequencer\tt_ref_count\tt_alt_count\tn_ref_count\tn_alt_count\tHGVSc\tHGVSp\tHGVSp_Short\tTranscript_ID\tRefSeq\tProtein_position\tCodons\tHotspot\n",
      "\n",
      "/Users/husen/opt/anaconda3/envs/pygatk/lib/python3.8/site-packages/Bio/Seq.py:2606: BiopythonWarning: Partial codon, len(sequence) not a multiple of three. Explicitly trim the sequence or add trailing N before translation. This may become an error in future.\n",
      "  warnings.warn(\"Partial codon, len(sequence) not a multiple of three. \"\n",
      "Generated Counter({'cbiomut': 363}) variant proteins from 353 variants\n"
     ]
    }
   ],
   "source": [
    "\n",
    "!pypgatk_cli.py cbioportal-to-proteindb --config_file config/cbioportal_config.yaml --input_cds Homo_sapiens.GRCh37.75.cds.all.fa --input_mutation $study_id/data_mutations.txt --clinical_sample_file blca_mskcc_solit_2014/data_clinical_sample.txt --output_db variants_proteindb_filtered.fa --filter_column 'LYMPH_NODE_STATUS' --accepted_values 'Positive'\n",
    "\n",
    "print('Generated {} variant proteins from {} variants'.format(\n",
    "    Counter([str(x.id).split(':')[0] for x in SeqIO.parse('variants_proteindb_filtered.fa', \"fasta\")]),\n",
    "    len(set([x.id for x in SeqIO.parse('variants_proteindb_filtered.fa', \"fasta\")]))\n",
    "    ))\n"
   ]
  },
  {
   "cell_type": "markdown",
   "id": "9f2815bf",
   "metadata": {
    "slideshow": {
     "slide_type": "slide"
    }
   },
   "source": [
    "# Part 4b: Mutations to Proteins (COSMIC)\n",
    "\n",
    "\n",
    "In this part we will use the `cosmic-downloader` and `cosmic-to-proteindb` command to translate cancer mutations from COSMIC. The downloader downloads the following files:\n",
    "\n",
    "- `CosmicMutantExport.tsv`  : `tsv` file containing somatic mutations from human samples\n",
    "-  `CosmicCLP_MutantExport.tsv` : `tsv` file containing somatic mutations from cancer cell lines\n",
    "- `All_COSMIC_Genes.fasta`: Transcripts `fasta` file, it is used to extract sequences of altered transcripts.\n",
    "\n",
    "However, since COSMIC requires registeration and the file sizes are large (15G), the download takes some time therefore I have pre-downloaded the files and extracted 50k mutations from it as a sample to make the processes run faster. Run the following code to download a sample directory"
   ]
  },
  {
   "cell_type": "code",
   "execution_count": 40,
   "id": "599af02e",
   "metadata": {
    "slideshow": {
     "slide_type": "subslide"
    }
   },
   "outputs": [
    {
     "name": "stdout",
     "output_type": "stream",
     "text": [
      "--2022-06-09 12:16:04--  https://github.com/husensofteng/ProteoWorks/raw/master/workshop_pgdb/cosmic_files.tar.gz\n",
      "Resolving github.com (github.com)... 140.82.121.3\n",
      "Connecting to github.com (github.com)|140.82.121.3|:443... connected.\n",
      "HTTP request sent, awaiting response... 302 Found\n",
      "Location: https://raw.githubusercontent.com/husensofteng/ProteoWorks/master/workshop_pgdb/cosmic_files.tar.gz [following]\n",
      "--2022-06-09 12:16:05--  https://raw.githubusercontent.com/husensofteng/ProteoWorks/master/workshop_pgdb/cosmic_files.tar.gz\n",
      "Resolving raw.githubusercontent.com (raw.githubusercontent.com)... 185.199.109.133, 185.199.110.133, 185.199.111.133, ...\n",
      "Connecting to raw.githubusercontent.com (raw.githubusercontent.com)|185.199.109.133|:443... connected.\n",
      "HTTP request sent, awaiting response... 200 OK\n",
      "Length: 38247627 (36M) [application/octet-stream]\n",
      "Saving to: ‘cosmic_files.tar.gz’\n",
      "\n",
      "cosmic_files.tar.gz 100%[===================>]  36,48M  11,6MB/s    in 3,2s    \n",
      "\n",
      "2022-06-09 12:16:10 (11,6 MB/s) - ‘cosmic_files.tar.gz’ saved [38247627/38247627]\n",
      "\n",
      "x cosmic_files/\n",
      "x cosmic_files/All_CellLines_Genes.fasta\n",
      "x cosmic_files/CosmicCLP_MutantExport.tsv\n",
      "x cosmic_files/CosmicMutantExport.tsv\n",
      "x cosmic_files/All_COSMIC_Genes.fasta\n"
     ]
    }
   ],
   "source": [
    "if not os.path.isfile('cosmic_files.tar.gz'):\n",
    "    !wget https://github.com/husensofteng/ProteoWorks/raw/master/workshop_pgdb/cosmic_files.tar.gz\n",
    "    !tar -xzvf cosmic_files.tar.gz\n"
   ]
  },
  {
   "cell_type": "markdown",
   "id": "862c3b8e",
   "metadata": {
    "slideshow": {
     "slide_type": "subslide"
    }
   },
   "source": [
    "### For actual analysis:\n",
    "- remove the sample `cosmic_files` directory\n",
    "- register an account on: https://cancer.sanger.ac.uk/\n",
    "- replace `yourUserName` and `yourPassword` in the follwing command with your actual credentials from your account in COSMIC. \n",
    "- run the following command to download the mutation data files from COSMIC and ponder on some simple childhood memories until the files are downloaded :)"
   ]
  },
  {
   "cell_type": "code",
   "execution_count": 41,
   "id": "a6a41a60",
   "metadata": {
    "slideshow": {
     "slide_type": "subslide"
    }
   },
   "outputs": [],
   "source": [
    "if not os.path.isdir('cosmic_files'):\n",
    "    !pypgatk_cli.py cosmic-downloader -u yourUserName -p yourPassword -c config/cosmic_config.yaml -o cosmic_files/\n"
   ]
  },
  {
   "cell_type": "code",
   "execution_count": 42,
   "id": "499e7dca",
   "metadata": {
    "slideshow": {
     "slide_type": "slide"
    }
   },
   "outputs": [
    {
     "name": "stdout",
     "output_type": "stream",
     "text": [
      "Determination of memory status is not supported on this \n",
      " platform, measuring for memoryleaks will never fail\n",
      "Usage: pypgatk_cli.py cosmic-to-proteindb [OPTIONS]\n",
      "\n",
      "Options:\n",
      "  -c, --config_file TEXT        Configuration file for the cosmic data\n",
      "                                pipelines\n",
      "  -in, --input_mutation TEXT    Cosmic Mutation data file\n",
      "  -fa, --input_genes TEXT       All Cosmic genes\n",
      "  -out, --output_db TEXT        Protein database including all the mutations\n",
      "  -f, --filter_column TEXT      Column in the VCF file to be used for\n",
      "                                filtering or splitting mutations\n",
      "  -a, --accepted_values TEXT    Limit mutations to values (tissue type, sample\n",
      "                                name, etc) considered for generating\n",
      "                                proteinDBs, by default mutations from all\n",
      "                                records are considered\n",
      "  -s, --split_by_filter_column  Use this flag to generate a proteinDB per\n",
      "                                group as specified in the filter_column,\n",
      "                                default is False\n",
      "  -h, --help                    Show this message and exit.\n"
     ]
    }
   ],
   "source": [
    "!pypgatk_cli.py cosmic-to-proteindb -h\n"
   ]
  },
  {
   "cell_type": "markdown",
   "id": "edc86574",
   "metadata": {
    "slideshow": {
     "slide_type": "slide"
    }
   },
   "source": [
    "### Translate cosmic mutations\n",
    "To translate all mutations, we just need to specify paths for the mutations file and the transcripts file. "
   ]
  },
  {
   "cell_type": "code",
   "execution_count": 43,
   "id": "62fc4e0e",
   "metadata": {
    "slideshow": {
     "slide_type": "subslide"
    }
   },
   "outputs": [
    {
     "name": "stdout",
     "output_type": "stream",
     "text": [
      "Determination of memory status is not supported on this \n",
      " platform, measuring for memoryleaks will never fail\n",
      "/Users/husen/opt/anaconda3/envs/pygatk/lib/python3.8/site-packages/Bio/Seq.py:2606: BiopythonWarning: Partial codon, len(sequence) not a multiple of three. Explicitly trim the sequence or add trailing N before translation. This may become an error in future.\n",
      "  warnings.warn(\"Partial codon, len(sequence) not a multiple of three. \"\n"
     ]
    }
   ],
   "source": [
    "\n",
    "!pypgatk_cli.py cosmic-to-proteindb -c config/cosmic_config.yaml -in cosmic_files/CosmicMutantExport.tsv -fa cosmic_files/All_COSMIC_Genes.fasta -out cosmic_proteinDB.fa\n",
    "\n"
   ]
  },
  {
   "cell_type": "markdown",
   "id": "7ca0b043",
   "metadata": {
    "slideshow": {
     "slide_type": "subslide"
    }
   },
   "source": [
    "Since the actual `CosmicMutantExport.tsv` file contains around 50 Million mutations, we needs to filter them according to our needs otherwise the resulting protein database becomes too large. \n",
    "\n",
    "As shown in the help message, the `cosmic-to-proteindb` provides a `--filter_column` parameter that can be used to select any column for filtering and then with the `--accepted_values` parameter we can list the desired values. \n",
    "\n",
    "Inspect the following features to identify a column that you want to use as a filter:"
   ]
  },
  {
   "cell_type": "code",
   "execution_count": 44,
   "id": "469c9aec",
   "metadata": {
    "slideshow": {
     "slide_type": "subslide"
    }
   },
   "outputs": [
    {
     "name": "stdout",
     "output_type": "stream",
     "text": [
      "Columns that can be used to filter mutations: Gene name\n",
      "Accession Number\n",
      "Gene CDS length\n",
      "HGNC ID\n",
      "Sample name\n",
      "ID_sample\n",
      "ID_tumour\n",
      "Primary site\n",
      "Site subtype 1\n",
      "Site subtype 2\n",
      "Site subtype 3\n",
      "Primary histology\n",
      "Histology subtype 1\n",
      "Histology subtype 2\n",
      "Histology subtype 3\n",
      "Genome-wide screen\n",
      "GENOMIC_MUTATION_ID\n",
      "LEGACY_MUTATION_ID\n",
      "MUTATION_ID\n",
      "Mutation CDS\n",
      "Mutation AA\n",
      "Mutation Description\n",
      "Mutation zygosity\n",
      "LOH\n",
      "GRCh\n",
      "Mutation genome position\n",
      "Mutation strand\n",
      "Resistance Mutation\n",
      "Mutation somatic status\n",
      "Pubmed_PMID\n",
      "ID_STUDY\n",
      "Sample Type\n",
      "Tumour origin\n",
      "Age\n",
      "HGVSP\n",
      "HGVSC\n",
      "HGVSG\n"
     ]
    }
   ],
   "source": [
    "fields = '\\n'.join(open('cosmic_files/CosmicMutantExport.tsv').readline().strip().split('\\t'))\n",
    "print('Columns that can be used to filter mutations:', fields)\n"
   ]
  },
  {
   "cell_type": "markdown",
   "id": "9ba88be5",
   "metadata": {
    "slideshow": {
     "slide_type": "subslide"
    }
   },
   "source": [
    "Lets use `Primary site` as the filter column and accept mutations from tumors in liver, lung or skin"
   ]
  },
  {
   "cell_type": "code",
   "execution_count": 45,
   "id": "ba4b6fb6",
   "metadata": {
    "slideshow": {
     "slide_type": "subslide"
    }
   },
   "outputs": [
    {
     "name": "stdout",
     "output_type": "stream",
     "text": [
      "Determination of memory status is not supported on this \n",
      " platform, measuring for memoryleaks will never fail\n",
      "/Users/husen/opt/anaconda3/envs/pygatk/lib/python3.8/site-packages/Bio/Seq.py:2606: BiopythonWarning: Partial codon, len(sequence) not a multiple of three. Explicitly trim the sequence or add trailing N before translation. This may become an error in future.\n",
      "  warnings.warn(\"Partial codon, len(sequence) not a multiple of three. \"\n",
      "Generated Counter({'COSMIC': 5100}) variant proteins from 4899 variants\n"
     ]
    }
   ],
   "source": [
    "!pypgatk_cli.py cosmic-to-proteindb -c config/cosmic_config.yaml -in cosmic_files/CosmicMutantExport.tsv -fa cosmic_files/All_COSMIC_Genes.fasta -out cosmic_proteinDB_filtered.fa --filter_column 'Primary site' --accepted_values 'liver,lung,skin'\n",
    "\n",
    "print('Generated {} variant proteins from {} variants'.format(\n",
    "    Counter([str(x.id).split(':')[0] for x in SeqIO.parse('cosmic_proteinDB_filtered.fa', \"fasta\")]),\n",
    "    len(set([':'.join(str(x.id).split(':')[2::]) for x in SeqIO.parse('cosmic_proteinDB_filtered.fa', \"fasta\")]))\n",
    "    ))\n",
    "\n"
   ]
  },
  {
   "cell_type": "markdown",
   "id": "3c85a807",
   "metadata": {
    "slideshow": {
     "slide_type": "subslide"
    }
   },
   "source": [
    "We could also generate mutated proteins of a particular gene, e.g. `CDH6`. If you open the mutations file with a text editor, the gene names can be seen in the first column."
   ]
  },
  {
   "cell_type": "code",
   "execution_count": 46,
   "id": "a6787f5a",
   "metadata": {
    "slideshow": {
     "slide_type": "subslide"
    }
   },
   "outputs": [
    {
     "name": "stdout",
     "output_type": "stream",
     "text": [
      "Determination of memory status is not supported on this \n",
      " platform, measuring for memoryleaks will never fail\n",
      "/Users/husen/opt/anaconda3/envs/pygatk/lib/python3.8/site-packages/Bio/Seq.py:2606: BiopythonWarning: Partial codon, len(sequence) not a multiple of three. Explicitly trim the sequence or add trailing N before translation. This may become an error in future.\n",
      "  warnings.warn(\"Partial codon, len(sequence) not a multiple of three. \"\n",
      "Generated Counter({'COSMIC': 453}) variant proteins from 453 variants\n"
     ]
    }
   ],
   "source": [
    "!pypgatk_cli.py cosmic-to-proteindb -c config/cosmic_config.yaml -in cosmic_files/CosmicMutantExport.tsv -fa cosmic_files/All_COSMIC_Genes.fasta -out cosmic_proteinDB_filtered_gene.fa --filter_column 'Gene name' --accepted_values 'CDH6'\n",
    "\n",
    "print('Generated {} variant proteins from {} variants'.format(\n",
    "    Counter([str(x.id).split(':')[0] for x in SeqIO.parse('cosmic_proteinDB_filtered_gene.fa', \"fasta\")]),\n",
    "    len(set([':'.join(str(x.id).split(':')[2::]) for x in SeqIO.parse('cosmic_proteinDB_filtered_gene.fa', \"fasta\")]))\n",
    "    ))\n",
    "\n"
   ]
  }
 ],
 "metadata": {
  "celltoolbar": "Raw Cell Format",
  "kernelspec": {
   "display_name": "Python 3",
   "language": "python",
   "name": "python3"
  },
  "language_info": {
   "codemirror_mode": {
    "name": "ipython",
    "version": 3
   },
   "file_extension": ".py",
   "mimetype": "text/x-python",
   "name": "python",
   "nbconvert_exporter": "python",
   "pygments_lexer": "ipython3",
   "version": "3.8.5"
  }
 },
 "nbformat": 4,
 "nbformat_minor": 5
}
